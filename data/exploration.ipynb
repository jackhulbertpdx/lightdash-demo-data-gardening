{
 "cells": [
  {
   "cell_type": "code",
   "execution_count": 6,
   "id": "44ca47a5",
   "metadata": {},
   "outputs": [],
   "source": [
    "import pandas as pd\n",
    "\n",
    "df_orders = pd.read_json('orders.json')\n",
    "df_products = pd.read_json('products.json')\n",
    "df_partners = pd.read_json('partners.json')\n",
    "df_users = pd.read_json('users.json')\n",
    "df_support_requests= pd.read_json('support_requests.json')"
   ]
  },
  {
   "cell_type": "code",
   "execution_count": 21,
   "id": "7d1a2e26",
   "metadata": {},
   "outputs": [
    {
     "data": {
      "text/html": [
       "<div>\n",
       "<style scoped>\n",
       "    .dataframe tbody tr th:only-of-type {\n",
       "        vertical-align: middle;\n",
       "    }\n",
       "\n",
       "    .dataframe tbody tr th {\n",
       "        vertical-align: top;\n",
       "    }\n",
       "\n",
       "    .dataframe thead th {\n",
       "        text-align: right;\n",
       "    }\n",
       "</style>\n",
       "<table border=\"1\" class=\"dataframe\">\n",
       "  <thead>\n",
       "    <tr style=\"text-align: right;\">\n",
       "      <th></th>\n",
       "      <th>order_id</th>\n",
       "      <th>ordered_currency</th>\n",
       "      <th>ordered_product_skus</th>\n",
       "      <th>partner_id</th>\n",
       "      <th>referrer</th>\n",
       "      <th>timestamp</th>\n",
       "      <th>user_id</th>\n",
       "    </tr>\n",
       "  </thead>\n",
       "  <tbody>\n",
       "    <tr>\n",
       "      <th>7</th>\n",
       "      <td>8</td>\n",
       "      <td>USD</td>\n",
       "      <td>[7, 12]</td>\n",
       "      <td>4</td>\n",
       "      <td>facebook</td>\n",
       "      <td>2022-01-01 23:22:57</td>\n",
       "      <td>201</td>\n",
       "    </tr>\n",
       "    <tr>\n",
       "      <th>509</th>\n",
       "      <td>510</td>\n",
       "      <td>USD</td>\n",
       "      <td>[32]</td>\n",
       "      <td>4</td>\n",
       "      <td>organic</td>\n",
       "      <td>2022-03-08 05:42:23</td>\n",
       "      <td>949</td>\n",
       "    </tr>\n",
       "    <tr>\n",
       "      <th>24</th>\n",
       "      <td>25</td>\n",
       "      <td>USD</td>\n",
       "      <td>[9, 10, 21]</td>\n",
       "      <td>4</td>\n",
       "      <td>ppc</td>\n",
       "      <td>2022-01-08 22:51:29</td>\n",
       "      <td>973</td>\n",
       "    </tr>\n",
       "    <tr>\n",
       "      <th>697</th>\n",
       "      <td>698</td>\n",
       "      <td>USD</td>\n",
       "      <td>[2, 13, 31, 39, 11]</td>\n",
       "      <td>6</td>\n",
       "      <td>ppc</td>\n",
       "      <td>2022-05-02 01:08:55</td>\n",
       "      <td>981</td>\n",
       "    </tr>\n",
       "    <tr>\n",
       "      <th>243</th>\n",
       "      <td>244</td>\n",
       "      <td>USD</td>\n",
       "      <td>[6, 20, 18]</td>\n",
       "      <td>4</td>\n",
       "      <td>instagram</td>\n",
       "      <td>2022-01-25 06:46:33</td>\n",
       "      <td>26</td>\n",
       "    </tr>\n",
       "    <tr>\n",
       "      <th>483</th>\n",
       "      <td>484</td>\n",
       "      <td>USD</td>\n",
       "      <td>[1, 36, 25, 28, 26]</td>\n",
       "      <td>5</td>\n",
       "      <td>instagram</td>\n",
       "      <td>2022-02-24 07:22:55</td>\n",
       "      <td>638</td>\n",
       "    </tr>\n",
       "    <tr>\n",
       "      <th>630</th>\n",
       "      <td>631</td>\n",
       "      <td>USD</td>\n",
       "      <td>[8, 27, 15, 27, 22, 11]</td>\n",
       "      <td>3</td>\n",
       "      <td>instagram</td>\n",
       "      <td>2022-04-27 19:28:38</td>\n",
       "      <td>38</td>\n",
       "    </tr>\n",
       "    <tr>\n",
       "      <th>609</th>\n",
       "      <td>610</td>\n",
       "      <td>USD</td>\n",
       "      <td>[26, 26, 12, 20, 39, 23]</td>\n",
       "      <td>3</td>\n",
       "      <td>direct</td>\n",
       "      <td>2022-04-24 11:50:30</td>\n",
       "      <td>720</td>\n",
       "    </tr>\n",
       "    <tr>\n",
       "      <th>116</th>\n",
       "      <td>117</td>\n",
       "      <td>USD</td>\n",
       "      <td>[32, 9, 6, 33, 16]</td>\n",
       "      <td>4</td>\n",
       "      <td>organic</td>\n",
       "      <td>2022-01-19 12:54:29</td>\n",
       "      <td>126</td>\n",
       "    </tr>\n",
       "    <tr>\n",
       "      <th>985</th>\n",
       "      <td>986</td>\n",
       "      <td>USD</td>\n",
       "      <td>[8, 19, 34, 24, 18]</td>\n",
       "      <td>3</td>\n",
       "      <td>organic</td>\n",
       "      <td>2022-05-27 11:22:59</td>\n",
       "      <td>125</td>\n",
       "    </tr>\n",
       "  </tbody>\n",
       "</table>\n",
       "</div>"
      ],
      "text/plain": [
       "     order_id ordered_currency      ordered_product_skus  partner_id  \\\n",
       "7           8              USD                   [7, 12]           4   \n",
       "509       510              USD                      [32]           4   \n",
       "24         25              USD               [9, 10, 21]           4   \n",
       "697       698              USD       [2, 13, 31, 39, 11]           6   \n",
       "243       244              USD               [6, 20, 18]           4   \n",
       "483       484              USD       [1, 36, 25, 28, 26]           5   \n",
       "630       631              USD   [8, 27, 15, 27, 22, 11]           3   \n",
       "609       610              USD  [26, 26, 12, 20, 39, 23]           3   \n",
       "116       117              USD        [32, 9, 6, 33, 16]           4   \n",
       "985       986              USD       [8, 19, 34, 24, 18]           3   \n",
       "\n",
       "      referrer           timestamp  user_id  \n",
       "7     facebook 2022-01-01 23:22:57      201  \n",
       "509    organic 2022-03-08 05:42:23      949  \n",
       "24         ppc 2022-01-08 22:51:29      973  \n",
       "697        ppc 2022-05-02 01:08:55      981  \n",
       "243  instagram 2022-01-25 06:46:33       26  \n",
       "483  instagram 2022-02-24 07:22:55      638  \n",
       "630  instagram 2022-04-27 19:28:38       38  \n",
       "609     direct 2022-04-24 11:50:30      720  \n",
       "116    organic 2022-01-19 12:54:29      126  \n",
       "985    organic 2022-05-27 11:22:59      125  "
      ]
     },
     "execution_count": 21,
     "metadata": {},
     "output_type": "execute_result"
    }
   ],
   "source": [
    "df_orders.sample(10)"
   ]
  },
  {
   "cell_type": "code",
   "execution_count": 13,
   "id": "72875cab",
   "metadata": {
    "scrolled": true
   },
   "outputs": [
    {
     "data": {
      "text/plain": [
       "<AxesSubplot:>"
      ]
     },
     "execution_count": 13,
     "metadata": {},
     "output_type": "execute_result"
    },
    {
     "data": {
      "image/png": "[encoded data removed]",
      "text/plain": [
       "<Figure size 432x288 with 1 Axes>"
      ]
     },
     "metadata": {
      "needs_background": "light"
     },
     "output_type": "display_data"
    }
   ],
   "source": [
    "df_orders['user_id'].value_counts().hist()"
   ]
  },
  {
   "cell_type": "code",
   "execution_count": 15,
   "id": "757704df",
   "metadata": {},
   "outputs": [
    {
     "data": {
      "text/plain": [
       "<AxesSubplot:>"
      ]
     },
     "execution_count": 15,
     "metadata": {},
     "output_type": "execute_result"
    },
    {
     "data": {
      "image/png": "[encoded data removed]",
      "text/plain": [
       "<Figure size 432x288 with 1 Axes>"
      ]
     },
     "metadata": {
      "needs_background": "light"
     },
     "output_type": "display_data"
    }
   ],
   "source": [
    "df_orders['partner_id'].hist(bins=6)"
   ]
  },
  {
   "cell_type": "code",
   "execution_count": 27,
   "id": "2a8d040f",
   "metadata": {},
   "outputs": [
    {
     "data": {
      "text/plain": [
       "instagram    296\n",
       "ppc          259\n",
       "facebook     192\n",
       "organic      141\n",
       "direct        75\n",
       "twitter       37\n",
       "Name: referrer, dtype: int64"
      ]
     },
     "execution_count": 27,
     "metadata": {},
     "output_type": "execute_result"
    }
   ],
   "source": [
    "df_orders['referrer'].value_counts()"
   ]
  },
  {
   "cell_type": "code",
   "execution_count": 28,
   "id": "a3c73317",
   "metadata": {},
   "outputs": [
    {
     "data": {
      "text/plain": [
       "0                      [32, 22]\n",
       "1        [19, 9, 4, 21, 36, 26]\n",
       "2        [29, 25, 32, 35, 4, 4]\n",
       "3                          [33]\n",
       "4                          [24]\n",
       "                 ...           \n",
       "995              [3, 13, 6, 26]\n",
       "996                        [40]\n",
       "997          [37, 10, 5, 23, 5]\n",
       "998          [26, 15, 21, 3, 8]\n",
       "999    [25, 30, 15, 14, 16, 38]\n",
       "Name: ordered_product_skus, Length: 1000, dtype: object"
      ]
     },
     "execution_count": 28,
     "metadata": {},
     "output_type": "execute_result"
    }
   ],
   "source": [
    "df_orders['ordered_product_skus']"
   ]
  },
  {
   "cell_type": "code",
   "execution_count": 17,
   "id": "c4bbaadb",
   "metadata": {},
   "outputs": [
    {
     "data": {
      "text/html": [
       "<div>\n",
       "<style scoped>\n",
       "    .dataframe tbody tr th:only-of-type {\n",
       "        vertical-align: middle;\n",
       "    }\n",
       "\n",
       "    .dataframe tbody tr th {\n",
       "        vertical-align: top;\n",
       "    }\n",
       "\n",
       "    .dataframe thead th {\n",
       "        text-align: right;\n",
       "    }\n",
       "</style>\n",
       "<table border=\"1\" class=\"dataframe\">\n",
       "  <thead>\n",
       "    <tr style=\"text-align: right;\">\n",
       "      <th></th>\n",
       "      <th>price_amount</th>\n",
       "      <th>price_currency</th>\n",
       "      <th>product_name</th>\n",
       "      <th>sku</th>\n",
       "    </tr>\n",
       "  </thead>\n",
       "  <tbody>\n",
       "    <tr>\n",
       "      <th>40</th>\n",
       "      <td>34</td>\n",
       "      <td>USD</td>\n",
       "      <td>Calathea</td>\n",
       "      <td>41</td>\n",
       "    </tr>\n",
       "    <tr>\n",
       "      <th>0</th>\n",
       "      <td>225</td>\n",
       "      <td>USD</td>\n",
       "      <td>Steel outdoor dining table set</td>\n",
       "      <td>1</td>\n",
       "    </tr>\n",
       "    <tr>\n",
       "      <th>26</th>\n",
       "      <td>65</td>\n",
       "      <td>USD</td>\n",
       "      <td>Ficus</td>\n",
       "      <td>27</td>\n",
       "    </tr>\n",
       "    <tr>\n",
       "      <th>20</th>\n",
       "      <td>54</td>\n",
       "      <td>USD</td>\n",
       "      <td>Eucalyptus tree</td>\n",
       "      <td>21</td>\n",
       "    </tr>\n",
       "    <tr>\n",
       "      <th>14</th>\n",
       "      <td>80</td>\n",
       "      <td>USD</td>\n",
       "      <td>Fire Pit Medium</td>\n",
       "      <td>15</td>\n",
       "    </tr>\n",
       "    <tr>\n",
       "      <th>12</th>\n",
       "      <td>4</td>\n",
       "      <td>USD</td>\n",
       "      <td>Red Roses seeds</td>\n",
       "      <td>13</td>\n",
       "    </tr>\n",
       "    <tr>\n",
       "      <th>38</th>\n",
       "      <td>15</td>\n",
       "      <td>USD</td>\n",
       "      <td>Pothos</td>\n",
       "      <td>39</td>\n",
       "    </tr>\n",
       "    <tr>\n",
       "      <th>24</th>\n",
       "      <td>79</td>\n",
       "      <td>USD</td>\n",
       "      <td>Azalea</td>\n",
       "      <td>25</td>\n",
       "    </tr>\n",
       "    <tr>\n",
       "      <th>21</th>\n",
       "      <td>75</td>\n",
       "      <td>USD</td>\n",
       "      <td>Lemon tree</td>\n",
       "      <td>22</td>\n",
       "    </tr>\n",
       "    <tr>\n",
       "      <th>18</th>\n",
       "      <td>3</td>\n",
       "      <td>USD</td>\n",
       "      <td>Thyme seeds</td>\n",
       "      <td>19</td>\n",
       "    </tr>\n",
       "  </tbody>\n",
       "</table>\n",
       "</div>"
      ],
      "text/plain": [
       "    price_amount price_currency                    product_name  sku\n",
       "40            34            USD                        Calathea   41\n",
       "0            225            USD  Steel outdoor dining table set    1\n",
       "26            65            USD                           Ficus   27\n",
       "20            54            USD                 Eucalyptus tree   21\n",
       "14            80            USD                 Fire Pit Medium   15\n",
       "12             4            USD                 Red Roses seeds   13\n",
       "38            15            USD                          Pothos   39\n",
       "24            79            USD                          Azalea   25\n",
       "21            75            USD                      Lemon tree   22\n",
       "18             3            USD                     Thyme seeds   19"
      ]
     },
     "execution_count": 17,
     "metadata": {},
     "output_type": "execute_result"
    }
   ],
   "source": [
    "df_products.sample(10)"
   ]
  },
  {
   "cell_type": "code",
   "execution_count": 18,
   "id": "0998d261",
   "metadata": {},
   "outputs": [
    {
     "data": {
      "text/html": [
       "<div>\n",
       "<style scoped>\n",
       "    .dataframe tbody tr th:only-of-type {\n",
       "        vertical-align: middle;\n",
       "    }\n",
       "\n",
       "    .dataframe tbody tr th {\n",
       "        vertical-align: top;\n",
       "    }\n",
       "\n",
       "    .dataframe thead th {\n",
       "        text-align: right;\n",
       "    }\n",
       "</style>\n",
       "<table border=\"1\" class=\"dataframe\">\n",
       "  <thead>\n",
       "    <tr style=\"text-align: right;\">\n",
       "      <th></th>\n",
       "      <th>partner_commission</th>\n",
       "      <th>partner_id</th>\n",
       "      <th>partner_name</th>\n",
       "    </tr>\n",
       "  </thead>\n",
       "  <tbody>\n",
       "    <tr>\n",
       "      <th>0</th>\n",
       "      <td>0.18</td>\n",
       "      <td>1</td>\n",
       "      <td>Plant Paradise</td>\n",
       "    </tr>\n",
       "    <tr>\n",
       "      <th>1</th>\n",
       "      <td>0.14</td>\n",
       "      <td>2</td>\n",
       "      <td>Garden of Sweden</td>\n",
       "    </tr>\n",
       "    <tr>\n",
       "      <th>2</th>\n",
       "      <td>0.06</td>\n",
       "      <td>3</td>\n",
       "      <td>Peat, Fruits and Leaves</td>\n",
       "    </tr>\n",
       "    <tr>\n",
       "      <th>3</th>\n",
       "      <td>0.22</td>\n",
       "      <td>4</td>\n",
       "      <td>Redwood Ranch</td>\n",
       "    </tr>\n",
       "    <tr>\n",
       "      <th>4</th>\n",
       "      <td>0.08</td>\n",
       "      <td>5</td>\n",
       "      <td>Trowels R Us</td>\n",
       "    </tr>\n",
       "    <tr>\n",
       "      <th>5</th>\n",
       "      <td>0.14</td>\n",
       "      <td>6</td>\n",
       "      <td>Glorious Gardens</td>\n",
       "    </tr>\n",
       "  </tbody>\n",
       "</table>\n",
       "</div>"
      ],
      "text/plain": [
       "   partner_commission  partner_id             partner_name\n",
       "0                0.18           1           Plant Paradise\n",
       "1                0.14           2         Garden of Sweden\n",
       "2                0.06           3  Peat, Fruits and Leaves\n",
       "3                0.22           4            Redwood Ranch\n",
       "4                0.08           5             Trowels R Us\n",
       "5                0.14           6         Glorious Gardens"
      ]
     },
     "execution_count": 18,
     "metadata": {},
     "output_type": "execute_result"
    }
   ],
   "source": [
    "df_partners"
   ]
  },
  {
   "cell_type": "code",
   "execution_count": 20,
   "id": "81befd9c",
   "metadata": {},
   "outputs": [
    {
     "data": {
      "text/html": [
       "<div>\n",
       "<style scoped>\n",
       "    .dataframe tbody tr th:only-of-type {\n",
       "        vertical-align: middle;\n",
       "    }\n",
       "\n",
       "    .dataframe tbody tr th {\n",
       "        vertical-align: top;\n",
       "    }\n",
       "\n",
       "    .dataframe thead th {\n",
       "        text-align: right;\n",
       "    }\n",
       "</style>\n",
       "<table border=\"1\" class=\"dataframe\">\n",
       "  <thead>\n",
       "    <tr style=\"text-align: right;\">\n",
       "      <th></th>\n",
       "      <th>browser</th>\n",
       "      <th>created_date</th>\n",
       "      <th>email</th>\n",
       "      <th>shipping_address</th>\n",
       "      <th>user_id</th>\n",
       "    </tr>\n",
       "  </thead>\n",
       "  <tbody>\n",
       "    <tr>\n",
       "      <th>581</th>\n",
       "      <td>chrome</td>\n",
       "      <td>2022-03-29 06:42:56</td>\n",
       "      <td>elmira_quia@gmail.com</td>\n",
       "      <td>{'city': 'Bartoletti borough', 'country': 'HR'...</td>\n",
       "      <td>582</td>\n",
       "    </tr>\n",
       "    <tr>\n",
       "      <th>276</th>\n",
       "      <td>chrome</td>\n",
       "      <td>2022-02-13 07:26:44</td>\n",
       "      <td>princess_et@yahoo.com</td>\n",
       "      <td>{'city': 'Eleazar bury', 'country': 'HN', 'str...</td>\n",
       "      <td>277</td>\n",
       "    </tr>\n",
       "    <tr>\n",
       "      <th>340</th>\n",
       "      <td>chrome</td>\n",
       "      <td>2022-02-23 04:46:32</td>\n",
       "      <td>rasheed_dolores@gmail.com</td>\n",
       "      <td>{'city': 'Tessie mouth', 'country': 'KW', 'str...</td>\n",
       "      <td>341</td>\n",
       "    </tr>\n",
       "    <tr>\n",
       "      <th>765</th>\n",
       "      <td>chrome</td>\n",
       "      <td>2022-04-25 05:36:42</td>\n",
       "      <td>amelie_ut@hotmail.com</td>\n",
       "      <td>{'city': 'Predovic borough', 'country': 'LI', ...</td>\n",
       "      <td>766</td>\n",
       "    </tr>\n",
       "    <tr>\n",
       "      <th>759</th>\n",
       "      <td>safari</td>\n",
       "      <td>2022-04-24 05:26:15</td>\n",
       "      <td>herminia64@hotmail.com</td>\n",
       "      <td>{'city': 'Madonna ville', 'country': 'RW', 'st...</td>\n",
       "      <td>760</td>\n",
       "    </tr>\n",
       "    <tr>\n",
       "      <th>603</th>\n",
       "      <td>chrome</td>\n",
       "      <td>2022-03-31 10:05:45</td>\n",
       "      <td>geoffrey_assumenda@gmail.com</td>\n",
       "      <td>{'city': 'Gerry borough', 'country': 'IT', 'st...</td>\n",
       "      <td>604</td>\n",
       "    </tr>\n",
       "    <tr>\n",
       "      <th>904</th>\n",
       "      <td>edge</td>\n",
       "      <td>2022-05-17 09:56:33</td>\n",
       "      <td>dolly_commodi@hotmail.com</td>\n",
       "      <td>{'city': 'New Ryleigh Abernathy mouth', 'count...</td>\n",
       "      <td>905</td>\n",
       "    </tr>\n",
       "    <tr>\n",
       "      <th>898</th>\n",
       "      <td>safari</td>\n",
       "      <td>2022-05-16 05:53:45</td>\n",
       "      <td>april_odit@yahoo.com</td>\n",
       "      <td>{'city': 'Green land', 'country': 'PT', 'stree...</td>\n",
       "      <td>899</td>\n",
       "    </tr>\n",
       "    <tr>\n",
       "      <th>86</th>\n",
       "      <td>chrome</td>\n",
       "      <td>2022-01-13 20:41:36</td>\n",
       "      <td>shyann_est@gmail.com</td>\n",
       "      <td>{'city': 'Corkery furt', 'country': 'VU', 'str...</td>\n",
       "      <td>87</td>\n",
       "    </tr>\n",
       "    <tr>\n",
       "      <th>234</th>\n",
       "      <td>edge</td>\n",
       "      <td>2022-02-06 19:54:47</td>\n",
       "      <td>fred_facere@hotmail.com</td>\n",
       "      <td>{'city': 'Marvin ville', 'country': 'BD', 'str...</td>\n",
       "      <td>235</td>\n",
       "    </tr>\n",
       "  </tbody>\n",
       "</table>\n",
       "</div>"
      ],
      "text/plain": [
       "    browser         created_date                         email  \\\n",
       "581  chrome  2022-03-29 06:42:56         elmira_quia@gmail.com   \n",
       "276  chrome  2022-02-13 07:26:44         princess_et@yahoo.com   \n",
       "340  chrome  2022-02-23 04:46:32     rasheed_dolores@gmail.com   \n",
       "765  chrome  2022-04-25 05:36:42         amelie_ut@hotmail.com   \n",
       "759  safari  2022-04-24 05:26:15        herminia64@hotmail.com   \n",
       "603  chrome  2022-03-31 10:05:45  geoffrey_assumenda@gmail.com   \n",
       "904    edge  2022-05-17 09:56:33     dolly_commodi@hotmail.com   \n",
       "898  safari  2022-05-16 05:53:45          april_odit@yahoo.com   \n",
       "86   chrome  2022-01-13 20:41:36          shyann_est@gmail.com   \n",
       "234    edge  2022-02-06 19:54:47       fred_facere@hotmail.com   \n",
       "\n",
       "                                      shipping_address  user_id  \n",
       "581  {'city': 'Bartoletti borough', 'country': 'HR'...      582  \n",
       "276  {'city': 'Eleazar bury', 'country': 'HN', 'str...      277  \n",
       "340  {'city': 'Tessie mouth', 'country': 'KW', 'str...      341  \n",
       "765  {'city': 'Predovic borough', 'country': 'LI', ...      766  \n",
       "759  {'city': 'Madonna ville', 'country': 'RW', 'st...      760  \n",
       "603  {'city': 'Gerry borough', 'country': 'IT', 'st...      604  \n",
       "904  {'city': 'New Ryleigh Abernathy mouth', 'count...      905  \n",
       "898  {'city': 'Green land', 'country': 'PT', 'stree...      899  \n",
       "86   {'city': 'Corkery furt', 'country': 'VU', 'str...       87  \n",
       "234  {'city': 'Marvin ville', 'country': 'BD', 'str...      235  "
      ]
     },
     "execution_count": 20,
     "metadata": {},
     "output_type": "execute_result"
    }
   ],
   "source": [
    "df_users.sample(10)"
   ]
  },
  {
   "cell_type": "code",
   "execution_count": 26,
   "id": "fea09bec",
   "metadata": {},
   "outputs": [
    {
     "data": {
      "text/plain": [
       "chrome               501\n",
       "safari               243\n",
       "edge                 179\n",
       "firefox               41\n",
       "internet_explorer     20\n",
       "netscape              14\n",
       "lynx                   2\n",
       "Name: browser, dtype: int64"
      ]
     },
     "execution_count": 26,
     "metadata": {},
     "output_type": "execute_result"
    }
   ],
   "source": [
    "df_users['browser'].value_counts()"
   ]
  },
  {
   "cell_type": "code",
   "execution_count": 22,
   "id": "f916cfe1",
   "metadata": {},
   "outputs": [
    {
     "data": {
      "text/html": [
       "<div>\n",
       "<style scoped>\n",
       "    .dataframe tbody tr th:only-of-type {\n",
       "        vertical-align: middle;\n",
       "    }\n",
       "\n",
       "    .dataframe tbody tr th {\n",
       "        vertical-align: top;\n",
       "    }\n",
       "\n",
       "    .dataframe thead th {\n",
       "        text-align: right;\n",
       "    }\n",
       "</style>\n",
       "<table border=\"1\" class=\"dataframe\">\n",
       "  <thead>\n",
       "    <tr style=\"text-align: right;\">\n",
       "      <th></th>\n",
       "      <th>feedback_rating</th>\n",
       "      <th>order_id</th>\n",
       "      <th>reason</th>\n",
       "      <th>request_id</th>\n",
       "      <th>timestamp</th>\n",
       "    </tr>\n",
       "  </thead>\n",
       "  <tbody>\n",
       "    <tr>\n",
       "      <th>128</th>\n",
       "      <td>10</td>\n",
       "      <td>413</td>\n",
       "      <td>Product related query</td>\n",
       "      <td>129</td>\n",
       "      <td>2022-05-30 01:33:46</td>\n",
       "    </tr>\n",
       "    <tr>\n",
       "      <th>3</th>\n",
       "      <td>10</td>\n",
       "      <td>751</td>\n",
       "      <td>Payment issue</td>\n",
       "      <td>4</td>\n",
       "      <td>2022-01-03 23:22:36</td>\n",
       "    </tr>\n",
       "    <tr>\n",
       "      <th>67</th>\n",
       "      <td>6</td>\n",
       "      <td>670</td>\n",
       "      <td>Payment issue</td>\n",
       "      <td>68</td>\n",
       "      <td>2022-03-27 07:07:32</td>\n",
       "    </tr>\n",
       "    <tr>\n",
       "      <th>30</th>\n",
       "      <td>8</td>\n",
       "      <td>465</td>\n",
       "      <td>Product related query</td>\n",
       "      <td>31</td>\n",
       "      <td>2022-01-31 17:24:17</td>\n",
       "    </tr>\n",
       "    <tr>\n",
       "      <th>49</th>\n",
       "      <td>10</td>\n",
       "      <td>169</td>\n",
       "      <td>Product related query</td>\n",
       "      <td>50</td>\n",
       "      <td>2022-02-24 16:33:54</td>\n",
       "    </tr>\n",
       "    <tr>\n",
       "      <th>11</th>\n",
       "      <td>9</td>\n",
       "      <td>353</td>\n",
       "      <td>Delivery issue</td>\n",
       "      <td>12</td>\n",
       "      <td>2022-01-19 02:08:28</td>\n",
       "    </tr>\n",
       "    <tr>\n",
       "      <th>1</th>\n",
       "      <td>8</td>\n",
       "      <td>952</td>\n",
       "      <td>Delivery issue</td>\n",
       "      <td>2</td>\n",
       "      <td>2022-01-02 09:02:11</td>\n",
       "    </tr>\n",
       "    <tr>\n",
       "      <th>82</th>\n",
       "      <td>9</td>\n",
       "      <td>181</td>\n",
       "      <td>Delivery issue</td>\n",
       "      <td>83</td>\n",
       "      <td>2022-04-25 23:16:58</td>\n",
       "    </tr>\n",
       "    <tr>\n",
       "      <th>23</th>\n",
       "      <td>9</td>\n",
       "      <td>184</td>\n",
       "      <td>Payment issue</td>\n",
       "      <td>24</td>\n",
       "      <td>2022-01-29 02:24:58</td>\n",
       "    </tr>\n",
       "    <tr>\n",
       "      <th>16</th>\n",
       "      <td>10</td>\n",
       "      <td>931</td>\n",
       "      <td>Product related query</td>\n",
       "      <td>17</td>\n",
       "      <td>2022-01-20 21:47:40</td>\n",
       "    </tr>\n",
       "  </tbody>\n",
       "</table>\n",
       "</div>"
      ],
      "text/plain": [
       "     feedback_rating  order_id                 reason  request_id  \\\n",
       "128               10       413  Product related query         129   \n",
       "3                 10       751          Payment issue           4   \n",
       "67                 6       670          Payment issue          68   \n",
       "30                 8       465  Product related query          31   \n",
       "49                10       169  Product related query          50   \n",
       "11                 9       353         Delivery issue          12   \n",
       "1                  8       952         Delivery issue           2   \n",
       "82                 9       181         Delivery issue          83   \n",
       "23                 9       184          Payment issue          24   \n",
       "16                10       931  Product related query          17   \n",
       "\n",
       "              timestamp  \n",
       "128 2022-05-30 01:33:46  \n",
       "3   2022-01-03 23:22:36  \n",
       "67  2022-03-27 07:07:32  \n",
       "30  2022-01-31 17:24:17  \n",
       "49  2022-02-24 16:33:54  \n",
       "11  2022-01-19 02:08:28  \n",
       "1   2022-01-02 09:02:11  \n",
       "82  2022-04-25 23:16:58  \n",
       "23  2022-01-29 02:24:58  \n",
       "16  2022-01-20 21:47:40  "
      ]
     },
     "execution_count": 22,
     "metadata": {},
     "output_type": "execute_result"
    }
   ],
   "source": [
    "df_support_requests.sample(10)"
   ]
  },
  {
   "cell_type": "code",
   "execution_count": 23,
   "id": "4f828ec4",
   "metadata": {},
   "outputs": [
    {
     "data": {
      "text/plain": [
       "<AxesSubplot:>"
      ]
     },
     "execution_count": 23,
     "metadata": {},
     "output_type": "execute_result"
    },
    {
     "data": {
      "image/png": "[encoded data removed]",
      "text/plain": [
       "<Figure size 432x288 with 1 Axes>"
      ]
     },
     "metadata": {
      "needs_background": "light"
     },
     "output_type": "display_data"
    }
   ],
   "source": [
    "df_support_requests['feedback_rating'].hist()"
   ]
  },
  {
   "cell_type": "code",
   "execution_count": 24,
   "id": "2f3c050c",
   "metadata": {},
   "outputs": [
    {
     "data": {
      "text/plain": [
       "Delivery issue           56\n",
       "Product related query    33\n",
       "Payment issue            22\n",
       "Wrong item received      19\n",
       "Name: reason, dtype: int64"
      ]
     },
     "execution_count": 24,
     "metadata": {},
     "output_type": "execute_result"
    }
   ],
   "source": [
    "df_support_requests['reason'].value_counts()"
   ]
  },
  {
   "cell_type": "code",
   "execution_count": 25,
   "id": "f9406a23",
   "metadata": {},
   "outputs": [
    {
     "data": {
      "text/plain": [
       "317    2\n",
       "562    2\n",
       "7      2\n",
       "386    2\n",
       "874    2\n",
       "      ..\n",
       "781    1\n",
       "825    1\n",
       "313    1\n",
       "512    1\n",
       "440    1\n",
       "Name: order_id, Length: 122, dtype: int64"
      ]
     },
     "execution_count": 25,
     "metadata": {},
     "output_type": "execute_result"
    }
   ],
   "source": [
    "df_support_requests['order_id'].value_counts()"
   ]
  },
  {
   "cell_type": "code",
   "execution_count": null,
   "id": "47779b2b",
   "metadata": {},
   "outputs": [],
   "source": []
  }
 ],
 "metadata": {
  "kernelspec": {
   "display_name": "Python 3 (ipykernel)",
   "language": "python",
   "name": "python3"
  },
  "language_info": {
   "codemirror_mode": {
    "name": "ipython",
    "version": 3
   },
   "file_extension": ".py",
   "mimetype": "text/x-python",
   "name": "python",
   "nbconvert_exporter": "python",
   "pygments_lexer": "ipython3",
   "version": "3.9.13"
  }
 },
 "nbformat": 4,
 "nbformat_minor": 5
}
