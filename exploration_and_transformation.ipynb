{
 "cells": [
  {
   "cell_type": "code",
   "execution_count": 1,
   "id": "505192a4",
   "metadata": {
    "ExecuteTime": {
     "end_time": "2022-05-30T11:57:17.289181Z",
     "start_time": "2022-05-30T11:57:17.058266Z"
    }
   },
   "outputs": [],
   "source": [
    "import pandas as pd\n",
    "from ast import literal_eval\n",
    "import random\n",
    "import numpy as np\n",
    "\n",
    "# read data from synth\n",
    "df_orders = pd.read_json('synth_output_data/orders.json')\n",
    "df_products = pd.read_json('synth_output_data/products.json')\n",
    "df_partners = pd.read_json('synth_output_data/partners.json')\n",
    "df_users = pd.read_json('synth_output_data/users.json')\n",
    "df_support_requests= pd.read_json('synth_output_data/support_requests.json')\n",
    "df_orders_random = pd.read_json('synth_output_data/orders_random.json')\n",
    "df_support_requests_random = pd.read_json('synth_output_data/support_requests_random.json')\n",
    "\n",
    "# merge orders with users\n",
    "df_orders_users = pd.merge(df_orders, df_users, on=\"user_id\", how=\"left\")\n",
    "\n",
    "# remove orders created by users before they existed\n",
    "df_orders_users_cut = df_orders_users.loc[df_orders_users['created_date']<df_orders_users['timestamp']]\n",
    "\n",
    "# bulk up orders with more random orders to make up for lost orders in previous step\n",
    "df_orders_random_users = pd.merge(df_orders_random, df_users, on=\"user_id\", how=\"left\")\n",
    "df_orders_concat = pd.concat([df_orders_users_cut, df_orders_random_users], axis=0)\n",
    "df_orders_concat = df_orders_concat.drop(['order_id'], axis=1)\n",
    "df_orders_concat = df_orders_concat.reset_index(drop=True)\n",
    "df_orders_concat = df_orders_concat.reset_index()\n",
    "df_orders_concat = df_orders_concat.rename({'index': 'order_id'}, axis=1)\n",
    "df_orders_concat['order_id'] = df_orders_concat['order_id']+1\n",
    "\n",
    "# again, remove orders created by users before they existed and also before 2022-06-01\n",
    "df_orders_concat_cut = df_orders_concat.loc[df_orders_concat['created_date']<df_orders_concat['timestamp']]\n",
    "df_orders_concat_cut = df_orders_concat_cut.loc[df_orders_concat_cut['timestamp']<'2022-06-01']\n",
    "df_orders_concat_cut = df_orders_concat_cut.sort_values('timestamp')\n",
    "df_orders_concat_cut = df_orders_concat_cut.drop('order_id', axis=1)\n",
    "df_orders_concat_cut = df_orders_concat_cut.reset_index(drop=True)\n",
    "df_orders_concat_cut = df_orders_concat_cut.reset_index()\n",
    "df_orders_concat_cut = df_orders_concat_cut.rename({'index': 'order_id'}, axis=1)\n",
    "df_orders_concat_cut['order_id'] = df_orders_concat_cut['order_id']+1\n",
    "\n",
    "df_orders = df_orders_concat_cut.copy()"
   ]
  },
  {
   "cell_type": "code",
   "execution_count": 2,
   "id": "7d1a2e26",
   "metadata": {
    "ExecuteTime": {
     "end_time": "2022-05-30T11:57:17.331152Z",
     "start_time": "2022-05-30T11:57:17.302210Z"
    }
   },
   "outputs": [
    {
     "data": {
      "text/html": [
       "<div>\n",
       "<style scoped>\n",
       "    .dataframe tbody tr th:only-of-type {\n",
       "        vertical-align: middle;\n",
       "    }\n",
       "\n",
       "    .dataframe tbody tr th {\n",
       "        vertical-align: top;\n",
       "    }\n",
       "\n",
       "    .dataframe thead th {\n",
       "        text-align: right;\n",
       "    }\n",
       "</style>\n",
       "<table border=\"1\" class=\"dataframe\">\n",
       "  <thead>\n",
       "    <tr style=\"text-align: right;\">\n",
       "      <th></th>\n",
       "      <th>order_id</th>\n",
       "      <th>currency</th>\n",
       "      <th>ordered_product_skus</th>\n",
       "      <th>partner_id</th>\n",
       "      <th>referrer</th>\n",
       "      <th>timestamp</th>\n",
       "      <th>user_id</th>\n",
       "      <th>browser</th>\n",
       "      <th>created_date</th>\n",
       "      <th>email</th>\n",
       "      <th>shipping_address</th>\n",
       "    </tr>\n",
       "  </thead>\n",
       "  <tbody>\n",
       "    <tr>\n",
       "      <th>702</th>\n",
       "      <td>703</td>\n",
       "      <td>USD</td>\n",
       "      <td>[37]</td>\n",
       "      <td>6</td>\n",
       "      <td>twitter</td>\n",
       "      <td>2022-05-08 16:26:57</td>\n",
       "      <td>54</td>\n",
       "      <td>chrome</td>\n",
       "      <td>2022-01-09 04:50:25</td>\n",
       "      <td>tobin_numquam@hotmail.com</td>\n",
       "      <td>{'city': 'Flatley ville', 'country': 'IO', 'st...</td>\n",
       "    </tr>\n",
       "    <tr>\n",
       "      <th>423</th>\n",
       "      <td>424</td>\n",
       "      <td>USD</td>\n",
       "      <td>[8, 4]</td>\n",
       "      <td>4</td>\n",
       "      <td>direct</td>\n",
       "      <td>2022-05-01 09:51:01</td>\n",
       "      <td>597</td>\n",
       "      <td>chrome</td>\n",
       "      <td>2022-03-30 16:08:24</td>\n",
       "      <td>arvid_voluptatem@gmail.com</td>\n",
       "      <td>{'city': 'Brekke stad', 'country': 'IQ', 'stre...</td>\n",
       "    </tr>\n",
       "    <tr>\n",
       "      <th>556</th>\n",
       "      <td>557</td>\n",
       "      <td>USD</td>\n",
       "      <td>[15, 19, 20]</td>\n",
       "      <td>4</td>\n",
       "      <td>ppc</td>\n",
       "      <td>2022-05-04 20:33:03</td>\n",
       "      <td>747</td>\n",
       "      <td>safari</td>\n",
       "      <td>2022-04-21 21:47:59</td>\n",
       "      <td>jordane_perferendis@gmail.com</td>\n",
       "      <td>{'city': 'Gorczany borough', 'country': 'MT', ...</td>\n",
       "    </tr>\n",
       "    <tr>\n",
       "      <th>540</th>\n",
       "      <td>541</td>\n",
       "      <td>USD</td>\n",
       "      <td>[23, 40, 36, 11, 35, 9]</td>\n",
       "      <td>2</td>\n",
       "      <td>instagram</td>\n",
       "      <td>2022-05-04 06:55:47</td>\n",
       "      <td>108</td>\n",
       "      <td>edge</td>\n",
       "      <td>2022-01-17 01:48:37</td>\n",
       "      <td>nickolas_quis@gmail.com</td>\n",
       "      <td>{'city': 'Predovic borough', 'country': 'LV', ...</td>\n",
       "    </tr>\n",
       "    <tr>\n",
       "      <th>645</th>\n",
       "      <td>646</td>\n",
       "      <td>USD</td>\n",
       "      <td>[35]</td>\n",
       "      <td>3</td>\n",
       "      <td>instagram</td>\n",
       "      <td>2022-05-07 05:19:05</td>\n",
       "      <td>419</td>\n",
       "      <td>safari</td>\n",
       "      <td>2022-03-06 13:05:34</td>\n",
       "      <td>mable_atque@gmail.com</td>\n",
       "      <td>{'city': 'Schmeler chester', 'country': 'TC', ...</td>\n",
       "    </tr>\n",
       "  </tbody>\n",
       "</table>\n",
       "</div>"
      ],
      "text/plain": [
       "     order_id currency     ordered_product_skus  partner_id   referrer  \\\n",
       "702       703      USD                     [37]           6    twitter   \n",
       "423       424      USD                   [8, 4]           4     direct   \n",
       "556       557      USD             [15, 19, 20]           4        ppc   \n",
       "540       541      USD  [23, 40, 36, 11, 35, 9]           2  instagram   \n",
       "645       646      USD                     [35]           3  instagram   \n",
       "\n",
       "              timestamp  user_id browser         created_date  \\\n",
       "702 2022-05-08 16:26:57       54  chrome  2022-01-09 04:50:25   \n",
       "423 2022-05-01 09:51:01      597  chrome  2022-03-30 16:08:24   \n",
       "556 2022-05-04 20:33:03      747  safari  2022-04-21 21:47:59   \n",
       "540 2022-05-04 06:55:47      108    edge  2022-01-17 01:48:37   \n",
       "645 2022-05-07 05:19:05      419  safari  2022-03-06 13:05:34   \n",
       "\n",
       "                             email  \\\n",
       "702      tobin_numquam@hotmail.com   \n",
       "423     arvid_voluptatem@gmail.com   \n",
       "556  jordane_perferendis@gmail.com   \n",
       "540        nickolas_quis@gmail.com   \n",
       "645          mable_atque@gmail.com   \n",
       "\n",
       "                                      shipping_address  \n",
       "702  {'city': 'Flatley ville', 'country': 'IO', 'st...  \n",
       "423  {'city': 'Brekke stad', 'country': 'IQ', 'stre...  \n",
       "556  {'city': 'Gorczany borough', 'country': 'MT', ...  \n",
       "540  {'city': 'Predovic borough', 'country': 'LV', ...  \n",
       "645  {'city': 'Schmeler chester', 'country': 'TC', ...  "
      ]
     },
     "execution_count": 2,
     "metadata": {},
     "output_type": "execute_result"
    }
   ],
   "source": [
    "df_orders.sample(5)"
   ]
  },
  {
   "cell_type": "code",
   "execution_count": 3,
   "id": "72875cab",
   "metadata": {
    "ExecuteTime": {
     "end_time": "2022-05-30T11:57:17.692706Z",
     "start_time": "2022-05-30T11:57:17.337252Z"
    },
    "scrolled": true
   },
   "outputs": [
    {
     "data": {
      "text/plain": [
       "<AxesSubplot:>"
      ]
     },
     "execution_count": 3,
     "metadata": {},
     "output_type": "execute_result"
    },
    {
     "data": {
      "image/png": "[encoded data removed]",
      "text/plain": [
       "<Figure size 432x288 with 1 Axes>"
      ]
     },
     "metadata": {
      "needs_background": "light"
     },
     "output_type": "display_data"
    }
   ],
   "source": [
    "df_orders['user_id'].value_counts().hist(bins=6)"
   ]
  },
  {
   "cell_type": "code",
   "execution_count": 4,
   "id": "757704df",
   "metadata": {
    "ExecuteTime": {
     "end_time": "2022-05-30T11:57:17.746701Z",
     "start_time": "2022-05-30T11:57:17.693484Z"
    }
   },
   "outputs": [
    {
     "data": {
      "text/plain": [
       "<AxesSubplot:>"
      ]
     },
     "execution_count": 4,
     "metadata": {},
     "output_type": "execute_result"
    },
    {
     "data": {
      "image/png": "[encoded data removed]",
      "text/plain": [
       "<Figure size 432x288 with 1 Axes>"
      ]
     },
     "metadata": {
      "needs_background": "light"
     },
     "output_type": "display_data"
    }
   ],
   "source": [
    "df_orders['partner_id'].hist(bins=6)"
   ]
  },
  {
   "cell_type": "code",
   "execution_count": 5,
   "id": "617069e2",
   "metadata": {
    "ExecuteTime": {
     "end_time": "2022-05-30T11:57:17.752311Z",
     "start_time": "2022-05-30T11:57:17.748156Z"
    }
   },
   "outputs": [
    {
     "data": {
      "text/plain": [
       "instagram    308\n",
       "ppc          248\n",
       "facebook     214\n",
       "organic      123\n",
       "direct        76\n",
       "twitter       31\n",
       "Name: referrer, dtype: int64"
      ]
     },
     "execution_count": 5,
     "metadata": {},
     "output_type": "execute_result"
    }
   ],
   "source": [
    "df_orders['referrer'].value_counts()"
   ]
  },
  {
   "cell_type": "code",
   "execution_count": 6,
   "id": "c5d54f22",
   "metadata": {
    "ExecuteTime": {
     "end_time": "2022-05-30T11:57:17.757959Z",
     "start_time": "2022-05-30T11:57:17.753723Z"
    }
   },
   "outputs": [
    {
     "data": {
      "text/plain": [
       "0                      [5, 27]\n",
       "1                      [31, 9]\n",
       "2              [28, 32, 7, 40]\n",
       "3              [33, 15, 37, 3]\n",
       "4                         [17]\n",
       "                ...           \n",
       "995     [39, 25, 3, 33, 5, 20]\n",
       "996               [27, 20, 19]\n",
       "997    [30, 1, 14, 20, 24, 26]\n",
       "998        [2, 11, 40, 33, 17]\n",
       "999             [3, 13, 6, 26]\n",
       "Name: ordered_product_skus, Length: 1000, dtype: object"
      ]
     },
     "execution_count": 6,
     "metadata": {},
     "output_type": "execute_result"
    }
   ],
   "source": [
    "df_orders['ordered_product_skus']"
   ]
  },
  {
   "cell_type": "code",
   "execution_count": 7,
   "id": "942c0889",
   "metadata": {
    "ExecuteTime": {
     "end_time": "2022-05-30T11:57:17.769711Z",
     "start_time": "2022-05-30T11:57:17.759153Z"
    }
   },
   "outputs": [
    {
     "name": "stdout",
     "output_type": "stream",
     "text": [
      "unpopular product: 1\n",
      "unpopular product: 2\n",
      "unpopular product: 4\n",
      "unpopular product: 5\n",
      "unpopular product: 8\n",
      "unpopular product: 10\n",
      "unpopular product: 13\n",
      "unpopular product: 14\n",
      "unpopular product: 16\n",
      "unpopular product: 17\n",
      "unpopular product: 18\n",
      "unpopular product: 19\n",
      "unpopular product: 20\n",
      "unpopular product: 21\n",
      "unpopular product: 22\n",
      "unpopular product: 24\n",
      "unpopular product: 27\n",
      "unpopular product: 29\n",
      "unpopular product: 30\n",
      "unpopular product: 32\n",
      "unpopular product: 36\n",
      "unpopular product: 38\n",
      "unpopular product: 39\n",
      "unpopular product: 40\n",
      "unpopular product: 41\n",
      "unpopular product: 42\n"
     ]
    }
   ],
   "source": [
    "# make some products more popular than others\n",
    "\n",
    "def product_manipulation(x):\n",
    "    if i in x:\n",
    "        if random.randint(0, 10) > 2:\n",
    "            if len(x) > 1:\n",
    "                x.remove(i)\n",
    "    return x\n",
    "\n",
    "for i in range(1, 43):\n",
    "    if random.randint(0, 10) > 3:\n",
    "        print(f'unpopular product: {i}')\n",
    "        df_orders['ordered_product_skus'] = df_orders['ordered_product_skus'].apply(lambda x: product_manipulation(x))"
   ]
  },
  {
   "cell_type": "code",
   "execution_count": 8,
   "id": "72dbdef3",
   "metadata": {
    "ExecuteTime": {
     "end_time": "2022-05-30T11:57:17.783629Z",
     "start_time": "2022-05-30T11:57:17.772945Z"
    }
   },
   "outputs": [
    {
     "data": {
      "text/html": [
       "<div>\n",
       "<style scoped>\n",
       "    .dataframe tbody tr th:only-of-type {\n",
       "        vertical-align: middle;\n",
       "    }\n",
       "\n",
       "    .dataframe tbody tr th {\n",
       "        vertical-align: top;\n",
       "    }\n",
       "\n",
       "    .dataframe thead th {\n",
       "        text-align: right;\n",
       "    }\n",
       "</style>\n",
       "<table border=\"1\" class=\"dataframe\">\n",
       "  <thead>\n",
       "    <tr style=\"text-align: right;\">\n",
       "      <th></th>\n",
       "      <th>order_id</th>\n",
       "      <th>currency</th>\n",
       "      <th>ordered_product_skus</th>\n",
       "      <th>partner_id</th>\n",
       "      <th>referrer</th>\n",
       "      <th>timestamp</th>\n",
       "      <th>user_id</th>\n",
       "      <th>browser</th>\n",
       "      <th>created_date</th>\n",
       "      <th>email</th>\n",
       "      <th>shipping_address</th>\n",
       "    </tr>\n",
       "  </thead>\n",
       "  <tbody>\n",
       "    <tr>\n",
       "      <th>0</th>\n",
       "      <td>1</td>\n",
       "      <td>USD</td>\n",
       "      <td>[5]</td>\n",
       "      <td>3</td>\n",
       "      <td>ppc</td>\n",
       "      <td>2022-01-03 08:23:34</td>\n",
       "      <td>10</td>\n",
       "      <td>safari</td>\n",
       "      <td>2022-01-02 23:18:24</td>\n",
       "      <td>shannon_consequuntur@yahoo.com</td>\n",
       "      <td>{'city': 'Klein port', 'country': 'NO', 'stree...</td>\n",
       "    </tr>\n",
       "    <tr>\n",
       "      <th>1</th>\n",
       "      <td>2</td>\n",
       "      <td>USD</td>\n",
       "      <td>[31, 9]</td>\n",
       "      <td>1</td>\n",
       "      <td>facebook</td>\n",
       "      <td>2022-01-05 08:22:10</td>\n",
       "      <td>13</td>\n",
       "      <td>safari</td>\n",
       "      <td>2022-01-03 08:13:21</td>\n",
       "      <td>casper_corporis@hotmail.com</td>\n",
       "      <td>{'city': 'Rhea haven', 'country': 'PT', 'stree...</td>\n",
       "    </tr>\n",
       "    <tr>\n",
       "      <th>2</th>\n",
       "      <td>3</td>\n",
       "      <td>USD</td>\n",
       "      <td>[28, 7]</td>\n",
       "      <td>4</td>\n",
       "      <td>ppc</td>\n",
       "      <td>2022-01-09 22:17:32</td>\n",
       "      <td>24</td>\n",
       "      <td>chrome</td>\n",
       "      <td>2022-01-04 21:10:59</td>\n",
       "      <td>thaddeus_eius@hotmail.com</td>\n",
       "      <td>{'city': 'Vandervort bury', 'country': 'JO', '...</td>\n",
       "    </tr>\n",
       "    <tr>\n",
       "      <th>3</th>\n",
       "      <td>4</td>\n",
       "      <td>USD</td>\n",
       "      <td>[33, 15, 37, 3]</td>\n",
       "      <td>3</td>\n",
       "      <td>instagram</td>\n",
       "      <td>2022-01-09 23:32:02</td>\n",
       "      <td>25</td>\n",
       "      <td>edge</td>\n",
       "      <td>2022-01-05 02:27:25</td>\n",
       "      <td>valentina_sit@yahoo.com</td>\n",
       "      <td>{'city': 'McLaughlin mouth', 'country': 'FM', ...</td>\n",
       "    </tr>\n",
       "    <tr>\n",
       "      <th>4</th>\n",
       "      <td>5</td>\n",
       "      <td>USD</td>\n",
       "      <td>[17]</td>\n",
       "      <td>4</td>\n",
       "      <td>ppc</td>\n",
       "      <td>2022-01-10 10:52:09</td>\n",
       "      <td>18</td>\n",
       "      <td>edge</td>\n",
       "      <td>2022-01-03 18:59:06</td>\n",
       "      <td>ed_quas@gmail.com</td>\n",
       "      <td>{'city': 'Gia land', 'country': 'MR', 'street_...</td>\n",
       "    </tr>\n",
       "    <tr>\n",
       "      <th>...</th>\n",
       "      <td>...</td>\n",
       "      <td>...</td>\n",
       "      <td>...</td>\n",
       "      <td>...</td>\n",
       "      <td>...</td>\n",
       "      <td>...</td>\n",
       "      <td>...</td>\n",
       "      <td>...</td>\n",
       "      <td>...</td>\n",
       "      <td>...</td>\n",
       "      <td>...</td>\n",
       "    </tr>\n",
       "    <tr>\n",
       "      <th>995</th>\n",
       "      <td>996</td>\n",
       "      <td>USD</td>\n",
       "      <td>[39, 25, 3, 33]</td>\n",
       "      <td>6</td>\n",
       "      <td>facebook</td>\n",
       "      <td>2022-05-30 09:52:13</td>\n",
       "      <td>100</td>\n",
       "      <td>edge</td>\n",
       "      <td>2022-01-15 13:28:58</td>\n",
       "      <td>hector_magni@yahoo.com</td>\n",
       "      <td>{'city': 'Cassin haven', 'country': 'MY', 'str...</td>\n",
       "    </tr>\n",
       "    <tr>\n",
       "      <th>996</th>\n",
       "      <td>997</td>\n",
       "      <td>USD</td>\n",
       "      <td>[27, 19]</td>\n",
       "      <td>3</td>\n",
       "      <td>instagram</td>\n",
       "      <td>2022-05-30 17:17:13</td>\n",
       "      <td>333</td>\n",
       "      <td>internet_explorer</td>\n",
       "      <td>2022-02-21 14:42:22</td>\n",
       "      <td>deondre_libero@hotmail.com</td>\n",
       "      <td>{'city': 'Regan chester', 'country': 'MQ', 'st...</td>\n",
       "    </tr>\n",
       "    <tr>\n",
       "      <th>997</th>\n",
       "      <td>998</td>\n",
       "      <td>USD</td>\n",
       "      <td>[30, 26]</td>\n",
       "      <td>3</td>\n",
       "      <td>facebook</td>\n",
       "      <td>2022-05-31 08:00:34</td>\n",
       "      <td>979</td>\n",
       "      <td>safari</td>\n",
       "      <td>2022-05-27 19:48:10</td>\n",
       "      <td>javon_quia@yahoo.com</td>\n",
       "      <td>{'city': 'Bayer haven', 'country': 'BI', 'stre...</td>\n",
       "    </tr>\n",
       "    <tr>\n",
       "      <th>998</th>\n",
       "      <td>999</td>\n",
       "      <td>USD</td>\n",
       "      <td>[11, 33]</td>\n",
       "      <td>4</td>\n",
       "      <td>facebook</td>\n",
       "      <td>2022-05-31 14:30:22</td>\n",
       "      <td>583</td>\n",
       "      <td>netscape</td>\n",
       "      <td>2022-03-29 07:18:34</td>\n",
       "      <td>reagan_corporis@gmail.com</td>\n",
       "      <td>{'city': 'Bednar mouth', 'country': 'SG', 'str...</td>\n",
       "    </tr>\n",
       "    <tr>\n",
       "      <th>999</th>\n",
       "      <td>1000</td>\n",
       "      <td>USD</td>\n",
       "      <td>[3, 13, 6, 26]</td>\n",
       "      <td>4</td>\n",
       "      <td>organic</td>\n",
       "      <td>2022-05-31 19:37:13</td>\n",
       "      <td>217</td>\n",
       "      <td>safari</td>\n",
       "      <td>2022-02-04 15:27:04</td>\n",
       "      <td>constantin_ratione@gmail.com</td>\n",
       "      <td>{'city': 'Abelardo haven', 'country': 'TK', 's...</td>\n",
       "    </tr>\n",
       "  </tbody>\n",
       "</table>\n",
       "<p>1000 rows × 11 columns</p>\n",
       "</div>"
      ],
      "text/plain": [
       "     order_id currency ordered_product_skus  partner_id   referrer  \\\n",
       "0           1      USD                  [5]           3        ppc   \n",
       "1           2      USD              [31, 9]           1   facebook   \n",
       "2           3      USD              [28, 7]           4        ppc   \n",
       "3           4      USD      [33, 15, 37, 3]           3  instagram   \n",
       "4           5      USD                 [17]           4        ppc   \n",
       "..        ...      ...                  ...         ...        ...   \n",
       "995       996      USD      [39, 25, 3, 33]           6   facebook   \n",
       "996       997      USD             [27, 19]           3  instagram   \n",
       "997       998      USD             [30, 26]           3   facebook   \n",
       "998       999      USD             [11, 33]           4   facebook   \n",
       "999      1000      USD       [3, 13, 6, 26]           4    organic   \n",
       "\n",
       "              timestamp  user_id            browser         created_date  \\\n",
       "0   2022-01-03 08:23:34       10             safari  2022-01-02 23:18:24   \n",
       "1   2022-01-05 08:22:10       13             safari  2022-01-03 08:13:21   \n",
       "2   2022-01-09 22:17:32       24             chrome  2022-01-04 21:10:59   \n",
       "3   2022-01-09 23:32:02       25               edge  2022-01-05 02:27:25   \n",
       "4   2022-01-10 10:52:09       18               edge  2022-01-03 18:59:06   \n",
       "..                  ...      ...                ...                  ...   \n",
       "995 2022-05-30 09:52:13      100               edge  2022-01-15 13:28:58   \n",
       "996 2022-05-30 17:17:13      333  internet_explorer  2022-02-21 14:42:22   \n",
       "997 2022-05-31 08:00:34      979             safari  2022-05-27 19:48:10   \n",
       "998 2022-05-31 14:30:22      583           netscape  2022-03-29 07:18:34   \n",
       "999 2022-05-31 19:37:13      217             safari  2022-02-04 15:27:04   \n",
       "\n",
       "                              email  \\\n",
       "0    shannon_consequuntur@yahoo.com   \n",
       "1       casper_corporis@hotmail.com   \n",
       "2         thaddeus_eius@hotmail.com   \n",
       "3           valentina_sit@yahoo.com   \n",
       "4                 ed_quas@gmail.com   \n",
       "..                              ...   \n",
       "995          hector_magni@yahoo.com   \n",
       "996      deondre_libero@hotmail.com   \n",
       "997            javon_quia@yahoo.com   \n",
       "998       reagan_corporis@gmail.com   \n",
       "999    constantin_ratione@gmail.com   \n",
       "\n",
       "                                      shipping_address  \n",
       "0    {'city': 'Klein port', 'country': 'NO', 'stree...  \n",
       "1    {'city': 'Rhea haven', 'country': 'PT', 'stree...  \n",
       "2    {'city': 'Vandervort bury', 'country': 'JO', '...  \n",
       "3    {'city': 'McLaughlin mouth', 'country': 'FM', ...  \n",
       "4    {'city': 'Gia land', 'country': 'MR', 'street_...  \n",
       "..                                                 ...  \n",
       "995  {'city': 'Cassin haven', 'country': 'MY', 'str...  \n",
       "996  {'city': 'Regan chester', 'country': 'MQ', 'st...  \n",
       "997  {'city': 'Bayer haven', 'country': 'BI', 'stre...  \n",
       "998  {'city': 'Bednar mouth', 'country': 'SG', 'str...  \n",
       "999  {'city': 'Abelardo haven', 'country': 'TK', 's...  \n",
       "\n",
       "[1000 rows x 11 columns]"
      ]
     },
     "execution_count": 8,
     "metadata": {},
     "output_type": "execute_result"
    }
   ],
   "source": [
    "df_orders"
   ]
  },
  {
   "cell_type": "code",
   "execution_count": 9,
   "id": "578b373e",
   "metadata": {
    "ExecuteTime": {
     "end_time": "2022-05-30T11:57:17.800436Z",
     "start_time": "2022-05-30T11:57:17.785331Z"
    }
   },
   "outputs": [
    {
     "data": {
      "text/plain": [
       "[9]                  17\n",
       "[6]                  16\n",
       "[23]                 16\n",
       "[31]                 15\n",
       "[17]                 15\n",
       "                     ..\n",
       "[34, 12, 25]          1\n",
       "[11, 15]              1\n",
       "[15, 35, 3, 9, 9]     1\n",
       "[10, 10]              1\n",
       "[3, 13, 6, 26]        1\n",
       "Name: ordered_product_skus, Length: 610, dtype: int64"
      ]
     },
     "execution_count": 9,
     "metadata": {},
     "output_type": "execute_result"
    }
   ],
   "source": [
    "df_orders['ordered_product_skus'].value_counts()"
   ]
  },
  {
   "cell_type": "code",
   "execution_count": 10,
   "id": "51ed8bc5",
   "metadata": {
    "ExecuteTime": {
     "end_time": "2022-05-30T11:57:17.814194Z",
     "start_time": "2022-05-30T11:57:17.801880Z"
    }
   },
   "outputs": [],
   "source": [
    "# drop unnecesary cols\n",
    "to_drop = [\n",
    "    'browser',\n",
    "    'created_date',\n",
    "    'email',\n",
    "    'shipping_address',\n",
    "]\n",
    "df_orders.drop(to_drop, inplace=True, axis=1)\n",
    "\n",
    "# generate basket df by exploding orders on skus\n",
    "df_baskets = df_orders.explode('ordered_product_skus')[['order_id', 'ordered_product_skus']]\n",
    "df_baskets.reset_index(inplace=True, drop=True)\n",
    "df_baskets.reset_index(inplace=True)\n",
    "df_baskets = df_baskets.rename({'index': 'basket_item_id'}, axis=1)\n",
    "df_baskets['basket_item_id']+=1\n",
    "\n",
    "# merge baskets with product data\n",
    "df_baskets = df_baskets.merge(\n",
    "    df_products,\n",
    "    left_on='ordered_product_skus',\n",
    "    right_on='sku',\n",
    "    how='left'\n",
    ")\n",
    "df_baskets = df_baskets.drop(columns=['price_currency', 'product_name', 'sku'], axis=1)\n",
    "\n",
    "# calculate basket totals and merge back into baskets\n",
    "df_baskets_totals = df_baskets.groupby('order_id').sum('price_amount')\n",
    "df_baskets_totals.reset_index(inplace=True)\n",
    "df_baskets_totals.drop(columns=['basket_item_id'], axis=1, inplace=True)\n",
    "df_baskets_totals.rename({'price_amount': 'basket_total'}, inplace=True, axis=1)\n",
    "df_baskets = df_baskets.merge(df_baskets_totals, on='order_id', how='left')\n",
    "\n",
    "# create basket totals lookup and drop unncessary cols\n",
    "df_order_basket_totals = df_baskets.drop_duplicates('order_id', keep='first')\n",
    "to_drop = [\n",
    "    'basket_item_id',\n",
    "    'ordered_product_skus',\n",
    "    'price_amount',\n",
    "]\n",
    "df_order_basket_totals = df_order_basket_totals.drop(columns=to_drop, axis=1)\n",
    "df_order_basket_totals.reset_index(drop=True, inplace=True)\n",
    "\n",
    "# merge basket totals back to orders\n",
    "df_orders = df_orders.merge(df_order_basket_totals, how='left', on='order_id')"
   ]
  },
  {
   "cell_type": "code",
   "execution_count": 11,
   "id": "a498e23b",
   "metadata": {
    "ExecuteTime": {
     "end_time": "2022-05-30T11:57:17.820529Z",
     "start_time": "2022-05-30T11:57:17.816325Z"
    }
   },
   "outputs": [
    {
     "data": {
      "text/html": [
       "<div>\n",
       "<style scoped>\n",
       "    .dataframe tbody tr th:only-of-type {\n",
       "        vertical-align: middle;\n",
       "    }\n",
       "\n",
       "    .dataframe tbody tr th {\n",
       "        vertical-align: top;\n",
       "    }\n",
       "\n",
       "    .dataframe thead th {\n",
       "        text-align: right;\n",
       "    }\n",
       "</style>\n",
       "<table border=\"1\" class=\"dataframe\">\n",
       "  <thead>\n",
       "    <tr style=\"text-align: right;\">\n",
       "      <th></th>\n",
       "      <th>partner_commission</th>\n",
       "      <th>partner_id</th>\n",
       "      <th>partner_name</th>\n",
       "    </tr>\n",
       "  </thead>\n",
       "  <tbody>\n",
       "    <tr>\n",
       "      <th>0</th>\n",
       "      <td>0.18</td>\n",
       "      <td>1</td>\n",
       "      <td>Plant Paradise</td>\n",
       "    </tr>\n",
       "    <tr>\n",
       "      <th>1</th>\n",
       "      <td>0.14</td>\n",
       "      <td>2</td>\n",
       "      <td>Garden of Sweden</td>\n",
       "    </tr>\n",
       "    <tr>\n",
       "      <th>2</th>\n",
       "      <td>0.06</td>\n",
       "      <td>3</td>\n",
       "      <td>Peat, Fruits and Leaves</td>\n",
       "    </tr>\n",
       "    <tr>\n",
       "      <th>3</th>\n",
       "      <td>0.22</td>\n",
       "      <td>4</td>\n",
       "      <td>Redwood Ranch</td>\n",
       "    </tr>\n",
       "    <tr>\n",
       "      <th>4</th>\n",
       "      <td>0.08</td>\n",
       "      <td>5</td>\n",
       "      <td>Trowels R Us</td>\n",
       "    </tr>\n",
       "    <tr>\n",
       "      <th>5</th>\n",
       "      <td>0.14</td>\n",
       "      <td>6</td>\n",
       "      <td>Glorious Gardens</td>\n",
       "    </tr>\n",
       "  </tbody>\n",
       "</table>\n",
       "</div>"
      ],
      "text/plain": [
       "   partner_commission  partner_id             partner_name\n",
       "0                0.18           1           Plant Paradise\n",
       "1                0.14           2         Garden of Sweden\n",
       "2                0.06           3  Peat, Fruits and Leaves\n",
       "3                0.22           4            Redwood Ranch\n",
       "4                0.08           5             Trowels R Us\n",
       "5                0.14           6         Glorious Gardens"
      ]
     },
     "execution_count": 11,
     "metadata": {},
     "output_type": "execute_result"
    }
   ],
   "source": [
    "df_partners"
   ]
  },
  {
   "cell_type": "code",
   "execution_count": 12,
   "id": "873654b8",
   "metadata": {
    "ExecuteTime": {
     "end_time": "2022-05-30T11:57:17.826845Z",
     "start_time": "2022-05-30T11:57:17.822057Z"
    }
   },
   "outputs": [],
   "source": [
    "df_orders = df_orders.merge(df_partners, on='partner_id', how='left')"
   ]
  },
  {
   "cell_type": "code",
   "execution_count": 13,
   "id": "93e0a6bf",
   "metadata": {
    "ExecuteTime": {
     "end_time": "2022-05-30T11:57:17.835688Z",
     "start_time": "2022-05-30T11:57:17.832206Z"
    }
   },
   "outputs": [],
   "source": [
    "df_orders['profit'] = df_orders['basket_total'] * df_orders['partner_commission']"
   ]
  },
  {
   "cell_type": "code",
   "execution_count": 14,
   "id": "776eb80f",
   "metadata": {
    "ExecuteTime": {
     "end_time": "2022-05-30T11:57:17.839375Z",
     "start_time": "2022-05-30T11:57:17.836437Z"
    }
   },
   "outputs": [],
   "source": [
    "df_orders.drop(columns=['partner_name', 'partner_commission'], axis=1, inplace=True)"
   ]
  },
  {
   "cell_type": "code",
   "execution_count": 15,
   "id": "90696019",
   "metadata": {
    "ExecuteTime": {
     "end_time": "2022-05-30T11:57:17.850952Z",
     "start_time": "2022-05-30T11:57:17.840237Z"
    }
   },
   "outputs": [
    {
     "data": {
      "text/html": [
       "<div>\n",
       "<style scoped>\n",
       "    .dataframe tbody tr th:only-of-type {\n",
       "        vertical-align: middle;\n",
       "    }\n",
       "\n",
       "    .dataframe tbody tr th {\n",
       "        vertical-align: top;\n",
       "    }\n",
       "\n",
       "    .dataframe thead th {\n",
       "        text-align: right;\n",
       "    }\n",
       "</style>\n",
       "<table border=\"1\" class=\"dataframe\">\n",
       "  <thead>\n",
       "    <tr style=\"text-align: right;\">\n",
       "      <th></th>\n",
       "      <th>order_id</th>\n",
       "      <th>currency</th>\n",
       "      <th>ordered_product_skus</th>\n",
       "      <th>partner_id</th>\n",
       "      <th>referrer</th>\n",
       "      <th>timestamp</th>\n",
       "      <th>user_id</th>\n",
       "      <th>basket_total</th>\n",
       "      <th>profit</th>\n",
       "    </tr>\n",
       "  </thead>\n",
       "  <tbody>\n",
       "    <tr>\n",
       "      <th>0</th>\n",
       "      <td>1</td>\n",
       "      <td>USD</td>\n",
       "      <td>[5]</td>\n",
       "      <td>3</td>\n",
       "      <td>ppc</td>\n",
       "      <td>2022-01-03 08:23:34</td>\n",
       "      <td>10</td>\n",
       "      <td>50</td>\n",
       "      <td>3.00</td>\n",
       "    </tr>\n",
       "    <tr>\n",
       "      <th>1</th>\n",
       "      <td>2</td>\n",
       "      <td>USD</td>\n",
       "      <td>[31, 9]</td>\n",
       "      <td>1</td>\n",
       "      <td>facebook</td>\n",
       "      <td>2022-01-05 08:22:10</td>\n",
       "      <td>13</td>\n",
       "      <td>85</td>\n",
       "      <td>15.30</td>\n",
       "    </tr>\n",
       "    <tr>\n",
       "      <th>2</th>\n",
       "      <td>3</td>\n",
       "      <td>USD</td>\n",
       "      <td>[28, 7]</td>\n",
       "      <td>4</td>\n",
       "      <td>ppc</td>\n",
       "      <td>2022-01-09 22:17:32</td>\n",
       "      <td>24</td>\n",
       "      <td>170</td>\n",
       "      <td>37.40</td>\n",
       "    </tr>\n",
       "    <tr>\n",
       "      <th>3</th>\n",
       "      <td>4</td>\n",
       "      <td>USD</td>\n",
       "      <td>[33, 15, 37, 3]</td>\n",
       "      <td>3</td>\n",
       "      <td>instagram</td>\n",
       "      <td>2022-01-09 23:32:02</td>\n",
       "      <td>25</td>\n",
       "      <td>260</td>\n",
       "      <td>15.60</td>\n",
       "    </tr>\n",
       "    <tr>\n",
       "      <th>4</th>\n",
       "      <td>5</td>\n",
       "      <td>USD</td>\n",
       "      <td>[17]</td>\n",
       "      <td>4</td>\n",
       "      <td>ppc</td>\n",
       "      <td>2022-01-10 10:52:09</td>\n",
       "      <td>18</td>\n",
       "      <td>3</td>\n",
       "      <td>0.66</td>\n",
       "    </tr>\n",
       "    <tr>\n",
       "      <th>...</th>\n",
       "      <td>...</td>\n",
       "      <td>...</td>\n",
       "      <td>...</td>\n",
       "      <td>...</td>\n",
       "      <td>...</td>\n",
       "      <td>...</td>\n",
       "      <td>...</td>\n",
       "      <td>...</td>\n",
       "      <td>...</td>\n",
       "    </tr>\n",
       "    <tr>\n",
       "      <th>995</th>\n",
       "      <td>996</td>\n",
       "      <td>USD</td>\n",
       "      <td>[39, 25, 3, 33]</td>\n",
       "      <td>6</td>\n",
       "      <td>facebook</td>\n",
       "      <td>2022-05-30 09:52:13</td>\n",
       "      <td>100</td>\n",
       "      <td>244</td>\n",
       "      <td>34.16</td>\n",
       "    </tr>\n",
       "    <tr>\n",
       "      <th>996</th>\n",
       "      <td>997</td>\n",
       "      <td>USD</td>\n",
       "      <td>[27, 19]</td>\n",
       "      <td>3</td>\n",
       "      <td>instagram</td>\n",
       "      <td>2022-05-30 17:17:13</td>\n",
       "      <td>333</td>\n",
       "      <td>68</td>\n",
       "      <td>4.08</td>\n",
       "    </tr>\n",
       "    <tr>\n",
       "      <th>997</th>\n",
       "      <td>998</td>\n",
       "      <td>USD</td>\n",
       "      <td>[30, 26]</td>\n",
       "      <td>3</td>\n",
       "      <td>facebook</td>\n",
       "      <td>2022-05-31 08:00:34</td>\n",
       "      <td>979</td>\n",
       "      <td>156</td>\n",
       "      <td>9.36</td>\n",
       "    </tr>\n",
       "    <tr>\n",
       "      <th>998</th>\n",
       "      <td>999</td>\n",
       "      <td>USD</td>\n",
       "      <td>[11, 33]</td>\n",
       "      <td>4</td>\n",
       "      <td>facebook</td>\n",
       "      <td>2022-05-31 14:30:22</td>\n",
       "      <td>583</td>\n",
       "      <td>90</td>\n",
       "      <td>19.80</td>\n",
       "    </tr>\n",
       "    <tr>\n",
       "      <th>999</th>\n",
       "      <td>1000</td>\n",
       "      <td>USD</td>\n",
       "      <td>[3, 13, 6, 26]</td>\n",
       "      <td>4</td>\n",
       "      <td>organic</td>\n",
       "      <td>2022-05-31 19:37:13</td>\n",
       "      <td>217</td>\n",
       "      <td>289</td>\n",
       "      <td>63.58</td>\n",
       "    </tr>\n",
       "  </tbody>\n",
       "</table>\n",
       "<p>1000 rows × 9 columns</p>\n",
       "</div>"
      ],
      "text/plain": [
       "     order_id currency ordered_product_skus  partner_id   referrer  \\\n",
       "0           1      USD                  [5]           3        ppc   \n",
       "1           2      USD              [31, 9]           1   facebook   \n",
       "2           3      USD              [28, 7]           4        ppc   \n",
       "3           4      USD      [33, 15, 37, 3]           3  instagram   \n",
       "4           5      USD                 [17]           4        ppc   \n",
       "..        ...      ...                  ...         ...        ...   \n",
       "995       996      USD      [39, 25, 3, 33]           6   facebook   \n",
       "996       997      USD             [27, 19]           3  instagram   \n",
       "997       998      USD             [30, 26]           3   facebook   \n",
       "998       999      USD             [11, 33]           4   facebook   \n",
       "999      1000      USD       [3, 13, 6, 26]           4    organic   \n",
       "\n",
       "              timestamp  user_id  basket_total  profit  \n",
       "0   2022-01-03 08:23:34       10            50    3.00  \n",
       "1   2022-01-05 08:22:10       13            85   15.30  \n",
       "2   2022-01-09 22:17:32       24           170   37.40  \n",
       "3   2022-01-09 23:32:02       25           260   15.60  \n",
       "4   2022-01-10 10:52:09       18             3    0.66  \n",
       "..                  ...      ...           ...     ...  \n",
       "995 2022-05-30 09:52:13      100           244   34.16  \n",
       "996 2022-05-30 17:17:13      333            68    4.08  \n",
       "997 2022-05-31 08:00:34      979           156    9.36  \n",
       "998 2022-05-31 14:30:22      583            90   19.80  \n",
       "999 2022-05-31 19:37:13      217           289   63.58  \n",
       "\n",
       "[1000 rows x 9 columns]"
      ]
     },
     "execution_count": 15,
     "metadata": {},
     "output_type": "execute_result"
    }
   ],
   "source": [
    "df_orders"
   ]
  },
  {
   "cell_type": "code",
   "execution_count": 16,
   "id": "299398a2",
   "metadata": {
    "ExecuteTime": {
     "end_time": "2022-05-30T11:57:17.859123Z",
     "start_time": "2022-05-30T11:57:17.852370Z"
    }
   },
   "outputs": [],
   "source": [
    "df_orders.to_csv('transformed_data/orders.csv', index=False)"
   ]
  },
  {
   "cell_type": "code",
   "execution_count": 17,
   "id": "afbb80ba",
   "metadata": {
    "ExecuteTime": {
     "end_time": "2022-05-30T11:57:17.867330Z",
     "start_time": "2022-05-30T11:57:17.860314Z"
    }
   },
   "outputs": [
    {
     "data": {
      "text/html": [
       "<div>\n",
       "<style scoped>\n",
       "    .dataframe tbody tr th:only-of-type {\n",
       "        vertical-align: middle;\n",
       "    }\n",
       "\n",
       "    .dataframe tbody tr th {\n",
       "        vertical-align: top;\n",
       "    }\n",
       "\n",
       "    .dataframe thead th {\n",
       "        text-align: right;\n",
       "    }\n",
       "</style>\n",
       "<table border=\"1\" class=\"dataframe\">\n",
       "  <thead>\n",
       "    <tr style=\"text-align: right;\">\n",
       "      <th></th>\n",
       "      <th>basket_item_id</th>\n",
       "      <th>order_id</th>\n",
       "      <th>ordered_product_skus</th>\n",
       "      <th>price_amount</th>\n",
       "      <th>basket_total</th>\n",
       "    </tr>\n",
       "  </thead>\n",
       "  <tbody>\n",
       "    <tr>\n",
       "      <th>0</th>\n",
       "      <td>1</td>\n",
       "      <td>1</td>\n",
       "      <td>5</td>\n",
       "      <td>50</td>\n",
       "      <td>50</td>\n",
       "    </tr>\n",
       "    <tr>\n",
       "      <th>1</th>\n",
       "      <td>2</td>\n",
       "      <td>2</td>\n",
       "      <td>31</td>\n",
       "      <td>25</td>\n",
       "      <td>85</td>\n",
       "    </tr>\n",
       "    <tr>\n",
       "      <th>2</th>\n",
       "      <td>3</td>\n",
       "      <td>2</td>\n",
       "      <td>9</td>\n",
       "      <td>60</td>\n",
       "      <td>85</td>\n",
       "    </tr>\n",
       "    <tr>\n",
       "      <th>3</th>\n",
       "      <td>4</td>\n",
       "      <td>3</td>\n",
       "      <td>28</td>\n",
       "      <td>75</td>\n",
       "      <td>170</td>\n",
       "    </tr>\n",
       "    <tr>\n",
       "      <th>4</th>\n",
       "      <td>5</td>\n",
       "      <td>3</td>\n",
       "      <td>7</td>\n",
       "      <td>95</td>\n",
       "      <td>170</td>\n",
       "    </tr>\n",
       "    <tr>\n",
       "      <th>...</th>\n",
       "      <td>...</td>\n",
       "      <td>...</td>\n",
       "      <td>...</td>\n",
       "      <td>...</td>\n",
       "      <td>...</td>\n",
       "    </tr>\n",
       "    <tr>\n",
       "      <th>2162</th>\n",
       "      <td>2163</td>\n",
       "      <td>999</td>\n",
       "      <td>33</td>\n",
       "      <td>20</td>\n",
       "      <td>90</td>\n",
       "    </tr>\n",
       "    <tr>\n",
       "      <th>2163</th>\n",
       "      <td>2164</td>\n",
       "      <td>1000</td>\n",
       "      <td>3</td>\n",
       "      <td>130</td>\n",
       "      <td>289</td>\n",
       "    </tr>\n",
       "    <tr>\n",
       "      <th>2164</th>\n",
       "      <td>2165</td>\n",
       "      <td>1000</td>\n",
       "      <td>13</td>\n",
       "      <td>4</td>\n",
       "      <td>289</td>\n",
       "    </tr>\n",
       "    <tr>\n",
       "      <th>2165</th>\n",
       "      <td>2166</td>\n",
       "      <td>1000</td>\n",
       "      <td>6</td>\n",
       "      <td>5</td>\n",
       "      <td>289</td>\n",
       "    </tr>\n",
       "    <tr>\n",
       "      <th>2166</th>\n",
       "      <td>2167</td>\n",
       "      <td>1000</td>\n",
       "      <td>26</td>\n",
       "      <td>150</td>\n",
       "      <td>289</td>\n",
       "    </tr>\n",
       "  </tbody>\n",
       "</table>\n",
       "<p>2167 rows × 5 columns</p>\n",
       "</div>"
      ],
      "text/plain": [
       "      basket_item_id  order_id ordered_product_skus  price_amount  \\\n",
       "0                  1         1                    5            50   \n",
       "1                  2         2                   31            25   \n",
       "2                  3         2                    9            60   \n",
       "3                  4         3                   28            75   \n",
       "4                  5         3                    7            95   \n",
       "...              ...       ...                  ...           ...   \n",
       "2162            2163       999                   33            20   \n",
       "2163            2164      1000                    3           130   \n",
       "2164            2165      1000                   13             4   \n",
       "2165            2166      1000                    6             5   \n",
       "2166            2167      1000                   26           150   \n",
       "\n",
       "      basket_total  \n",
       "0               50  \n",
       "1               85  \n",
       "2               85  \n",
       "3              170  \n",
       "4              170  \n",
       "...            ...  \n",
       "2162            90  \n",
       "2163           289  \n",
       "2164           289  \n",
       "2165           289  \n",
       "2166           289  \n",
       "\n",
       "[2167 rows x 5 columns]"
      ]
     },
     "execution_count": 17,
     "metadata": {},
     "output_type": "execute_result"
    }
   ],
   "source": [
    "df_baskets"
   ]
  },
  {
   "cell_type": "code",
   "execution_count": 18,
   "id": "4db8fafb",
   "metadata": {
    "ExecuteTime": {
     "end_time": "2022-05-30T11:57:17.875464Z",
     "start_time": "2022-05-30T11:57:17.868908Z"
    },
    "scrolled": true
   },
   "outputs": [],
   "source": [
    "df_baskets.to_csv('transformed_data/baskets.csv', index=False)"
   ]
  },
  {
   "cell_type": "code",
   "execution_count": 19,
   "id": "1b93287b",
   "metadata": {
    "ExecuteTime": {
     "end_time": "2022-05-30T11:57:17.935041Z",
     "start_time": "2022-05-30T11:57:17.877262Z"
    }
   },
   "outputs": [
    {
     "data": {
      "text/plain": [
       "<AxesSubplot:>"
      ]
     },
     "execution_count": 19,
     "metadata": {},
     "output_type": "execute_result"
    },
    {
     "data": {
      "image/png": "[encoded data removed]",
      "text/plain": [
       "<Figure size 432x288 with 1 Axes>"
      ]
     },
     "metadata": {
      "needs_background": "light"
     },
     "output_type": "display_data"
    }
   ],
   "source": [
    "df_baskets['ordered_product_skus'].hist()"
   ]
  },
  {
   "cell_type": "code",
   "execution_count": 20,
   "id": "57681f48",
   "metadata": {
    "ExecuteTime": {
     "end_time": "2022-05-30T11:57:17.942302Z",
     "start_time": "2022-05-30T11:57:17.936912Z"
    }
   },
   "outputs": [
    {
     "data": {
      "text/html": [
       "<div>\n",
       "<style scoped>\n",
       "    .dataframe tbody tr th:only-of-type {\n",
       "        vertical-align: middle;\n",
       "    }\n",
       "\n",
       "    .dataframe tbody tr th {\n",
       "        vertical-align: top;\n",
       "    }\n",
       "\n",
       "    .dataframe thead th {\n",
       "        text-align: right;\n",
       "    }\n",
       "</style>\n",
       "<table border=\"1\" class=\"dataframe\">\n",
       "  <thead>\n",
       "    <tr style=\"text-align: right;\">\n",
       "      <th></th>\n",
       "      <th>basket_item_id</th>\n",
       "      <th>order_id</th>\n",
       "      <th>ordered_product_skus</th>\n",
       "      <th>price_amount</th>\n",
       "      <th>basket_total</th>\n",
       "    </tr>\n",
       "  </thead>\n",
       "  <tbody>\n",
       "    <tr>\n",
       "      <th>0</th>\n",
       "      <td>1</td>\n",
       "      <td>1</td>\n",
       "      <td>5</td>\n",
       "      <td>50</td>\n",
       "      <td>50</td>\n",
       "    </tr>\n",
       "    <tr>\n",
       "      <th>1</th>\n",
       "      <td>2</td>\n",
       "      <td>2</td>\n",
       "      <td>31</td>\n",
       "      <td>25</td>\n",
       "      <td>85</td>\n",
       "    </tr>\n",
       "    <tr>\n",
       "      <th>2</th>\n",
       "      <td>3</td>\n",
       "      <td>2</td>\n",
       "      <td>9</td>\n",
       "      <td>60</td>\n",
       "      <td>85</td>\n",
       "    </tr>\n",
       "    <tr>\n",
       "      <th>3</th>\n",
       "      <td>4</td>\n",
       "      <td>3</td>\n",
       "      <td>28</td>\n",
       "      <td>75</td>\n",
       "      <td>170</td>\n",
       "    </tr>\n",
       "    <tr>\n",
       "      <th>4</th>\n",
       "      <td>5</td>\n",
       "      <td>3</td>\n",
       "      <td>7</td>\n",
       "      <td>95</td>\n",
       "      <td>170</td>\n",
       "    </tr>\n",
       "    <tr>\n",
       "      <th>...</th>\n",
       "      <td>...</td>\n",
       "      <td>...</td>\n",
       "      <td>...</td>\n",
       "      <td>...</td>\n",
       "      <td>...</td>\n",
       "    </tr>\n",
       "    <tr>\n",
       "      <th>2162</th>\n",
       "      <td>2163</td>\n",
       "      <td>999</td>\n",
       "      <td>33</td>\n",
       "      <td>20</td>\n",
       "      <td>90</td>\n",
       "    </tr>\n",
       "    <tr>\n",
       "      <th>2163</th>\n",
       "      <td>2164</td>\n",
       "      <td>1000</td>\n",
       "      <td>3</td>\n",
       "      <td>130</td>\n",
       "      <td>289</td>\n",
       "    </tr>\n",
       "    <tr>\n",
       "      <th>2164</th>\n",
       "      <td>2165</td>\n",
       "      <td>1000</td>\n",
       "      <td>13</td>\n",
       "      <td>4</td>\n",
       "      <td>289</td>\n",
       "    </tr>\n",
       "    <tr>\n",
       "      <th>2165</th>\n",
       "      <td>2166</td>\n",
       "      <td>1000</td>\n",
       "      <td>6</td>\n",
       "      <td>5</td>\n",
       "      <td>289</td>\n",
       "    </tr>\n",
       "    <tr>\n",
       "      <th>2166</th>\n",
       "      <td>2167</td>\n",
       "      <td>1000</td>\n",
       "      <td>26</td>\n",
       "      <td>150</td>\n",
       "      <td>289</td>\n",
       "    </tr>\n",
       "  </tbody>\n",
       "</table>\n",
       "<p>2167 rows × 5 columns</p>\n",
       "</div>"
      ],
      "text/plain": [
       "      basket_item_id  order_id ordered_product_skus  price_amount  \\\n",
       "0                  1         1                    5            50   \n",
       "1                  2         2                   31            25   \n",
       "2                  3         2                    9            60   \n",
       "3                  4         3                   28            75   \n",
       "4                  5         3                    7            95   \n",
       "...              ...       ...                  ...           ...   \n",
       "2162            2163       999                   33            20   \n",
       "2163            2164      1000                    3           130   \n",
       "2164            2165      1000                   13             4   \n",
       "2165            2166      1000                    6             5   \n",
       "2166            2167      1000                   26           150   \n",
       "\n",
       "      basket_total  \n",
       "0               50  \n",
       "1               85  \n",
       "2               85  \n",
       "3              170  \n",
       "4              170  \n",
       "...            ...  \n",
       "2162            90  \n",
       "2163           289  \n",
       "2164           289  \n",
       "2165           289  \n",
       "2166           289  \n",
       "\n",
       "[2167 rows x 5 columns]"
      ]
     },
     "execution_count": 20,
     "metadata": {},
     "output_type": "execute_result"
    }
   ],
   "source": [
    "df_baskets"
   ]
  },
  {
   "cell_type": "code",
   "execution_count": 21,
   "id": "3fc1db7f",
   "metadata": {
    "ExecuteTime": {
     "end_time": "2022-05-30T11:57:17.951409Z",
     "start_time": "2022-05-30T11:57:17.943224Z"
    }
   },
   "outputs": [
    {
     "data": {
      "text/html": [
       "<div>\n",
       "<style scoped>\n",
       "    .dataframe tbody tr th:only-of-type {\n",
       "        vertical-align: middle;\n",
       "    }\n",
       "\n",
       "    .dataframe tbody tr th {\n",
       "        vertical-align: top;\n",
       "    }\n",
       "\n",
       "    .dataframe thead th {\n",
       "        text-align: right;\n",
       "    }\n",
       "</style>\n",
       "<table border=\"1\" class=\"dataframe\">\n",
       "  <thead>\n",
       "    <tr style=\"text-align: right;\">\n",
       "      <th></th>\n",
       "      <th>ordered_product_skus</th>\n",
       "    </tr>\n",
       "    <tr>\n",
       "      <th>order_id</th>\n",
       "      <th></th>\n",
       "    </tr>\n",
       "  </thead>\n",
       "  <tbody>\n",
       "    <tr>\n",
       "      <th>1</th>\n",
       "      <td>1</td>\n",
       "    </tr>\n",
       "    <tr>\n",
       "      <th>2</th>\n",
       "      <td>2</td>\n",
       "    </tr>\n",
       "    <tr>\n",
       "      <th>3</th>\n",
       "      <td>2</td>\n",
       "    </tr>\n",
       "    <tr>\n",
       "      <th>4</th>\n",
       "      <td>4</td>\n",
       "    </tr>\n",
       "    <tr>\n",
       "      <th>5</th>\n",
       "      <td>1</td>\n",
       "    </tr>\n",
       "    <tr>\n",
       "      <th>...</th>\n",
       "      <td>...</td>\n",
       "    </tr>\n",
       "    <tr>\n",
       "      <th>996</th>\n",
       "      <td>4</td>\n",
       "    </tr>\n",
       "    <tr>\n",
       "      <th>997</th>\n",
       "      <td>2</td>\n",
       "    </tr>\n",
       "    <tr>\n",
       "      <th>998</th>\n",
       "      <td>2</td>\n",
       "    </tr>\n",
       "    <tr>\n",
       "      <th>999</th>\n",
       "      <td>2</td>\n",
       "    </tr>\n",
       "    <tr>\n",
       "      <th>1000</th>\n",
       "      <td>4</td>\n",
       "    </tr>\n",
       "  </tbody>\n",
       "</table>\n",
       "<p>1000 rows × 1 columns</p>\n",
       "</div>"
      ],
      "text/plain": [
       "          ordered_product_skus\n",
       "order_id                      \n",
       "1                            1\n",
       "2                            2\n",
       "3                            2\n",
       "4                            4\n",
       "5                            1\n",
       "...                        ...\n",
       "996                          4\n",
       "997                          2\n",
       "998                          2\n",
       "999                          2\n",
       "1000                         4\n",
       "\n",
       "[1000 rows x 1 columns]"
      ]
     },
     "execution_count": 21,
     "metadata": {},
     "output_type": "execute_result"
    }
   ],
   "source": [
    "df_baskets[['order_id', 'ordered_product_skus']].groupby('order_id').agg('count')"
   ]
  },
  {
   "cell_type": "code",
   "execution_count": 22,
   "id": "c4bbaadb",
   "metadata": {
    "ExecuteTime": {
     "end_time": "2022-05-30T11:57:17.958357Z",
     "start_time": "2022-05-30T11:57:17.952999Z"
    }
   },
   "outputs": [
    {
     "data": {
      "text/html": [
       "<div>\n",
       "<style scoped>\n",
       "    .dataframe tbody tr th:only-of-type {\n",
       "        vertical-align: middle;\n",
       "    }\n",
       "\n",
       "    .dataframe tbody tr th {\n",
       "        vertical-align: top;\n",
       "    }\n",
       "\n",
       "    .dataframe thead th {\n",
       "        text-align: right;\n",
       "    }\n",
       "</style>\n",
       "<table border=\"1\" class=\"dataframe\">\n",
       "  <thead>\n",
       "    <tr style=\"text-align: right;\">\n",
       "      <th></th>\n",
       "      <th>price_amount</th>\n",
       "      <th>price_currency</th>\n",
       "      <th>product_name</th>\n",
       "      <th>sku</th>\n",
       "    </tr>\n",
       "  </thead>\n",
       "  <tbody>\n",
       "    <tr>\n",
       "      <th>9</th>\n",
       "      <td>40</td>\n",
       "      <td>USD</td>\n",
       "      <td>Pink heritage pot medium</td>\n",
       "      <td>10</td>\n",
       "    </tr>\n",
       "    <tr>\n",
       "      <th>34</th>\n",
       "      <td>20</td>\n",
       "      <td>USD</td>\n",
       "      <td>Gerbera</td>\n",
       "      <td>35</td>\n",
       "    </tr>\n",
       "    <tr>\n",
       "      <th>37</th>\n",
       "      <td>25</td>\n",
       "      <td>USD</td>\n",
       "      <td>Money plant</td>\n",
       "      <td>38</td>\n",
       "    </tr>\n",
       "    <tr>\n",
       "      <th>23</th>\n",
       "      <td>99</td>\n",
       "      <td>USD</td>\n",
       "      <td>Magnolia</td>\n",
       "      <td>24</td>\n",
       "    </tr>\n",
       "    <tr>\n",
       "      <th>25</th>\n",
       "      <td>150</td>\n",
       "      <td>USD</td>\n",
       "      <td>Mixed Rhododendron</td>\n",
       "      <td>26</td>\n",
       "    </tr>\n",
       "    <tr>\n",
       "      <th>16</th>\n",
       "      <td>3</td>\n",
       "      <td>USD</td>\n",
       "      <td>Basil seeds</td>\n",
       "      <td>17</td>\n",
       "    </tr>\n",
       "    <tr>\n",
       "      <th>1</th>\n",
       "      <td>250</td>\n",
       "      <td>USD</td>\n",
       "      <td>Wood-fired pizza oven</td>\n",
       "      <td>2</td>\n",
       "    </tr>\n",
       "    <tr>\n",
       "      <th>33</th>\n",
       "      <td>20</td>\n",
       "      <td>USD</td>\n",
       "      <td>Peony</td>\n",
       "      <td>34</td>\n",
       "    </tr>\n",
       "    <tr>\n",
       "      <th>35</th>\n",
       "      <td>30</td>\n",
       "      <td>USD</td>\n",
       "      <td>Peace lily</td>\n",
       "      <td>36</td>\n",
       "    </tr>\n",
       "    <tr>\n",
       "      <th>39</th>\n",
       "      <td>24</td>\n",
       "      <td>USD</td>\n",
       "      <td>Aloe vera</td>\n",
       "      <td>40</td>\n",
       "    </tr>\n",
       "  </tbody>\n",
       "</table>\n",
       "</div>"
      ],
      "text/plain": [
       "    price_amount price_currency              product_name  sku\n",
       "9             40            USD  Pink heritage pot medium   10\n",
       "34            20            USD                   Gerbera   35\n",
       "37            25            USD               Money plant   38\n",
       "23            99            USD                  Magnolia   24\n",
       "25           150            USD        Mixed Rhododendron   26\n",
       "16             3            USD               Basil seeds   17\n",
       "1            250            USD     Wood-fired pizza oven    2\n",
       "33            20            USD                     Peony   34\n",
       "35            30            USD                Peace lily   36\n",
       "39            24            USD                 Aloe vera   40"
      ]
     },
     "execution_count": 22,
     "metadata": {},
     "output_type": "execute_result"
    }
   ],
   "source": [
    "df_products.sample(10)"
   ]
  },
  {
   "cell_type": "code",
   "execution_count": 23,
   "id": "fa7508d9",
   "metadata": {
    "ExecuteTime": {
     "end_time": "2022-05-30T11:57:17.966111Z",
     "start_time": "2022-05-30T11:57:17.959751Z"
    }
   },
   "outputs": [],
   "source": [
    "df_products.to_csv('transformed_data/products.csv', index=False)"
   ]
  },
  {
   "cell_type": "code",
   "execution_count": 24,
   "id": "0998d261",
   "metadata": {
    "ExecuteTime": {
     "end_time": "2022-05-30T11:57:17.973099Z",
     "start_time": "2022-05-30T11:57:17.967525Z"
    }
   },
   "outputs": [
    {
     "data": {
      "text/html": [
       "<div>\n",
       "<style scoped>\n",
       "    .dataframe tbody tr th:only-of-type {\n",
       "        vertical-align: middle;\n",
       "    }\n",
       "\n",
       "    .dataframe tbody tr th {\n",
       "        vertical-align: top;\n",
       "    }\n",
       "\n",
       "    .dataframe thead th {\n",
       "        text-align: right;\n",
       "    }\n",
       "</style>\n",
       "<table border=\"1\" class=\"dataframe\">\n",
       "  <thead>\n",
       "    <tr style=\"text-align: right;\">\n",
       "      <th></th>\n",
       "      <th>partner_commission</th>\n",
       "      <th>partner_id</th>\n",
       "      <th>partner_name</th>\n",
       "    </tr>\n",
       "  </thead>\n",
       "  <tbody>\n",
       "    <tr>\n",
       "      <th>0</th>\n",
       "      <td>0.18</td>\n",
       "      <td>1</td>\n",
       "      <td>Plant Paradise</td>\n",
       "    </tr>\n",
       "    <tr>\n",
       "      <th>1</th>\n",
       "      <td>0.14</td>\n",
       "      <td>2</td>\n",
       "      <td>Garden of Sweden</td>\n",
       "    </tr>\n",
       "    <tr>\n",
       "      <th>2</th>\n",
       "      <td>0.06</td>\n",
       "      <td>3</td>\n",
       "      <td>Peat, Fruits and Leaves</td>\n",
       "    </tr>\n",
       "    <tr>\n",
       "      <th>3</th>\n",
       "      <td>0.22</td>\n",
       "      <td>4</td>\n",
       "      <td>Redwood Ranch</td>\n",
       "    </tr>\n",
       "    <tr>\n",
       "      <th>4</th>\n",
       "      <td>0.08</td>\n",
       "      <td>5</td>\n",
       "      <td>Trowels R Us</td>\n",
       "    </tr>\n",
       "    <tr>\n",
       "      <th>5</th>\n",
       "      <td>0.14</td>\n",
       "      <td>6</td>\n",
       "      <td>Glorious Gardens</td>\n",
       "    </tr>\n",
       "  </tbody>\n",
       "</table>\n",
       "</div>"
      ],
      "text/plain": [
       "   partner_commission  partner_id             partner_name\n",
       "0                0.18           1           Plant Paradise\n",
       "1                0.14           2         Garden of Sweden\n",
       "2                0.06           3  Peat, Fruits and Leaves\n",
       "3                0.22           4            Redwood Ranch\n",
       "4                0.08           5             Trowels R Us\n",
       "5                0.14           6         Glorious Gardens"
      ]
     },
     "execution_count": 24,
     "metadata": {},
     "output_type": "execute_result"
    }
   ],
   "source": [
    "df_partners"
   ]
  },
  {
   "cell_type": "code",
   "execution_count": 25,
   "id": "b453409c",
   "metadata": {
    "ExecuteTime": {
     "end_time": "2022-05-30T11:57:17.977921Z",
     "start_time": "2022-05-30T11:57:17.974090Z"
    }
   },
   "outputs": [],
   "source": [
    "df_partners.to_csv('transformed_data/partners.csv', index=False)"
   ]
  },
  {
   "cell_type": "code",
   "execution_count": 26,
   "id": "81befd9c",
   "metadata": {
    "ExecuteTime": {
     "end_time": "2022-05-30T11:57:17.993509Z",
     "start_time": "2022-05-30T11:57:17.986893Z"
    }
   },
   "outputs": [
    {
     "data": {
      "text/html": [
       "<div>\n",
       "<style scoped>\n",
       "    .dataframe tbody tr th:only-of-type {\n",
       "        vertical-align: middle;\n",
       "    }\n",
       "\n",
       "    .dataframe tbody tr th {\n",
       "        vertical-align: top;\n",
       "    }\n",
       "\n",
       "    .dataframe thead th {\n",
       "        text-align: right;\n",
       "    }\n",
       "</style>\n",
       "<table border=\"1\" class=\"dataframe\">\n",
       "  <thead>\n",
       "    <tr style=\"text-align: right;\">\n",
       "      <th></th>\n",
       "      <th>browser</th>\n",
       "      <th>created_date</th>\n",
       "      <th>email</th>\n",
       "      <th>shipping_address</th>\n",
       "      <th>user_id</th>\n",
       "    </tr>\n",
       "  </thead>\n",
       "  <tbody>\n",
       "    <tr>\n",
       "      <th>421</th>\n",
       "      <td>safari</td>\n",
       "      <td>2022-03-07 05:38:10</td>\n",
       "      <td>rex_dolorum@gmail.com</td>\n",
       "      <td>{'city': 'North Laron McGlynn ton', 'country':...</td>\n",
       "      <td>422</td>\n",
       "    </tr>\n",
       "    <tr>\n",
       "      <th>728</th>\n",
       "      <td>edge</td>\n",
       "      <td>2022-04-19 02:55:19</td>\n",
       "      <td>cecile_optio@yahoo.com</td>\n",
       "      <td>{'city': 'Marcella chester', 'country': 'MC', ...</td>\n",
       "      <td>729</td>\n",
       "    </tr>\n",
       "    <tr>\n",
       "      <th>386</th>\n",
       "      <td>chrome</td>\n",
       "      <td>2022-02-28 10:13:14</td>\n",
       "      <td>parker_asperiores@hotmail.com</td>\n",
       "      <td>{'city': 'South Kristian Tromp view', 'country...</td>\n",
       "      <td>387</td>\n",
       "    </tr>\n",
       "    <tr>\n",
       "      <th>630</th>\n",
       "      <td>safari</td>\n",
       "      <td>2022-04-05 02:21:59</td>\n",
       "      <td>bobby_magnam@gmail.com</td>\n",
       "      <td>{'city': 'Schowalter land', 'country': 'LV', '...</td>\n",
       "      <td>631</td>\n",
       "    </tr>\n",
       "    <tr>\n",
       "      <th>959</th>\n",
       "      <td>chrome</td>\n",
       "      <td>2022-05-25 06:32:45</td>\n",
       "      <td>kim_est@yahoo.com</td>\n",
       "      <td>{'city': 'Heidenreich ton', 'country': 'ML', '...</td>\n",
       "      <td>960</td>\n",
       "    </tr>\n",
       "    <tr>\n",
       "      <th>111</th>\n",
       "      <td>chrome</td>\n",
       "      <td>2022-01-17 16:14:59</td>\n",
       "      <td>nikita_unde@hotmail.com</td>\n",
       "      <td>{'city': 'East Mia Herman fort', 'country': 'C...</td>\n",
       "      <td>112</td>\n",
       "    </tr>\n",
       "    <tr>\n",
       "      <th>171</th>\n",
       "      <td>chrome</td>\n",
       "      <td>2022-01-27 17:20:21</td>\n",
       "      <td>alexane_magnam@yahoo.com</td>\n",
       "      <td>{'city': 'Nitzsche town', 'country': 'GN', 'st...</td>\n",
       "      <td>172</td>\n",
       "    </tr>\n",
       "    <tr>\n",
       "      <th>116</th>\n",
       "      <td>chrome</td>\n",
       "      <td>2022-01-18 14:16:15</td>\n",
       "      <td>treva_consequuntur@yahoo.com</td>\n",
       "      <td>{'city': 'Keebler mouth', 'country': 'HK', 'st...</td>\n",
       "      <td>117</td>\n",
       "    </tr>\n",
       "    <tr>\n",
       "      <th>204</th>\n",
       "      <td>netscape</td>\n",
       "      <td>2022-02-02 19:51:27</td>\n",
       "      <td>syble_voluptate@gmail.com</td>\n",
       "      <td>{'city': 'Alec ton', 'country': 'PW', 'street_...</td>\n",
       "      <td>205</td>\n",
       "    </tr>\n",
       "    <tr>\n",
       "      <th>744</th>\n",
       "      <td>safari</td>\n",
       "      <td>2022-04-21 11:59:59</td>\n",
       "      <td>davion_consectetur@yahoo.com</td>\n",
       "      <td>{'city': 'Marcelle fort', 'country': 'VN', 'st...</td>\n",
       "      <td>745</td>\n",
       "    </tr>\n",
       "  </tbody>\n",
       "</table>\n",
       "</div>"
      ],
      "text/plain": [
       "      browser         created_date                          email  \\\n",
       "421    safari  2022-03-07 05:38:10          rex_dolorum@gmail.com   \n",
       "728      edge  2022-04-19 02:55:19         cecile_optio@yahoo.com   \n",
       "386    chrome  2022-02-28 10:13:14  parker_asperiores@hotmail.com   \n",
       "630    safari  2022-04-05 02:21:59         bobby_magnam@gmail.com   \n",
       "959    chrome  2022-05-25 06:32:45              kim_est@yahoo.com   \n",
       "111    chrome  2022-01-17 16:14:59        nikita_unde@hotmail.com   \n",
       "171    chrome  2022-01-27 17:20:21       alexane_magnam@yahoo.com   \n",
       "116    chrome  2022-01-18 14:16:15   treva_consequuntur@yahoo.com   \n",
       "204  netscape  2022-02-02 19:51:27      syble_voluptate@gmail.com   \n",
       "744    safari  2022-04-21 11:59:59   davion_consectetur@yahoo.com   \n",
       "\n",
       "                                      shipping_address  user_id  \n",
       "421  {'city': 'North Laron McGlynn ton', 'country':...      422  \n",
       "728  {'city': 'Marcella chester', 'country': 'MC', ...      729  \n",
       "386  {'city': 'South Kristian Tromp view', 'country...      387  \n",
       "630  {'city': 'Schowalter land', 'country': 'LV', '...      631  \n",
       "959  {'city': 'Heidenreich ton', 'country': 'ML', '...      960  \n",
       "111  {'city': 'East Mia Herman fort', 'country': 'C...      112  \n",
       "171  {'city': 'Nitzsche town', 'country': 'GN', 'st...      172  \n",
       "116  {'city': 'Keebler mouth', 'country': 'HK', 'st...      117  \n",
       "204  {'city': 'Alec ton', 'country': 'PW', 'street_...      205  \n",
       "744  {'city': 'Marcelle fort', 'country': 'VN', 'st...      745  "
      ]
     },
     "execution_count": 26,
     "metadata": {},
     "output_type": "execute_result"
    }
   ],
   "source": [
    "df_users.sample(10)"
   ]
  },
  {
   "cell_type": "code",
   "execution_count": 27,
   "id": "a629786a",
   "metadata": {
    "ExecuteTime": {
     "end_time": "2022-05-30T11:57:18.003692Z",
     "start_time": "2022-05-30T11:57:17.998148Z"
    }
   },
   "outputs": [
    {
     "data": {
      "text/plain": [
       "chrome               501\n",
       "safari               243\n",
       "edge                 179\n",
       "firefox               41\n",
       "internet_explorer     20\n",
       "netscape              14\n",
       "lynx                   2\n",
       "Name: browser, dtype: int64"
      ]
     },
     "execution_count": 27,
     "metadata": {},
     "output_type": "execute_result"
    }
   ],
   "source": [
    "df_users['browser'].value_counts()"
   ]
  },
  {
   "cell_type": "code",
   "execution_count": 28,
   "id": "49fc5cca",
   "metadata": {
    "ExecuteTime": {
     "end_time": "2022-05-30T11:57:18.014933Z",
     "start_time": "2022-05-30T11:57:18.005046Z"
    }
   },
   "outputs": [],
   "source": [
    "df_users.to_csv('transformed_data/users.csv', index=False)"
   ]
  },
  {
   "cell_type": "code",
   "execution_count": 29,
   "id": "124b1522",
   "metadata": {
    "ExecuteTime": {
     "end_time": "2022-05-30T11:57:18.027297Z",
     "start_time": "2022-05-30T11:57:18.017310Z"
    }
   },
   "outputs": [],
   "source": [
    "df_orders_support_requests = pd.merge(df_support_requests, df_orders_concat_cut, how='left', on='order_id')\n",
    "df_orders_support_requests = df_orders_support_requests.loc[df_orders_support_requests['timestamp_x']>df_orders_support_requests['timestamp_y']]\n",
    "df_orders_support_requests.rename({'timestamp_x': 'timestamp'}, axis=1, inplace=True)\n",
    "\n",
    "to_drop = [\n",
    "    'currency',\n",
    "    'ordered_product_skus',\n",
    "    'partner_id',\n",
    "    'referrer',\n",
    "    'timestamp_y',\n",
    "    'user_id'\n",
    "]\n",
    "\n",
    "df_orders_support_requests.drop(to_drop, inplace=True, axis=1)\n",
    "df_orders_support_requests_concat = pd.concat([df_orders_support_requests, df_support_requests_random])\n",
    "\n",
    "df_orders_support_requests_concat_merge = pd.merge(df_orders_support_requests_concat, df_orders_concat_cut, how='left', on='order_id')\n",
    "df_orders_support_requests_concat_merge_cut = df_orders_support_requests_concat_merge.loc[df_orders_support_requests_concat_merge['timestamp_x']>df_orders_support_requests_concat_merge['timestamp_y']]\n",
    "df_orders_support_requests_concat_merge_cut = df_orders_support_requests_concat_merge_cut.rename({'timestamp_x': 'timestamp'}, axis=1)\n",
    "\n",
    "to_drop = [\n",
    "    'currency',\n",
    "    'ordered_product_skus',\n",
    "    'partner_id',\n",
    "    'referrer',\n",
    "    'timestamp_y',\n",
    "    'user_id'\n",
    "]\n",
    "\n",
    "df_orders_support_requests_concat_merge_cut.drop(to_drop, inplace=True, axis=1)"
   ]
  },
  {
   "cell_type": "code",
   "execution_count": 30,
   "id": "4f828ec4",
   "metadata": {
    "ExecuteTime": {
     "end_time": "2022-05-30T11:57:18.083912Z",
     "start_time": "2022-05-30T11:57:18.030782Z"
    }
   },
   "outputs": [
    {
     "data": {
      "text/plain": [
       "<AxesSubplot:>"
      ]
     },
     "execution_count": 30,
     "metadata": {},
     "output_type": "execute_result"
    },
    {
     "data": {
      "image/png": "[encoded data removed]",
      "text/plain": [
       "<Figure size 432x288 with 1 Axes>"
      ]
     },
     "metadata": {
      "needs_background": "light"
     },
     "output_type": "display_data"
    }
   ],
   "source": [
    "df_orders_support_requests_concat_merge_cut['feedback_rating'].hist()"
   ]
  },
  {
   "cell_type": "code",
   "execution_count": 31,
   "id": "2f3c050c",
   "metadata": {
    "ExecuteTime": {
     "end_time": "2022-05-30T11:57:18.089645Z",
     "start_time": "2022-05-30T11:57:18.085900Z"
    }
   },
   "outputs": [
    {
     "data": {
      "text/plain": [
       "Delivery issue           37\n",
       "Product related query    25\n",
       "Wrong item received      11\n",
       "Payment issue             9\n",
       "Name: reason, dtype: int64"
      ]
     },
     "execution_count": 31,
     "metadata": {},
     "output_type": "execute_result"
    }
   ],
   "source": [
    "df_orders_support_requests_concat_merge_cut['reason'].value_counts()"
   ]
  },
  {
   "cell_type": "code",
   "execution_count": 32,
   "id": "b0c545d2",
   "metadata": {
    "ExecuteTime": {
     "end_time": "2022-05-30T11:57:18.095812Z",
     "start_time": "2022-05-30T11:57:18.091099Z"
    }
   },
   "outputs": [
    {
     "data": {
      "text/plain": [
       "31     2\n",
       "7      2\n",
       "95     2\n",
       "79     2\n",
       "50     1\n",
       "      ..\n",
       "702    1\n",
       "552    1\n",
       "110    1\n",
       "342    1\n",
       "178    1\n",
       "Name: order_id, Length: 78, dtype: int64"
      ]
     },
     "execution_count": 32,
     "metadata": {},
     "output_type": "execute_result"
    }
   ],
   "source": [
    "df_orders_support_requests_concat_merge_cut['order_id'].value_counts()"
   ]
  },
  {
   "cell_type": "code",
   "execution_count": 33,
   "id": "d1afe810",
   "metadata": {
    "ExecuteTime": {
     "end_time": "2022-05-30T11:57:18.103608Z",
     "start_time": "2022-05-30T11:57:18.097836Z"
    }
   },
   "outputs": [],
   "source": [
    "df_orders_support_requests_concat_merge_cut.to_csv('transformed_data/support_requests.csv', index=False)"
   ]
  }
 ],
 "metadata": {
  "kernelspec": {
   "display_name": "Python 3 (ipykernel)",
   "language": "python",
   "name": "python3"
  },
  "language_info": {
   "codemirror_mode": {
    "name": "ipython",
    "version": 3
   },
   "file_extension": ".py",
   "mimetype": "text/x-python",
   "name": "python",
   "nbconvert_exporter": "python",
   "pygments_lexer": "ipython3",
   "version": "3.9.13"
  }
 },
 "nbformat": 4,
 "nbformat_minor": 5
}
