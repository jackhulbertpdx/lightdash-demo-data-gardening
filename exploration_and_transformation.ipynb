{
 "cells": [
  {
   "cell_type": "code",
   "execution_count": 1,
   "id": "505192a4",
   "metadata": {
    "ExecuteTime": {
     "end_time": "2022-05-30T14:23:19.614288Z",
     "start_time": "2022-05-30T14:23:19.376468Z"
    }
   },
   "outputs": [],
   "source": [
    "import pandas as pd\n",
    "from ast import literal_eval\n",
    "import random\n",
    "import numpy as np\n",
    "\n",
    "# read data from synth\n",
    "df_orders = pd.read_json('synth_output_data/orders.json')\n",
    "df_products = pd.read_json('synth_output_data/products.json')\n",
    "df_partners = pd.read_json('synth_output_data/partners.json')\n",
    "df_users = pd.read_json('synth_output_data/users.json')\n",
    "df_support_requests= pd.read_json('synth_output_data/support_requests.json')\n",
    "df_orders_random = pd.read_json('synth_output_data/orders_random.json')\n",
    "df_support_requests_random = pd.read_json('synth_output_data/support_requests_random.json')\n",
    "\n",
    "# merge orders with users\n",
    "df_orders_users = pd.merge(df_orders, df_users, on=\"user_id\", how=\"left\")\n",
    "\n",
    "# remove orders created by users before they existed\n",
    "df_orders_users_cut = df_orders_users.loc[df_orders_users['created_date']<df_orders_users['timestamp']]\n",
    "\n",
    "# bulk up orders with more random orders to make up for lost orders in previous step\n",
    "df_orders_random_users = pd.merge(df_orders_random, df_users, on=\"user_id\", how=\"left\")\n",
    "df_orders_concat = pd.concat([df_orders_users_cut, df_orders_random_users], axis=0)\n",
    "df_orders_concat = df_orders_concat.drop(['order_id'], axis=1)\n",
    "df_orders_concat = df_orders_concat.reset_index(drop=True)\n",
    "df_orders_concat = df_orders_concat.reset_index()\n",
    "df_orders_concat = df_orders_concat.rename({'index': 'order_id'}, axis=1)\n",
    "df_orders_concat['order_id'] = df_orders_concat['order_id']+1\n",
    "\n",
    "# again, remove orders created by users before they existed and also before 2022-06-01\n",
    "df_orders_concat_cut = df_orders_concat.loc[df_orders_concat['created_date']<df_orders_concat['timestamp']]\n",
    "df_orders_concat_cut = df_orders_concat_cut.loc[df_orders_concat_cut['timestamp']<'2022-06-01']\n",
    "df_orders_concat_cut = df_orders_concat_cut.sort_values('timestamp')\n",
    "df_orders_concat_cut = df_orders_concat_cut.drop('order_id', axis=1)\n",
    "df_orders_concat_cut = df_orders_concat_cut.reset_index(drop=True)\n",
    "df_orders_concat_cut = df_orders_concat_cut.reset_index()\n",
    "df_orders_concat_cut = df_orders_concat_cut.rename({'index': 'order_id'}, axis=1)\n",
    "df_orders_concat_cut['order_id'] = df_orders_concat_cut['order_id']+1\n",
    "\n",
    "df_orders = df_orders_concat_cut.copy()"
   ]
  },
  {
   "cell_type": "code",
   "execution_count": 2,
   "id": "7d1a2e26",
   "metadata": {
    "ExecuteTime": {
     "end_time": "2022-05-30T14:23:19.640194Z",
     "start_time": "2022-05-30T14:23:19.616582Z"
    }
   },
   "outputs": [
    {
     "data": {
      "text/html": [
       "<div>\n",
       "<style scoped>\n",
       "    .dataframe tbody tr th:only-of-type {\n",
       "        vertical-align: middle;\n",
       "    }\n",
       "\n",
       "    .dataframe tbody tr th {\n",
       "        vertical-align: top;\n",
       "    }\n",
       "\n",
       "    .dataframe thead th {\n",
       "        text-align: right;\n",
       "    }\n",
       "</style>\n",
       "<table border=\"1\" class=\"dataframe\">\n",
       "  <thead>\n",
       "    <tr style=\"text-align: right;\">\n",
       "      <th></th>\n",
       "      <th>order_id</th>\n",
       "      <th>currency</th>\n",
       "      <th>ordered_product_skus</th>\n",
       "      <th>partner_id</th>\n",
       "      <th>referrer</th>\n",
       "      <th>timestamp</th>\n",
       "      <th>user_id</th>\n",
       "      <th>browser</th>\n",
       "      <th>created_date</th>\n",
       "      <th>email</th>\n",
       "      <th>shipping_address</th>\n",
       "    </tr>\n",
       "  </thead>\n",
       "  <tbody>\n",
       "    <tr>\n",
       "      <th>311</th>\n",
       "      <td>312</td>\n",
       "      <td>USD</td>\n",
       "      <td>[5, 34, 25, 28, 2, 40]</td>\n",
       "      <td>4</td>\n",
       "      <td>instagram</td>\n",
       "      <td>2022-04-24 10:56:11</td>\n",
       "      <td>64</td>\n",
       "      <td>edge</td>\n",
       "      <td>2022-01-10 13:13:46</td>\n",
       "      <td>watson_non@hotmail.com</td>\n",
       "      <td>{'city': 'East Oleta Kulas side', 'country': '...</td>\n",
       "    </tr>\n",
       "    <tr>\n",
       "      <th>257</th>\n",
       "      <td>258</td>\n",
       "      <td>USD</td>\n",
       "      <td>[11, 3, 7, 7, 25]</td>\n",
       "      <td>1</td>\n",
       "      <td>ppc</td>\n",
       "      <td>2022-04-17 10:23:44</td>\n",
       "      <td>93</td>\n",
       "      <td>chrome</td>\n",
       "      <td>2022-01-14 14:50:26</td>\n",
       "      <td>daphney_rerum@gmail.com</td>\n",
       "      <td>{'city': 'Ratke view', 'country': 'VU', 'stree...</td>\n",
       "    </tr>\n",
       "    <tr>\n",
       "      <th>466</th>\n",
       "      <td>467</td>\n",
       "      <td>USD</td>\n",
       "      <td>[40, 5, 39, 37, 1]</td>\n",
       "      <td>2</td>\n",
       "      <td>ppc</td>\n",
       "      <td>2022-05-02 11:25:22</td>\n",
       "      <td>471</td>\n",
       "      <td>chrome</td>\n",
       "      <td>2022-03-13 04:40:48</td>\n",
       "      <td>fannie_dolorum@yahoo.com</td>\n",
       "      <td>{'city': 'Waelchi mouth', 'country': 'AZ', 'st...</td>\n",
       "    </tr>\n",
       "    <tr>\n",
       "      <th>336</th>\n",
       "      <td>337</td>\n",
       "      <td>USD</td>\n",
       "      <td>[5, 36, 36, 21, 3]</td>\n",
       "      <td>4</td>\n",
       "      <td>ppc</td>\n",
       "      <td>2022-04-26 15:23:22</td>\n",
       "      <td>100</td>\n",
       "      <td>edge</td>\n",
       "      <td>2022-01-15 13:28:58</td>\n",
       "      <td>hector_magni@yahoo.com</td>\n",
       "      <td>{'city': 'Cassin haven', 'country': 'MY', 'str...</td>\n",
       "    </tr>\n",
       "    <tr>\n",
       "      <th>99</th>\n",
       "      <td>100</td>\n",
       "      <td>USD</td>\n",
       "      <td>[12, 38, 3]</td>\n",
       "      <td>4</td>\n",
       "      <td>ppc</td>\n",
       "      <td>2022-02-01 18:39:49</td>\n",
       "      <td>79</td>\n",
       "      <td>chrome</td>\n",
       "      <td>2022-01-13 00:33:34</td>\n",
       "      <td>vivian_numquam@hotmail.com</td>\n",
       "      <td>{'city': 'Schmitt ville', 'country': 'AO', 'st...</td>\n",
       "    </tr>\n",
       "  </tbody>\n",
       "</table>\n",
       "</div>"
      ],
      "text/plain": [
       "     order_id currency    ordered_product_skus  partner_id   referrer  \\\n",
       "311       312      USD  [5, 34, 25, 28, 2, 40]           4  instagram   \n",
       "257       258      USD       [11, 3, 7, 7, 25]           1        ppc   \n",
       "466       467      USD      [40, 5, 39, 37, 1]           2        ppc   \n",
       "336       337      USD      [5, 36, 36, 21, 3]           4        ppc   \n",
       "99        100      USD             [12, 38, 3]           4        ppc   \n",
       "\n",
       "              timestamp  user_id browser         created_date  \\\n",
       "311 2022-04-24 10:56:11       64    edge  2022-01-10 13:13:46   \n",
       "257 2022-04-17 10:23:44       93  chrome  2022-01-14 14:50:26   \n",
       "466 2022-05-02 11:25:22      471  chrome  2022-03-13 04:40:48   \n",
       "336 2022-04-26 15:23:22      100    edge  2022-01-15 13:28:58   \n",
       "99  2022-02-01 18:39:49       79  chrome  2022-01-13 00:33:34   \n",
       "\n",
       "                          email  \\\n",
       "311      watson_non@hotmail.com   \n",
       "257     daphney_rerum@gmail.com   \n",
       "466    fannie_dolorum@yahoo.com   \n",
       "336      hector_magni@yahoo.com   \n",
       "99   vivian_numquam@hotmail.com   \n",
       "\n",
       "                                      shipping_address  \n",
       "311  {'city': 'East Oleta Kulas side', 'country': '...  \n",
       "257  {'city': 'Ratke view', 'country': 'VU', 'stree...  \n",
       "466  {'city': 'Waelchi mouth', 'country': 'AZ', 'st...  \n",
       "336  {'city': 'Cassin haven', 'country': 'MY', 'str...  \n",
       "99   {'city': 'Schmitt ville', 'country': 'AO', 'st...  "
      ]
     },
     "execution_count": 2,
     "metadata": {},
     "output_type": "execute_result"
    }
   ],
   "source": [
    "df_orders.sample(5)"
   ]
  },
  {
   "cell_type": "code",
   "execution_count": 3,
   "id": "72875cab",
   "metadata": {
    "ExecuteTime": {
     "end_time": "2022-05-30T14:23:19.989111Z",
     "start_time": "2022-05-30T14:23:19.650619Z"
    },
    "scrolled": true
   },
   "outputs": [
    {
     "data": {
      "text/plain": [
       "<AxesSubplot:>"
      ]
     },
     "execution_count": 3,
     "metadata": {},
     "output_type": "execute_result"
    },
    {
     "data": {
      "image/png": "[encoded data removed]",
      "text/plain": [
       "<Figure size 432x288 with 1 Axes>"
      ]
     },
     "metadata": {
      "needs_background": "light"
     },
     "output_type": "display_data"
    }
   ],
   "source": [
    "df_orders['user_id'].value_counts().hist(bins=6)"
   ]
  },
  {
   "cell_type": "code",
   "execution_count": 4,
   "id": "757704df",
   "metadata": {
    "ExecuteTime": {
     "end_time": "2022-05-30T14:23:20.040168Z",
     "start_time": "2022-05-30T14:23:19.990406Z"
    }
   },
   "outputs": [
    {
     "data": {
      "text/plain": [
       "<AxesSubplot:>"
      ]
     },
     "execution_count": 4,
     "metadata": {},
     "output_type": "execute_result"
    },
    {
     "data": {
      "image/png": "[encoded data removed]",
      "text/plain": [
       "<Figure size 432x288 with 1 Axes>"
      ]
     },
     "metadata": {
      "needs_background": "light"
     },
     "output_type": "display_data"
    }
   ],
   "source": [
    "df_orders['partner_id'].hist(bins=6)"
   ]
  },
  {
   "cell_type": "code",
   "execution_count": 5,
   "id": "617069e2",
   "metadata": {
    "ExecuteTime": {
     "end_time": "2022-05-30T14:23:20.048260Z",
     "start_time": "2022-05-30T14:23:20.043231Z"
    }
   },
   "outputs": [
    {
     "data": {
      "text/plain": [
       "instagram    308\n",
       "ppc          248\n",
       "facebook     214\n",
       "organic      123\n",
       "direct        76\n",
       "twitter       31\n",
       "Name: referrer, dtype: int64"
      ]
     },
     "execution_count": 5,
     "metadata": {},
     "output_type": "execute_result"
    }
   ],
   "source": [
    "df_orders['referrer'].value_counts()"
   ]
  },
  {
   "cell_type": "code",
   "execution_count": 6,
   "id": "c5d54f22",
   "metadata": {
    "ExecuteTime": {
     "end_time": "2022-05-30T14:23:20.054106Z",
     "start_time": "2022-05-30T14:23:20.050121Z"
    }
   },
   "outputs": [
    {
     "data": {
      "text/plain": [
       "0                      [5, 27]\n",
       "1                      [31, 9]\n",
       "2              [28, 32, 7, 40]\n",
       "3              [33, 15, 37, 3]\n",
       "4                         [17]\n",
       "                ...           \n",
       "995     [39, 25, 3, 33, 5, 20]\n",
       "996               [27, 20, 19]\n",
       "997    [30, 1, 14, 20, 24, 26]\n",
       "998        [2, 11, 40, 33, 17]\n",
       "999             [3, 13, 6, 26]\n",
       "Name: ordered_product_skus, Length: 1000, dtype: object"
      ]
     },
     "execution_count": 6,
     "metadata": {},
     "output_type": "execute_result"
    }
   ],
   "source": [
    "df_orders['ordered_product_skus']"
   ]
  },
  {
   "cell_type": "code",
   "execution_count": 7,
   "id": "942c0889",
   "metadata": {
    "ExecuteTime": {
     "end_time": "2022-05-30T14:23:20.067682Z",
     "start_time": "2022-05-30T14:23:20.055368Z"
    }
   },
   "outputs": [
    {
     "name": "stdout",
     "output_type": "stream",
     "text": [
      "unpopular product: 3\n",
      "unpopular product: 4\n",
      "unpopular product: 5\n",
      "unpopular product: 8\n",
      "unpopular product: 9\n",
      "unpopular product: 10\n",
      "unpopular product: 11\n",
      "unpopular product: 12\n",
      "unpopular product: 13\n",
      "unpopular product: 14\n",
      "unpopular product: 15\n",
      "unpopular product: 16\n",
      "unpopular product: 17\n",
      "unpopular product: 18\n",
      "unpopular product: 19\n",
      "unpopular product: 20\n",
      "unpopular product: 22\n",
      "unpopular product: 23\n",
      "unpopular product: 24\n",
      "unpopular product: 25\n",
      "unpopular product: 27\n",
      "unpopular product: 28\n",
      "unpopular product: 30\n",
      "unpopular product: 34\n",
      "unpopular product: 35\n",
      "unpopular product: 37\n",
      "unpopular product: 38\n",
      "unpopular product: 42\n"
     ]
    }
   ],
   "source": [
    "# make some products more popular than others\n",
    "\n",
    "def product_manipulation(x):\n",
    "    if i in x:\n",
    "        if random.randint(0, 10) > 2:\n",
    "            if len(x) > 1:\n",
    "                x.remove(i)\n",
    "    return x\n",
    "\n",
    "for i in range(1, 43):\n",
    "    if random.randint(0, 10) > 3:\n",
    "        print(f'unpopular product: {i}')\n",
    "        df_orders['ordered_product_skus'] = df_orders['ordered_product_skus'].apply(lambda x: product_manipulation(x))"
   ]
  },
  {
   "cell_type": "code",
   "execution_count": 8,
   "id": "c51406f1",
   "metadata": {
    "ExecuteTime": {
     "end_time": "2022-05-30T14:23:20.080622Z",
     "start_time": "2022-05-30T14:23:20.069069Z"
    }
   },
   "outputs": [
    {
     "data": {
      "text/html": [
       "<div>\n",
       "<style scoped>\n",
       "    .dataframe tbody tr th:only-of-type {\n",
       "        vertical-align: middle;\n",
       "    }\n",
       "\n",
       "    .dataframe tbody tr th {\n",
       "        vertical-align: top;\n",
       "    }\n",
       "\n",
       "    .dataframe thead th {\n",
       "        text-align: right;\n",
       "    }\n",
       "</style>\n",
       "<table border=\"1\" class=\"dataframe\">\n",
       "  <thead>\n",
       "    <tr style=\"text-align: right;\">\n",
       "      <th></th>\n",
       "      <th>order_id</th>\n",
       "      <th>currency</th>\n",
       "      <th>ordered_product_skus</th>\n",
       "      <th>partner_id</th>\n",
       "      <th>referrer</th>\n",
       "      <th>timestamp</th>\n",
       "      <th>user_id</th>\n",
       "      <th>browser</th>\n",
       "      <th>created_date</th>\n",
       "      <th>email</th>\n",
       "      <th>shipping_address</th>\n",
       "    </tr>\n",
       "  </thead>\n",
       "  <tbody>\n",
       "    <tr>\n",
       "      <th>0</th>\n",
       "      <td>1</td>\n",
       "      <td>USD</td>\n",
       "      <td>[27]</td>\n",
       "      <td>3</td>\n",
       "      <td>ppc</td>\n",
       "      <td>2022-01-03 08:23:34</td>\n",
       "      <td>10</td>\n",
       "      <td>safari</td>\n",
       "      <td>2022-01-02 23:18:24</td>\n",
       "      <td>shannon_consequuntur@yahoo.com</td>\n",
       "      <td>{'city': 'Klein port', 'country': 'NO', 'stree...</td>\n",
       "    </tr>\n",
       "    <tr>\n",
       "      <th>1</th>\n",
       "      <td>2</td>\n",
       "      <td>USD</td>\n",
       "      <td>[31]</td>\n",
       "      <td>1</td>\n",
       "      <td>facebook</td>\n",
       "      <td>2022-01-05 08:22:10</td>\n",
       "      <td>13</td>\n",
       "      <td>safari</td>\n",
       "      <td>2022-01-03 08:13:21</td>\n",
       "      <td>casper_corporis@hotmail.com</td>\n",
       "      <td>{'city': 'Rhea haven', 'country': 'PT', 'stree...</td>\n",
       "    </tr>\n",
       "    <tr>\n",
       "      <th>2</th>\n",
       "      <td>3</td>\n",
       "      <td>USD</td>\n",
       "      <td>[28, 32, 7, 40]</td>\n",
       "      <td>4</td>\n",
       "      <td>ppc</td>\n",
       "      <td>2022-01-09 22:17:32</td>\n",
       "      <td>24</td>\n",
       "      <td>chrome</td>\n",
       "      <td>2022-01-04 21:10:59</td>\n",
       "      <td>thaddeus_eius@hotmail.com</td>\n",
       "      <td>{'city': 'Vandervort bury', 'country': 'JO', '...</td>\n",
       "    </tr>\n",
       "    <tr>\n",
       "      <th>3</th>\n",
       "      <td>4</td>\n",
       "      <td>USD</td>\n",
       "      <td>[33, 15, 3]</td>\n",
       "      <td>3</td>\n",
       "      <td>instagram</td>\n",
       "      <td>2022-01-09 23:32:02</td>\n",
       "      <td>25</td>\n",
       "      <td>edge</td>\n",
       "      <td>2022-01-05 02:27:25</td>\n",
       "      <td>valentina_sit@yahoo.com</td>\n",
       "      <td>{'city': 'McLaughlin mouth', 'country': 'FM', ...</td>\n",
       "    </tr>\n",
       "    <tr>\n",
       "      <th>4</th>\n",
       "      <td>5</td>\n",
       "      <td>USD</td>\n",
       "      <td>[17]</td>\n",
       "      <td>4</td>\n",
       "      <td>ppc</td>\n",
       "      <td>2022-01-10 10:52:09</td>\n",
       "      <td>18</td>\n",
       "      <td>edge</td>\n",
       "      <td>2022-01-03 18:59:06</td>\n",
       "      <td>ed_quas@gmail.com</td>\n",
       "      <td>{'city': 'Gia land', 'country': 'MR', 'street_...</td>\n",
       "    </tr>\n",
       "    <tr>\n",
       "      <th>...</th>\n",
       "      <td>...</td>\n",
       "      <td>...</td>\n",
       "      <td>...</td>\n",
       "      <td>...</td>\n",
       "      <td>...</td>\n",
       "      <td>...</td>\n",
       "      <td>...</td>\n",
       "      <td>...</td>\n",
       "      <td>...</td>\n",
       "      <td>...</td>\n",
       "      <td>...</td>\n",
       "    </tr>\n",
       "    <tr>\n",
       "      <th>995</th>\n",
       "      <td>996</td>\n",
       "      <td>USD</td>\n",
       "      <td>[39, 33, 5, 20]</td>\n",
       "      <td>6</td>\n",
       "      <td>facebook</td>\n",
       "      <td>2022-05-30 09:52:13</td>\n",
       "      <td>100</td>\n",
       "      <td>edge</td>\n",
       "      <td>2022-01-15 13:28:58</td>\n",
       "      <td>hector_magni@yahoo.com</td>\n",
       "      <td>{'city': 'Cassin haven', 'country': 'MY', 'str...</td>\n",
       "    </tr>\n",
       "    <tr>\n",
       "      <th>996</th>\n",
       "      <td>997</td>\n",
       "      <td>USD</td>\n",
       "      <td>[20]</td>\n",
       "      <td>3</td>\n",
       "      <td>instagram</td>\n",
       "      <td>2022-05-30 17:17:13</td>\n",
       "      <td>333</td>\n",
       "      <td>internet_explorer</td>\n",
       "      <td>2022-02-21 14:42:22</td>\n",
       "      <td>deondre_libero@hotmail.com</td>\n",
       "      <td>{'city': 'Regan chester', 'country': 'MQ', 'st...</td>\n",
       "    </tr>\n",
       "    <tr>\n",
       "      <th>997</th>\n",
       "      <td>998</td>\n",
       "      <td>USD</td>\n",
       "      <td>[30, 1, 24, 26]</td>\n",
       "      <td>3</td>\n",
       "      <td>facebook</td>\n",
       "      <td>2022-05-31 08:00:34</td>\n",
       "      <td>979</td>\n",
       "      <td>safari</td>\n",
       "      <td>2022-05-27 19:48:10</td>\n",
       "      <td>javon_quia@yahoo.com</td>\n",
       "      <td>{'city': 'Bayer haven', 'country': 'BI', 'stre...</td>\n",
       "    </tr>\n",
       "    <tr>\n",
       "      <th>998</th>\n",
       "      <td>999</td>\n",
       "      <td>USD</td>\n",
       "      <td>[2, 40, 33]</td>\n",
       "      <td>4</td>\n",
       "      <td>facebook</td>\n",
       "      <td>2022-05-31 14:30:22</td>\n",
       "      <td>583</td>\n",
       "      <td>netscape</td>\n",
       "      <td>2022-03-29 07:18:34</td>\n",
       "      <td>reagan_corporis@gmail.com</td>\n",
       "      <td>{'city': 'Bednar mouth', 'country': 'SG', 'str...</td>\n",
       "    </tr>\n",
       "    <tr>\n",
       "      <th>999</th>\n",
       "      <td>1000</td>\n",
       "      <td>USD</td>\n",
       "      <td>[6, 26]</td>\n",
       "      <td>4</td>\n",
       "      <td>organic</td>\n",
       "      <td>2022-05-31 19:37:13</td>\n",
       "      <td>217</td>\n",
       "      <td>safari</td>\n",
       "      <td>2022-02-04 15:27:04</td>\n",
       "      <td>constantin_ratione@gmail.com</td>\n",
       "      <td>{'city': 'Abelardo haven', 'country': 'TK', 's...</td>\n",
       "    </tr>\n",
       "  </tbody>\n",
       "</table>\n",
       "<p>1000 rows × 11 columns</p>\n",
       "</div>"
      ],
      "text/plain": [
       "     order_id currency ordered_product_skus  partner_id   referrer  \\\n",
       "0           1      USD                 [27]           3        ppc   \n",
       "1           2      USD                 [31]           1   facebook   \n",
       "2           3      USD      [28, 32, 7, 40]           4        ppc   \n",
       "3           4      USD          [33, 15, 3]           3  instagram   \n",
       "4           5      USD                 [17]           4        ppc   \n",
       "..        ...      ...                  ...         ...        ...   \n",
       "995       996      USD      [39, 33, 5, 20]           6   facebook   \n",
       "996       997      USD                 [20]           3  instagram   \n",
       "997       998      USD      [30, 1, 24, 26]           3   facebook   \n",
       "998       999      USD          [2, 40, 33]           4   facebook   \n",
       "999      1000      USD              [6, 26]           4    organic   \n",
       "\n",
       "              timestamp  user_id            browser         created_date  \\\n",
       "0   2022-01-03 08:23:34       10             safari  2022-01-02 23:18:24   \n",
       "1   2022-01-05 08:22:10       13             safari  2022-01-03 08:13:21   \n",
       "2   2022-01-09 22:17:32       24             chrome  2022-01-04 21:10:59   \n",
       "3   2022-01-09 23:32:02       25               edge  2022-01-05 02:27:25   \n",
       "4   2022-01-10 10:52:09       18               edge  2022-01-03 18:59:06   \n",
       "..                  ...      ...                ...                  ...   \n",
       "995 2022-05-30 09:52:13      100               edge  2022-01-15 13:28:58   \n",
       "996 2022-05-30 17:17:13      333  internet_explorer  2022-02-21 14:42:22   \n",
       "997 2022-05-31 08:00:34      979             safari  2022-05-27 19:48:10   \n",
       "998 2022-05-31 14:30:22      583           netscape  2022-03-29 07:18:34   \n",
       "999 2022-05-31 19:37:13      217             safari  2022-02-04 15:27:04   \n",
       "\n",
       "                              email  \\\n",
       "0    shannon_consequuntur@yahoo.com   \n",
       "1       casper_corporis@hotmail.com   \n",
       "2         thaddeus_eius@hotmail.com   \n",
       "3           valentina_sit@yahoo.com   \n",
       "4                 ed_quas@gmail.com   \n",
       "..                              ...   \n",
       "995          hector_magni@yahoo.com   \n",
       "996      deondre_libero@hotmail.com   \n",
       "997            javon_quia@yahoo.com   \n",
       "998       reagan_corporis@gmail.com   \n",
       "999    constantin_ratione@gmail.com   \n",
       "\n",
       "                                      shipping_address  \n",
       "0    {'city': 'Klein port', 'country': 'NO', 'stree...  \n",
       "1    {'city': 'Rhea haven', 'country': 'PT', 'stree...  \n",
       "2    {'city': 'Vandervort bury', 'country': 'JO', '...  \n",
       "3    {'city': 'McLaughlin mouth', 'country': 'FM', ...  \n",
       "4    {'city': 'Gia land', 'country': 'MR', 'street_...  \n",
       "..                                                 ...  \n",
       "995  {'city': 'Cassin haven', 'country': 'MY', 'str...  \n",
       "996  {'city': 'Regan chester', 'country': 'MQ', 'st...  \n",
       "997  {'city': 'Bayer haven', 'country': 'BI', 'stre...  \n",
       "998  {'city': 'Bednar mouth', 'country': 'SG', 'str...  \n",
       "999  {'city': 'Abelardo haven', 'country': 'TK', 's...  \n",
       "\n",
       "[1000 rows x 11 columns]"
      ]
     },
     "execution_count": 8,
     "metadata": {},
     "output_type": "execute_result"
    }
   ],
   "source": [
    "df_orders"
   ]
  },
  {
   "cell_type": "code",
   "execution_count": 9,
   "id": "578b373e",
   "metadata": {
    "ExecuteTime": {
     "end_time": "2022-05-30T14:23:20.096216Z",
     "start_time": "2022-05-30T14:23:20.082253Z"
    }
   },
   "outputs": [
    {
     "data": {
      "text/plain": [
       "[6]             21\n",
       "[7]             21\n",
       "[40]            17\n",
       "[39]            17\n",
       "[31]            16\n",
       "                ..\n",
       "[33, 23, 9]      1\n",
       "[37, 6, 29]      1\n",
       "[21, 34, 13]     1\n",
       "[21, 29, 40]     1\n",
       "[2, 40, 33]      1\n",
       "Name: ordered_product_skus, Length: 551, dtype: int64"
      ]
     },
     "execution_count": 9,
     "metadata": {},
     "output_type": "execute_result"
    }
   ],
   "source": [
    "df_orders['ordered_product_skus'].value_counts()"
   ]
  },
  {
   "cell_type": "code",
   "execution_count": 10,
   "id": "51ed8bc5",
   "metadata": {
    "ExecuteTime": {
     "end_time": "2022-05-30T14:23:20.109821Z",
     "start_time": "2022-05-30T14:23:20.097615Z"
    }
   },
   "outputs": [],
   "source": [
    "# drop unnecesary cols\n",
    "to_drop = [\n",
    "    'browser',\n",
    "    'created_date',\n",
    "    'email',\n",
    "    'shipping_address',\n",
    "]\n",
    "df_orders.drop(to_drop, inplace=True, axis=1)\n",
    "\n",
    "# generate basket df by exploding orders on skus\n",
    "df_baskets = df_orders.explode('ordered_product_skus')[['order_id', 'ordered_product_skus']]\n",
    "df_baskets.reset_index(inplace=True, drop=True)\n",
    "df_baskets.reset_index(inplace=True)\n",
    "df_baskets = df_baskets.rename({'index': 'basket_item_id'}, axis=1)\n",
    "df_baskets['basket_item_id']+=1\n",
    "\n",
    "# merge baskets with product data\n",
    "df_baskets = df_baskets.merge(\n",
    "    df_products,\n",
    "    left_on='ordered_product_skus',\n",
    "    right_on='sku',\n",
    "    how='left'\n",
    ")\n",
    "df_baskets = df_baskets.drop(columns=['price_currency', 'product_name', 'sku'], axis=1)\n",
    "\n",
    "# calculate basket totals and merge back into baskets\n",
    "df_baskets_totals = df_baskets.groupby('order_id').sum('price_amount')\n",
    "df_baskets_totals.reset_index(inplace=True)\n",
    "df_baskets_totals.drop(columns=['basket_item_id'], axis=1, inplace=True)\n",
    "df_baskets_totals.rename({'price_amount': 'basket_total'}, inplace=True, axis=1)\n",
    "df_baskets = df_baskets.merge(df_baskets_totals, on='order_id', how='left')\n",
    "\n",
    "# create basket totals lookup and drop unncessary cols\n",
    "df_order_basket_totals = df_baskets.drop_duplicates('order_id', keep='first')\n",
    "to_drop = [\n",
    "    'basket_item_id',\n",
    "    'ordered_product_skus',\n",
    "    'price_amount',\n",
    "]\n",
    "df_order_basket_totals = df_order_basket_totals.drop(columns=to_drop, axis=1)\n",
    "df_order_basket_totals.reset_index(drop=True, inplace=True)\n",
    "\n",
    "# merge basket totals back to orders\n",
    "df_orders = df_orders.merge(df_order_basket_totals, how='left', on='order_id')"
   ]
  },
  {
   "cell_type": "code",
   "execution_count": 11,
   "id": "c955a244",
   "metadata": {
    "ExecuteTime": {
     "end_time": "2022-05-30T14:23:20.117186Z",
     "start_time": "2022-05-30T14:23:20.112514Z"
    }
   },
   "outputs": [
    {
     "data": {
      "text/html": [
       "<div>\n",
       "<style scoped>\n",
       "    .dataframe tbody tr th:only-of-type {\n",
       "        vertical-align: middle;\n",
       "    }\n",
       "\n",
       "    .dataframe tbody tr th {\n",
       "        vertical-align: top;\n",
       "    }\n",
       "\n",
       "    .dataframe thead th {\n",
       "        text-align: right;\n",
       "    }\n",
       "</style>\n",
       "<table border=\"1\" class=\"dataframe\">\n",
       "  <thead>\n",
       "    <tr style=\"text-align: right;\">\n",
       "      <th></th>\n",
       "      <th>partner_commission</th>\n",
       "      <th>partner_id</th>\n",
       "      <th>partner_name</th>\n",
       "    </tr>\n",
       "  </thead>\n",
       "  <tbody>\n",
       "    <tr>\n",
       "      <th>0</th>\n",
       "      <td>0.18</td>\n",
       "      <td>1</td>\n",
       "      <td>Plant Paradise</td>\n",
       "    </tr>\n",
       "    <tr>\n",
       "      <th>1</th>\n",
       "      <td>0.14</td>\n",
       "      <td>2</td>\n",
       "      <td>Garden of Sweden</td>\n",
       "    </tr>\n",
       "    <tr>\n",
       "      <th>2</th>\n",
       "      <td>0.06</td>\n",
       "      <td>3</td>\n",
       "      <td>Peat, Fruits and Leaves</td>\n",
       "    </tr>\n",
       "    <tr>\n",
       "      <th>3</th>\n",
       "      <td>0.22</td>\n",
       "      <td>4</td>\n",
       "      <td>Redwood Ranch</td>\n",
       "    </tr>\n",
       "    <tr>\n",
       "      <th>4</th>\n",
       "      <td>0.08</td>\n",
       "      <td>5</td>\n",
       "      <td>Trowels R Us</td>\n",
       "    </tr>\n",
       "    <tr>\n",
       "      <th>5</th>\n",
       "      <td>0.14</td>\n",
       "      <td>6</td>\n",
       "      <td>Glorious Gardens</td>\n",
       "    </tr>\n",
       "  </tbody>\n",
       "</table>\n",
       "</div>"
      ],
      "text/plain": [
       "   partner_commission  partner_id             partner_name\n",
       "0                0.18           1           Plant Paradise\n",
       "1                0.14           2         Garden of Sweden\n",
       "2                0.06           3  Peat, Fruits and Leaves\n",
       "3                0.22           4            Redwood Ranch\n",
       "4                0.08           5             Trowels R Us\n",
       "5                0.14           6         Glorious Gardens"
      ]
     },
     "execution_count": 11,
     "metadata": {},
     "output_type": "execute_result"
    }
   ],
   "source": [
    "df_partners"
   ]
  },
  {
   "cell_type": "code",
   "execution_count": 12,
   "id": "dcde92c6",
   "metadata": {
    "ExecuteTime": {
     "end_time": "2022-05-30T14:23:20.128714Z",
     "start_time": "2022-05-30T14:23:20.122114Z"
    }
   },
   "outputs": [],
   "source": [
    "df_orders = df_orders.merge(df_partners, on='partner_id', how='left')"
   ]
  },
  {
   "cell_type": "code",
   "execution_count": 13,
   "id": "b3d1f2ad",
   "metadata": {
    "ExecuteTime": {
     "end_time": "2022-05-30T14:23:20.133072Z",
     "start_time": "2022-05-30T14:23:20.130111Z"
    }
   },
   "outputs": [],
   "source": [
    "df_orders['profit'] = df_orders['basket_total'] * df_orders['partner_commission']"
   ]
  },
  {
   "cell_type": "code",
   "execution_count": 14,
   "id": "ccbb8792",
   "metadata": {
    "ExecuteTime": {
     "end_time": "2022-05-30T14:23:20.136746Z",
     "start_time": "2022-05-30T14:23:20.133770Z"
    }
   },
   "outputs": [],
   "source": [
    "df_orders.drop(columns=['partner_name', 'partner_commission'], axis=1, inplace=True)"
   ]
  },
  {
   "cell_type": "code",
   "execution_count": 15,
   "id": "bcf7df2b",
   "metadata": {
    "ExecuteTime": {
     "end_time": "2022-05-30T14:23:20.147021Z",
     "start_time": "2022-05-30T14:23:20.137526Z"
    }
   },
   "outputs": [
    {
     "data": {
      "text/html": [
       "<div>\n",
       "<style scoped>\n",
       "    .dataframe tbody tr th:only-of-type {\n",
       "        vertical-align: middle;\n",
       "    }\n",
       "\n",
       "    .dataframe tbody tr th {\n",
       "        vertical-align: top;\n",
       "    }\n",
       "\n",
       "    .dataframe thead th {\n",
       "        text-align: right;\n",
       "    }\n",
       "</style>\n",
       "<table border=\"1\" class=\"dataframe\">\n",
       "  <thead>\n",
       "    <tr style=\"text-align: right;\">\n",
       "      <th></th>\n",
       "      <th>order_id</th>\n",
       "      <th>currency</th>\n",
       "      <th>ordered_product_skus</th>\n",
       "      <th>partner_id</th>\n",
       "      <th>referrer</th>\n",
       "      <th>timestamp</th>\n",
       "      <th>user_id</th>\n",
       "      <th>basket_total</th>\n",
       "      <th>profit</th>\n",
       "    </tr>\n",
       "  </thead>\n",
       "  <tbody>\n",
       "    <tr>\n",
       "      <th>0</th>\n",
       "      <td>1</td>\n",
       "      <td>USD</td>\n",
       "      <td>[27]</td>\n",
       "      <td>3</td>\n",
       "      <td>ppc</td>\n",
       "      <td>2022-01-03 08:23:34</td>\n",
       "      <td>10</td>\n",
       "      <td>65</td>\n",
       "      <td>3.90</td>\n",
       "    </tr>\n",
       "    <tr>\n",
       "      <th>1</th>\n",
       "      <td>2</td>\n",
       "      <td>USD</td>\n",
       "      <td>[31]</td>\n",
       "      <td>1</td>\n",
       "      <td>facebook</td>\n",
       "      <td>2022-01-05 08:22:10</td>\n",
       "      <td>13</td>\n",
       "      <td>25</td>\n",
       "      <td>4.50</td>\n",
       "    </tr>\n",
       "    <tr>\n",
       "      <th>2</th>\n",
       "      <td>3</td>\n",
       "      <td>USD</td>\n",
       "      <td>[28, 32, 7, 40]</td>\n",
       "      <td>4</td>\n",
       "      <td>ppc</td>\n",
       "      <td>2022-01-09 22:17:32</td>\n",
       "      <td>24</td>\n",
       "      <td>309</td>\n",
       "      <td>67.98</td>\n",
       "    </tr>\n",
       "    <tr>\n",
       "      <th>3</th>\n",
       "      <td>4</td>\n",
       "      <td>USD</td>\n",
       "      <td>[33, 15, 3]</td>\n",
       "      <td>3</td>\n",
       "      <td>instagram</td>\n",
       "      <td>2022-01-09 23:32:02</td>\n",
       "      <td>25</td>\n",
       "      <td>230</td>\n",
       "      <td>13.80</td>\n",
       "    </tr>\n",
       "    <tr>\n",
       "      <th>4</th>\n",
       "      <td>5</td>\n",
       "      <td>USD</td>\n",
       "      <td>[17]</td>\n",
       "      <td>4</td>\n",
       "      <td>ppc</td>\n",
       "      <td>2022-01-10 10:52:09</td>\n",
       "      <td>18</td>\n",
       "      <td>3</td>\n",
       "      <td>0.66</td>\n",
       "    </tr>\n",
       "    <tr>\n",
       "      <th>...</th>\n",
       "      <td>...</td>\n",
       "      <td>...</td>\n",
       "      <td>...</td>\n",
       "      <td>...</td>\n",
       "      <td>...</td>\n",
       "      <td>...</td>\n",
       "      <td>...</td>\n",
       "      <td>...</td>\n",
       "      <td>...</td>\n",
       "    </tr>\n",
       "    <tr>\n",
       "      <th>995</th>\n",
       "      <td>996</td>\n",
       "      <td>USD</td>\n",
       "      <td>[39, 33, 5, 20]</td>\n",
       "      <td>6</td>\n",
       "      <td>facebook</td>\n",
       "      <td>2022-05-30 09:52:13</td>\n",
       "      <td>100</td>\n",
       "      <td>102</td>\n",
       "      <td>14.28</td>\n",
       "    </tr>\n",
       "    <tr>\n",
       "      <th>996</th>\n",
       "      <td>997</td>\n",
       "      <td>USD</td>\n",
       "      <td>[20]</td>\n",
       "      <td>3</td>\n",
       "      <td>instagram</td>\n",
       "      <td>2022-05-30 17:17:13</td>\n",
       "      <td>333</td>\n",
       "      <td>17</td>\n",
       "      <td>1.02</td>\n",
       "    </tr>\n",
       "    <tr>\n",
       "      <th>997</th>\n",
       "      <td>998</td>\n",
       "      <td>USD</td>\n",
       "      <td>[30, 1, 24, 26]</td>\n",
       "      <td>3</td>\n",
       "      <td>facebook</td>\n",
       "      <td>2022-05-31 08:00:34</td>\n",
       "      <td>979</td>\n",
       "      <td>480</td>\n",
       "      <td>28.80</td>\n",
       "    </tr>\n",
       "    <tr>\n",
       "      <th>998</th>\n",
       "      <td>999</td>\n",
       "      <td>USD</td>\n",
       "      <td>[2, 40, 33]</td>\n",
       "      <td>4</td>\n",
       "      <td>facebook</td>\n",
       "      <td>2022-05-31 14:30:22</td>\n",
       "      <td>583</td>\n",
       "      <td>294</td>\n",
       "      <td>64.68</td>\n",
       "    </tr>\n",
       "    <tr>\n",
       "      <th>999</th>\n",
       "      <td>1000</td>\n",
       "      <td>USD</td>\n",
       "      <td>[6, 26]</td>\n",
       "      <td>4</td>\n",
       "      <td>organic</td>\n",
       "      <td>2022-05-31 19:37:13</td>\n",
       "      <td>217</td>\n",
       "      <td>155</td>\n",
       "      <td>34.10</td>\n",
       "    </tr>\n",
       "  </tbody>\n",
       "</table>\n",
       "<p>1000 rows × 9 columns</p>\n",
       "</div>"
      ],
      "text/plain": [
       "     order_id currency ordered_product_skus  partner_id   referrer  \\\n",
       "0           1      USD                 [27]           3        ppc   \n",
       "1           2      USD                 [31]           1   facebook   \n",
       "2           3      USD      [28, 32, 7, 40]           4        ppc   \n",
       "3           4      USD          [33, 15, 3]           3  instagram   \n",
       "4           5      USD                 [17]           4        ppc   \n",
       "..        ...      ...                  ...         ...        ...   \n",
       "995       996      USD      [39, 33, 5, 20]           6   facebook   \n",
       "996       997      USD                 [20]           3  instagram   \n",
       "997       998      USD      [30, 1, 24, 26]           3   facebook   \n",
       "998       999      USD          [2, 40, 33]           4   facebook   \n",
       "999      1000      USD              [6, 26]           4    organic   \n",
       "\n",
       "              timestamp  user_id  basket_total  profit  \n",
       "0   2022-01-03 08:23:34       10            65    3.90  \n",
       "1   2022-01-05 08:22:10       13            25    4.50  \n",
       "2   2022-01-09 22:17:32       24           309   67.98  \n",
       "3   2022-01-09 23:32:02       25           230   13.80  \n",
       "4   2022-01-10 10:52:09       18             3    0.66  \n",
       "..                  ...      ...           ...     ...  \n",
       "995 2022-05-30 09:52:13      100           102   14.28  \n",
       "996 2022-05-30 17:17:13      333            17    1.02  \n",
       "997 2022-05-31 08:00:34      979           480   28.80  \n",
       "998 2022-05-31 14:30:22      583           294   64.68  \n",
       "999 2022-05-31 19:37:13      217           155   34.10  \n",
       "\n",
       "[1000 rows x 9 columns]"
      ]
     },
     "execution_count": 15,
     "metadata": {},
     "output_type": "execute_result"
    }
   ],
   "source": [
    "df_orders"
   ]
  },
  {
   "cell_type": "code",
   "execution_count": 16,
   "id": "299398a2",
   "metadata": {
    "ExecuteTime": {
     "end_time": "2022-05-30T14:23:20.155396Z",
     "start_time": "2022-05-30T14:23:20.148492Z"
    }
   },
   "outputs": [],
   "source": [
    "df_orders.to_csv('transformed_data/orders.csv', index=False)"
   ]
  },
  {
   "cell_type": "code",
   "execution_count": 17,
   "id": "14526edf",
   "metadata": {
    "ExecuteTime": {
     "end_time": "2022-05-30T14:23:20.162586Z",
     "start_time": "2022-05-30T14:23:20.156291Z"
    }
   },
   "outputs": [
    {
     "data": {
      "text/html": [
       "<div>\n",
       "<style scoped>\n",
       "    .dataframe tbody tr th:only-of-type {\n",
       "        vertical-align: middle;\n",
       "    }\n",
       "\n",
       "    .dataframe tbody tr th {\n",
       "        vertical-align: top;\n",
       "    }\n",
       "\n",
       "    .dataframe thead th {\n",
       "        text-align: right;\n",
       "    }\n",
       "</style>\n",
       "<table border=\"1\" class=\"dataframe\">\n",
       "  <thead>\n",
       "    <tr style=\"text-align: right;\">\n",
       "      <th></th>\n",
       "      <th>basket_item_id</th>\n",
       "      <th>order_id</th>\n",
       "      <th>ordered_product_skus</th>\n",
       "      <th>price_amount</th>\n",
       "      <th>basket_total</th>\n",
       "    </tr>\n",
       "  </thead>\n",
       "  <tbody>\n",
       "    <tr>\n",
       "      <th>0</th>\n",
       "      <td>1</td>\n",
       "      <td>1</td>\n",
       "      <td>27</td>\n",
       "      <td>65</td>\n",
       "      <td>65</td>\n",
       "    </tr>\n",
       "    <tr>\n",
       "      <th>1</th>\n",
       "      <td>2</td>\n",
       "      <td>2</td>\n",
       "      <td>31</td>\n",
       "      <td>25</td>\n",
       "      <td>25</td>\n",
       "    </tr>\n",
       "    <tr>\n",
       "      <th>2</th>\n",
       "      <td>3</td>\n",
       "      <td>3</td>\n",
       "      <td>28</td>\n",
       "      <td>75</td>\n",
       "      <td>309</td>\n",
       "    </tr>\n",
       "    <tr>\n",
       "      <th>3</th>\n",
       "      <td>4</td>\n",
       "      <td>3</td>\n",
       "      <td>32</td>\n",
       "      <td>115</td>\n",
       "      <td>309</td>\n",
       "    </tr>\n",
       "    <tr>\n",
       "      <th>4</th>\n",
       "      <td>5</td>\n",
       "      <td>3</td>\n",
       "      <td>7</td>\n",
       "      <td>95</td>\n",
       "      <td>309</td>\n",
       "    </tr>\n",
       "    <tr>\n",
       "      <th>...</th>\n",
       "      <td>...</td>\n",
       "      <td>...</td>\n",
       "      <td>...</td>\n",
       "      <td>...</td>\n",
       "      <td>...</td>\n",
       "    </tr>\n",
       "    <tr>\n",
       "      <th>1985</th>\n",
       "      <td>1986</td>\n",
       "      <td>999</td>\n",
       "      <td>2</td>\n",
       "      <td>250</td>\n",
       "      <td>294</td>\n",
       "    </tr>\n",
       "    <tr>\n",
       "      <th>1986</th>\n",
       "      <td>1987</td>\n",
       "      <td>999</td>\n",
       "      <td>40</td>\n",
       "      <td>24</td>\n",
       "      <td>294</td>\n",
       "    </tr>\n",
       "    <tr>\n",
       "      <th>1987</th>\n",
       "      <td>1988</td>\n",
       "      <td>999</td>\n",
       "      <td>33</td>\n",
       "      <td>20</td>\n",
       "      <td>294</td>\n",
       "    </tr>\n",
       "    <tr>\n",
       "      <th>1988</th>\n",
       "      <td>1989</td>\n",
       "      <td>1000</td>\n",
       "      <td>6</td>\n",
       "      <td>5</td>\n",
       "      <td>155</td>\n",
       "    </tr>\n",
       "    <tr>\n",
       "      <th>1989</th>\n",
       "      <td>1990</td>\n",
       "      <td>1000</td>\n",
       "      <td>26</td>\n",
       "      <td>150</td>\n",
       "      <td>155</td>\n",
       "    </tr>\n",
       "  </tbody>\n",
       "</table>\n",
       "<p>1990 rows × 5 columns</p>\n",
       "</div>"
      ],
      "text/plain": [
       "      basket_item_id  order_id ordered_product_skus  price_amount  \\\n",
       "0                  1         1                   27            65   \n",
       "1                  2         2                   31            25   \n",
       "2                  3         3                   28            75   \n",
       "3                  4         3                   32           115   \n",
       "4                  5         3                    7            95   \n",
       "...              ...       ...                  ...           ...   \n",
       "1985            1986       999                    2           250   \n",
       "1986            1987       999                   40            24   \n",
       "1987            1988       999                   33            20   \n",
       "1988            1989      1000                    6             5   \n",
       "1989            1990      1000                   26           150   \n",
       "\n",
       "      basket_total  \n",
       "0               65  \n",
       "1               25  \n",
       "2              309  \n",
       "3              309  \n",
       "4              309  \n",
       "...            ...  \n",
       "1985           294  \n",
       "1986           294  \n",
       "1987           294  \n",
       "1988           155  \n",
       "1989           155  \n",
       "\n",
       "[1990 rows x 5 columns]"
      ]
     },
     "execution_count": 17,
     "metadata": {},
     "output_type": "execute_result"
    }
   ],
   "source": [
    "df_baskets"
   ]
  },
  {
   "cell_type": "code",
   "execution_count": 18,
   "id": "4db8fafb",
   "metadata": {
    "ExecuteTime": {
     "end_time": "2022-05-30T14:23:20.170584Z",
     "start_time": "2022-05-30T14:23:20.163978Z"
    },
    "scrolled": true
   },
   "outputs": [],
   "source": [
    "df_baskets.to_csv('transformed_data/baskets.csv', index=False)"
   ]
  },
  {
   "cell_type": "code",
   "execution_count": 19,
   "id": "1b93287b",
   "metadata": {
    "ExecuteTime": {
     "end_time": "2022-05-30T14:23:20.229001Z",
     "start_time": "2022-05-30T14:23:20.171903Z"
    }
   },
   "outputs": [
    {
     "data": {
      "text/plain": [
       "<AxesSubplot:>"
      ]
     },
     "execution_count": 19,
     "metadata": {},
     "output_type": "execute_result"
    },
    {
     "data": {
      "image/png": "[encoded data removed]",
      "text/plain": [
       "<Figure size 432x288 with 1 Axes>"
      ]
     },
     "metadata": {
      "needs_background": "light"
     },
     "output_type": "display_data"
    }
   ],
   "source": [
    "df_baskets['ordered_product_skus'].hist()"
   ]
  },
  {
   "cell_type": "code",
   "execution_count": 20,
   "id": "57681f48",
   "metadata": {
    "ExecuteTime": {
     "end_time": "2022-05-30T14:23:20.235625Z",
     "start_time": "2022-05-30T14:23:20.230602Z"
    }
   },
   "outputs": [
    {
     "data": {
      "text/html": [
       "<div>\n",
       "<style scoped>\n",
       "    .dataframe tbody tr th:only-of-type {\n",
       "        vertical-align: middle;\n",
       "    }\n",
       "\n",
       "    .dataframe tbody tr th {\n",
       "        vertical-align: top;\n",
       "    }\n",
       "\n",
       "    .dataframe thead th {\n",
       "        text-align: right;\n",
       "    }\n",
       "</style>\n",
       "<table border=\"1\" class=\"dataframe\">\n",
       "  <thead>\n",
       "    <tr style=\"text-align: right;\">\n",
       "      <th></th>\n",
       "      <th>basket_item_id</th>\n",
       "      <th>order_id</th>\n",
       "      <th>ordered_product_skus</th>\n",
       "      <th>price_amount</th>\n",
       "      <th>basket_total</th>\n",
       "    </tr>\n",
       "  </thead>\n",
       "  <tbody>\n",
       "    <tr>\n",
       "      <th>0</th>\n",
       "      <td>1</td>\n",
       "      <td>1</td>\n",
       "      <td>27</td>\n",
       "      <td>65</td>\n",
       "      <td>65</td>\n",
       "    </tr>\n",
       "    <tr>\n",
       "      <th>1</th>\n",
       "      <td>2</td>\n",
       "      <td>2</td>\n",
       "      <td>31</td>\n",
       "      <td>25</td>\n",
       "      <td>25</td>\n",
       "    </tr>\n",
       "    <tr>\n",
       "      <th>2</th>\n",
       "      <td>3</td>\n",
       "      <td>3</td>\n",
       "      <td>28</td>\n",
       "      <td>75</td>\n",
       "      <td>309</td>\n",
       "    </tr>\n",
       "    <tr>\n",
       "      <th>3</th>\n",
       "      <td>4</td>\n",
       "      <td>3</td>\n",
       "      <td>32</td>\n",
       "      <td>115</td>\n",
       "      <td>309</td>\n",
       "    </tr>\n",
       "    <tr>\n",
       "      <th>4</th>\n",
       "      <td>5</td>\n",
       "      <td>3</td>\n",
       "      <td>7</td>\n",
       "      <td>95</td>\n",
       "      <td>309</td>\n",
       "    </tr>\n",
       "    <tr>\n",
       "      <th>...</th>\n",
       "      <td>...</td>\n",
       "      <td>...</td>\n",
       "      <td>...</td>\n",
       "      <td>...</td>\n",
       "      <td>...</td>\n",
       "    </tr>\n",
       "    <tr>\n",
       "      <th>1985</th>\n",
       "      <td>1986</td>\n",
       "      <td>999</td>\n",
       "      <td>2</td>\n",
       "      <td>250</td>\n",
       "      <td>294</td>\n",
       "    </tr>\n",
       "    <tr>\n",
       "      <th>1986</th>\n",
       "      <td>1987</td>\n",
       "      <td>999</td>\n",
       "      <td>40</td>\n",
       "      <td>24</td>\n",
       "      <td>294</td>\n",
       "    </tr>\n",
       "    <tr>\n",
       "      <th>1987</th>\n",
       "      <td>1988</td>\n",
       "      <td>999</td>\n",
       "      <td>33</td>\n",
       "      <td>20</td>\n",
       "      <td>294</td>\n",
       "    </tr>\n",
       "    <tr>\n",
       "      <th>1988</th>\n",
       "      <td>1989</td>\n",
       "      <td>1000</td>\n",
       "      <td>6</td>\n",
       "      <td>5</td>\n",
       "      <td>155</td>\n",
       "    </tr>\n",
       "    <tr>\n",
       "      <th>1989</th>\n",
       "      <td>1990</td>\n",
       "      <td>1000</td>\n",
       "      <td>26</td>\n",
       "      <td>150</td>\n",
       "      <td>155</td>\n",
       "    </tr>\n",
       "  </tbody>\n",
       "</table>\n",
       "<p>1990 rows × 5 columns</p>\n",
       "</div>"
      ],
      "text/plain": [
       "      basket_item_id  order_id ordered_product_skus  price_amount  \\\n",
       "0                  1         1                   27            65   \n",
       "1                  2         2                   31            25   \n",
       "2                  3         3                   28            75   \n",
       "3                  4         3                   32           115   \n",
       "4                  5         3                    7            95   \n",
       "...              ...       ...                  ...           ...   \n",
       "1985            1986       999                    2           250   \n",
       "1986            1987       999                   40            24   \n",
       "1987            1988       999                   33            20   \n",
       "1988            1989      1000                    6             5   \n",
       "1989            1990      1000                   26           150   \n",
       "\n",
       "      basket_total  \n",
       "0               65  \n",
       "1               25  \n",
       "2              309  \n",
       "3              309  \n",
       "4              309  \n",
       "...            ...  \n",
       "1985           294  \n",
       "1986           294  \n",
       "1987           294  \n",
       "1988           155  \n",
       "1989           155  \n",
       "\n",
       "[1990 rows x 5 columns]"
      ]
     },
     "execution_count": 20,
     "metadata": {},
     "output_type": "execute_result"
    }
   ],
   "source": [
    "df_baskets"
   ]
  },
  {
   "cell_type": "code",
   "execution_count": 21,
   "id": "3fc1db7f",
   "metadata": {
    "ExecuteTime": {
     "end_time": "2022-05-30T14:23:20.244504Z",
     "start_time": "2022-05-30T14:23:20.237219Z"
    }
   },
   "outputs": [
    {
     "data": {
      "text/html": [
       "<div>\n",
       "<style scoped>\n",
       "    .dataframe tbody tr th:only-of-type {\n",
       "        vertical-align: middle;\n",
       "    }\n",
       "\n",
       "    .dataframe tbody tr th {\n",
       "        vertical-align: top;\n",
       "    }\n",
       "\n",
       "    .dataframe thead th {\n",
       "        text-align: right;\n",
       "    }\n",
       "</style>\n",
       "<table border=\"1\" class=\"dataframe\">\n",
       "  <thead>\n",
       "    <tr style=\"text-align: right;\">\n",
       "      <th></th>\n",
       "      <th>ordered_product_skus</th>\n",
       "    </tr>\n",
       "    <tr>\n",
       "      <th>order_id</th>\n",
       "      <th></th>\n",
       "    </tr>\n",
       "  </thead>\n",
       "  <tbody>\n",
       "    <tr>\n",
       "      <th>1</th>\n",
       "      <td>1</td>\n",
       "    </tr>\n",
       "    <tr>\n",
       "      <th>2</th>\n",
       "      <td>1</td>\n",
       "    </tr>\n",
       "    <tr>\n",
       "      <th>3</th>\n",
       "      <td>4</td>\n",
       "    </tr>\n",
       "    <tr>\n",
       "      <th>4</th>\n",
       "      <td>3</td>\n",
       "    </tr>\n",
       "    <tr>\n",
       "      <th>5</th>\n",
       "      <td>1</td>\n",
       "    </tr>\n",
       "    <tr>\n",
       "      <th>...</th>\n",
       "      <td>...</td>\n",
       "    </tr>\n",
       "    <tr>\n",
       "      <th>996</th>\n",
       "      <td>4</td>\n",
       "    </tr>\n",
       "    <tr>\n",
       "      <th>997</th>\n",
       "      <td>1</td>\n",
       "    </tr>\n",
       "    <tr>\n",
       "      <th>998</th>\n",
       "      <td>4</td>\n",
       "    </tr>\n",
       "    <tr>\n",
       "      <th>999</th>\n",
       "      <td>3</td>\n",
       "    </tr>\n",
       "    <tr>\n",
       "      <th>1000</th>\n",
       "      <td>2</td>\n",
       "    </tr>\n",
       "  </tbody>\n",
       "</table>\n",
       "<p>1000 rows × 1 columns</p>\n",
       "</div>"
      ],
      "text/plain": [
       "          ordered_product_skus\n",
       "order_id                      \n",
       "1                            1\n",
       "2                            1\n",
       "3                            4\n",
       "4                            3\n",
       "5                            1\n",
       "...                        ...\n",
       "996                          4\n",
       "997                          1\n",
       "998                          4\n",
       "999                          3\n",
       "1000                         2\n",
       "\n",
       "[1000 rows x 1 columns]"
      ]
     },
     "execution_count": 21,
     "metadata": {},
     "output_type": "execute_result"
    }
   ],
   "source": [
    "df_baskets[['order_id', 'ordered_product_skus']].groupby('order_id').agg('count')"
   ]
  },
  {
   "cell_type": "code",
   "execution_count": 22,
   "id": "c4bbaadb",
   "metadata": {
    "ExecuteTime": {
     "end_time": "2022-05-30T14:23:20.250857Z",
     "start_time": "2022-05-30T14:23:20.245567Z"
    }
   },
   "outputs": [
    {
     "data": {
      "text/html": [
       "<div>\n",
       "<style scoped>\n",
       "    .dataframe tbody tr th:only-of-type {\n",
       "        vertical-align: middle;\n",
       "    }\n",
       "\n",
       "    .dataframe tbody tr th {\n",
       "        vertical-align: top;\n",
       "    }\n",
       "\n",
       "    .dataframe thead th {\n",
       "        text-align: right;\n",
       "    }\n",
       "</style>\n",
       "<table border=\"1\" class=\"dataframe\">\n",
       "  <thead>\n",
       "    <tr style=\"text-align: right;\">\n",
       "      <th></th>\n",
       "      <th>price_amount</th>\n",
       "      <th>price_currency</th>\n",
       "      <th>product_name</th>\n",
       "      <th>sku</th>\n",
       "    </tr>\n",
       "  </thead>\n",
       "  <tbody>\n",
       "    <tr>\n",
       "      <th>12</th>\n",
       "      <td>4</td>\n",
       "      <td>USD</td>\n",
       "      <td>Red Roses seeds</td>\n",
       "      <td>13</td>\n",
       "    </tr>\n",
       "    <tr>\n",
       "      <th>40</th>\n",
       "      <td>34</td>\n",
       "      <td>USD</td>\n",
       "      <td>Calathea</td>\n",
       "      <td>41</td>\n",
       "    </tr>\n",
       "    <tr>\n",
       "      <th>1</th>\n",
       "      <td>250</td>\n",
       "      <td>USD</td>\n",
       "      <td>Wood-fired pizza oven</td>\n",
       "      <td>2</td>\n",
       "    </tr>\n",
       "    <tr>\n",
       "      <th>2</th>\n",
       "      <td>130</td>\n",
       "      <td>USD</td>\n",
       "      <td>Funky gnome themed parasol</td>\n",
       "      <td>3</td>\n",
       "    </tr>\n",
       "    <tr>\n",
       "      <th>8</th>\n",
       "      <td>60</td>\n",
       "      <td>USD</td>\n",
       "      <td>Contemporary clay trough</td>\n",
       "      <td>9</td>\n",
       "    </tr>\n",
       "    <tr>\n",
       "      <th>35</th>\n",
       "      <td>30</td>\n",
       "      <td>USD</td>\n",
       "      <td>Peace lily</td>\n",
       "      <td>36</td>\n",
       "    </tr>\n",
       "    <tr>\n",
       "      <th>27</th>\n",
       "      <td>75</td>\n",
       "      <td>USD</td>\n",
       "      <td>Fig tree</td>\n",
       "      <td>28</td>\n",
       "    </tr>\n",
       "    <tr>\n",
       "      <th>33</th>\n",
       "      <td>20</td>\n",
       "      <td>USD</td>\n",
       "      <td>Peony</td>\n",
       "      <td>34</td>\n",
       "    </tr>\n",
       "    <tr>\n",
       "      <th>17</th>\n",
       "      <td>3</td>\n",
       "      <td>USD</td>\n",
       "      <td>Oregano seeds</td>\n",
       "      <td>18</td>\n",
       "    </tr>\n",
       "    <tr>\n",
       "      <th>26</th>\n",
       "      <td>65</td>\n",
       "      <td>USD</td>\n",
       "      <td>Ficus</td>\n",
       "      <td>27</td>\n",
       "    </tr>\n",
       "  </tbody>\n",
       "</table>\n",
       "</div>"
      ],
      "text/plain": [
       "    price_amount price_currency                product_name  sku\n",
       "12             4            USD             Red Roses seeds   13\n",
       "40            34            USD                    Calathea   41\n",
       "1            250            USD       Wood-fired pizza oven    2\n",
       "2            130            USD  Funky gnome themed parasol    3\n",
       "8             60            USD    Contemporary clay trough    9\n",
       "35            30            USD                  Peace lily   36\n",
       "27            75            USD                    Fig tree   28\n",
       "33            20            USD                       Peony   34\n",
       "17             3            USD               Oregano seeds   18\n",
       "26            65            USD                       Ficus   27"
      ]
     },
     "execution_count": 22,
     "metadata": {},
     "output_type": "execute_result"
    }
   ],
   "source": [
    "df_products.sample(10)"
   ]
  },
  {
   "cell_type": "code",
   "execution_count": 23,
   "id": "fa7508d9",
   "metadata": {
    "ExecuteTime": {
     "end_time": "2022-05-30T14:23:20.257345Z",
     "start_time": "2022-05-30T14:23:20.253298Z"
    }
   },
   "outputs": [],
   "source": [
    "df_products.to_csv('transformed_data/products.csv', index=False)"
   ]
  },
  {
   "cell_type": "code",
   "execution_count": 24,
   "id": "0998d261",
   "metadata": {
    "ExecuteTime": {
     "end_time": "2022-05-30T14:23:20.266429Z",
     "start_time": "2022-05-30T14:23:20.260799Z"
    }
   },
   "outputs": [
    {
     "data": {
      "text/html": [
       "<div>\n",
       "<style scoped>\n",
       "    .dataframe tbody tr th:only-of-type {\n",
       "        vertical-align: middle;\n",
       "    }\n",
       "\n",
       "    .dataframe tbody tr th {\n",
       "        vertical-align: top;\n",
       "    }\n",
       "\n",
       "    .dataframe thead th {\n",
       "        text-align: right;\n",
       "    }\n",
       "</style>\n",
       "<table border=\"1\" class=\"dataframe\">\n",
       "  <thead>\n",
       "    <tr style=\"text-align: right;\">\n",
       "      <th></th>\n",
       "      <th>partner_commission</th>\n",
       "      <th>partner_id</th>\n",
       "      <th>partner_name</th>\n",
       "    </tr>\n",
       "  </thead>\n",
       "  <tbody>\n",
       "    <tr>\n",
       "      <th>0</th>\n",
       "      <td>0.18</td>\n",
       "      <td>1</td>\n",
       "      <td>Plant Paradise</td>\n",
       "    </tr>\n",
       "    <tr>\n",
       "      <th>1</th>\n",
       "      <td>0.14</td>\n",
       "      <td>2</td>\n",
       "      <td>Garden of Sweden</td>\n",
       "    </tr>\n",
       "    <tr>\n",
       "      <th>2</th>\n",
       "      <td>0.06</td>\n",
       "      <td>3</td>\n",
       "      <td>Peat, Fruits and Leaves</td>\n",
       "    </tr>\n",
       "    <tr>\n",
       "      <th>3</th>\n",
       "      <td>0.22</td>\n",
       "      <td>4</td>\n",
       "      <td>Redwood Ranch</td>\n",
       "    </tr>\n",
       "    <tr>\n",
       "      <th>4</th>\n",
       "      <td>0.08</td>\n",
       "      <td>5</td>\n",
       "      <td>Trowels R Us</td>\n",
       "    </tr>\n",
       "    <tr>\n",
       "      <th>5</th>\n",
       "      <td>0.14</td>\n",
       "      <td>6</td>\n",
       "      <td>Glorious Gardens</td>\n",
       "    </tr>\n",
       "  </tbody>\n",
       "</table>\n",
       "</div>"
      ],
      "text/plain": [
       "   partner_commission  partner_id             partner_name\n",
       "0                0.18           1           Plant Paradise\n",
       "1                0.14           2         Garden of Sweden\n",
       "2                0.06           3  Peat, Fruits and Leaves\n",
       "3                0.22           4            Redwood Ranch\n",
       "4                0.08           5             Trowels R Us\n",
       "5                0.14           6         Glorious Gardens"
      ]
     },
     "execution_count": 24,
     "metadata": {},
     "output_type": "execute_result"
    }
   ],
   "source": [
    "df_partners"
   ]
  },
  {
   "cell_type": "code",
   "execution_count": 25,
   "id": "b453409c",
   "metadata": {
    "ExecuteTime": {
     "end_time": "2022-05-30T14:23:20.272431Z",
     "start_time": "2022-05-30T14:23:20.268201Z"
    }
   },
   "outputs": [],
   "source": [
    "df_partners.to_csv('transformed_data/partners.csv', index=False)"
   ]
  },
  {
   "cell_type": "code",
   "execution_count": 26,
   "id": "81befd9c",
   "metadata": {
    "ExecuteTime": {
     "end_time": "2022-05-30T14:23:20.283941Z",
     "start_time": "2022-05-30T14:23:20.274093Z"
    }
   },
   "outputs": [
    {
     "data": {
      "text/html": [
       "<div>\n",
       "<style scoped>\n",
       "    .dataframe tbody tr th:only-of-type {\n",
       "        vertical-align: middle;\n",
       "    }\n",
       "\n",
       "    .dataframe tbody tr th {\n",
       "        vertical-align: top;\n",
       "    }\n",
       "\n",
       "    .dataframe thead th {\n",
       "        text-align: right;\n",
       "    }\n",
       "</style>\n",
       "<table border=\"1\" class=\"dataframe\">\n",
       "  <thead>\n",
       "    <tr style=\"text-align: right;\">\n",
       "      <th></th>\n",
       "      <th>browser</th>\n",
       "      <th>created_date</th>\n",
       "      <th>email</th>\n",
       "      <th>shipping_address</th>\n",
       "      <th>user_id</th>\n",
       "    </tr>\n",
       "  </thead>\n",
       "  <tbody>\n",
       "    <tr>\n",
       "      <th>442</th>\n",
       "      <td>safari</td>\n",
       "      <td>2022-03-09 21:11:04</td>\n",
       "      <td>frances_repudiandae@gmail.com</td>\n",
       "      <td>{'city': 'Orn shire', 'country': 'MP', 'street...</td>\n",
       "      <td>443</td>\n",
       "    </tr>\n",
       "    <tr>\n",
       "      <th>916</th>\n",
       "      <td>safari</td>\n",
       "      <td>2022-05-19 01:49:12</td>\n",
       "      <td>ruby_perspiciatis@hotmail.com</td>\n",
       "      <td>{'city': 'Kieran town', 'country': 'AU', 'stre...</td>\n",
       "      <td>917</td>\n",
       "    </tr>\n",
       "    <tr>\n",
       "      <th>764</th>\n",
       "      <td>chrome</td>\n",
       "      <td>2022-04-25 05:15:14</td>\n",
       "      <td>kenton_dicta@yahoo.com</td>\n",
       "      <td>{'city': 'North Lisette Predovic town', 'count...</td>\n",
       "      <td>765</td>\n",
       "    </tr>\n",
       "    <tr>\n",
       "      <th>753</th>\n",
       "      <td>chrome</td>\n",
       "      <td>2022-04-23 09:14:15</td>\n",
       "      <td>lilly_molestiae@gmail.com</td>\n",
       "      <td>{'city': 'Rath port', 'country': 'CV', 'street...</td>\n",
       "      <td>754</td>\n",
       "    </tr>\n",
       "    <tr>\n",
       "      <th>995</th>\n",
       "      <td>chrome</td>\n",
       "      <td>2022-05-30 04:39:26</td>\n",
       "      <td>berenice_occaecati@hotmail.com</td>\n",
       "      <td>{'city': 'Rosenbaum fort', 'country': 'PY', 's...</td>\n",
       "      <td>996</td>\n",
       "    </tr>\n",
       "    <tr>\n",
       "      <th>415</th>\n",
       "      <td>safari</td>\n",
       "      <td>2022-03-06 05:07:41</td>\n",
       "      <td>clark_odit@hotmail.com</td>\n",
       "      <td>{'city': 'Tillman stad', 'country': 'VI', 'str...</td>\n",
       "      <td>416</td>\n",
       "    </tr>\n",
       "    <tr>\n",
       "      <th>595</th>\n",
       "      <td>chrome</td>\n",
       "      <td>2022-03-30 15:11:08</td>\n",
       "      <td>josie_voluptatem@hotmail.com</td>\n",
       "      <td>{'city': 'Schneider land', 'country': 'VG', 's...</td>\n",
       "      <td>596</td>\n",
       "    </tr>\n",
       "    <tr>\n",
       "      <th>939</th>\n",
       "      <td>safari</td>\n",
       "      <td>2022-05-22 09:26:18</td>\n",
       "      <td>natalia_velit@hotmail.com</td>\n",
       "      <td>{'city': 'Hahn mouth', 'country': 'LC', 'stree...</td>\n",
       "      <td>940</td>\n",
       "    </tr>\n",
       "    <tr>\n",
       "      <th>107</th>\n",
       "      <td>edge</td>\n",
       "      <td>2022-01-17 01:48:37</td>\n",
       "      <td>nickolas_quis@gmail.com</td>\n",
       "      <td>{'city': 'Predovic borough', 'country': 'LV', ...</td>\n",
       "      <td>108</td>\n",
       "    </tr>\n",
       "    <tr>\n",
       "      <th>319</th>\n",
       "      <td>safari</td>\n",
       "      <td>2022-02-19 13:35:32</td>\n",
       "      <td>mohammad_molestias@hotmail.com</td>\n",
       "      <td>{'city': 'Lockman stad', 'country': 'RU', 'str...</td>\n",
       "      <td>320</td>\n",
       "    </tr>\n",
       "  </tbody>\n",
       "</table>\n",
       "</div>"
      ],
      "text/plain": [
       "    browser         created_date                           email  \\\n",
       "442  safari  2022-03-09 21:11:04   frances_repudiandae@gmail.com   \n",
       "916  safari  2022-05-19 01:49:12   ruby_perspiciatis@hotmail.com   \n",
       "764  chrome  2022-04-25 05:15:14          kenton_dicta@yahoo.com   \n",
       "753  chrome  2022-04-23 09:14:15       lilly_molestiae@gmail.com   \n",
       "995  chrome  2022-05-30 04:39:26  berenice_occaecati@hotmail.com   \n",
       "415  safari  2022-03-06 05:07:41          clark_odit@hotmail.com   \n",
       "595  chrome  2022-03-30 15:11:08    josie_voluptatem@hotmail.com   \n",
       "939  safari  2022-05-22 09:26:18       natalia_velit@hotmail.com   \n",
       "107    edge  2022-01-17 01:48:37         nickolas_quis@gmail.com   \n",
       "319  safari  2022-02-19 13:35:32  mohammad_molestias@hotmail.com   \n",
       "\n",
       "                                      shipping_address  user_id  \n",
       "442  {'city': 'Orn shire', 'country': 'MP', 'street...      443  \n",
       "916  {'city': 'Kieran town', 'country': 'AU', 'stre...      917  \n",
       "764  {'city': 'North Lisette Predovic town', 'count...      765  \n",
       "753  {'city': 'Rath port', 'country': 'CV', 'street...      754  \n",
       "995  {'city': 'Rosenbaum fort', 'country': 'PY', 's...      996  \n",
       "415  {'city': 'Tillman stad', 'country': 'VI', 'str...      416  \n",
       "595  {'city': 'Schneider land', 'country': 'VG', 's...      596  \n",
       "939  {'city': 'Hahn mouth', 'country': 'LC', 'stree...      940  \n",
       "107  {'city': 'Predovic borough', 'country': 'LV', ...      108  \n",
       "319  {'city': 'Lockman stad', 'country': 'RU', 'str...      320  "
      ]
     },
     "execution_count": 26,
     "metadata": {},
     "output_type": "execute_result"
    }
   ],
   "source": [
    "df_users.sample(10)"
   ]
  },
  {
   "cell_type": "code",
   "execution_count": 27,
   "id": "a629786a",
   "metadata": {
    "ExecuteTime": {
     "end_time": "2022-05-30T14:23:20.294203Z",
     "start_time": "2022-05-30T14:23:20.285698Z"
    }
   },
   "outputs": [
    {
     "data": {
      "text/plain": [
       "chrome               501\n",
       "safari               243\n",
       "edge                 179\n",
       "firefox               41\n",
       "internet_explorer     20\n",
       "netscape              14\n",
       "lynx                   2\n",
       "Name: browser, dtype: int64"
      ]
     },
     "execution_count": 27,
     "metadata": {},
     "output_type": "execute_result"
    }
   ],
   "source": [
    "df_users['browser'].value_counts()"
   ]
  },
  {
   "cell_type": "code",
   "execution_count": 28,
   "id": "49fc5cca",
   "metadata": {
    "ExecuteTime": {
     "end_time": "2022-05-30T14:23:20.305076Z",
     "start_time": "2022-05-30T14:23:20.295823Z"
    }
   },
   "outputs": [],
   "source": [
    "df_users.to_csv('transformed_data/users.csv', index=False)"
   ]
  },
  {
   "cell_type": "code",
   "execution_count": 29,
   "id": "0e187695",
   "metadata": {
    "ExecuteTime": {
     "end_time": "2022-05-30T14:23:20.312946Z",
     "start_time": "2022-05-30T14:23:20.306534Z"
    }
   },
   "outputs": [
    {
     "data": {
      "text/html": [
       "<div>\n",
       "<style scoped>\n",
       "    .dataframe tbody tr th:only-of-type {\n",
       "        vertical-align: middle;\n",
       "    }\n",
       "\n",
       "    .dataframe tbody tr th {\n",
       "        vertical-align: top;\n",
       "    }\n",
       "\n",
       "    .dataframe thead th {\n",
       "        text-align: right;\n",
       "    }\n",
       "</style>\n",
       "<table border=\"1\" class=\"dataframe\">\n",
       "  <thead>\n",
       "    <tr style=\"text-align: right;\">\n",
       "      <th></th>\n",
       "      <th>feedback_rating</th>\n",
       "      <th>order_id</th>\n",
       "      <th>reason</th>\n",
       "      <th>request_id</th>\n",
       "      <th>timestamp</th>\n",
       "    </tr>\n",
       "  </thead>\n",
       "  <tbody>\n",
       "    <tr>\n",
       "      <th>0</th>\n",
       "      <td>7</td>\n",
       "      <td>786</td>\n",
       "      <td>Delivery issue</td>\n",
       "      <td>1</td>\n",
       "      <td>2022-01-01 10:04:17</td>\n",
       "    </tr>\n",
       "    <tr>\n",
       "      <th>1</th>\n",
       "      <td>8</td>\n",
       "      <td>952</td>\n",
       "      <td>Delivery issue</td>\n",
       "      <td>2</td>\n",
       "      <td>2022-01-02 09:02:11</td>\n",
       "    </tr>\n",
       "    <tr>\n",
       "      <th>2</th>\n",
       "      <td>8</td>\n",
       "      <td>89</td>\n",
       "      <td>Payment issue</td>\n",
       "      <td>3</td>\n",
       "      <td>2022-01-03 05:09:22</td>\n",
       "    </tr>\n",
       "    <tr>\n",
       "      <th>3</th>\n",
       "      <td>10</td>\n",
       "      <td>751</td>\n",
       "      <td>Payment issue</td>\n",
       "      <td>4</td>\n",
       "      <td>2022-01-03 23:22:36</td>\n",
       "    </tr>\n",
       "    <tr>\n",
       "      <th>4</th>\n",
       "      <td>7</td>\n",
       "      <td>708</td>\n",
       "      <td>Wrong item received</td>\n",
       "      <td>5</td>\n",
       "      <td>2022-01-04 20:27:06</td>\n",
       "    </tr>\n",
       "    <tr>\n",
       "      <th>...</th>\n",
       "      <td>...</td>\n",
       "      <td>...</td>\n",
       "      <td>...</td>\n",
       "      <td>...</td>\n",
       "      <td>...</td>\n",
       "    </tr>\n",
       "    <tr>\n",
       "      <th>125</th>\n",
       "      <td>9</td>\n",
       "      <td>718</td>\n",
       "      <td>Delivery issue</td>\n",
       "      <td>126</td>\n",
       "      <td>2022-05-26 04:29:26</td>\n",
       "    </tr>\n",
       "    <tr>\n",
       "      <th>126</th>\n",
       "      <td>9</td>\n",
       "      <td>278</td>\n",
       "      <td>Delivery issue</td>\n",
       "      <td>127</td>\n",
       "      <td>2022-05-27 14:34:41</td>\n",
       "    </tr>\n",
       "    <tr>\n",
       "      <th>127</th>\n",
       "      <td>7</td>\n",
       "      <td>145</td>\n",
       "      <td>Product related query</td>\n",
       "      <td>128</td>\n",
       "      <td>2022-05-29 09:59:23</td>\n",
       "    </tr>\n",
       "    <tr>\n",
       "      <th>128</th>\n",
       "      <td>10</td>\n",
       "      <td>413</td>\n",
       "      <td>Product related query</td>\n",
       "      <td>129</td>\n",
       "      <td>2022-05-30 01:33:46</td>\n",
       "    </tr>\n",
       "    <tr>\n",
       "      <th>129</th>\n",
       "      <td>9</td>\n",
       "      <td>440</td>\n",
       "      <td>Payment issue</td>\n",
       "      <td>130</td>\n",
       "      <td>2022-05-31 00:19:09</td>\n",
       "    </tr>\n",
       "  </tbody>\n",
       "</table>\n",
       "<p>130 rows × 5 columns</p>\n",
       "</div>"
      ],
      "text/plain": [
       "     feedback_rating  order_id                 reason  request_id  \\\n",
       "0                  7       786         Delivery issue           1   \n",
       "1                  8       952         Delivery issue           2   \n",
       "2                  8        89          Payment issue           3   \n",
       "3                 10       751          Payment issue           4   \n",
       "4                  7       708    Wrong item received           5   \n",
       "..               ...       ...                    ...         ...   \n",
       "125                9       718         Delivery issue         126   \n",
       "126                9       278         Delivery issue         127   \n",
       "127                7       145  Product related query         128   \n",
       "128               10       413  Product related query         129   \n",
       "129                9       440          Payment issue         130   \n",
       "\n",
       "              timestamp  \n",
       "0   2022-01-01 10:04:17  \n",
       "1   2022-01-02 09:02:11  \n",
       "2   2022-01-03 05:09:22  \n",
       "3   2022-01-03 23:22:36  \n",
       "4   2022-01-04 20:27:06  \n",
       "..                  ...  \n",
       "125 2022-05-26 04:29:26  \n",
       "126 2022-05-27 14:34:41  \n",
       "127 2022-05-29 09:59:23  \n",
       "128 2022-05-30 01:33:46  \n",
       "129 2022-05-31 00:19:09  \n",
       "\n",
       "[130 rows x 5 columns]"
      ]
     },
     "execution_count": 29,
     "metadata": {},
     "output_type": "execute_result"
    }
   ],
   "source": [
    "df_support_requests"
   ]
  },
  {
   "cell_type": "code",
   "execution_count": 30,
   "id": "ee74b5c1",
   "metadata": {
    "ExecuteTime": {
     "end_time": "2022-05-30T14:23:20.323642Z",
     "start_time": "2022-05-30T14:23:20.315395Z"
    }
   },
   "outputs": [],
   "source": [
    "# merge requests with orders\n",
    "df_orders_support_requests = pd.merge(df_support_requests, df_orders_concat_cut, how='left', on='order_id')\n",
    "\n",
    "# remove requests that happened before their corresponding order\n",
    "df_orders_support_requests = df_orders_support_requests.loc[df_orders_support_requests['timestamp_x']>df_orders_support_requests['timestamp_y']]\n",
    "df_orders_support_requests.rename({'timestamp_x': 'timestamp'}, axis=1, inplace=True)\n",
    "\n",
    "# remove unnecessary cols\n",
    "to_drop = [\n",
    "    'currency',\n",
    "    'ordered_product_skus',\n",
    "    'partner_id',\n",
    "    'referrer',\n",
    "    'timestamp_y',\n",
    "    'user_id'\n",
    "]\n",
    "df_orders_support_requests.drop(to_drop, inplace=True, axis=1)\n",
    "\n",
    "# add on more random requests to bulk out after previous filtering\n",
    "df_orders_support_requests_concat = pd.concat([df_orders_support_requests, df_support_requests_random])"
   ]
  },
  {
   "cell_type": "code",
   "execution_count": 31,
   "id": "5bf49643",
   "metadata": {
    "ExecuteTime": {
     "end_time": "2022-05-30T14:23:20.328943Z",
     "start_time": "2022-05-30T14:23:20.324848Z"
    }
   },
   "outputs": [
    {
     "data": {
      "text/plain": [
       "Index(['feedback_rating', 'order_id', 'reason', 'request_id', 'timestamp',\n",
       "       'browser', 'created_date', 'email', 'shipping_address'],\n",
       "      dtype='object')"
      ]
     },
     "execution_count": 31,
     "metadata": {},
     "output_type": "execute_result"
    }
   ],
   "source": [
    "df_orders_support_requests_concat.columns"
   ]
  },
  {
   "cell_type": "code",
   "execution_count": 32,
   "id": "b7593c3c",
   "metadata": {
    "ExecuteTime": {
     "end_time": "2022-05-30T14:23:20.333281Z",
     "start_time": "2022-05-30T14:23:20.330140Z"
    }
   },
   "outputs": [],
   "source": [
    "# remove order cols again\n",
    "to_drop = [\n",
    "    'browser',\n",
    "    'created_date',\n",
    "    'email',\n",
    "    'shipping_address',\n",
    "]\n",
    "\n",
    "df_orders_support_requests_concat = df_orders_support_requests_concat.drop(columns=to_drop, axis=1)"
   ]
  },
  {
   "cell_type": "code",
   "execution_count": 33,
   "id": "a6ec1ecf",
   "metadata": {
    "ExecuteTime": {
     "end_time": "2022-05-30T14:23:20.338947Z",
     "start_time": "2022-05-30T14:23:20.334110Z"
    }
   },
   "outputs": [],
   "source": [
    "# again, merge with orders\n",
    "df_orders_support_requests_concat_merge = pd.merge(df_orders_support_requests_concat, df_orders_concat_cut, how='left', on='order_id')\n",
    "\n",
    "# again, remove requests that happened before their corresponding order\n",
    "df_orders_support_requests_concat_merge_cut = df_orders_support_requests_concat_merge.loc[df_orders_support_requests_concat_merge['timestamp_x']>df_orders_support_requests_concat_merge['timestamp_y']]\n",
    "df_orders_support_requests_concat_merge_cut = df_orders_support_requests_concat_merge_cut.rename({'timestamp_x': 'timestamp'}, axis=1)"
   ]
  },
  {
   "cell_type": "code",
   "execution_count": 34,
   "id": "0eb64cc9",
   "metadata": {
    "ExecuteTime": {
     "end_time": "2022-05-30T14:23:20.343723Z",
     "start_time": "2022-05-30T14:23:20.339983Z"
    }
   },
   "outputs": [
    {
     "data": {
      "text/plain": [
       "['feedback_rating',\n",
       " 'order_id',\n",
       " 'reason',\n",
       " 'request_id',\n",
       " 'timestamp',\n",
       " 'currency',\n",
       " 'ordered_product_skus',\n",
       " 'partner_id',\n",
       " 'referrer',\n",
       " 'timestamp_y',\n",
       " 'user_id',\n",
       " 'browser',\n",
       " 'created_date',\n",
       " 'email',\n",
       " 'shipping_address']"
      ]
     },
     "execution_count": 34,
     "metadata": {},
     "output_type": "execute_result"
    }
   ],
   "source": [
    "list(df_orders_support_requests_concat_merge_cut)"
   ]
  },
  {
   "cell_type": "code",
   "execution_count": 35,
   "id": "124b1522",
   "metadata": {
    "ExecuteTime": {
     "end_time": "2022-05-30T14:23:20.349151Z",
     "start_time": "2022-05-30T14:23:20.345360Z"
    }
   },
   "outputs": [],
   "source": [
    "# drop unnecessary cols and reset index\n",
    "to_drop = [\n",
    "    'currency',\n",
    "    'ordered_product_skus',\n",
    "    'partner_id',\n",
    "    'referrer',\n",
    "    'timestamp_y',\n",
    "    'user_id',\n",
    "    'browser',\n",
    "    'created_date',\n",
    "    'email',\n",
    "    'shipping_address'\n",
    "]\n",
    "df_orders_support_requests_concat_merge_cut.drop(to_drop, inplace=True, axis=1)\n",
    "df_orders_support_requests_concat_merge_cut.reset_index(drop=True, inplace=True)\n",
    "df_support_requests = df_orders_support_requests_concat_merge_cut.copy()"
   ]
  },
  {
   "cell_type": "code",
   "execution_count": 36,
   "id": "edcb49df",
   "metadata": {
    "ExecuteTime": {
     "end_time": "2022-05-30T14:23:20.398438Z",
     "start_time": "2022-05-30T14:23:20.350196Z"
    }
   },
   "outputs": [
    {
     "data": {
      "text/plain": [
       "<AxesSubplot:>"
      ]
     },
     "execution_count": 36,
     "metadata": {},
     "output_type": "execute_result"
    },
    {
     "data": {
      "image/png": "[encoded data removed]",
      "text/plain": [
       "<Figure size 432x288 with 1 Axes>"
      ]
     },
     "metadata": {
      "needs_background": "light"
     },
     "output_type": "display_data"
    }
   ],
   "source": [
    "df_support_requests['feedback_rating'].hist()"
   ]
  },
  {
   "cell_type": "code",
   "execution_count": 37,
   "id": "2f3c050c",
   "metadata": {
    "ExecuteTime": {
     "end_time": "2022-05-30T14:23:20.403486Z",
     "start_time": "2022-05-30T14:23:20.399724Z"
    }
   },
   "outputs": [
    {
     "data": {
      "text/plain": [
       "Delivery issue           37\n",
       "Product related query    25\n",
       "Wrong item received      11\n",
       "Payment issue             9\n",
       "Name: reason, dtype: int64"
      ]
     },
     "execution_count": 37,
     "metadata": {},
     "output_type": "execute_result"
    }
   ],
   "source": [
    "df_support_requests['reason'].value_counts()"
   ]
  },
  {
   "cell_type": "code",
   "execution_count": 38,
   "id": "b0c545d2",
   "metadata": {
    "ExecuteTime": {
     "end_time": "2022-05-30T14:23:20.409676Z",
     "start_time": "2022-05-30T14:23:20.404769Z"
    }
   },
   "outputs": [
    {
     "data": {
      "text/plain": [
       "31     2\n",
       "7      2\n",
       "95     2\n",
       "79     2\n",
       "50     1\n",
       "      ..\n",
       "702    1\n",
       "552    1\n",
       "110    1\n",
       "342    1\n",
       "178    1\n",
       "Name: order_id, Length: 78, dtype: int64"
      ]
     },
     "execution_count": 38,
     "metadata": {},
     "output_type": "execute_result"
    }
   ],
   "source": [
    "df_support_requests['order_id'].value_counts()"
   ]
  },
  {
   "cell_type": "code",
   "execution_count": 39,
   "id": "d1afe810",
   "metadata": {
    "ExecuteTime": {
     "end_time": "2022-05-30T14:23:20.420179Z",
     "start_time": "2022-05-30T14:23:20.417527Z"
    }
   },
   "outputs": [],
   "source": [
    "df_support_requests.to_csv('transformed_data/support_requests.csv', index=False)"
   ]
  },
  {
   "cell_type": "code",
   "execution_count": 40,
   "id": "39fa0f29",
   "metadata": {
    "ExecuteTime": {
     "end_time": "2022-05-30T14:23:20.424184Z",
     "start_time": "2022-05-30T14:23:20.421034Z"
    }
   },
   "outputs": [
    {
     "data": {
      "text/plain": [
       "['basket_item_id',\n",
       " 'order_id',\n",
       " 'ordered_product_skus',\n",
       " 'price_amount',\n",
       " 'basket_total']"
      ]
     },
     "execution_count": 40,
     "metadata": {},
     "output_type": "execute_result"
    }
   ],
   "source": [
    "list(df_baskets)"
   ]
  },
  {
   "cell_type": "code",
   "execution_count": 41,
   "id": "b4d977ac",
   "metadata": {
    "ExecuteTime": {
     "end_time": "2022-05-30T14:23:20.431678Z",
     "start_time": "2022-05-30T14:23:20.427826Z"
    }
   },
   "outputs": [
    {
     "data": {
      "text/plain": [
       "['order_id',\n",
       " 'currency',\n",
       " 'ordered_product_skus',\n",
       " 'partner_id',\n",
       " 'referrer',\n",
       " 'timestamp',\n",
       " 'user_id',\n",
       " 'basket_total',\n",
       " 'profit']"
      ]
     },
     "execution_count": 41,
     "metadata": {},
     "output_type": "execute_result"
    }
   ],
   "source": [
    "list(df_orders)"
   ]
  },
  {
   "cell_type": "code",
   "execution_count": 42,
   "id": "9ade8623",
   "metadata": {
    "ExecuteTime": {
     "end_time": "2022-05-30T14:23:20.435941Z",
     "start_time": "2022-05-30T14:23:20.432973Z"
    }
   },
   "outputs": [
    {
     "data": {
      "text/plain": [
       "['price_amount', 'price_currency', 'product_name', 'sku']"
      ]
     },
     "execution_count": 42,
     "metadata": {},
     "output_type": "execute_result"
    }
   ],
   "source": [
    "list(df_products)"
   ]
  },
  {
   "cell_type": "code",
   "execution_count": 43,
   "id": "3fd10ba5",
   "metadata": {
    "ExecuteTime": {
     "end_time": "2022-05-30T14:23:20.440017Z",
     "start_time": "2022-05-30T14:23:20.436871Z"
    }
   },
   "outputs": [
    {
     "data": {
      "text/plain": [
       "['partner_commission', 'partner_id', 'partner_name']"
      ]
     },
     "execution_count": 43,
     "metadata": {},
     "output_type": "execute_result"
    }
   ],
   "source": [
    "list(df_partners)"
   ]
  },
  {
   "cell_type": "code",
   "execution_count": 44,
   "id": "b9ae7e15",
   "metadata": {
    "ExecuteTime": {
     "end_time": "2022-05-30T14:23:20.448103Z",
     "start_time": "2022-05-30T14:23:20.444204Z"
    }
   },
   "outputs": [
    {
     "data": {
      "text/plain": [
       "['feedback_rating', 'order_id', 'reason', 'request_id', 'timestamp']"
      ]
     },
     "execution_count": 44,
     "metadata": {},
     "output_type": "execute_result"
    }
   ],
   "source": [
    "list(df_support_requests)"
   ]
  },
  {
   "cell_type": "code",
   "execution_count": 45,
   "id": "1d650ad6",
   "metadata": {
    "ExecuteTime": {
     "end_time": "2022-05-30T14:23:20.452725Z",
     "start_time": "2022-05-30T14:23:20.449562Z"
    }
   },
   "outputs": [
    {
     "data": {
      "text/plain": [
       "['browser', 'created_date', 'email', 'shipping_address', 'user_id']"
      ]
     },
     "execution_count": 45,
     "metadata": {},
     "output_type": "execute_result"
    }
   ],
   "source": [
    "list(df_users)"
   ]
  }
 ],
 "metadata": {
  "kernelspec": {
   "display_name": "Python 3 (ipykernel)",
   "language": "python",
   "name": "python3"
  },
  "language_info": {
   "codemirror_mode": {
    "name": "ipython",
    "version": 3
   },
   "file_extension": ".py",
   "mimetype": "text/x-python",
   "name": "python",
   "nbconvert_exporter": "python",
   "pygments_lexer": "ipython3",
   "version": "3.9.13"
  }
 },
 "nbformat": 4,
 "nbformat_minor": 5
}
