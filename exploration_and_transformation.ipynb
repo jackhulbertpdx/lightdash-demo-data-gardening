{
 "cells": [
  {
   "cell_type": "code",
   "execution_count": 1,
   "id": "505192a4",
   "metadata": {
    "ExecuteTime": {
     "end_time": "2022-05-30T01:30:14.860404Z",
     "start_time": "2022-05-30T01:30:14.601904Z"
    }
   },
   "outputs": [],
   "source": [
    "import pandas as pd\n",
    "from ast import literal_eval\n",
    "import random\n",
    "import numpy as np\n",
    "\n",
    "df_orders = pd.read_json('synth_output_data/orders.json')\n",
    "df_products = pd.read_json('synth_output_data/products.json')\n",
    "df_partners = pd.read_json('synth_output_data/partners.json')\n",
    "df_users = pd.read_json('synth_output_data/users.json')\n",
    "df_support_requests= pd.read_json('synth_output_data/support_requests.json')\n",
    "df_orders_random = pd.read_json('synth_output_data/orders_random.json')\n",
    "df_support_requests_random = pd.read_json('synth_output_data/support_requests_random.json')\n",
    "\n",
    "df_orders_users = pd.merge(df_orders, df_users, on=\"user_id\", how=\"left\")\n",
    "df_orders_users_cut = df_orders_users.loc[df_orders_users['created_date']<df_orders_users['timestamp']]\n",
    "df_orders_random_users = pd.merge(df_orders_random, df_users, on=\"user_id\", how=\"left\")\n",
    "\n",
    "df_orders_concat = pd.concat([df_orders_users_cut, df_orders_random_users], axis=0)\n",
    "df_orders_concat = df_orders_concat.drop(['order_id'], axis=1)\n",
    "df_orders_concat = df_orders_concat.reset_index(drop=True)\n",
    "df_orders_concat = df_orders_concat.reset_index()\n",
    "df_orders_concat = df_orders_concat.rename({'index': 'order_id'}, axis=1)\n",
    "df_orders_concat['order_id'] = df_orders_concat['order_id']+1\n",
    "\n",
    "df_orders_concat_cut = df_orders_concat.loc[df_orders_concat['created_date']<df_orders_concat['timestamp']]\n",
    "df_orders_concat_cut = df_orders_concat_cut.loc[df_orders_concat_cut['timestamp']<'2022-06-01']\n",
    "df_orders_concat_cut = df_orders_concat_cut.sort_values('timestamp')\n",
    "df_orders_concat_cut = df_orders_concat_cut.drop('order_id', axis=1)\n",
    "df_orders_concat_cut = df_orders_concat_cut.reset_index(drop=True)\n",
    "df_orders_concat_cut = df_orders_concat_cut.reset_index()\n",
    "df_orders_concat_cut = df_orders_concat_cut.rename({'index': 'order_id'}, axis=1)\n",
    "df_orders_concat_cut['order_id'] = df_orders_concat_cut['order_id']+1"
   ]
  },
  {
   "cell_type": "code",
   "execution_count": 2,
   "id": "7d1a2e26",
   "metadata": {
    "ExecuteTime": {
     "end_time": "2022-05-30T01:20:34.433030Z",
     "start_time": "2022-05-30T01:20:34.406090Z"
    }
   },
   "outputs": [
    {
     "data": {
      "text/html": [
       "<div>\n",
       "<style scoped>\n",
       "    .dataframe tbody tr th:only-of-type {\n",
       "        vertical-align: middle;\n",
       "    }\n",
       "\n",
       "    .dataframe tbody tr th {\n",
       "        vertical-align: top;\n",
       "    }\n",
       "\n",
       "    .dataframe thead th {\n",
       "        text-align: right;\n",
       "    }\n",
       "</style>\n",
       "<table border=\"1\" class=\"dataframe\">\n",
       "  <thead>\n",
       "    <tr style=\"text-align: right;\">\n",
       "      <th></th>\n",
       "      <th>order_id</th>\n",
       "      <th>currency</th>\n",
       "      <th>ordered_product_skus</th>\n",
       "      <th>partner_id</th>\n",
       "      <th>referrer</th>\n",
       "      <th>timestamp</th>\n",
       "      <th>user_id</th>\n",
       "      <th>browser</th>\n",
       "      <th>created_date</th>\n",
       "      <th>email</th>\n",
       "      <th>shipping_address</th>\n",
       "    </tr>\n",
       "  </thead>\n",
       "  <tbody>\n",
       "    <tr>\n",
       "      <th>39</th>\n",
       "      <td>40</td>\n",
       "      <td>USD</td>\n",
       "      <td>[29]</td>\n",
       "      <td>3</td>\n",
       "      <td>instagram</td>\n",
       "      <td>2022-01-23 19:10:16</td>\n",
       "      <td>18</td>\n",
       "      <td>edge</td>\n",
       "      <td>2022-01-03 18:59:06</td>\n",
       "      <td>ed_quas@gmail.com</td>\n",
       "      <td>{'city': 'Gia land', 'country': 'MR', 'street_...</td>\n",
       "    </tr>\n",
       "    <tr>\n",
       "      <th>999</th>\n",
       "      <td>1000</td>\n",
       "      <td>USD</td>\n",
       "      <td>[3, 13, 6, 26]</td>\n",
       "      <td>4</td>\n",
       "      <td>organic</td>\n",
       "      <td>2022-05-31 19:37:13</td>\n",
       "      <td>217</td>\n",
       "      <td>safari</td>\n",
       "      <td>2022-02-04 15:27:04</td>\n",
       "      <td>constantin_ratione@gmail.com</td>\n",
       "      <td>{'city': 'Abelardo haven', 'country': 'TK', 's...</td>\n",
       "    </tr>\n",
       "    <tr>\n",
       "      <th>433</th>\n",
       "      <td>434</td>\n",
       "      <td>USD</td>\n",
       "      <td>[37, 35, 31]</td>\n",
       "      <td>3</td>\n",
       "      <td>instagram</td>\n",
       "      <td>2022-05-01 14:05:27</td>\n",
       "      <td>763</td>\n",
       "      <td>safari</td>\n",
       "      <td>2022-04-24 20:17:37</td>\n",
       "      <td>mathilde97@hotmail.com</td>\n",
       "      <td>{'city': 'Kreiger side', 'country': 'GE', 'str...</td>\n",
       "    </tr>\n",
       "    <tr>\n",
       "      <th>333</th>\n",
       "      <td>334</td>\n",
       "      <td>USD</td>\n",
       "      <td>[15]</td>\n",
       "      <td>3</td>\n",
       "      <td>ppc</td>\n",
       "      <td>2022-04-26 12:47:55</td>\n",
       "      <td>25</td>\n",
       "      <td>edge</td>\n",
       "      <td>2022-01-05 02:27:25</td>\n",
       "      <td>valentina_sit@yahoo.com</td>\n",
       "      <td>{'city': 'McLaughlin mouth', 'country': 'FM', ...</td>\n",
       "    </tr>\n",
       "    <tr>\n",
       "      <th>425</th>\n",
       "      <td>426</td>\n",
       "      <td>USD</td>\n",
       "      <td>[36, 14]</td>\n",
       "      <td>4</td>\n",
       "      <td>instagram</td>\n",
       "      <td>2022-05-01 10:29:24</td>\n",
       "      <td>352</td>\n",
       "      <td>chrome</td>\n",
       "      <td>2022-02-24 21:23:08</td>\n",
       "      <td>macey_omnis@hotmail.com</td>\n",
       "      <td>{'city': 'Jacobi haven', 'country': 'IT', 'str...</td>\n",
       "    </tr>\n",
       "  </tbody>\n",
       "</table>\n",
       "</div>"
      ],
      "text/plain": [
       "     order_id currency ordered_product_skus  partner_id   referrer  \\\n",
       "39         40      USD                 [29]           3  instagram   \n",
       "999      1000      USD       [3, 13, 6, 26]           4    organic   \n",
       "433       434      USD         [37, 35, 31]           3  instagram   \n",
       "333       334      USD                 [15]           3        ppc   \n",
       "425       426      USD             [36, 14]           4  instagram   \n",
       "\n",
       "              timestamp  user_id browser         created_date  \\\n",
       "39  2022-01-23 19:10:16       18    edge  2022-01-03 18:59:06   \n",
       "999 2022-05-31 19:37:13      217  safari  2022-02-04 15:27:04   \n",
       "433 2022-05-01 14:05:27      763  safari  2022-04-24 20:17:37   \n",
       "333 2022-04-26 12:47:55       25    edge  2022-01-05 02:27:25   \n",
       "425 2022-05-01 10:29:24      352  chrome  2022-02-24 21:23:08   \n",
       "\n",
       "                            email  \\\n",
       "39              ed_quas@gmail.com   \n",
       "999  constantin_ratione@gmail.com   \n",
       "433        mathilde97@hotmail.com   \n",
       "333       valentina_sit@yahoo.com   \n",
       "425       macey_omnis@hotmail.com   \n",
       "\n",
       "                                      shipping_address  \n",
       "39   {'city': 'Gia land', 'country': 'MR', 'street_...  \n",
       "999  {'city': 'Abelardo haven', 'country': 'TK', 's...  \n",
       "433  {'city': 'Kreiger side', 'country': 'GE', 'str...  \n",
       "333  {'city': 'McLaughlin mouth', 'country': 'FM', ...  \n",
       "425  {'city': 'Jacobi haven', 'country': 'IT', 'str...  "
      ]
     },
     "execution_count": 2,
     "metadata": {},
     "output_type": "execute_result"
    }
   ],
   "source": [
    "df_orders_concat_cut.sample(5)"
   ]
  },
  {
   "cell_type": "code",
   "execution_count": 3,
   "id": "72875cab",
   "metadata": {
    "ExecuteTime": {
     "end_time": "2022-05-30T01:20:35.034921Z",
     "start_time": "2022-05-30T01:20:34.660995Z"
    },
    "scrolled": true
   },
   "outputs": [
    {
     "data": {
      "text/plain": [
       "<AxesSubplot:>"
      ]
     },
     "execution_count": 3,
     "metadata": {},
     "output_type": "execute_result"
    },
    {
     "data": {
      "image/png": "[encoded data removed]",
      "text/plain": [
       "<Figure size 432x288 with 1 Axes>"
      ]
     },
     "metadata": {
      "needs_background": "light"
     },
     "output_type": "display_data"
    }
   ],
   "source": [
    "df_orders_concat_cut['user_id'].value_counts().hist(bins=6)"
   ]
  },
  {
   "cell_type": "code",
   "execution_count": 4,
   "id": "757704df",
   "metadata": {
    "ExecuteTime": {
     "end_time": "2022-05-30T01:20:35.088748Z",
     "start_time": "2022-05-30T01:20:35.037116Z"
    }
   },
   "outputs": [
    {
     "data": {
      "text/plain": [
       "<AxesSubplot:>"
      ]
     },
     "execution_count": 4,
     "metadata": {},
     "output_type": "execute_result"
    },
    {
     "data": {
      "image/png": "[encoded data removed]",
      "text/plain": [
       "<Figure size 432x288 with 1 Axes>"
      ]
     },
     "metadata": {
      "needs_background": "light"
     },
     "output_type": "display_data"
    }
   ],
   "source": [
    "df_orders_concat_cut['partner_id'].hist(bins=6)"
   ]
  },
  {
   "cell_type": "code",
   "execution_count": 5,
   "id": "617069e2",
   "metadata": {
    "ExecuteTime": {
     "end_time": "2022-05-30T01:20:35.095715Z",
     "start_time": "2022-05-30T01:20:35.090296Z"
    }
   },
   "outputs": [
    {
     "data": {
      "text/plain": [
       "instagram    308\n",
       "ppc          248\n",
       "facebook     214\n",
       "organic      123\n",
       "direct        76\n",
       "twitter       31\n",
       "Name: referrer, dtype: int64"
      ]
     },
     "execution_count": 5,
     "metadata": {},
     "output_type": "execute_result"
    }
   ],
   "source": [
    "df_orders_concat_cut['referrer'].value_counts()"
   ]
  },
  {
   "cell_type": "code",
   "execution_count": 6,
   "id": "c5d54f22",
   "metadata": {
    "ExecuteTime": {
     "end_time": "2022-05-30T01:20:35.119847Z",
     "start_time": "2022-05-30T01:20:35.115025Z"
    }
   },
   "outputs": [
    {
     "data": {
      "text/plain": [
       "0                      [5, 27]\n",
       "1                      [31, 9]\n",
       "2              [28, 32, 7, 40]\n",
       "3              [33, 15, 37, 3]\n",
       "4                         [17]\n",
       "                ...           \n",
       "995     [39, 25, 3, 33, 5, 20]\n",
       "996               [27, 20, 19]\n",
       "997    [30, 1, 14, 20, 24, 26]\n",
       "998        [2, 11, 40, 33, 17]\n",
       "999             [3, 13, 6, 26]\n",
       "Name: ordered_product_skus, Length: 1000, dtype: object"
      ]
     },
     "execution_count": 6,
     "metadata": {},
     "output_type": "execute_result"
    }
   ],
   "source": [
    "df_orders_concat_cut['ordered_product_skus']"
   ]
  },
  {
   "cell_type": "code",
   "execution_count": 7,
   "id": "942c0889",
   "metadata": {
    "ExecuteTime": {
     "end_time": "2022-05-30T01:20:35.250002Z",
     "start_time": "2022-05-30T01:20:35.240415Z"
    }
   },
   "outputs": [
    {
     "name": "stdout",
     "output_type": "stream",
     "text": [
      "unpopular product: 1\n",
      "unpopular product: 3\n",
      "unpopular product: 4\n",
      "unpopular product: 5\n",
      "unpopular product: 8\n",
      "unpopular product: 9\n",
      "unpopular product: 10\n",
      "unpopular product: 11\n",
      "unpopular product: 14\n",
      "unpopular product: 15\n",
      "unpopular product: 16\n",
      "unpopular product: 22\n",
      "unpopular product: 23\n",
      "unpopular product: 24\n",
      "unpopular product: 25\n",
      "unpopular product: 31\n",
      "unpopular product: 32\n",
      "unpopular product: 37\n",
      "unpopular product: 39\n",
      "unpopular product: 40\n",
      "unpopular product: 41\n",
      "unpopular product: 42\n"
     ]
    }
   ],
   "source": [
    "def product_manipulation(x):\n",
    "    if i in x:\n",
    "        if random.randint(0, 10) > 2:\n",
    "            if len(x) > 1:\n",
    "                x.remove(i)\n",
    "    return x\n",
    "\n",
    "for i in range(1, 43):\n",
    "    if random.randint(0, 10) > 3:\n",
    "        print(f'unpopular product: {i}')\n",
    "        df_orders_concat_cut['ordered_product_skus'] = df_orders_concat_cut['ordered_product_skus'].apply(lambda x: product_manipulation(x))"
   ]
  },
  {
   "cell_type": "code",
   "execution_count": 8,
   "id": "af94d1f4",
   "metadata": {
    "ExecuteTime": {
     "end_time": "2022-05-30T01:20:35.530956Z",
     "start_time": "2022-05-30T01:20:35.508340Z"
    }
   },
   "outputs": [
    {
     "data": {
      "text/html": [
       "<div>\n",
       "<style scoped>\n",
       "    .dataframe tbody tr th:only-of-type {\n",
       "        vertical-align: middle;\n",
       "    }\n",
       "\n",
       "    .dataframe tbody tr th {\n",
       "        vertical-align: top;\n",
       "    }\n",
       "\n",
       "    .dataframe thead th {\n",
       "        text-align: right;\n",
       "    }\n",
       "</style>\n",
       "<table border=\"1\" class=\"dataframe\">\n",
       "  <thead>\n",
       "    <tr style=\"text-align: right;\">\n",
       "      <th></th>\n",
       "      <th>order_id</th>\n",
       "      <th>currency</th>\n",
       "      <th>ordered_product_skus</th>\n",
       "      <th>partner_id</th>\n",
       "      <th>referrer</th>\n",
       "      <th>timestamp</th>\n",
       "      <th>user_id</th>\n",
       "      <th>browser</th>\n",
       "      <th>created_date</th>\n",
       "      <th>email</th>\n",
       "      <th>shipping_address</th>\n",
       "    </tr>\n",
       "  </thead>\n",
       "  <tbody>\n",
       "    <tr>\n",
       "      <th>0</th>\n",
       "      <td>1</td>\n",
       "      <td>USD</td>\n",
       "      <td>[5, 27]</td>\n",
       "      <td>3</td>\n",
       "      <td>ppc</td>\n",
       "      <td>2022-01-03 08:23:34</td>\n",
       "      <td>10</td>\n",
       "      <td>safari</td>\n",
       "      <td>2022-01-02 23:18:24</td>\n",
       "      <td>shannon_consequuntur@yahoo.com</td>\n",
       "      <td>{'city': 'Klein port', 'country': 'NO', 'stree...</td>\n",
       "    </tr>\n",
       "    <tr>\n",
       "      <th>1</th>\n",
       "      <td>2</td>\n",
       "      <td>USD</td>\n",
       "      <td>[9]</td>\n",
       "      <td>1</td>\n",
       "      <td>facebook</td>\n",
       "      <td>2022-01-05 08:22:10</td>\n",
       "      <td>13</td>\n",
       "      <td>safari</td>\n",
       "      <td>2022-01-03 08:13:21</td>\n",
       "      <td>casper_corporis@hotmail.com</td>\n",
       "      <td>{'city': 'Rhea haven', 'country': 'PT', 'stree...</td>\n",
       "    </tr>\n",
       "    <tr>\n",
       "      <th>2</th>\n",
       "      <td>3</td>\n",
       "      <td>USD</td>\n",
       "      <td>[28, 7]</td>\n",
       "      <td>4</td>\n",
       "      <td>ppc</td>\n",
       "      <td>2022-01-09 22:17:32</td>\n",
       "      <td>24</td>\n",
       "      <td>chrome</td>\n",
       "      <td>2022-01-04 21:10:59</td>\n",
       "      <td>thaddeus_eius@hotmail.com</td>\n",
       "      <td>{'city': 'Vandervort bury', 'country': 'JO', '...</td>\n",
       "    </tr>\n",
       "    <tr>\n",
       "      <th>3</th>\n",
       "      <td>4</td>\n",
       "      <td>USD</td>\n",
       "      <td>[33, 37]</td>\n",
       "      <td>3</td>\n",
       "      <td>instagram</td>\n",
       "      <td>2022-01-09 23:32:02</td>\n",
       "      <td>25</td>\n",
       "      <td>edge</td>\n",
       "      <td>2022-01-05 02:27:25</td>\n",
       "      <td>valentina_sit@yahoo.com</td>\n",
       "      <td>{'city': 'McLaughlin mouth', 'country': 'FM', ...</td>\n",
       "    </tr>\n",
       "    <tr>\n",
       "      <th>4</th>\n",
       "      <td>5</td>\n",
       "      <td>USD</td>\n",
       "      <td>[17]</td>\n",
       "      <td>4</td>\n",
       "      <td>ppc</td>\n",
       "      <td>2022-01-10 10:52:09</td>\n",
       "      <td>18</td>\n",
       "      <td>edge</td>\n",
       "      <td>2022-01-03 18:59:06</td>\n",
       "      <td>ed_quas@gmail.com</td>\n",
       "      <td>{'city': 'Gia land', 'country': 'MR', 'street_...</td>\n",
       "    </tr>\n",
       "    <tr>\n",
       "      <th>...</th>\n",
       "      <td>...</td>\n",
       "      <td>...</td>\n",
       "      <td>...</td>\n",
       "      <td>...</td>\n",
       "      <td>...</td>\n",
       "      <td>...</td>\n",
       "      <td>...</td>\n",
       "      <td>...</td>\n",
       "      <td>...</td>\n",
       "      <td>...</td>\n",
       "      <td>...</td>\n",
       "    </tr>\n",
       "    <tr>\n",
       "      <th>995</th>\n",
       "      <td>996</td>\n",
       "      <td>USD</td>\n",
       "      <td>[25, 3, 33, 20]</td>\n",
       "      <td>6</td>\n",
       "      <td>facebook</td>\n",
       "      <td>2022-05-30 09:52:13</td>\n",
       "      <td>100</td>\n",
       "      <td>edge</td>\n",
       "      <td>2022-01-15 13:28:58</td>\n",
       "      <td>hector_magni@yahoo.com</td>\n",
       "      <td>{'city': 'Cassin haven', 'country': 'MY', 'str...</td>\n",
       "    </tr>\n",
       "    <tr>\n",
       "      <th>996</th>\n",
       "      <td>997</td>\n",
       "      <td>USD</td>\n",
       "      <td>[27, 20, 19]</td>\n",
       "      <td>3</td>\n",
       "      <td>instagram</td>\n",
       "      <td>2022-05-30 17:17:13</td>\n",
       "      <td>333</td>\n",
       "      <td>internet_explorer</td>\n",
       "      <td>2022-02-21 14:42:22</td>\n",
       "      <td>deondre_libero@hotmail.com</td>\n",
       "      <td>{'city': 'Regan chester', 'country': 'MQ', 'st...</td>\n",
       "    </tr>\n",
       "    <tr>\n",
       "      <th>997</th>\n",
       "      <td>998</td>\n",
       "      <td>USD</td>\n",
       "      <td>[30, 20, 24, 26]</td>\n",
       "      <td>3</td>\n",
       "      <td>facebook</td>\n",
       "      <td>2022-05-31 08:00:34</td>\n",
       "      <td>979</td>\n",
       "      <td>safari</td>\n",
       "      <td>2022-05-27 19:48:10</td>\n",
       "      <td>javon_quia@yahoo.com</td>\n",
       "      <td>{'city': 'Bayer haven', 'country': 'BI', 'stre...</td>\n",
       "    </tr>\n",
       "    <tr>\n",
       "      <th>998</th>\n",
       "      <td>999</td>\n",
       "      <td>USD</td>\n",
       "      <td>[2, 33, 17]</td>\n",
       "      <td>4</td>\n",
       "      <td>facebook</td>\n",
       "      <td>2022-05-31 14:30:22</td>\n",
       "      <td>583</td>\n",
       "      <td>netscape</td>\n",
       "      <td>2022-03-29 07:18:34</td>\n",
       "      <td>reagan_corporis@gmail.com</td>\n",
       "      <td>{'city': 'Bednar mouth', 'country': 'SG', 'str...</td>\n",
       "    </tr>\n",
       "    <tr>\n",
       "      <th>999</th>\n",
       "      <td>1000</td>\n",
       "      <td>USD</td>\n",
       "      <td>[13, 6, 26]</td>\n",
       "      <td>4</td>\n",
       "      <td>organic</td>\n",
       "      <td>2022-05-31 19:37:13</td>\n",
       "      <td>217</td>\n",
       "      <td>safari</td>\n",
       "      <td>2022-02-04 15:27:04</td>\n",
       "      <td>constantin_ratione@gmail.com</td>\n",
       "      <td>{'city': 'Abelardo haven', 'country': 'TK', 's...</td>\n",
       "    </tr>\n",
       "  </tbody>\n",
       "</table>\n",
       "<p>1000 rows × 11 columns</p>\n",
       "</div>"
      ],
      "text/plain": [
       "     order_id currency ordered_product_skus  partner_id   referrer  \\\n",
       "0           1      USD              [5, 27]           3        ppc   \n",
       "1           2      USD                  [9]           1   facebook   \n",
       "2           3      USD              [28, 7]           4        ppc   \n",
       "3           4      USD             [33, 37]           3  instagram   \n",
       "4           5      USD                 [17]           4        ppc   \n",
       "..        ...      ...                  ...         ...        ...   \n",
       "995       996      USD      [25, 3, 33, 20]           6   facebook   \n",
       "996       997      USD         [27, 20, 19]           3  instagram   \n",
       "997       998      USD     [30, 20, 24, 26]           3   facebook   \n",
       "998       999      USD          [2, 33, 17]           4   facebook   \n",
       "999      1000      USD          [13, 6, 26]           4    organic   \n",
       "\n",
       "              timestamp  user_id            browser         created_date  \\\n",
       "0   2022-01-03 08:23:34       10             safari  2022-01-02 23:18:24   \n",
       "1   2022-01-05 08:22:10       13             safari  2022-01-03 08:13:21   \n",
       "2   2022-01-09 22:17:32       24             chrome  2022-01-04 21:10:59   \n",
       "3   2022-01-09 23:32:02       25               edge  2022-01-05 02:27:25   \n",
       "4   2022-01-10 10:52:09       18               edge  2022-01-03 18:59:06   \n",
       "..                  ...      ...                ...                  ...   \n",
       "995 2022-05-30 09:52:13      100               edge  2022-01-15 13:28:58   \n",
       "996 2022-05-30 17:17:13      333  internet_explorer  2022-02-21 14:42:22   \n",
       "997 2022-05-31 08:00:34      979             safari  2022-05-27 19:48:10   \n",
       "998 2022-05-31 14:30:22      583           netscape  2022-03-29 07:18:34   \n",
       "999 2022-05-31 19:37:13      217             safari  2022-02-04 15:27:04   \n",
       "\n",
       "                              email  \\\n",
       "0    shannon_consequuntur@yahoo.com   \n",
       "1       casper_corporis@hotmail.com   \n",
       "2         thaddeus_eius@hotmail.com   \n",
       "3           valentina_sit@yahoo.com   \n",
       "4                 ed_quas@gmail.com   \n",
       "..                              ...   \n",
       "995          hector_magni@yahoo.com   \n",
       "996      deondre_libero@hotmail.com   \n",
       "997            javon_quia@yahoo.com   \n",
       "998       reagan_corporis@gmail.com   \n",
       "999    constantin_ratione@gmail.com   \n",
       "\n",
       "                                      shipping_address  \n",
       "0    {'city': 'Klein port', 'country': 'NO', 'stree...  \n",
       "1    {'city': 'Rhea haven', 'country': 'PT', 'stree...  \n",
       "2    {'city': 'Vandervort bury', 'country': 'JO', '...  \n",
       "3    {'city': 'McLaughlin mouth', 'country': 'FM', ...  \n",
       "4    {'city': 'Gia land', 'country': 'MR', 'street_...  \n",
       "..                                                 ...  \n",
       "995  {'city': 'Cassin haven', 'country': 'MY', 'str...  \n",
       "996  {'city': 'Regan chester', 'country': 'MQ', 'st...  \n",
       "997  {'city': 'Bayer haven', 'country': 'BI', 'stre...  \n",
       "998  {'city': 'Bednar mouth', 'country': 'SG', 'str...  \n",
       "999  {'city': 'Abelardo haven', 'country': 'TK', 's...  \n",
       "\n",
       "[1000 rows x 11 columns]"
      ]
     },
     "execution_count": 8,
     "metadata": {},
     "output_type": "execute_result"
    }
   ],
   "source": [
    "df_orders_concat_cut"
   ]
  },
  {
   "cell_type": "code",
   "execution_count": 9,
   "id": "578b373e",
   "metadata": {
    "ExecuteTime": {
     "end_time": "2022-05-30T01:20:35.663271Z",
     "start_time": "2022-05-30T01:20:35.633985Z"
    }
   },
   "outputs": [
    {
     "data": {
      "text/plain": [
       "[13]                15\n",
       "[17]                14\n",
       "[39]                12\n",
       "[37]                12\n",
       "[20]                11\n",
       "                    ..\n",
       "[29, 21, 34]         1\n",
       "[34, 37, 38, 34]     1\n",
       "[28, 22]             1\n",
       "[18, 20, 13]         1\n",
       "[13, 6, 26]          1\n",
       "Name: ordered_product_skus, Length: 675, dtype: int64"
      ]
     },
     "execution_count": 9,
     "metadata": {},
     "output_type": "execute_result"
    }
   ],
   "source": [
    "df_orders_concat_cut['ordered_product_skus'].value_counts()"
   ]
  },
  {
   "cell_type": "code",
   "execution_count": 10,
   "id": "51ed8bc5",
   "metadata": {
    "ExecuteTime": {
     "end_time": "2022-05-30T01:20:35.723327Z",
     "start_time": "2022-05-30T01:20:35.718450Z"
    }
   },
   "outputs": [],
   "source": [
    "to_drop = [\n",
    "    'browser',\n",
    "    'created_date',\n",
    "    'email',\n",
    "    'shipping_address',\n",
    "]\n",
    "df_orders_concat_cut.drop(to_drop, inplace=True, axis=1)"
   ]
  },
  {
   "cell_type": "code",
   "execution_count": 11,
   "id": "299398a2",
   "metadata": {
    "ExecuteTime": {
     "end_time": "2022-05-30T01:20:35.866998Z",
     "start_time": "2022-05-30T01:20:35.853499Z"
    }
   },
   "outputs": [],
   "source": [
    "df_orders_concat_cut.to_csv('transformed_data/orders.csv', index=False)"
   ]
  },
  {
   "cell_type": "code",
   "execution_count": 12,
   "id": "4b781442",
   "metadata": {
    "ExecuteTime": {
     "end_time": "2022-05-30T01:20:36.099621Z",
     "start_time": "2022-05-30T01:20:36.086938Z"
    }
   },
   "outputs": [],
   "source": [
    "df_baskets = df_orders_concat_cut.explode('ordered_product_skus')[['order_id', 'ordered_product_skus']]\n",
    "df_baskets.reset_index(inplace=True, drop=True)\n",
    "df_baskets.reset_index(inplace=True)\n",
    "df_baskets = df_baskets.rename({'index': 'basket_item_id'}, axis=1)\n",
    "df_baskets['basket_item_id']+=1"
   ]
  },
  {
   "cell_type": "code",
   "execution_count": 13,
   "id": "4db8fafb",
   "metadata": {
    "ExecuteTime": {
     "end_time": "2022-05-30T01:20:36.211734Z",
     "start_time": "2022-05-30T01:20:36.201391Z"
    },
    "scrolled": true
   },
   "outputs": [],
   "source": [
    "df_baskets.to_csv('transformed_data/baskets.csv', index=False)"
   ]
  },
  {
   "cell_type": "code",
   "execution_count": 14,
   "id": "1b93287b",
   "metadata": {
    "ExecuteTime": {
     "end_time": "2022-05-30T01:20:36.384119Z",
     "start_time": "2022-05-30T01:20:36.302622Z"
    }
   },
   "outputs": [
    {
     "data": {
      "text/plain": [
       "<AxesSubplot:>"
      ]
     },
     "execution_count": 14,
     "metadata": {},
     "output_type": "execute_result"
    },
    {
     "data": {
      "image/png": "[encoded data removed]",
      "text/plain": [
       "<Figure size 432x288 with 1 Axes>"
      ]
     },
     "metadata": {
      "needs_background": "light"
     },
     "output_type": "display_data"
    }
   ],
   "source": [
    "df_baskets['ordered_product_skus'].hist()"
   ]
  },
  {
   "cell_type": "code",
   "execution_count": 15,
   "id": "57681f48",
   "metadata": {
    "ExecuteTime": {
     "end_time": "2022-05-30T01:20:36.426102Z",
     "start_time": "2022-05-30T01:20:36.420146Z"
    }
   },
   "outputs": [
    {
     "data": {
      "text/html": [
       "<div>\n",
       "<style scoped>\n",
       "    .dataframe tbody tr th:only-of-type {\n",
       "        vertical-align: middle;\n",
       "    }\n",
       "\n",
       "    .dataframe tbody tr th {\n",
       "        vertical-align: top;\n",
       "    }\n",
       "\n",
       "    .dataframe thead th {\n",
       "        text-align: right;\n",
       "    }\n",
       "</style>\n",
       "<table border=\"1\" class=\"dataframe\">\n",
       "  <thead>\n",
       "    <tr style=\"text-align: right;\">\n",
       "      <th></th>\n",
       "      <th>basket_item_id</th>\n",
       "      <th>order_id</th>\n",
       "      <th>ordered_product_skus</th>\n",
       "    </tr>\n",
       "  </thead>\n",
       "  <tbody>\n",
       "    <tr>\n",
       "      <th>0</th>\n",
       "      <td>1</td>\n",
       "      <td>1</td>\n",
       "      <td>5</td>\n",
       "    </tr>\n",
       "    <tr>\n",
       "      <th>1</th>\n",
       "      <td>2</td>\n",
       "      <td>1</td>\n",
       "      <td>27</td>\n",
       "    </tr>\n",
       "    <tr>\n",
       "      <th>2</th>\n",
       "      <td>3</td>\n",
       "      <td>2</td>\n",
       "      <td>9</td>\n",
       "    </tr>\n",
       "    <tr>\n",
       "      <th>3</th>\n",
       "      <td>4</td>\n",
       "      <td>3</td>\n",
       "      <td>28</td>\n",
       "    </tr>\n",
       "    <tr>\n",
       "      <th>4</th>\n",
       "      <td>5</td>\n",
       "      <td>3</td>\n",
       "      <td>7</td>\n",
       "    </tr>\n",
       "    <tr>\n",
       "      <th>...</th>\n",
       "      <td>...</td>\n",
       "      <td>...</td>\n",
       "      <td>...</td>\n",
       "    </tr>\n",
       "    <tr>\n",
       "      <th>2365</th>\n",
       "      <td>2366</td>\n",
       "      <td>999</td>\n",
       "      <td>33</td>\n",
       "    </tr>\n",
       "    <tr>\n",
       "      <th>2366</th>\n",
       "      <td>2367</td>\n",
       "      <td>999</td>\n",
       "      <td>17</td>\n",
       "    </tr>\n",
       "    <tr>\n",
       "      <th>2367</th>\n",
       "      <td>2368</td>\n",
       "      <td>1000</td>\n",
       "      <td>13</td>\n",
       "    </tr>\n",
       "    <tr>\n",
       "      <th>2368</th>\n",
       "      <td>2369</td>\n",
       "      <td>1000</td>\n",
       "      <td>6</td>\n",
       "    </tr>\n",
       "    <tr>\n",
       "      <th>2369</th>\n",
       "      <td>2370</td>\n",
       "      <td>1000</td>\n",
       "      <td>26</td>\n",
       "    </tr>\n",
       "  </tbody>\n",
       "</table>\n",
       "<p>2370 rows × 3 columns</p>\n",
       "</div>"
      ],
      "text/plain": [
       "      basket_item_id  order_id ordered_product_skus\n",
       "0                  1         1                    5\n",
       "1                  2         1                   27\n",
       "2                  3         2                    9\n",
       "3                  4         3                   28\n",
       "4                  5         3                    7\n",
       "...              ...       ...                  ...\n",
       "2365            2366       999                   33\n",
       "2366            2367       999                   17\n",
       "2367            2368      1000                   13\n",
       "2368            2369      1000                    6\n",
       "2369            2370      1000                   26\n",
       "\n",
       "[2370 rows x 3 columns]"
      ]
     },
     "execution_count": 15,
     "metadata": {},
     "output_type": "execute_result"
    }
   ],
   "source": [
    "df_baskets"
   ]
  },
  {
   "cell_type": "code",
   "execution_count": 16,
   "id": "3fc1db7f",
   "metadata": {
    "ExecuteTime": {
     "end_time": "2022-05-30T01:20:36.539148Z",
     "start_time": "2022-05-30T01:20:36.531418Z"
    }
   },
   "outputs": [
    {
     "data": {
      "text/html": [
       "<div>\n",
       "<style scoped>\n",
       "    .dataframe tbody tr th:only-of-type {\n",
       "        vertical-align: middle;\n",
       "    }\n",
       "\n",
       "    .dataframe tbody tr th {\n",
       "        vertical-align: top;\n",
       "    }\n",
       "\n",
       "    .dataframe thead th {\n",
       "        text-align: right;\n",
       "    }\n",
       "</style>\n",
       "<table border=\"1\" class=\"dataframe\">\n",
       "  <thead>\n",
       "    <tr style=\"text-align: right;\">\n",
       "      <th></th>\n",
       "      <th>ordered_product_skus</th>\n",
       "    </tr>\n",
       "    <tr>\n",
       "      <th>order_id</th>\n",
       "      <th></th>\n",
       "    </tr>\n",
       "  </thead>\n",
       "  <tbody>\n",
       "    <tr>\n",
       "      <th>1</th>\n",
       "      <td>2</td>\n",
       "    </tr>\n",
       "    <tr>\n",
       "      <th>2</th>\n",
       "      <td>1</td>\n",
       "    </tr>\n",
       "    <tr>\n",
       "      <th>3</th>\n",
       "      <td>2</td>\n",
       "    </tr>\n",
       "    <tr>\n",
       "      <th>4</th>\n",
       "      <td>2</td>\n",
       "    </tr>\n",
       "    <tr>\n",
       "      <th>5</th>\n",
       "      <td>1</td>\n",
       "    </tr>\n",
       "    <tr>\n",
       "      <th>...</th>\n",
       "      <td>...</td>\n",
       "    </tr>\n",
       "    <tr>\n",
       "      <th>996</th>\n",
       "      <td>4</td>\n",
       "    </tr>\n",
       "    <tr>\n",
       "      <th>997</th>\n",
       "      <td>3</td>\n",
       "    </tr>\n",
       "    <tr>\n",
       "      <th>998</th>\n",
       "      <td>4</td>\n",
       "    </tr>\n",
       "    <tr>\n",
       "      <th>999</th>\n",
       "      <td>3</td>\n",
       "    </tr>\n",
       "    <tr>\n",
       "      <th>1000</th>\n",
       "      <td>3</td>\n",
       "    </tr>\n",
       "  </tbody>\n",
       "</table>\n",
       "<p>1000 rows × 1 columns</p>\n",
       "</div>"
      ],
      "text/plain": [
       "          ordered_product_skus\n",
       "order_id                      \n",
       "1                            2\n",
       "2                            1\n",
       "3                            2\n",
       "4                            2\n",
       "5                            1\n",
       "...                        ...\n",
       "996                          4\n",
       "997                          3\n",
       "998                          4\n",
       "999                          3\n",
       "1000                         3\n",
       "\n",
       "[1000 rows x 1 columns]"
      ]
     },
     "execution_count": 16,
     "metadata": {},
     "output_type": "execute_result"
    }
   ],
   "source": [
    "df_baskets[['order_id', 'ordered_product_skus']].groupby('order_id').agg('count')"
   ]
  },
  {
   "cell_type": "code",
   "execution_count": 17,
   "id": "c4bbaadb",
   "metadata": {
    "ExecuteTime": {
     "end_time": "2022-05-30T01:20:36.641435Z",
     "start_time": "2022-05-30T01:20:36.637276Z"
    }
   },
   "outputs": [
    {
     "data": {
      "text/html": [
       "<div>\n",
       "<style scoped>\n",
       "    .dataframe tbody tr th:only-of-type {\n",
       "        vertical-align: middle;\n",
       "    }\n",
       "\n",
       "    .dataframe tbody tr th {\n",
       "        vertical-align: top;\n",
       "    }\n",
       "\n",
       "    .dataframe thead th {\n",
       "        text-align: right;\n",
       "    }\n",
       "</style>\n",
       "<table border=\"1\" class=\"dataframe\">\n",
       "  <thead>\n",
       "    <tr style=\"text-align: right;\">\n",
       "      <th></th>\n",
       "      <th>price_amount</th>\n",
       "      <th>price_currency</th>\n",
       "      <th>product_name</th>\n",
       "      <th>sku</th>\n",
       "    </tr>\n",
       "  </thead>\n",
       "  <tbody>\n",
       "    <tr>\n",
       "      <th>30</th>\n",
       "      <td>25</td>\n",
       "      <td>USD</td>\n",
       "      <td>Spider plant</td>\n",
       "      <td>31</td>\n",
       "    </tr>\n",
       "    <tr>\n",
       "      <th>32</th>\n",
       "      <td>20</td>\n",
       "      <td>USD</td>\n",
       "      <td>Olive tree</td>\n",
       "      <td>33</td>\n",
       "    </tr>\n",
       "    <tr>\n",
       "      <th>19</th>\n",
       "      <td>17</td>\n",
       "      <td>USD</td>\n",
       "      <td>Bamboo</td>\n",
       "      <td>20</td>\n",
       "    </tr>\n",
       "    <tr>\n",
       "      <th>1</th>\n",
       "      <td>250</td>\n",
       "      <td>USD</td>\n",
       "      <td>Wood-fired pizza oven</td>\n",
       "      <td>2</td>\n",
       "    </tr>\n",
       "    <tr>\n",
       "      <th>18</th>\n",
       "      <td>3</td>\n",
       "      <td>USD</td>\n",
       "      <td>Thyme seeds</td>\n",
       "      <td>19</td>\n",
       "    </tr>\n",
       "    <tr>\n",
       "      <th>26</th>\n",
       "      <td>65</td>\n",
       "      <td>USD</td>\n",
       "      <td>Ficus</td>\n",
       "      <td>27</td>\n",
       "    </tr>\n",
       "    <tr>\n",
       "      <th>40</th>\n",
       "      <td>34</td>\n",
       "      <td>USD</td>\n",
       "      <td>Calathea</td>\n",
       "      <td>41</td>\n",
       "    </tr>\n",
       "    <tr>\n",
       "      <th>28</th>\n",
       "      <td>30</td>\n",
       "      <td>USD</td>\n",
       "      <td>Alocasia</td>\n",
       "      <td>29</td>\n",
       "    </tr>\n",
       "    <tr>\n",
       "      <th>14</th>\n",
       "      <td>80</td>\n",
       "      <td>USD</td>\n",
       "      <td>Fire Pit Medium</td>\n",
       "      <td>15</td>\n",
       "    </tr>\n",
       "    <tr>\n",
       "      <th>37</th>\n",
       "      <td>25</td>\n",
       "      <td>USD</td>\n",
       "      <td>Money plant</td>\n",
       "      <td>38</td>\n",
       "    </tr>\n",
       "  </tbody>\n",
       "</table>\n",
       "</div>"
      ],
      "text/plain": [
       "    price_amount price_currency           product_name  sku\n",
       "30            25            USD           Spider plant   31\n",
       "32            20            USD             Olive tree   33\n",
       "19            17            USD                 Bamboo   20\n",
       "1            250            USD  Wood-fired pizza oven    2\n",
       "18             3            USD            Thyme seeds   19\n",
       "26            65            USD                  Ficus   27\n",
       "40            34            USD               Calathea   41\n",
       "28            30            USD               Alocasia   29\n",
       "14            80            USD        Fire Pit Medium   15\n",
       "37            25            USD            Money plant   38"
      ]
     },
     "execution_count": 17,
     "metadata": {},
     "output_type": "execute_result"
    }
   ],
   "source": [
    "df_products.sample(10)"
   ]
  },
  {
   "cell_type": "code",
   "execution_count": 18,
   "id": "fa7508d9",
   "metadata": {
    "ExecuteTime": {
     "end_time": "2022-05-30T01:20:36.753071Z",
     "start_time": "2022-05-30T01:20:36.749866Z"
    }
   },
   "outputs": [],
   "source": [
    "df_products.to_csv('transformed_data/products.csv', index=False)"
   ]
  },
  {
   "cell_type": "code",
   "execution_count": 19,
   "id": "0998d261",
   "metadata": {
    "ExecuteTime": {
     "end_time": "2022-05-30T01:20:36.881153Z",
     "start_time": "2022-05-30T01:20:36.870381Z"
    }
   },
   "outputs": [
    {
     "data": {
      "text/html": [
       "<div>\n",
       "<style scoped>\n",
       "    .dataframe tbody tr th:only-of-type {\n",
       "        vertical-align: middle;\n",
       "    }\n",
       "\n",
       "    .dataframe tbody tr th {\n",
       "        vertical-align: top;\n",
       "    }\n",
       "\n",
       "    .dataframe thead th {\n",
       "        text-align: right;\n",
       "    }\n",
       "</style>\n",
       "<table border=\"1\" class=\"dataframe\">\n",
       "  <thead>\n",
       "    <tr style=\"text-align: right;\">\n",
       "      <th></th>\n",
       "      <th>partner_commission</th>\n",
       "      <th>partner_id</th>\n",
       "      <th>partner_name</th>\n",
       "    </tr>\n",
       "  </thead>\n",
       "  <tbody>\n",
       "    <tr>\n",
       "      <th>0</th>\n",
       "      <td>0.18</td>\n",
       "      <td>1</td>\n",
       "      <td>Plant Paradise</td>\n",
       "    </tr>\n",
       "    <tr>\n",
       "      <th>1</th>\n",
       "      <td>0.14</td>\n",
       "      <td>2</td>\n",
       "      <td>Garden of Sweden</td>\n",
       "    </tr>\n",
       "    <tr>\n",
       "      <th>2</th>\n",
       "      <td>0.06</td>\n",
       "      <td>3</td>\n",
       "      <td>Peat, Fruits and Leaves</td>\n",
       "    </tr>\n",
       "    <tr>\n",
       "      <th>3</th>\n",
       "      <td>0.22</td>\n",
       "      <td>4</td>\n",
       "      <td>Redwood Ranch</td>\n",
       "    </tr>\n",
       "    <tr>\n",
       "      <th>4</th>\n",
       "      <td>0.08</td>\n",
       "      <td>5</td>\n",
       "      <td>Trowels R Us</td>\n",
       "    </tr>\n",
       "    <tr>\n",
       "      <th>5</th>\n",
       "      <td>0.14</td>\n",
       "      <td>6</td>\n",
       "      <td>Glorious Gardens</td>\n",
       "    </tr>\n",
       "  </tbody>\n",
       "</table>\n",
       "</div>"
      ],
      "text/plain": [
       "   partner_commission  partner_id             partner_name\n",
       "0                0.18           1           Plant Paradise\n",
       "1                0.14           2         Garden of Sweden\n",
       "2                0.06           3  Peat, Fruits and Leaves\n",
       "3                0.22           4            Redwood Ranch\n",
       "4                0.08           5             Trowels R Us\n",
       "5                0.14           6         Glorious Gardens"
      ]
     },
     "execution_count": 19,
     "metadata": {},
     "output_type": "execute_result"
    }
   ],
   "source": [
    "df_partners"
   ]
  },
  {
   "cell_type": "code",
   "execution_count": 20,
   "id": "b453409c",
   "metadata": {
    "ExecuteTime": {
     "end_time": "2022-05-30T01:20:37.008895Z",
     "start_time": "2022-05-30T01:20:37.004338Z"
    }
   },
   "outputs": [],
   "source": [
    "df_partners.to_csv('transformed_data/partners.csv', index=False)"
   ]
  },
  {
   "cell_type": "code",
   "execution_count": 21,
   "id": "81befd9c",
   "metadata": {
    "ExecuteTime": {
     "end_time": "2022-05-30T01:20:37.256910Z",
     "start_time": "2022-05-30T01:20:37.240466Z"
    }
   },
   "outputs": [
    {
     "data": {
      "text/html": [
       "<div>\n",
       "<style scoped>\n",
       "    .dataframe tbody tr th:only-of-type {\n",
       "        vertical-align: middle;\n",
       "    }\n",
       "\n",
       "    .dataframe tbody tr th {\n",
       "        vertical-align: top;\n",
       "    }\n",
       "\n",
       "    .dataframe thead th {\n",
       "        text-align: right;\n",
       "    }\n",
       "</style>\n",
       "<table border=\"1\" class=\"dataframe\">\n",
       "  <thead>\n",
       "    <tr style=\"text-align: right;\">\n",
       "      <th></th>\n",
       "      <th>browser</th>\n",
       "      <th>created_date</th>\n",
       "      <th>email</th>\n",
       "      <th>shipping_address</th>\n",
       "      <th>user_id</th>\n",
       "    </tr>\n",
       "  </thead>\n",
       "  <tbody>\n",
       "    <tr>\n",
       "      <th>177</th>\n",
       "      <td>edge</td>\n",
       "      <td>2022-01-29 02:19:11</td>\n",
       "      <td>dennis_ea@gmail.com</td>\n",
       "      <td>{'city': 'Kaci ton', 'country': 'SO', 'street_...</td>\n",
       "      <td>178</td>\n",
       "    </tr>\n",
       "    <tr>\n",
       "      <th>983</th>\n",
       "      <td>safari</td>\n",
       "      <td>2022-05-28 15:43:34</td>\n",
       "      <td>eulalia_sunt@gmail.com</td>\n",
       "      <td>{'city': 'Lake Blake Mohr haven', 'country': '...</td>\n",
       "      <td>984</td>\n",
       "    </tr>\n",
       "    <tr>\n",
       "      <th>805</th>\n",
       "      <td>safari</td>\n",
       "      <td>2022-05-01 16:30:34</td>\n",
       "      <td>samara_omnis@hotmail.com</td>\n",
       "      <td>{'city': 'Lucie furt', 'country': 'GM', 'stree...</td>\n",
       "      <td>806</td>\n",
       "    </tr>\n",
       "    <tr>\n",
       "      <th>539</th>\n",
       "      <td>chrome</td>\n",
       "      <td>2022-03-21 22:50:52</td>\n",
       "      <td>adeline_culpa@hotmail.com</td>\n",
       "      <td>{'city': 'New Brandyn Ferry town', 'country': ...</td>\n",
       "      <td>540</td>\n",
       "    </tr>\n",
       "    <tr>\n",
       "      <th>307</th>\n",
       "      <td>firefox</td>\n",
       "      <td>2022-02-18 03:27:39</td>\n",
       "      <td>brycen_et@hotmail.com</td>\n",
       "      <td>{'city': 'Beer fort', 'country': 'SX', 'street...</td>\n",
       "      <td>308</td>\n",
       "    </tr>\n",
       "    <tr>\n",
       "      <th>561</th>\n",
       "      <td>firefox</td>\n",
       "      <td>2022-03-24 22:42:00</td>\n",
       "      <td>rahul_ad@yahoo.com</td>\n",
       "      <td>{'city': 'Layne ville', 'country': 'BA', 'stre...</td>\n",
       "      <td>562</td>\n",
       "    </tr>\n",
       "    <tr>\n",
       "      <th>161</th>\n",
       "      <td>edge</td>\n",
       "      <td>2022-01-26 13:23:17</td>\n",
       "      <td>newell_illo@hotmail.com</td>\n",
       "      <td>{'city': 'Paxton chester', 'country': 'KP', 's...</td>\n",
       "      <td>162</td>\n",
       "    </tr>\n",
       "    <tr>\n",
       "      <th>3</th>\n",
       "      <td>safari</td>\n",
       "      <td>2022-01-01 23:39:30</td>\n",
       "      <td>bill_rem@yahoo.com</td>\n",
       "      <td>{'city': 'Shane fort', 'country': 'KN', 'stree...</td>\n",
       "      <td>4</td>\n",
       "    </tr>\n",
       "    <tr>\n",
       "      <th>767</th>\n",
       "      <td>safari</td>\n",
       "      <td>2022-04-25 20:28:04</td>\n",
       "      <td>jacques_excepturi@hotmail.com</td>\n",
       "      <td>{'city': 'Bauch borough', 'country': 'CY', 'st...</td>\n",
       "      <td>768</td>\n",
       "    </tr>\n",
       "    <tr>\n",
       "      <th>854</th>\n",
       "      <td>edge</td>\n",
       "      <td>2022-05-09 07:08:39</td>\n",
       "      <td>giovanna_eligendi@gmail.com</td>\n",
       "      <td>{'city': 'Gislason town', 'country': 'PE', 'st...</td>\n",
       "      <td>855</td>\n",
       "    </tr>\n",
       "  </tbody>\n",
       "</table>\n",
       "</div>"
      ],
      "text/plain": [
       "     browser         created_date                          email  \\\n",
       "177     edge  2022-01-29 02:19:11            dennis_ea@gmail.com   \n",
       "983   safari  2022-05-28 15:43:34         eulalia_sunt@gmail.com   \n",
       "805   safari  2022-05-01 16:30:34       samara_omnis@hotmail.com   \n",
       "539   chrome  2022-03-21 22:50:52      adeline_culpa@hotmail.com   \n",
       "307  firefox  2022-02-18 03:27:39          brycen_et@hotmail.com   \n",
       "561  firefox  2022-03-24 22:42:00             rahul_ad@yahoo.com   \n",
       "161     edge  2022-01-26 13:23:17        newell_illo@hotmail.com   \n",
       "3     safari  2022-01-01 23:39:30             bill_rem@yahoo.com   \n",
       "767   safari  2022-04-25 20:28:04  jacques_excepturi@hotmail.com   \n",
       "854     edge  2022-05-09 07:08:39    giovanna_eligendi@gmail.com   \n",
       "\n",
       "                                      shipping_address  user_id  \n",
       "177  {'city': 'Kaci ton', 'country': 'SO', 'street_...      178  \n",
       "983  {'city': 'Lake Blake Mohr haven', 'country': '...      984  \n",
       "805  {'city': 'Lucie furt', 'country': 'GM', 'stree...      806  \n",
       "539  {'city': 'New Brandyn Ferry town', 'country': ...      540  \n",
       "307  {'city': 'Beer fort', 'country': 'SX', 'street...      308  \n",
       "561  {'city': 'Layne ville', 'country': 'BA', 'stre...      562  \n",
       "161  {'city': 'Paxton chester', 'country': 'KP', 's...      162  \n",
       "3    {'city': 'Shane fort', 'country': 'KN', 'stree...        4  \n",
       "767  {'city': 'Bauch borough', 'country': 'CY', 'st...      768  \n",
       "854  {'city': 'Gislason town', 'country': 'PE', 'st...      855  "
      ]
     },
     "execution_count": 21,
     "metadata": {},
     "output_type": "execute_result"
    }
   ],
   "source": [
    "df_users.sample(10)"
   ]
  },
  {
   "cell_type": "code",
   "execution_count": 22,
   "id": "a629786a",
   "metadata": {
    "ExecuteTime": {
     "end_time": "2022-05-30T01:20:37.515410Z",
     "start_time": "2022-05-30T01:20:37.508383Z"
    }
   },
   "outputs": [
    {
     "data": {
      "text/plain": [
       "chrome               501\n",
       "safari               243\n",
       "edge                 179\n",
       "firefox               41\n",
       "internet_explorer     20\n",
       "netscape              14\n",
       "lynx                   2\n",
       "Name: browser, dtype: int64"
      ]
     },
     "execution_count": 22,
     "metadata": {},
     "output_type": "execute_result"
    }
   ],
   "source": [
    "df_users['browser'].value_counts()"
   ]
  },
  {
   "cell_type": "code",
   "execution_count": 23,
   "id": "49fc5cca",
   "metadata": {
    "ExecuteTime": {
     "end_time": "2022-05-30T01:20:37.745082Z",
     "start_time": "2022-05-30T01:20:37.727549Z"
    }
   },
   "outputs": [],
   "source": [
    "df_users.to_csv('transformed_data/users.csv', index=False)"
   ]
  },
  {
   "cell_type": "code",
   "execution_count": 24,
   "id": "124b1522",
   "metadata": {
    "ExecuteTime": {
     "end_time": "2022-05-30T01:20:37.984672Z",
     "start_time": "2022-05-30T01:20:37.963927Z"
    }
   },
   "outputs": [],
   "source": [
    "df_orders_support_requests = pd.merge(df_support_requests, df_orders_concat_cut, how='left', on='order_id')\n",
    "df_orders_support_requests = df_orders_support_requests.loc[df_orders_support_requests['timestamp_x']>df_orders_support_requests['timestamp_y']]\n",
    "df_orders_support_requests.rename({'timestamp_x': 'timestamp'}, axis=1, inplace=True)\n",
    "\n",
    "to_drop = [\n",
    "    'currency',\n",
    "    'ordered_product_skus',\n",
    "    'partner_id',\n",
    "    'referrer',\n",
    "    'timestamp_y',\n",
    "    'user_id'\n",
    "]\n",
    "\n",
    "df_orders_support_requests.drop(to_drop, inplace=True, axis=1)\n",
    "df_orders_support_requests_concat = pd.concat([df_orders_support_requests, df_support_requests_random])\n",
    "\n",
    "df_orders_support_requests_concat_merge = pd.merge(df_orders_support_requests_concat, df_orders_concat_cut, how='left', on='order_id')\n",
    "df_orders_support_requests_concat_merge_cut = df_orders_support_requests_concat_merge.loc[df_orders_support_requests_concat_merge['timestamp_x']>df_orders_support_requests_concat_merge['timestamp_y']]\n",
    "df_orders_support_requests_concat_merge_cut = df_orders_support_requests_concat_merge_cut.rename({'timestamp_x': 'timestamp'}, axis=1)\n",
    "\n",
    "to_drop = [\n",
    "    'currency',\n",
    "    'ordered_product_skus',\n",
    "    'partner_id',\n",
    "    'referrer',\n",
    "    'timestamp_y',\n",
    "    'user_id'\n",
    "]\n",
    "\n",
    "df_orders_support_requests_concat_merge_cut.drop(to_drop, inplace=True, axis=1)"
   ]
  },
  {
   "cell_type": "code",
   "execution_count": 25,
   "id": "4f828ec4",
   "metadata": {
    "ExecuteTime": {
     "end_time": "2022-05-30T01:20:38.307398Z",
     "start_time": "2022-05-30T01:20:38.225347Z"
    }
   },
   "outputs": [
    {
     "data": {
      "text/plain": [
       "<AxesSubplot:>"
      ]
     },
     "execution_count": 25,
     "metadata": {},
     "output_type": "execute_result"
    },
    {
     "data": {
      "image/png": "[encoded data removed]",
      "text/plain": [
       "<Figure size 432x288 with 1 Axes>"
      ]
     },
     "metadata": {
      "needs_background": "light"
     },
     "output_type": "display_data"
    }
   ],
   "source": [
    "df_orders_support_requests_concat_merge_cut['feedback_rating'].hist()"
   ]
  },
  {
   "cell_type": "code",
   "execution_count": 26,
   "id": "2f3c050c",
   "metadata": {
    "ExecuteTime": {
     "end_time": "2022-05-30T01:20:38.478479Z",
     "start_time": "2022-05-30T01:20:38.473869Z"
    }
   },
   "outputs": [
    {
     "data": {
      "text/plain": [
       "Delivery issue           37\n",
       "Product related query    25\n",
       "Wrong item received      11\n",
       "Payment issue             9\n",
       "Name: reason, dtype: int64"
      ]
     },
     "execution_count": 26,
     "metadata": {},
     "output_type": "execute_result"
    }
   ],
   "source": [
    "df_orders_support_requests_concat_merge_cut['reason'].value_counts()"
   ]
  },
  {
   "cell_type": "code",
   "execution_count": 27,
   "id": "b0c545d2",
   "metadata": {
    "ExecuteTime": {
     "end_time": "2022-05-30T01:20:38.734144Z",
     "start_time": "2022-05-30T01:20:38.727388Z"
    }
   },
   "outputs": [
    {
     "data": {
      "text/plain": [
       "31     2\n",
       "7      2\n",
       "95     2\n",
       "79     2\n",
       "50     1\n",
       "      ..\n",
       "702    1\n",
       "552    1\n",
       "110    1\n",
       "342    1\n",
       "178    1\n",
       "Name: order_id, Length: 78, dtype: int64"
      ]
     },
     "execution_count": 27,
     "metadata": {},
     "output_type": "execute_result"
    }
   ],
   "source": [
    "df_orders_support_requests_concat_merge_cut['order_id'].value_counts()"
   ]
  },
  {
   "cell_type": "code",
   "execution_count": 28,
   "id": "d1afe810",
   "metadata": {
    "ExecuteTime": {
     "end_time": "2022-05-30T01:21:00.975603Z",
     "start_time": "2022-05-30T01:21:00.966304Z"
    }
   },
   "outputs": [],
   "source": [
    "df_orders_support_requests_concat_merge_cut.to_csv('transformed_data/support_requests.csv', index=False)"
   ]
  }
 ],
 "metadata": {
  "kernelspec": {
   "display_name": "Python 3 (ipykernel)",
   "language": "python",
   "name": "python3"
  },
  "language_info": {
   "codemirror_mode": {
    "name": "ipython",
    "version": 3
   },
   "file_extension": ".py",
   "mimetype": "text/x-python",
   "name": "python",
   "nbconvert_exporter": "python",
   "pygments_lexer": "ipython3",
   "version": "3.9.13"
  }
 },
 "nbformat": 4,
 "nbformat_minor": 5
}
