{
 "cells": [
  {
   "cell_type": "markdown",
   "id": "ada33023",
   "metadata": {},
   "source": [
    "this is very brief. this is not a proper exploratory data anlysis."
   ]
  },
  {
   "cell_type": "code",
   "execution_count": 1,
   "id": "20c5f2a4",
   "metadata": {
    "ExecuteTime": {
     "end_time": "2022-05-31T12:12:21.128756Z",
     "start_time": "2022-05-31T12:12:20.886887Z"
    }
   },
   "outputs": [],
   "source": [
    "import pandas as pd\n",
    "\n",
    "df_orders = pd.read_csv('transformed_data/orders.csv')\n",
    "df_baskets = pd.read_csv('transformed_data/baskets.csv')\n",
    "df_products = pd.read_csv('transformed_data/products.csv')\n",
    "df_partners = pd.read_csv('transformed_data/partners.csv')\n",
    "df_users = pd.read_csv('transformed_data/users.csv')\n",
    "df_support_requests = pd.read_csv('transformed_data/support_requests.csv')"
   ]
  },
  {
   "cell_type": "code",
   "execution_count": 2,
   "id": "7d1a2e26",
   "metadata": {
    "ExecuteTime": {
     "end_time": "2022-05-31T12:12:21.162886Z",
     "start_time": "2022-05-31T12:12:21.138534Z"
    }
   },
   "outputs": [
    {
     "data": {
      "text/html": [
       "<div>\n",
       "<style scoped>\n",
       "    .dataframe tbody tr th:only-of-type {\n",
       "        vertical-align: middle;\n",
       "    }\n",
       "\n",
       "    .dataframe tbody tr th {\n",
       "        vertical-align: top;\n",
       "    }\n",
       "\n",
       "    .dataframe thead th {\n",
       "        text-align: right;\n",
       "    }\n",
       "</style>\n",
       "<table border=\"1\" class=\"dataframe\">\n",
       "  <thead>\n",
       "    <tr style=\"text-align: right;\">\n",
       "      <th></th>\n",
       "      <th>order_id</th>\n",
       "      <th>timestamp</th>\n",
       "      <th>user_id</th>\n",
       "      <th>partner_id</th>\n",
       "      <th>ordered_product_skus</th>\n",
       "      <th>currency</th>\n",
       "      <th>basket_total</th>\n",
       "      <th>profit</th>\n",
       "      <th>referrer</th>\n",
       "    </tr>\n",
       "  </thead>\n",
       "  <tbody>\n",
       "    <tr>\n",
       "      <th>356</th>\n",
       "      <td>357</td>\n",
       "      <td>2022-04-28 02:18:02</td>\n",
       "      <td>92</td>\n",
       "      <td>4</td>\n",
       "      <td>[4]</td>\n",
       "      <td>USD</td>\n",
       "      <td>30</td>\n",
       "      <td>6.60</td>\n",
       "      <td>organic</td>\n",
       "    </tr>\n",
       "    <tr>\n",
       "      <th>816</th>\n",
       "      <td>817</td>\n",
       "      <td>2022-05-12 06:46:22</td>\n",
       "      <td>93</td>\n",
       "      <td>3</td>\n",
       "      <td>[40, 26]</td>\n",
       "      <td>USD</td>\n",
       "      <td>174</td>\n",
       "      <td>10.44</td>\n",
       "      <td>ppc</td>\n",
       "    </tr>\n",
       "    <tr>\n",
       "      <th>264</th>\n",
       "      <td>265</td>\n",
       "      <td>2022-04-18 20:40:08</td>\n",
       "      <td>113</td>\n",
       "      <td>3</td>\n",
       "      <td>[34, 11, 40]</td>\n",
       "      <td>USD</td>\n",
       "      <td>114</td>\n",
       "      <td>6.84</td>\n",
       "      <td>facebook</td>\n",
       "    </tr>\n",
       "    <tr>\n",
       "      <th>889</th>\n",
       "      <td>890</td>\n",
       "      <td>2022-05-16 15:46:45</td>\n",
       "      <td>600</td>\n",
       "      <td>4</td>\n",
       "      <td>[11, 34, 8, 29]</td>\n",
       "      <td>USD</td>\n",
       "      <td>145</td>\n",
       "      <td>31.90</td>\n",
       "      <td>facebook</td>\n",
       "    </tr>\n",
       "    <tr>\n",
       "      <th>213</th>\n",
       "      <td>214</td>\n",
       "      <td>2022-04-05 13:38:24</td>\n",
       "      <td>113</td>\n",
       "      <td>4</td>\n",
       "      <td>[36, 10]</td>\n",
       "      <td>USD</td>\n",
       "      <td>70</td>\n",
       "      <td>15.40</td>\n",
       "      <td>instagram</td>\n",
       "    </tr>\n",
       "  </tbody>\n",
       "</table>\n",
       "</div>"
      ],
      "text/plain": [
       "     order_id            timestamp  user_id  partner_id ordered_product_skus  \\\n",
       "356       357  2022-04-28 02:18:02       92           4                  [4]   \n",
       "816       817  2022-05-12 06:46:22       93           3             [40, 26]   \n",
       "264       265  2022-04-18 20:40:08      113           3         [34, 11, 40]   \n",
       "889       890  2022-05-16 15:46:45      600           4      [11, 34, 8, 29]   \n",
       "213       214  2022-04-05 13:38:24      113           4             [36, 10]   \n",
       "\n",
       "    currency  basket_total  profit   referrer  \n",
       "356      USD            30    6.60    organic  \n",
       "816      USD           174   10.44        ppc  \n",
       "264      USD           114    6.84   facebook  \n",
       "889      USD           145   31.90   facebook  \n",
       "213      USD            70   15.40  instagram  "
      ]
     },
     "execution_count": 2,
     "metadata": {},
     "output_type": "execute_result"
    }
   ],
   "source": [
    "df_orders.sample(5)"
   ]
  },
  {
   "cell_type": "code",
   "execution_count": 3,
   "id": "72875cab",
   "metadata": {
    "ExecuteTime": {
     "end_time": "2022-05-31T12:12:21.504642Z",
     "start_time": "2022-05-31T12:12:21.169260Z"
    },
    "scrolled": true
   },
   "outputs": [
    {
     "data": {
      "text/plain": [
       "<AxesSubplot:>"
      ]
     },
     "execution_count": 3,
     "metadata": {},
     "output_type": "execute_result"
    },
    {
     "data": {
      "image/png": "[encoded data removed]",
      "text/plain": [
       "<Figure size 432x288 with 1 Axes>"
      ]
     },
     "metadata": {
      "needs_background": "light"
     },
     "output_type": "display_data"
    }
   ],
   "source": [
    "df_orders['user_id'].value_counts().hist(bins=6)"
   ]
  },
  {
   "cell_type": "code",
   "execution_count": 4,
   "id": "757704df",
   "metadata": {
    "ExecuteTime": {
     "end_time": "2022-05-31T12:12:21.557048Z",
     "start_time": "2022-05-31T12:12:21.505546Z"
    }
   },
   "outputs": [
    {
     "data": {
      "text/plain": [
       "<AxesSubplot:>"
      ]
     },
     "execution_count": 4,
     "metadata": {},
     "output_type": "execute_result"
    },
    {
     "data": {
      "image/png": "[encoded data removed]",
      "text/plain": [
       "<Figure size 432x288 with 1 Axes>"
      ]
     },
     "metadata": {
      "needs_background": "light"
     },
     "output_type": "display_data"
    }
   ],
   "source": [
    "df_orders['partner_id'].hist(bins=6)"
   ]
  },
  {
   "cell_type": "code",
   "execution_count": 5,
   "id": "617069e2",
   "metadata": {
    "ExecuteTime": {
     "end_time": "2022-05-31T12:12:21.565168Z",
     "start_time": "2022-05-31T12:12:21.559171Z"
    }
   },
   "outputs": [
    {
     "data": {
      "text/plain": [
       "instagram    308\n",
       "ppc          248\n",
       "facebook     214\n",
       "organic      123\n",
       "direct        76\n",
       "twitter       31\n",
       "Name: referrer, dtype: int64"
      ]
     },
     "execution_count": 5,
     "metadata": {},
     "output_type": "execute_result"
    }
   ],
   "source": [
    "df_orders['referrer'].value_counts()"
   ]
  },
  {
   "cell_type": "code",
   "execution_count": 6,
   "id": "c5d54f22",
   "metadata": {
    "ExecuteTime": {
     "end_time": "2022-05-31T12:12:21.569846Z",
     "start_time": "2022-05-31T12:12:21.566235Z"
    }
   },
   "outputs": [
    {
     "data": {
      "text/plain": [
       "0                  [27]\n",
       "1                   [9]\n",
       "2              [28, 40]\n",
       "3           [33, 37, 3]\n",
       "4                  [17]\n",
       "             ...       \n",
       "995            [39, 25]\n",
       "996            [20, 19]\n",
       "997    [30, 14, 20, 24]\n",
       "998     [2, 11, 40, 33]\n",
       "999             [13, 6]\n",
       "Name: ordered_product_skus, Length: 1000, dtype: object"
      ]
     },
     "execution_count": 6,
     "metadata": {},
     "output_type": "execute_result"
    }
   ],
   "source": [
    "df_orders['ordered_product_skus']"
   ]
  },
  {
   "cell_type": "code",
   "execution_count": 7,
   "id": "578b373e",
   "metadata": {
    "ExecuteTime": {
     "end_time": "2022-05-31T12:12:21.578910Z",
     "start_time": "2022-05-31T12:12:21.571572Z"
    }
   },
   "outputs": [
    {
     "data": {
      "text/plain": [
       "[9]                15\n",
       "[13]               15\n",
       "[37]               13\n",
       "[22]               12\n",
       "[39]               12\n",
       "                   ..\n",
       "[34, 18, 25]        1\n",
       "[22, 22, 1, 1]      1\n",
       "[11, 8, 2]          1\n",
       "[24, 30]            1\n",
       "[2, 11, 40, 33]     1\n",
       "Name: ordered_product_skus, Length: 668, dtype: int64"
      ]
     },
     "execution_count": 7,
     "metadata": {},
     "output_type": "execute_result"
    }
   ],
   "source": [
    "df_orders['ordered_product_skus'].value_counts()"
   ]
  },
  {
   "cell_type": "code",
   "execution_count": 8,
   "id": "1b93287b",
   "metadata": {
    "ExecuteTime": {
     "end_time": "2022-05-31T12:12:21.633270Z",
     "start_time": "2022-05-31T12:12:21.580365Z"
    }
   },
   "outputs": [
    {
     "data": {
      "text/plain": [
       "<AxesSubplot:>"
      ]
     },
     "execution_count": 8,
     "metadata": {},
     "output_type": "execute_result"
    },
    {
     "data": {
      "image/png": "[encoded data removed]",
      "text/plain": [
       "<Figure size 432x288 with 1 Axes>"
      ]
     },
     "metadata": {
      "needs_background": "light"
     },
     "output_type": "display_data"
    }
   ],
   "source": [
    "df_baskets['ordered_product_skus'].hist()"
   ]
  },
  {
   "cell_type": "code",
   "execution_count": 9,
   "id": "3fc1db7f",
   "metadata": {
    "ExecuteTime": {
     "end_time": "2022-05-31T12:12:21.640469Z",
     "start_time": "2022-05-31T12:12:21.634452Z"
    }
   },
   "outputs": [
    {
     "data": {
      "text/html": [
       "<div>\n",
       "<style scoped>\n",
       "    .dataframe tbody tr th:only-of-type {\n",
       "        vertical-align: middle;\n",
       "    }\n",
       "\n",
       "    .dataframe tbody tr th {\n",
       "        vertical-align: top;\n",
       "    }\n",
       "\n",
       "    .dataframe thead th {\n",
       "        text-align: right;\n",
       "    }\n",
       "</style>\n",
       "<table border=\"1\" class=\"dataframe\">\n",
       "  <thead>\n",
       "    <tr style=\"text-align: right;\">\n",
       "      <th></th>\n",
       "      <th>ordered_product_skus</th>\n",
       "    </tr>\n",
       "    <tr>\n",
       "      <th>order_id</th>\n",
       "      <th></th>\n",
       "    </tr>\n",
       "  </thead>\n",
       "  <tbody>\n",
       "    <tr>\n",
       "      <th>1</th>\n",
       "      <td>1</td>\n",
       "    </tr>\n",
       "    <tr>\n",
       "      <th>2</th>\n",
       "      <td>1</td>\n",
       "    </tr>\n",
       "    <tr>\n",
       "      <th>3</th>\n",
       "      <td>2</td>\n",
       "    </tr>\n",
       "    <tr>\n",
       "      <th>4</th>\n",
       "      <td>3</td>\n",
       "    </tr>\n",
       "    <tr>\n",
       "      <th>5</th>\n",
       "      <td>1</td>\n",
       "    </tr>\n",
       "    <tr>\n",
       "      <th>...</th>\n",
       "      <td>...</td>\n",
       "    </tr>\n",
       "    <tr>\n",
       "      <th>996</th>\n",
       "      <td>2</td>\n",
       "    </tr>\n",
       "    <tr>\n",
       "      <th>997</th>\n",
       "      <td>2</td>\n",
       "    </tr>\n",
       "    <tr>\n",
       "      <th>998</th>\n",
       "      <td>4</td>\n",
       "    </tr>\n",
       "    <tr>\n",
       "      <th>999</th>\n",
       "      <td>4</td>\n",
       "    </tr>\n",
       "    <tr>\n",
       "      <th>1000</th>\n",
       "      <td>2</td>\n",
       "    </tr>\n",
       "  </tbody>\n",
       "</table>\n",
       "<p>1000 rows × 1 columns</p>\n",
       "</div>"
      ],
      "text/plain": [
       "          ordered_product_skus\n",
       "order_id                      \n",
       "1                            1\n",
       "2                            1\n",
       "3                            2\n",
       "4                            3\n",
       "5                            1\n",
       "...                        ...\n",
       "996                          2\n",
       "997                          2\n",
       "998                          4\n",
       "999                          4\n",
       "1000                         2\n",
       "\n",
       "[1000 rows x 1 columns]"
      ]
     },
     "execution_count": 9,
     "metadata": {},
     "output_type": "execute_result"
    }
   ],
   "source": [
    "df_baskets[['order_id', 'ordered_product_skus']].groupby('order_id').agg('count')"
   ]
  },
  {
   "cell_type": "code",
   "execution_count": 10,
   "id": "c4bbaadb",
   "metadata": {
    "ExecuteTime": {
     "end_time": "2022-05-31T12:12:21.647972Z",
     "start_time": "2022-05-31T12:12:21.642492Z"
    }
   },
   "outputs": [
    {
     "data": {
      "text/html": [
       "<div>\n",
       "<style scoped>\n",
       "    .dataframe tbody tr th:only-of-type {\n",
       "        vertical-align: middle;\n",
       "    }\n",
       "\n",
       "    .dataframe tbody tr th {\n",
       "        vertical-align: top;\n",
       "    }\n",
       "\n",
       "    .dataframe thead th {\n",
       "        text-align: right;\n",
       "    }\n",
       "</style>\n",
       "<table border=\"1\" class=\"dataframe\">\n",
       "  <thead>\n",
       "    <tr style=\"text-align: right;\">\n",
       "      <th></th>\n",
       "      <th>sku</th>\n",
       "      <th>product_name</th>\n",
       "      <th>price_amount</th>\n",
       "      <th>price_currency</th>\n",
       "    </tr>\n",
       "  </thead>\n",
       "  <tbody>\n",
       "    <tr>\n",
       "      <th>11</th>\n",
       "      <td>12</td>\n",
       "      <td>White Roses seeds</td>\n",
       "      <td>4</td>\n",
       "      <td>USD</td>\n",
       "    </tr>\n",
       "    <tr>\n",
       "      <th>35</th>\n",
       "      <td>36</td>\n",
       "      <td>Peace lily</td>\n",
       "      <td>30</td>\n",
       "      <td>USD</td>\n",
       "    </tr>\n",
       "    <tr>\n",
       "      <th>34</th>\n",
       "      <td>35</td>\n",
       "      <td>Gerbera</td>\n",
       "      <td>20</td>\n",
       "      <td>USD</td>\n",
       "    </tr>\n",
       "    <tr>\n",
       "      <th>38</th>\n",
       "      <td>39</td>\n",
       "      <td>Pothos</td>\n",
       "      <td>15</td>\n",
       "      <td>USD</td>\n",
       "    </tr>\n",
       "    <tr>\n",
       "      <th>6</th>\n",
       "      <td>7</td>\n",
       "      <td>Banana tree</td>\n",
       "      <td>95</td>\n",
       "      <td>USD</td>\n",
       "    </tr>\n",
       "    <tr>\n",
       "      <th>4</th>\n",
       "      <td>5</td>\n",
       "      <td>Monstera deliciosa large</td>\n",
       "      <td>50</td>\n",
       "      <td>USD</td>\n",
       "    </tr>\n",
       "    <tr>\n",
       "      <th>16</th>\n",
       "      <td>17</td>\n",
       "      <td>Basil seeds</td>\n",
       "      <td>3</td>\n",
       "      <td>USD</td>\n",
       "    </tr>\n",
       "    <tr>\n",
       "      <th>7</th>\n",
       "      <td>8</td>\n",
       "      <td>Rubber tree</td>\n",
       "      <td>25</td>\n",
       "      <td>USD</td>\n",
       "    </tr>\n",
       "    <tr>\n",
       "      <th>15</th>\n",
       "      <td>16</td>\n",
       "      <td>Fire Pit Large</td>\n",
       "      <td>120</td>\n",
       "      <td>USD</td>\n",
       "    </tr>\n",
       "    <tr>\n",
       "      <th>25</th>\n",
       "      <td>26</td>\n",
       "      <td>Mixed Rhododendron</td>\n",
       "      <td>150</td>\n",
       "      <td>USD</td>\n",
       "    </tr>\n",
       "  </tbody>\n",
       "</table>\n",
       "</div>"
      ],
      "text/plain": [
       "    sku              product_name  price_amount price_currency\n",
       "11   12         White Roses seeds             4            USD\n",
       "35   36                Peace lily            30            USD\n",
       "34   35                   Gerbera            20            USD\n",
       "38   39                    Pothos            15            USD\n",
       "6     7               Banana tree            95            USD\n",
       "4     5  Monstera deliciosa large            50            USD\n",
       "16   17               Basil seeds             3            USD\n",
       "7     8               Rubber tree            25            USD\n",
       "15   16            Fire Pit Large           120            USD\n",
       "25   26        Mixed Rhododendron           150            USD"
      ]
     },
     "execution_count": 10,
     "metadata": {},
     "output_type": "execute_result"
    }
   ],
   "source": [
    "df_products.sample(10)"
   ]
  },
  {
   "cell_type": "code",
   "execution_count": 11,
   "id": "0998d261",
   "metadata": {
    "ExecuteTime": {
     "end_time": "2022-05-31T12:12:21.654227Z",
     "start_time": "2022-05-31T12:12:21.649798Z"
    }
   },
   "outputs": [
    {
     "data": {
      "text/html": [
       "<div>\n",
       "<style scoped>\n",
       "    .dataframe tbody tr th:only-of-type {\n",
       "        vertical-align: middle;\n",
       "    }\n",
       "\n",
       "    .dataframe tbody tr th {\n",
       "        vertical-align: top;\n",
       "    }\n",
       "\n",
       "    .dataframe thead th {\n",
       "        text-align: right;\n",
       "    }\n",
       "</style>\n",
       "<table border=\"1\" class=\"dataframe\">\n",
       "  <thead>\n",
       "    <tr style=\"text-align: right;\">\n",
       "      <th></th>\n",
       "      <th>partner_id</th>\n",
       "      <th>partner_name</th>\n",
       "      <th>partner_commission</th>\n",
       "    </tr>\n",
       "  </thead>\n",
       "  <tbody>\n",
       "    <tr>\n",
       "      <th>0</th>\n",
       "      <td>1</td>\n",
       "      <td>Plant Paradise</td>\n",
       "      <td>0.18</td>\n",
       "    </tr>\n",
       "    <tr>\n",
       "      <th>1</th>\n",
       "      <td>2</td>\n",
       "      <td>Garden of Sweden</td>\n",
       "      <td>0.14</td>\n",
       "    </tr>\n",
       "    <tr>\n",
       "      <th>2</th>\n",
       "      <td>3</td>\n",
       "      <td>Peat, Fruits and Leaves</td>\n",
       "      <td>0.06</td>\n",
       "    </tr>\n",
       "    <tr>\n",
       "      <th>3</th>\n",
       "      <td>4</td>\n",
       "      <td>Redwood Ranch</td>\n",
       "      <td>0.22</td>\n",
       "    </tr>\n",
       "    <tr>\n",
       "      <th>4</th>\n",
       "      <td>5</td>\n",
       "      <td>Trowels R Us</td>\n",
       "      <td>0.08</td>\n",
       "    </tr>\n",
       "    <tr>\n",
       "      <th>5</th>\n",
       "      <td>6</td>\n",
       "      <td>Glorious Gardens</td>\n",
       "      <td>0.14</td>\n",
       "    </tr>\n",
       "  </tbody>\n",
       "</table>\n",
       "</div>"
      ],
      "text/plain": [
       "   partner_id             partner_name  partner_commission\n",
       "0           1           Plant Paradise                0.18\n",
       "1           2         Garden of Sweden                0.14\n",
       "2           3  Peat, Fruits and Leaves                0.06\n",
       "3           4            Redwood Ranch                0.22\n",
       "4           5             Trowels R Us                0.08\n",
       "5           6         Glorious Gardens                0.14"
      ]
     },
     "execution_count": 11,
     "metadata": {},
     "output_type": "execute_result"
    }
   ],
   "source": [
    "df_partners"
   ]
  },
  {
   "cell_type": "code",
   "execution_count": 12,
   "id": "81befd9c",
   "metadata": {
    "ExecuteTime": {
     "end_time": "2022-05-31T12:12:21.668773Z",
     "start_time": "2022-05-31T12:12:21.661107Z"
    }
   },
   "outputs": [
    {
     "data": {
      "text/html": [
       "<div>\n",
       "<style scoped>\n",
       "    .dataframe tbody tr th:only-of-type {\n",
       "        vertical-align: middle;\n",
       "    }\n",
       "\n",
       "    .dataframe tbody tr th {\n",
       "        vertical-align: top;\n",
       "    }\n",
       "\n",
       "    .dataframe thead th {\n",
       "        text-align: right;\n",
       "    }\n",
       "</style>\n",
       "<table border=\"1\" class=\"dataframe\">\n",
       "  <thead>\n",
       "    <tr style=\"text-align: right;\">\n",
       "      <th></th>\n",
       "      <th>user_id</th>\n",
       "      <th>email</th>\n",
       "      <th>created_date</th>\n",
       "      <th>browser</th>\n",
       "      <th>shipping_address</th>\n",
       "    </tr>\n",
       "  </thead>\n",
       "  <tbody>\n",
       "    <tr>\n",
       "      <th>771</th>\n",
       "      <td>772</td>\n",
       "      <td>angie_totam@hotmail.com</td>\n",
       "      <td>2022-04-26 03:46:27</td>\n",
       "      <td>safari</td>\n",
       "      <td>{'city': 'East Ambrose Bailey view', 'country'...</td>\n",
       "    </tr>\n",
       "    <tr>\n",
       "      <th>165</th>\n",
       "      <td>166</td>\n",
       "      <td>regan_commodi@gmail.com</td>\n",
       "      <td>2022-01-27 02:18:30</td>\n",
       "      <td>chrome</td>\n",
       "      <td>{'city': 'Mante borough', 'country': 'IL', 'st...</td>\n",
       "    </tr>\n",
       "    <tr>\n",
       "      <th>688</th>\n",
       "      <td>689</td>\n",
       "      <td>tatum_temporibus@gmail.com</td>\n",
       "      <td>2022-04-13 15:07:30</td>\n",
       "      <td>edge</td>\n",
       "      <td>{'city': 'Alaina furt', 'country': 'SD', 'stre...</td>\n",
       "    </tr>\n",
       "    <tr>\n",
       "      <th>174</th>\n",
       "      <td>175</td>\n",
       "      <td>abraham_quidem@gmail.com</td>\n",
       "      <td>2022-01-28 05:52:39</td>\n",
       "      <td>edge</td>\n",
       "      <td>{'city': 'Schoen land', 'country': 'GI', 'stre...</td>\n",
       "    </tr>\n",
       "    <tr>\n",
       "      <th>799</th>\n",
       "      <td>800</td>\n",
       "      <td>bert_dolores@gmail.com</td>\n",
       "      <td>2022-04-30 01:37:55</td>\n",
       "      <td>edge</td>\n",
       "      <td>{'city': 'Lake Otilia Balistreri shire', 'coun...</td>\n",
       "    </tr>\n",
       "    <tr>\n",
       "      <th>836</th>\n",
       "      <td>837</td>\n",
       "      <td>breana_consectetur@gmail.com</td>\n",
       "      <td>2022-05-06 23:14:16</td>\n",
       "      <td>chrome</td>\n",
       "      <td>{'city': 'Skiles port', 'country': 'PH', 'stre...</td>\n",
       "    </tr>\n",
       "    <tr>\n",
       "      <th>787</th>\n",
       "      <td>788</td>\n",
       "      <td>delaney_necessitatibus@hotmail.com</td>\n",
       "      <td>2022-04-28 05:50:46</td>\n",
       "      <td>chrome</td>\n",
       "      <td>{'city': 'New Cordia Feeney side', 'country': ...</td>\n",
       "    </tr>\n",
       "    <tr>\n",
       "      <th>558</th>\n",
       "      <td>559</td>\n",
       "      <td>enrique_eligendi@gmail.com</td>\n",
       "      <td>2022-03-24 19:32:48</td>\n",
       "      <td>safari</td>\n",
       "      <td>{'city': 'Kenneth berg', 'country': 'GI', 'str...</td>\n",
       "    </tr>\n",
       "    <tr>\n",
       "      <th>293</th>\n",
       "      <td>294</td>\n",
       "      <td>ally_pariatur@hotmail.com</td>\n",
       "      <td>2022-02-15 20:02:36</td>\n",
       "      <td>chrome</td>\n",
       "      <td>{'city': 'Crooks berg', 'country': 'KP', 'stre...</td>\n",
       "    </tr>\n",
       "    <tr>\n",
       "      <th>284</th>\n",
       "      <td>285</td>\n",
       "      <td>pascale_magni@yahoo.com</td>\n",
       "      <td>2022-02-14 13:49:59</td>\n",
       "      <td>edge</td>\n",
       "      <td>{'city': 'East Emile Lockman shire', 'country'...</td>\n",
       "    </tr>\n",
       "  </tbody>\n",
       "</table>\n",
       "</div>"
      ],
      "text/plain": [
       "     user_id                               email         created_date browser  \\\n",
       "771      772             angie_totam@hotmail.com  2022-04-26 03:46:27  safari   \n",
       "165      166             regan_commodi@gmail.com  2022-01-27 02:18:30  chrome   \n",
       "688      689          tatum_temporibus@gmail.com  2022-04-13 15:07:30    edge   \n",
       "174      175            abraham_quidem@gmail.com  2022-01-28 05:52:39    edge   \n",
       "799      800              bert_dolores@gmail.com  2022-04-30 01:37:55    edge   \n",
       "836      837        breana_consectetur@gmail.com  2022-05-06 23:14:16  chrome   \n",
       "787      788  delaney_necessitatibus@hotmail.com  2022-04-28 05:50:46  chrome   \n",
       "558      559          enrique_eligendi@gmail.com  2022-03-24 19:32:48  safari   \n",
       "293      294           ally_pariatur@hotmail.com  2022-02-15 20:02:36  chrome   \n",
       "284      285             pascale_magni@yahoo.com  2022-02-14 13:49:59    edge   \n",
       "\n",
       "                                      shipping_address  \n",
       "771  {'city': 'East Ambrose Bailey view', 'country'...  \n",
       "165  {'city': 'Mante borough', 'country': 'IL', 'st...  \n",
       "688  {'city': 'Alaina furt', 'country': 'SD', 'stre...  \n",
       "174  {'city': 'Schoen land', 'country': 'GI', 'stre...  \n",
       "799  {'city': 'Lake Otilia Balistreri shire', 'coun...  \n",
       "836  {'city': 'Skiles port', 'country': 'PH', 'stre...  \n",
       "787  {'city': 'New Cordia Feeney side', 'country': ...  \n",
       "558  {'city': 'Kenneth berg', 'country': 'GI', 'str...  \n",
       "293  {'city': 'Crooks berg', 'country': 'KP', 'stre...  \n",
       "284  {'city': 'East Emile Lockman shire', 'country'...  "
      ]
     },
     "execution_count": 12,
     "metadata": {},
     "output_type": "execute_result"
    }
   ],
   "source": [
    "df_users.sample(10)"
   ]
  },
  {
   "cell_type": "code",
   "execution_count": 13,
   "id": "a629786a",
   "metadata": {
    "ExecuteTime": {
     "end_time": "2022-05-31T12:12:21.674995Z",
     "start_time": "2022-05-31T12:12:21.669980Z"
    }
   },
   "outputs": [
    {
     "data": {
      "text/plain": [
       "chrome               501\n",
       "safari               243\n",
       "edge                 179\n",
       "firefox               41\n",
       "internet_explorer     20\n",
       "netscape              14\n",
       "lynx                   2\n",
       "Name: browser, dtype: int64"
      ]
     },
     "execution_count": 13,
     "metadata": {},
     "output_type": "execute_result"
    }
   ],
   "source": [
    "df_users['browser'].value_counts()"
   ]
  },
  {
   "cell_type": "code",
   "execution_count": 14,
   "id": "edcb49df",
   "metadata": {
    "ExecuteTime": {
     "end_time": "2022-05-31T12:12:21.729078Z",
     "start_time": "2022-05-31T12:12:21.678904Z"
    }
   },
   "outputs": [
    {
     "data": {
      "text/plain": [
       "<AxesSubplot:>"
      ]
     },
     "execution_count": 14,
     "metadata": {},
     "output_type": "execute_result"
    },
    {
     "data": {
      "image/png": "[encoded data removed]",
      "text/plain": [
       "<Figure size 432x288 with 1 Axes>"
      ]
     },
     "metadata": {
      "needs_background": "light"
     },
     "output_type": "display_data"
    }
   ],
   "source": [
    "df_support_requests['feedback_rating'].hist()"
   ]
  },
  {
   "cell_type": "code",
   "execution_count": 15,
   "id": "2f3c050c",
   "metadata": {
    "ExecuteTime": {
     "end_time": "2022-05-31T12:12:21.734171Z",
     "start_time": "2022-05-31T12:12:21.730644Z"
    }
   },
   "outputs": [
    {
     "data": {
      "text/plain": [
       "Delivery issue           33\n",
       "Product related query    23\n",
       "Wrong item received      10\n",
       "Payment issue             9\n",
       "Name: reason, dtype: int64"
      ]
     },
     "execution_count": 15,
     "metadata": {},
     "output_type": "execute_result"
    }
   ],
   "source": [
    "df_support_requests['reason'].value_counts()"
   ]
  },
  {
   "cell_type": "code",
   "execution_count": 16,
   "id": "b0c545d2",
   "metadata": {
    "ExecuteTime": {
     "end_time": "2022-05-31T12:12:21.738755Z",
     "start_time": "2022-05-31T12:12:21.735202Z"
    }
   },
   "outputs": [
    {
     "data": {
      "text/plain": [
       "31     2\n",
       "95     2\n",
       "7      2\n",
       "79     2\n",
       "47     1\n",
       "      ..\n",
       "50     1\n",
       "386    1\n",
       "454    1\n",
       "459    1\n",
       "914    1\n",
       "Name: order_id, Length: 71, dtype: int64"
      ]
     },
     "execution_count": 16,
     "metadata": {},
     "output_type": "execute_result"
    }
   ],
   "source": [
    "df_support_requests['order_id'].value_counts()"
   ]
  },
  {
   "cell_type": "code",
   "execution_count": 17,
   "id": "39fa0f29",
   "metadata": {
    "ExecuteTime": {
     "end_time": "2022-05-31T12:12:21.746749Z",
     "start_time": "2022-05-31T12:12:21.740637Z"
    }
   },
   "outputs": [
    {
     "data": {
      "text/plain": [
       "['order_id',\n",
       " 'basket_item_id',\n",
       " 'ordered_product_skus',\n",
       " 'price_amount',\n",
       " 'basket_total']"
      ]
     },
     "execution_count": 17,
     "metadata": {},
     "output_type": "execute_result"
    }
   ],
   "source": [
    "list(df_baskets)"
   ]
  },
  {
   "cell_type": "code",
   "execution_count": 18,
   "id": "b4d977ac",
   "metadata": {
    "ExecuteTime": {
     "end_time": "2022-05-31T12:12:21.751485Z",
     "start_time": "2022-05-31T12:12:21.748301Z"
    }
   },
   "outputs": [
    {
     "data": {
      "text/plain": [
       "['order_id',\n",
       " 'timestamp',\n",
       " 'user_id',\n",
       " 'partner_id',\n",
       " 'ordered_product_skus',\n",
       " 'currency',\n",
       " 'basket_total',\n",
       " 'profit',\n",
       " 'referrer']"
      ]
     },
     "execution_count": 18,
     "metadata": {},
     "output_type": "execute_result"
    }
   ],
   "source": [
    "list(df_orders)"
   ]
  },
  {
   "cell_type": "code",
   "execution_count": 19,
   "id": "9ade8623",
   "metadata": {
    "ExecuteTime": {
     "end_time": "2022-05-31T12:12:21.756827Z",
     "start_time": "2022-05-31T12:12:21.752926Z"
    }
   },
   "outputs": [
    {
     "data": {
      "text/plain": [
       "['sku', 'product_name', 'price_amount', 'price_currency']"
      ]
     },
     "execution_count": 19,
     "metadata": {},
     "output_type": "execute_result"
    }
   ],
   "source": [
    "list(df_products)"
   ]
  },
  {
   "cell_type": "code",
   "execution_count": 20,
   "id": "3fd10ba5",
   "metadata": {
    "ExecuteTime": {
     "end_time": "2022-05-31T12:12:21.764009Z",
     "start_time": "2022-05-31T12:12:21.759355Z"
    }
   },
   "outputs": [
    {
     "data": {
      "text/plain": [
       "['partner_id', 'partner_name', 'partner_commission']"
      ]
     },
     "execution_count": 20,
     "metadata": {},
     "output_type": "execute_result"
    }
   ],
   "source": [
    "list(df_partners)"
   ]
  },
  {
   "cell_type": "code",
   "execution_count": 21,
   "id": "b9ae7e15",
   "metadata": {
    "ExecuteTime": {
     "end_time": "2022-05-31T12:12:21.768420Z",
     "start_time": "2022-05-31T12:12:21.765585Z"
    }
   },
   "outputs": [
    {
     "data": {
      "text/plain": [
       "['request_id', 'order_id', 'timestamp', 'reason', 'feedback_rating']"
      ]
     },
     "execution_count": 21,
     "metadata": {},
     "output_type": "execute_result"
    }
   ],
   "source": [
    "list(df_support_requests)"
   ]
  },
  {
   "cell_type": "code",
   "execution_count": 22,
   "id": "1d650ad6",
   "metadata": {
    "ExecuteTime": {
     "end_time": "2022-05-31T12:12:21.773106Z",
     "start_time": "2022-05-31T12:12:21.769743Z"
    }
   },
   "outputs": [
    {
     "data": {
      "text/plain": [
       "['user_id', 'email', 'created_date', 'browser', 'shipping_address']"
      ]
     },
     "execution_count": 22,
     "metadata": {},
     "output_type": "execute_result"
    }
   ],
   "source": [
    "list(df_users)"
   ]
  }
 ],
 "metadata": {
  "kernelspec": {
   "display_name": "Python 3 (ipykernel)",
   "language": "python",
   "name": "python3"
  },
  "language_info": {
   "codemirror_mode": {
    "name": "ipython",
    "version": 3
   },
   "file_extension": ".py",
   "mimetype": "text/x-python",
   "name": "python",
   "nbconvert_exporter": "python",
   "pygments_lexer": "ipython3",
   "version": "3.9.13"
  }
 },
 "nbformat": 4,
 "nbformat_minor": 5
}
