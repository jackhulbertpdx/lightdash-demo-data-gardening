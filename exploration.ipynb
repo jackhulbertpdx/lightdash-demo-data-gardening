{
 "cells": [
  {
   "cell_type": "markdown",
   "id": "ada33023",
   "metadata": {},
   "source": [
    "this is very brief. this is not a proper exploratory data anlysis."
   ]
  },
  {
   "cell_type": "code",
   "execution_count": 1,
   "id": "20c5f2a4",
   "metadata": {
    "ExecuteTime": {
     "end_time": "2022-05-30T15:59:47.643363Z",
     "start_time": "2022-05-30T15:59:47.454763Z"
    }
   },
   "outputs": [],
   "source": [
    "import pandas as pd\n",
    "\n",
    "df_orders = pd.read_csv('transformed_data/orders.csv')\n",
    "df_baskets = pd.read_csv('transformed_data/baskets.csv')\n",
    "df_products = pd.read_csv('transformed_data/products.csv')\n",
    "df_partners = pd.read_csv('transformed_data/partners.csv')\n",
    "df_users = pd.read_csv('transformed_data/users.csv')\n",
    "df_support_requests = pd.read_csv('transformed_data/support_requests.csv')"
   ]
  },
  {
   "cell_type": "code",
   "execution_count": 2,
   "id": "7d1a2e26",
   "metadata": {
    "ExecuteTime": {
     "end_time": "2022-05-30T15:59:47.681332Z",
     "start_time": "2022-05-30T15:59:47.645113Z"
    }
   },
   "outputs": [
    {
     "data": {
      "text/html": [
       "<div>\n",
       "<style scoped>\n",
       "    .dataframe tbody tr th:only-of-type {\n",
       "        vertical-align: middle;\n",
       "    }\n",
       "\n",
       "    .dataframe tbody tr th {\n",
       "        vertical-align: top;\n",
       "    }\n",
       "\n",
       "    .dataframe thead th {\n",
       "        text-align: right;\n",
       "    }\n",
       "</style>\n",
       "<table border=\"1\" class=\"dataframe\">\n",
       "  <thead>\n",
       "    <tr style=\"text-align: right;\">\n",
       "      <th></th>\n",
       "      <th>order_id</th>\n",
       "      <th>currency</th>\n",
       "      <th>ordered_product_skus</th>\n",
       "      <th>partner_id</th>\n",
       "      <th>referrer</th>\n",
       "      <th>timestamp</th>\n",
       "      <th>user_id</th>\n",
       "      <th>basket_total</th>\n",
       "      <th>profit</th>\n",
       "    </tr>\n",
       "  </thead>\n",
       "  <tbody>\n",
       "    <tr>\n",
       "      <th>537</th>\n",
       "      <td>538</td>\n",
       "      <td>USD</td>\n",
       "      <td>[36, 7, 17]</td>\n",
       "      <td>5</td>\n",
       "      <td>organic</td>\n",
       "      <td>2022-05-04 04:49:21</td>\n",
       "      <td>169</td>\n",
       "      <td>128</td>\n",
       "      <td>10.24</td>\n",
       "    </tr>\n",
       "    <tr>\n",
       "      <th>926</th>\n",
       "      <td>927</td>\n",
       "      <td>USD</td>\n",
       "      <td>[17]</td>\n",
       "      <td>2</td>\n",
       "      <td>facebook</td>\n",
       "      <td>2022-05-20 00:11:05</td>\n",
       "      <td>881</td>\n",
       "      <td>3</td>\n",
       "      <td>0.42</td>\n",
       "    </tr>\n",
       "    <tr>\n",
       "      <th>762</th>\n",
       "      <td>763</td>\n",
       "      <td>USD</td>\n",
       "      <td>[17]</td>\n",
       "      <td>3</td>\n",
       "      <td>instagram</td>\n",
       "      <td>2022-05-10 07:14:16</td>\n",
       "      <td>569</td>\n",
       "      <td>3</td>\n",
       "      <td>0.18</td>\n",
       "    </tr>\n",
       "    <tr>\n",
       "      <th>900</th>\n",
       "      <td>901</td>\n",
       "      <td>USD</td>\n",
       "      <td>[8]</td>\n",
       "      <td>1</td>\n",
       "      <td>ppc</td>\n",
       "      <td>2022-05-17 13:52:26</td>\n",
       "      <td>6</td>\n",
       "      <td>25</td>\n",
       "      <td>4.50</td>\n",
       "    </tr>\n",
       "    <tr>\n",
       "      <th>889</th>\n",
       "      <td>890</td>\n",
       "      <td>USD</td>\n",
       "      <td>[11, 34, 23, 29]</td>\n",
       "      <td>4</td>\n",
       "      <td>facebook</td>\n",
       "      <td>2022-05-16 15:46:45</td>\n",
       "      <td>600</td>\n",
       "      <td>205</td>\n",
       "      <td>45.10</td>\n",
       "    </tr>\n",
       "  </tbody>\n",
       "</table>\n",
       "</div>"
      ],
      "text/plain": [
       "     order_id currency ordered_product_skus  partner_id   referrer  \\\n",
       "537       538      USD          [36, 7, 17]           5    organic   \n",
       "926       927      USD                 [17]           2   facebook   \n",
       "762       763      USD                 [17]           3  instagram   \n",
       "900       901      USD                  [8]           1        ppc   \n",
       "889       890      USD     [11, 34, 23, 29]           4   facebook   \n",
       "\n",
       "               timestamp  user_id  basket_total  profit  \n",
       "537  2022-05-04 04:49:21      169           128   10.24  \n",
       "926  2022-05-20 00:11:05      881             3    0.42  \n",
       "762  2022-05-10 07:14:16      569             3    0.18  \n",
       "900  2022-05-17 13:52:26        6            25    4.50  \n",
       "889  2022-05-16 15:46:45      600           205   45.10  "
      ]
     },
     "execution_count": 2,
     "metadata": {},
     "output_type": "execute_result"
    }
   ],
   "source": [
    "df_orders.sample(5)"
   ]
  },
  {
   "cell_type": "code",
   "execution_count": 3,
   "id": "72875cab",
   "metadata": {
    "ExecuteTime": {
     "end_time": "2022-05-30T15:59:48.063005Z",
     "start_time": "2022-05-30T15:59:47.690610Z"
    },
    "scrolled": true
   },
   "outputs": [
    {
     "data": {
      "text/plain": [
       "<AxesSubplot:>"
      ]
     },
     "execution_count": 3,
     "metadata": {},
     "output_type": "execute_result"
    },
    {
     "data": {
      "image/png": "[encoded data removed]",
      "text/plain": [
       "<Figure size 432x288 with 1 Axes>"
      ]
     },
     "metadata": {
      "needs_background": "light"
     },
     "output_type": "display_data"
    }
   ],
   "source": [
    "df_orders['user_id'].value_counts().hist(bins=6)"
   ]
  },
  {
   "cell_type": "code",
   "execution_count": 4,
   "id": "757704df",
   "metadata": {
    "ExecuteTime": {
     "end_time": "2022-05-30T15:59:48.114673Z",
     "start_time": "2022-05-30T15:59:48.064805Z"
    }
   },
   "outputs": [
    {
     "data": {
      "text/plain": [
       "<AxesSubplot:>"
      ]
     },
     "execution_count": 4,
     "metadata": {},
     "output_type": "execute_result"
    },
    {
     "data": {
      "image/png": "[encoded data removed]",
      "text/plain": [
       "<Figure size 432x288 with 1 Axes>"
      ]
     },
     "metadata": {
      "needs_background": "light"
     },
     "output_type": "display_data"
    }
   ],
   "source": [
    "df_orders['partner_id'].hist(bins=6)"
   ]
  },
  {
   "cell_type": "code",
   "execution_count": 5,
   "id": "617069e2",
   "metadata": {
    "ExecuteTime": {
     "end_time": "2022-05-30T15:59:48.120645Z",
     "start_time": "2022-05-30T15:59:48.115630Z"
    }
   },
   "outputs": [
    {
     "data": {
      "text/plain": [
       "instagram    308\n",
       "ppc          248\n",
       "facebook     214\n",
       "organic      123\n",
       "direct        76\n",
       "twitter       31\n",
       "Name: referrer, dtype: int64"
      ]
     },
     "execution_count": 5,
     "metadata": {},
     "output_type": "execute_result"
    }
   ],
   "source": [
    "df_orders['referrer'].value_counts()"
   ]
  },
  {
   "cell_type": "code",
   "execution_count": 6,
   "id": "c5d54f22",
   "metadata": {
    "ExecuteTime": {
     "end_time": "2022-05-30T15:59:48.126706Z",
     "start_time": "2022-05-30T15:59:48.123217Z"
    }
   },
   "outputs": [
    {
     "data": {
      "text/plain": [
       "0              [5]\n",
       "1          [31, 9]\n",
       "2          [28, 7]\n",
       "3             [33]\n",
       "4             [17]\n",
       "          ...     \n",
       "995    [39, 33, 5]\n",
       "996       [20, 19]\n",
       "997        [1, 26]\n",
       "998       [33, 17]\n",
       "999       [13, 26]\n",
       "Name: ordered_product_skus, Length: 1000, dtype: object"
      ]
     },
     "execution_count": 6,
     "metadata": {},
     "output_type": "execute_result"
    }
   ],
   "source": [
    "df_orders['ordered_product_skus']"
   ]
  },
  {
   "cell_type": "code",
   "execution_count": 7,
   "id": "578b373e",
   "metadata": {
    "ExecuteTime": {
     "end_time": "2022-05-30T15:59:48.133585Z",
     "start_time": "2022-05-30T15:59:48.128469Z"
    }
   },
   "outputs": [
    {
     "data": {
      "text/plain": [
       "[17]            21\n",
       "[5]             17\n",
       "[7]             16\n",
       "[35]            15\n",
       "[39]            15\n",
       "                ..\n",
       "[14, 16]         1\n",
       "[22, 1, 1]       1\n",
       "[34, 12, 18]     1\n",
       "[31, 1]          1\n",
       "[13, 26]         1\n",
       "Name: ordered_product_skus, Length: 613, dtype: int64"
      ]
     },
     "execution_count": 7,
     "metadata": {},
     "output_type": "execute_result"
    }
   ],
   "source": [
    "df_orders['ordered_product_skus'].value_counts()"
   ]
  },
  {
   "cell_type": "code",
   "execution_count": 8,
   "id": "1b93287b",
   "metadata": {
    "ExecuteTime": {
     "end_time": "2022-05-30T15:59:48.190195Z",
     "start_time": "2022-05-30T15:59:48.135423Z"
    }
   },
   "outputs": [
    {
     "data": {
      "text/plain": [
       "<AxesSubplot:>"
      ]
     },
     "execution_count": 8,
     "metadata": {},
     "output_type": "execute_result"
    },
    {
     "data": {
      "image/png": "[encoded data removed]",
      "text/plain": [
       "<Figure size 432x288 with 1 Axes>"
      ]
     },
     "metadata": {
      "needs_background": "light"
     },
     "output_type": "display_data"
    }
   ],
   "source": [
    "df_baskets['ordered_product_skus'].hist()"
   ]
  },
  {
   "cell_type": "code",
   "execution_count": 9,
   "id": "3fc1db7f",
   "metadata": {
    "ExecuteTime": {
     "end_time": "2022-05-30T15:59:48.197149Z",
     "start_time": "2022-05-30T15:59:48.191748Z"
    }
   },
   "outputs": [
    {
     "data": {
      "text/html": [
       "<div>\n",
       "<style scoped>\n",
       "    .dataframe tbody tr th:only-of-type {\n",
       "        vertical-align: middle;\n",
       "    }\n",
       "\n",
       "    .dataframe tbody tr th {\n",
       "        vertical-align: top;\n",
       "    }\n",
       "\n",
       "    .dataframe thead th {\n",
       "        text-align: right;\n",
       "    }\n",
       "</style>\n",
       "<table border=\"1\" class=\"dataframe\">\n",
       "  <thead>\n",
       "    <tr style=\"text-align: right;\">\n",
       "      <th></th>\n",
       "      <th>ordered_product_skus</th>\n",
       "    </tr>\n",
       "    <tr>\n",
       "      <th>order_id</th>\n",
       "      <th></th>\n",
       "    </tr>\n",
       "  </thead>\n",
       "  <tbody>\n",
       "    <tr>\n",
       "      <th>1</th>\n",
       "      <td>1</td>\n",
       "    </tr>\n",
       "    <tr>\n",
       "      <th>2</th>\n",
       "      <td>2</td>\n",
       "    </tr>\n",
       "    <tr>\n",
       "      <th>3</th>\n",
       "      <td>2</td>\n",
       "    </tr>\n",
       "    <tr>\n",
       "      <th>4</th>\n",
       "      <td>1</td>\n",
       "    </tr>\n",
       "    <tr>\n",
       "      <th>5</th>\n",
       "      <td>1</td>\n",
       "    </tr>\n",
       "    <tr>\n",
       "      <th>...</th>\n",
       "      <td>...</td>\n",
       "    </tr>\n",
       "    <tr>\n",
       "      <th>996</th>\n",
       "      <td>3</td>\n",
       "    </tr>\n",
       "    <tr>\n",
       "      <th>997</th>\n",
       "      <td>2</td>\n",
       "    </tr>\n",
       "    <tr>\n",
       "      <th>998</th>\n",
       "      <td>2</td>\n",
       "    </tr>\n",
       "    <tr>\n",
       "      <th>999</th>\n",
       "      <td>2</td>\n",
       "    </tr>\n",
       "    <tr>\n",
       "      <th>1000</th>\n",
       "      <td>2</td>\n",
       "    </tr>\n",
       "  </tbody>\n",
       "</table>\n",
       "<p>1000 rows × 1 columns</p>\n",
       "</div>"
      ],
      "text/plain": [
       "          ordered_product_skus\n",
       "order_id                      \n",
       "1                            1\n",
       "2                            2\n",
       "3                            2\n",
       "4                            1\n",
       "5                            1\n",
       "...                        ...\n",
       "996                          3\n",
       "997                          2\n",
       "998                          2\n",
       "999                          2\n",
       "1000                         2\n",
       "\n",
       "[1000 rows x 1 columns]"
      ]
     },
     "execution_count": 9,
     "metadata": {},
     "output_type": "execute_result"
    }
   ],
   "source": [
    "df_baskets[['order_id', 'ordered_product_skus']].groupby('order_id').agg('count')"
   ]
  },
  {
   "cell_type": "code",
   "execution_count": 10,
   "id": "c4bbaadb",
   "metadata": {
    "ExecuteTime": {
     "end_time": "2022-05-30T15:59:48.204885Z",
     "start_time": "2022-05-30T15:59:48.198314Z"
    }
   },
   "outputs": [
    {
     "data": {
      "text/html": [
       "<div>\n",
       "<style scoped>\n",
       "    .dataframe tbody tr th:only-of-type {\n",
       "        vertical-align: middle;\n",
       "    }\n",
       "\n",
       "    .dataframe tbody tr th {\n",
       "        vertical-align: top;\n",
       "    }\n",
       "\n",
       "    .dataframe thead th {\n",
       "        text-align: right;\n",
       "    }\n",
       "</style>\n",
       "<table border=\"1\" class=\"dataframe\">\n",
       "  <thead>\n",
       "    <tr style=\"text-align: right;\">\n",
       "      <th></th>\n",
       "      <th>price_amount</th>\n",
       "      <th>price_currency</th>\n",
       "      <th>product_name</th>\n",
       "      <th>sku</th>\n",
       "    </tr>\n",
       "  </thead>\n",
       "  <tbody>\n",
       "    <tr>\n",
       "      <th>37</th>\n",
       "      <td>25</td>\n",
       "      <td>USD</td>\n",
       "      <td>Money plant</td>\n",
       "      <td>38</td>\n",
       "    </tr>\n",
       "    <tr>\n",
       "      <th>33</th>\n",
       "      <td>20</td>\n",
       "      <td>USD</td>\n",
       "      <td>Peony</td>\n",
       "      <td>34</td>\n",
       "    </tr>\n",
       "    <tr>\n",
       "      <th>21</th>\n",
       "      <td>75</td>\n",
       "      <td>USD</td>\n",
       "      <td>Lemon tree</td>\n",
       "      <td>22</td>\n",
       "    </tr>\n",
       "    <tr>\n",
       "      <th>8</th>\n",
       "      <td>60</td>\n",
       "      <td>USD</td>\n",
       "      <td>Contemporary clay trough</td>\n",
       "      <td>9</td>\n",
       "    </tr>\n",
       "    <tr>\n",
       "      <th>38</th>\n",
       "      <td>15</td>\n",
       "      <td>USD</td>\n",
       "      <td>Pothos</td>\n",
       "      <td>39</td>\n",
       "    </tr>\n",
       "    <tr>\n",
       "      <th>29</th>\n",
       "      <td>6</td>\n",
       "      <td>USD</td>\n",
       "      <td>Poppy seeds</td>\n",
       "      <td>30</td>\n",
       "    </tr>\n",
       "    <tr>\n",
       "      <th>20</th>\n",
       "      <td>54</td>\n",
       "      <td>USD</td>\n",
       "      <td>Eucalyptus tree</td>\n",
       "      <td>21</td>\n",
       "    </tr>\n",
       "    <tr>\n",
       "      <th>15</th>\n",
       "      <td>120</td>\n",
       "      <td>USD</td>\n",
       "      <td>Fire Pit Large</td>\n",
       "      <td>16</td>\n",
       "    </tr>\n",
       "    <tr>\n",
       "      <th>22</th>\n",
       "      <td>85</td>\n",
       "      <td>USD</td>\n",
       "      <td>Lime tree</td>\n",
       "      <td>23</td>\n",
       "    </tr>\n",
       "    <tr>\n",
       "      <th>27</th>\n",
       "      <td>75</td>\n",
       "      <td>USD</td>\n",
       "      <td>Fig tree</td>\n",
       "      <td>28</td>\n",
       "    </tr>\n",
       "  </tbody>\n",
       "</table>\n",
       "</div>"
      ],
      "text/plain": [
       "    price_amount price_currency              product_name  sku\n",
       "37            25            USD               Money plant   38\n",
       "33            20            USD                     Peony   34\n",
       "21            75            USD                Lemon tree   22\n",
       "8             60            USD  Contemporary clay trough    9\n",
       "38            15            USD                    Pothos   39\n",
       "29             6            USD               Poppy seeds   30\n",
       "20            54            USD           Eucalyptus tree   21\n",
       "15           120            USD            Fire Pit Large   16\n",
       "22            85            USD                 Lime tree   23\n",
       "27            75            USD                  Fig tree   28"
      ]
     },
     "execution_count": 10,
     "metadata": {},
     "output_type": "execute_result"
    }
   ],
   "source": [
    "df_products.sample(10)"
   ]
  },
  {
   "cell_type": "code",
   "execution_count": 11,
   "id": "0998d261",
   "metadata": {
    "ExecuteTime": {
     "end_time": "2022-05-30T15:59:48.212483Z",
     "start_time": "2022-05-30T15:59:48.207182Z"
    }
   },
   "outputs": [
    {
     "data": {
      "text/html": [
       "<div>\n",
       "<style scoped>\n",
       "    .dataframe tbody tr th:only-of-type {\n",
       "        vertical-align: middle;\n",
       "    }\n",
       "\n",
       "    .dataframe tbody tr th {\n",
       "        vertical-align: top;\n",
       "    }\n",
       "\n",
       "    .dataframe thead th {\n",
       "        text-align: right;\n",
       "    }\n",
       "</style>\n",
       "<table border=\"1\" class=\"dataframe\">\n",
       "  <thead>\n",
       "    <tr style=\"text-align: right;\">\n",
       "      <th></th>\n",
       "      <th>partner_commission</th>\n",
       "      <th>partner_id</th>\n",
       "      <th>partner_name</th>\n",
       "    </tr>\n",
       "  </thead>\n",
       "  <tbody>\n",
       "    <tr>\n",
       "      <th>0</th>\n",
       "      <td>0.18</td>\n",
       "      <td>1</td>\n",
       "      <td>Plant Paradise</td>\n",
       "    </tr>\n",
       "    <tr>\n",
       "      <th>1</th>\n",
       "      <td>0.14</td>\n",
       "      <td>2</td>\n",
       "      <td>Garden of Sweden</td>\n",
       "    </tr>\n",
       "    <tr>\n",
       "      <th>2</th>\n",
       "      <td>0.06</td>\n",
       "      <td>3</td>\n",
       "      <td>Peat, Fruits and Leaves</td>\n",
       "    </tr>\n",
       "    <tr>\n",
       "      <th>3</th>\n",
       "      <td>0.22</td>\n",
       "      <td>4</td>\n",
       "      <td>Redwood Ranch</td>\n",
       "    </tr>\n",
       "    <tr>\n",
       "      <th>4</th>\n",
       "      <td>0.08</td>\n",
       "      <td>5</td>\n",
       "      <td>Trowels R Us</td>\n",
       "    </tr>\n",
       "    <tr>\n",
       "      <th>5</th>\n",
       "      <td>0.14</td>\n",
       "      <td>6</td>\n",
       "      <td>Glorious Gardens</td>\n",
       "    </tr>\n",
       "  </tbody>\n",
       "</table>\n",
       "</div>"
      ],
      "text/plain": [
       "   partner_commission  partner_id             partner_name\n",
       "0                0.18           1           Plant Paradise\n",
       "1                0.14           2         Garden of Sweden\n",
       "2                0.06           3  Peat, Fruits and Leaves\n",
       "3                0.22           4            Redwood Ranch\n",
       "4                0.08           5             Trowels R Us\n",
       "5                0.14           6         Glorious Gardens"
      ]
     },
     "execution_count": 11,
     "metadata": {},
     "output_type": "execute_result"
    }
   ],
   "source": [
    "df_partners"
   ]
  },
  {
   "cell_type": "code",
   "execution_count": 12,
   "id": "81befd9c",
   "metadata": {
    "ExecuteTime": {
     "end_time": "2022-05-30T15:59:48.223253Z",
     "start_time": "2022-05-30T15:59:48.216456Z"
    }
   },
   "outputs": [
    {
     "data": {
      "text/html": [
       "<div>\n",
       "<style scoped>\n",
       "    .dataframe tbody tr th:only-of-type {\n",
       "        vertical-align: middle;\n",
       "    }\n",
       "\n",
       "    .dataframe tbody tr th {\n",
       "        vertical-align: top;\n",
       "    }\n",
       "\n",
       "    .dataframe thead th {\n",
       "        text-align: right;\n",
       "    }\n",
       "</style>\n",
       "<table border=\"1\" class=\"dataframe\">\n",
       "  <thead>\n",
       "    <tr style=\"text-align: right;\">\n",
       "      <th></th>\n",
       "      <th>browser</th>\n",
       "      <th>created_date</th>\n",
       "      <th>email</th>\n",
       "      <th>shipping_address</th>\n",
       "      <th>user_id</th>\n",
       "    </tr>\n",
       "  </thead>\n",
       "  <tbody>\n",
       "    <tr>\n",
       "      <th>158</th>\n",
       "      <td>chrome</td>\n",
       "      <td>2022-01-26 07:14:01</td>\n",
       "      <td>lenny_voluptatem@yahoo.com</td>\n",
       "      <td>{'city': 'Coty chester', 'country': 'IS', 'str...</td>\n",
       "      <td>159</td>\n",
       "    </tr>\n",
       "    <tr>\n",
       "      <th>433</th>\n",
       "      <td>chrome</td>\n",
       "      <td>2022-03-07 20:57:15</td>\n",
       "      <td>lance_iste@hotmail.com</td>\n",
       "      <td>{'city': 'Jones berg', 'country': 'VN', 'stree...</td>\n",
       "      <td>434</td>\n",
       "    </tr>\n",
       "    <tr>\n",
       "      <th>52</th>\n",
       "      <td>chrome</td>\n",
       "      <td>2022-01-08 22:20:05</td>\n",
       "      <td>faustino_qui@hotmail.com</td>\n",
       "      <td>{'city': 'Rempel fort', 'country': 'FR', 'stre...</td>\n",
       "      <td>53</td>\n",
       "    </tr>\n",
       "    <tr>\n",
       "      <th>407</th>\n",
       "      <td>chrome</td>\n",
       "      <td>2022-03-04 09:27:57</td>\n",
       "      <td>rahsaan_vitae@gmail.com</td>\n",
       "      <td>{'city': 'Koss shire', 'country': 'KP', 'stree...</td>\n",
       "      <td>408</td>\n",
       "    </tr>\n",
       "    <tr>\n",
       "      <th>9</th>\n",
       "      <td>safari</td>\n",
       "      <td>2022-01-02 23:18:24</td>\n",
       "      <td>shannon_consequuntur@yahoo.com</td>\n",
       "      <td>{'city': 'Klein port', 'country': 'NO', 'stree...</td>\n",
       "      <td>10</td>\n",
       "    </tr>\n",
       "    <tr>\n",
       "      <th>827</th>\n",
       "      <td>netscape</td>\n",
       "      <td>2022-05-05 13:01:09</td>\n",
       "      <td>cristina_porro@hotmail.com</td>\n",
       "      <td>{'city': 'Hackett stad', 'country': 'ET', 'str...</td>\n",
       "      <td>828</td>\n",
       "    </tr>\n",
       "    <tr>\n",
       "      <th>734</th>\n",
       "      <td>edge</td>\n",
       "      <td>2022-04-19 16:33:48</td>\n",
       "      <td>timothy_sunt@hotmail.com</td>\n",
       "      <td>{'city': 'Marilyne ville', 'country': 'PS', 's...</td>\n",
       "      <td>735</td>\n",
       "    </tr>\n",
       "    <tr>\n",
       "      <th>3</th>\n",
       "      <td>safari</td>\n",
       "      <td>2022-01-01 23:39:30</td>\n",
       "      <td>bill_rem@yahoo.com</td>\n",
       "      <td>{'city': 'Shane fort', 'country': 'KN', 'stree...</td>\n",
       "      <td>4</td>\n",
       "    </tr>\n",
       "    <tr>\n",
       "      <th>968</th>\n",
       "      <td>edge</td>\n",
       "      <td>2022-05-26 05:28:40</td>\n",
       "      <td>demario_reprehenderit@gmail.com</td>\n",
       "      <td>{'city': 'Vandervort burgh', 'country': 'ZM', ...</td>\n",
       "      <td>969</td>\n",
       "    </tr>\n",
       "    <tr>\n",
       "      <th>614</th>\n",
       "      <td>chrome</td>\n",
       "      <td>2022-04-02 01:32:09</td>\n",
       "      <td>ricky_sunt@hotmail.com</td>\n",
       "      <td>{'city': 'West ville', 'country': 'PR', 'stree...</td>\n",
       "      <td>615</td>\n",
       "    </tr>\n",
       "  </tbody>\n",
       "</table>\n",
       "</div>"
      ],
      "text/plain": [
       "      browser         created_date                            email  \\\n",
       "158    chrome  2022-01-26 07:14:01       lenny_voluptatem@yahoo.com   \n",
       "433    chrome  2022-03-07 20:57:15           lance_iste@hotmail.com   \n",
       "52     chrome  2022-01-08 22:20:05         faustino_qui@hotmail.com   \n",
       "407    chrome  2022-03-04 09:27:57          rahsaan_vitae@gmail.com   \n",
       "9      safari  2022-01-02 23:18:24   shannon_consequuntur@yahoo.com   \n",
       "827  netscape  2022-05-05 13:01:09       cristina_porro@hotmail.com   \n",
       "734      edge  2022-04-19 16:33:48         timothy_sunt@hotmail.com   \n",
       "3      safari  2022-01-01 23:39:30               bill_rem@yahoo.com   \n",
       "968      edge  2022-05-26 05:28:40  demario_reprehenderit@gmail.com   \n",
       "614    chrome  2022-04-02 01:32:09           ricky_sunt@hotmail.com   \n",
       "\n",
       "                                      shipping_address  user_id  \n",
       "158  {'city': 'Coty chester', 'country': 'IS', 'str...      159  \n",
       "433  {'city': 'Jones berg', 'country': 'VN', 'stree...      434  \n",
       "52   {'city': 'Rempel fort', 'country': 'FR', 'stre...       53  \n",
       "407  {'city': 'Koss shire', 'country': 'KP', 'stree...      408  \n",
       "9    {'city': 'Klein port', 'country': 'NO', 'stree...       10  \n",
       "827  {'city': 'Hackett stad', 'country': 'ET', 'str...      828  \n",
       "734  {'city': 'Marilyne ville', 'country': 'PS', 's...      735  \n",
       "3    {'city': 'Shane fort', 'country': 'KN', 'stree...        4  \n",
       "968  {'city': 'Vandervort burgh', 'country': 'ZM', ...      969  \n",
       "614  {'city': 'West ville', 'country': 'PR', 'stree...      615  "
      ]
     },
     "execution_count": 12,
     "metadata": {},
     "output_type": "execute_result"
    }
   ],
   "source": [
    "df_users.sample(10)"
   ]
  },
  {
   "cell_type": "code",
   "execution_count": 13,
   "id": "a629786a",
   "metadata": {
    "ExecuteTime": {
     "end_time": "2022-05-30T15:59:48.229151Z",
     "start_time": "2022-05-30T15:59:48.225332Z"
    }
   },
   "outputs": [
    {
     "data": {
      "text/plain": [
       "chrome               501\n",
       "safari               243\n",
       "edge                 179\n",
       "firefox               41\n",
       "internet_explorer     20\n",
       "netscape              14\n",
       "lynx                   2\n",
       "Name: browser, dtype: int64"
      ]
     },
     "execution_count": 13,
     "metadata": {},
     "output_type": "execute_result"
    }
   ],
   "source": [
    "df_users['browser'].value_counts()"
   ]
  },
  {
   "cell_type": "code",
   "execution_count": 14,
   "id": "edcb49df",
   "metadata": {
    "ExecuteTime": {
     "end_time": "2022-05-30T15:59:48.277383Z",
     "start_time": "2022-05-30T15:59:48.230820Z"
    }
   },
   "outputs": [
    {
     "data": {
      "text/plain": [
       "<AxesSubplot:>"
      ]
     },
     "execution_count": 14,
     "metadata": {},
     "output_type": "execute_result"
    },
    {
     "data": {
      "image/png": "[encoded data removed]",
      "text/plain": [
       "<Figure size 432x288 with 1 Axes>"
      ]
     },
     "metadata": {
      "needs_background": "light"
     },
     "output_type": "display_data"
    }
   ],
   "source": [
    "df_support_requests['feedback_rating'].hist()"
   ]
  },
  {
   "cell_type": "code",
   "execution_count": 15,
   "id": "2f3c050c",
   "metadata": {
    "ExecuteTime": {
     "end_time": "2022-05-30T15:59:48.282447Z",
     "start_time": "2022-05-30T15:59:48.279158Z"
    }
   },
   "outputs": [
    {
     "data": {
      "text/plain": [
       "Delivery issue           37\n",
       "Product related query    25\n",
       "Wrong item received      11\n",
       "Payment issue             9\n",
       "Name: reason, dtype: int64"
      ]
     },
     "execution_count": 15,
     "metadata": {},
     "output_type": "execute_result"
    }
   ],
   "source": [
    "df_support_requests['reason'].value_counts()"
   ]
  },
  {
   "cell_type": "code",
   "execution_count": 16,
   "id": "b0c545d2",
   "metadata": {
    "ExecuteTime": {
     "end_time": "2022-05-30T15:59:48.289942Z",
     "start_time": "2022-05-30T15:59:48.283577Z"
    }
   },
   "outputs": [
    {
     "data": {
      "text/plain": [
       "31     2\n",
       "7      2\n",
       "95     2\n",
       "79     2\n",
       "50     1\n",
       "      ..\n",
       "702    1\n",
       "552    1\n",
       "110    1\n",
       "342    1\n",
       "178    1\n",
       "Name: order_id, Length: 78, dtype: int64"
      ]
     },
     "execution_count": 16,
     "metadata": {},
     "output_type": "execute_result"
    }
   ],
   "source": [
    "df_support_requests['order_id'].value_counts()"
   ]
  },
  {
   "cell_type": "code",
   "execution_count": 17,
   "id": "39fa0f29",
   "metadata": {
    "ExecuteTime": {
     "end_time": "2022-05-30T15:59:48.294610Z",
     "start_time": "2022-05-30T15:59:48.291657Z"
    }
   },
   "outputs": [
    {
     "data": {
      "text/plain": [
       "['basket_item_id',\n",
       " 'order_id',\n",
       " 'ordered_product_skus',\n",
       " 'price_amount',\n",
       " 'basket_total']"
      ]
     },
     "execution_count": 17,
     "metadata": {},
     "output_type": "execute_result"
    }
   ],
   "source": [
    "list(df_baskets)"
   ]
  },
  {
   "cell_type": "code",
   "execution_count": 18,
   "id": "b4d977ac",
   "metadata": {
    "ExecuteTime": {
     "end_time": "2022-05-30T15:59:48.298285Z",
     "start_time": "2022-05-30T15:59:48.295481Z"
    }
   },
   "outputs": [
    {
     "data": {
      "text/plain": [
       "['order_id',\n",
       " 'currency',\n",
       " 'ordered_product_skus',\n",
       " 'partner_id',\n",
       " 'referrer',\n",
       " 'timestamp',\n",
       " 'user_id',\n",
       " 'basket_total',\n",
       " 'profit']"
      ]
     },
     "execution_count": 18,
     "metadata": {},
     "output_type": "execute_result"
    }
   ],
   "source": [
    "list(df_orders)"
   ]
  },
  {
   "cell_type": "code",
   "execution_count": 19,
   "id": "9ade8623",
   "metadata": {
    "ExecuteTime": {
     "end_time": "2022-05-30T15:59:48.303530Z",
     "start_time": "2022-05-30T15:59:48.299960Z"
    }
   },
   "outputs": [
    {
     "data": {
      "text/plain": [
       "['price_amount', 'price_currency', 'product_name', 'sku']"
      ]
     },
     "execution_count": 19,
     "metadata": {},
     "output_type": "execute_result"
    }
   ],
   "source": [
    "list(df_products)"
   ]
  },
  {
   "cell_type": "code",
   "execution_count": 20,
   "id": "3fd10ba5",
   "metadata": {
    "ExecuteTime": {
     "end_time": "2022-05-30T15:59:48.310543Z",
     "start_time": "2022-05-30T15:59:48.307199Z"
    }
   },
   "outputs": [
    {
     "data": {
      "text/plain": [
       "['partner_commission', 'partner_id', 'partner_name']"
      ]
     },
     "execution_count": 20,
     "metadata": {},
     "output_type": "execute_result"
    }
   ],
   "source": [
    "list(df_partners)"
   ]
  },
  {
   "cell_type": "code",
   "execution_count": 21,
   "id": "b9ae7e15",
   "metadata": {
    "ExecuteTime": {
     "end_time": "2022-05-30T15:59:48.314564Z",
     "start_time": "2022-05-30T15:59:48.311923Z"
    }
   },
   "outputs": [
    {
     "data": {
      "text/plain": [
       "['feedback_rating', 'order_id', 'reason', 'request_id', 'timestamp']"
      ]
     },
     "execution_count": 21,
     "metadata": {},
     "output_type": "execute_result"
    }
   ],
   "source": [
    "list(df_support_requests)"
   ]
  },
  {
   "cell_type": "code",
   "execution_count": 22,
   "id": "1d650ad6",
   "metadata": {
    "ExecuteTime": {
     "end_time": "2022-05-30T15:59:48.320982Z",
     "start_time": "2022-05-30T15:59:48.315851Z"
    }
   },
   "outputs": [
    {
     "data": {
      "text/plain": [
       "['browser', 'created_date', 'email', 'shipping_address', 'user_id']"
      ]
     },
     "execution_count": 22,
     "metadata": {},
     "output_type": "execute_result"
    }
   ],
   "source": [
    "list(df_users)"
   ]
  }
 ],
 "metadata": {
  "kernelspec": {
   "display_name": "Python 3 (ipykernel)",
   "language": "python",
   "name": "python3"
  },
  "language_info": {
   "codemirror_mode": {
    "name": "ipython",
    "version": 3
   },
   "file_extension": ".py",
   "mimetype": "text/x-python",
   "name": "python",
   "nbconvert_exporter": "python",
   "pygments_lexer": "ipython3",
   "version": "3.9.13"
  }
 },
 "nbformat": 4,
 "nbformat_minor": 5
}
