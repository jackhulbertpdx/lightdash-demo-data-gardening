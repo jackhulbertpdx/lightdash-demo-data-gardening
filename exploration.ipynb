{
 "cells": [
  {
   "cell_type": "markdown",
   "id": "ada33023",
   "metadata": {},
   "source": [
    "this is very brief. this is not a proper exploratory data anlysis."
   ]
  },
  {
   "cell_type": "code",
   "execution_count": 1,
   "id": "20c5f2a4",
   "metadata": {
    "ExecuteTime": {
     "end_time": "2022-05-31T14:11:16.642588Z",
     "start_time": "2022-05-31T14:11:16.420582Z"
    }
   },
   "outputs": [],
   "source": [
    "import pandas as pd\n",
    "\n",
    "df_orders = pd.read_csv('dbt/seeds/orders.csv')\n",
    "df_baskets = pd.read_csv('dbt/seeds/baskets.csv')\n",
    "df_products = pd.read_csv('dbt/seeds/products.csv')\n",
    "df_partners = pd.read_csv('dbt/seeds/partners.csv')\n",
    "df_users = pd.read_csv('dbt/seeds/users.csv')\n",
    "df_support_requests = pd.read_csv('dbt/seeds/support_requests.csv')"
   ]
  },
  {
   "cell_type": "code",
   "execution_count": 2,
   "id": "dd32ee30",
   "metadata": {
    "ExecuteTime": {
     "end_time": "2022-05-31T14:11:16.670385Z",
     "start_time": "2022-05-31T14:11:16.648234Z"
    }
   },
   "outputs": [
    {
     "name": "stdout",
     "output_type": "stream",
     "text": [
      "<class 'pandas.core.frame.DataFrame'>\n",
      "RangeIndex: 989 entries, 0 to 988\n",
      "Data columns (total 9 columns):\n",
      " #   Column                Non-Null Count  Dtype  \n",
      "---  ------                --------------  -----  \n",
      " 0   order_id              989 non-null    int64  \n",
      " 1   order_date            989 non-null    object \n",
      " 2   user_id               989 non-null    int64  \n",
      " 3   partner_id            989 non-null    int64  \n",
      " 4   ordered_product_skus  989 non-null    object \n",
      " 5   currency              989 non-null    object \n",
      " 6   basket_total          989 non-null    int64  \n",
      " 7   profit                989 non-null    float64\n",
      " 8   referrer              989 non-null    object \n",
      "dtypes: float64(1), int64(4), object(4)\n",
      "memory usage: 69.7+ KB\n"
     ]
    }
   ],
   "source": [
    "df_orders.info()"
   ]
  },
  {
   "cell_type": "code",
   "execution_count": 3,
   "id": "636420f1",
   "metadata": {
    "ExecuteTime": {
     "end_time": "2022-05-31T14:11:16.698805Z",
     "start_time": "2022-05-31T14:11:16.682377Z"
    }
   },
   "outputs": [
    {
     "name": "stdout",
     "output_type": "stream",
     "text": [
      "<class 'pandas.core.frame.DataFrame'>\n",
      "RangeIndex: 1909 entries, 0 to 1908\n",
      "Data columns (total 5 columns):\n",
      " #   Column                Non-Null Count  Dtype\n",
      "---  ------                --------------  -----\n",
      " 0   order_id              1909 non-null   int64\n",
      " 1   basket_item_id        1909 non-null   int64\n",
      " 2   ordered_product_skus  1909 non-null   int64\n",
      " 3   price_amount          1909 non-null   int64\n",
      " 4   basket_total          1909 non-null   int64\n",
      "dtypes: int64(5)\n",
      "memory usage: 74.7 KB\n"
     ]
    }
   ],
   "source": [
    "df_baskets.info()"
   ]
  },
  {
   "cell_type": "code",
   "execution_count": 4,
   "id": "2a71ca24",
   "metadata": {
    "ExecuteTime": {
     "end_time": "2022-05-31T14:11:16.710095Z",
     "start_time": "2022-05-31T14:11:16.705822Z"
    }
   },
   "outputs": [
    {
     "name": "stdout",
     "output_type": "stream",
     "text": [
      "<class 'pandas.core.frame.DataFrame'>\n",
      "RangeIndex: 41 entries, 0 to 40\n",
      "Data columns (total 4 columns):\n",
      " #   Column          Non-Null Count  Dtype \n",
      "---  ------          --------------  ----- \n",
      " 0   sku             41 non-null     int64 \n",
      " 1   product_name    41 non-null     object\n",
      " 2   price_amount    41 non-null     int64 \n",
      " 3   price_currency  41 non-null     object\n",
      "dtypes: int64(2), object(2)\n",
      "memory usage: 1.4+ KB\n"
     ]
    }
   ],
   "source": [
    "df_products.info()"
   ]
  },
  {
   "cell_type": "code",
   "execution_count": 5,
   "id": "b68a3c7f",
   "metadata": {
    "ExecuteTime": {
     "end_time": "2022-05-31T14:11:16.718144Z",
     "start_time": "2022-05-31T14:11:16.711505Z"
    }
   },
   "outputs": [
    {
     "name": "stdout",
     "output_type": "stream",
     "text": [
      "<class 'pandas.core.frame.DataFrame'>\n",
      "RangeIndex: 6 entries, 0 to 5\n",
      "Data columns (total 3 columns):\n",
      " #   Column              Non-Null Count  Dtype  \n",
      "---  ------              --------------  -----  \n",
      " 0   partner_id          6 non-null      int64  \n",
      " 1   partner_name        6 non-null      object \n",
      " 2   partner_commission  6 non-null      float64\n",
      "dtypes: float64(1), int64(1), object(1)\n",
      "memory usage: 272.0+ bytes\n"
     ]
    }
   ],
   "source": [
    "df_partners.info()"
   ]
  },
  {
   "cell_type": "code",
   "execution_count": 6,
   "id": "d6f7aaa5",
   "metadata": {
    "ExecuteTime": {
     "end_time": "2022-05-31T14:11:16.724361Z",
     "start_time": "2022-05-31T14:11:16.719776Z"
    }
   },
   "outputs": [
    {
     "name": "stdout",
     "output_type": "stream",
     "text": [
      "<class 'pandas.core.frame.DataFrame'>\n",
      "RangeIndex: 1000 entries, 0 to 999\n",
      "Data columns (total 5 columns):\n",
      " #   Column            Non-Null Count  Dtype \n",
      "---  ------            --------------  ----- \n",
      " 0   user_id           1000 non-null   int64 \n",
      " 1   email             1000 non-null   object\n",
      " 2   created_date      1000 non-null   object\n",
      " 3   browser           1000 non-null   object\n",
      " 4   shipping_address  1000 non-null   object\n",
      "dtypes: int64(1), object(4)\n",
      "memory usage: 39.2+ KB\n"
     ]
    }
   ],
   "source": [
    "df_users.info()"
   ]
  },
  {
   "cell_type": "code",
   "execution_count": 7,
   "id": "b42dceef",
   "metadata": {
    "ExecuteTime": {
     "end_time": "2022-05-31T14:11:16.733459Z",
     "start_time": "2022-05-31T14:11:16.725625Z"
    }
   },
   "outputs": [
    {
     "name": "stdout",
     "output_type": "stream",
     "text": [
      "<class 'pandas.core.frame.DataFrame'>\n",
      "RangeIndex: 76 entries, 0 to 75\n",
      "Data columns (total 5 columns):\n",
      " #   Column           Non-Null Count  Dtype \n",
      "---  ------           --------------  ----- \n",
      " 0   request_id       76 non-null     int64 \n",
      " 1   order_id         76 non-null     int64 \n",
      " 2   request_date     76 non-null     object\n",
      " 3   reason           76 non-null     object\n",
      " 4   feedback_rating  76 non-null     int64 \n",
      "dtypes: int64(3), object(2)\n",
      "memory usage: 3.1+ KB\n"
     ]
    }
   ],
   "source": [
    "df_support_requests.info()"
   ]
  },
  {
   "cell_type": "code",
   "execution_count": 8,
   "id": "7d1a2e26",
   "metadata": {
    "ExecuteTime": {
     "end_time": "2022-05-31T14:11:16.745969Z",
     "start_time": "2022-05-31T14:11:16.735458Z"
    }
   },
   "outputs": [
    {
     "data": {
      "text/html": [
       "<div>\n",
       "<style scoped>\n",
       "    .dataframe tbody tr th:only-of-type {\n",
       "        vertical-align: middle;\n",
       "    }\n",
       "\n",
       "    .dataframe tbody tr th {\n",
       "        vertical-align: top;\n",
       "    }\n",
       "\n",
       "    .dataframe thead th {\n",
       "        text-align: right;\n",
       "    }\n",
       "</style>\n",
       "<table border=\"1\" class=\"dataframe\">\n",
       "  <thead>\n",
       "    <tr style=\"text-align: right;\">\n",
       "      <th></th>\n",
       "      <th>order_id</th>\n",
       "      <th>order_date</th>\n",
       "      <th>user_id</th>\n",
       "      <th>partner_id</th>\n",
       "      <th>ordered_product_skus</th>\n",
       "      <th>currency</th>\n",
       "      <th>basket_total</th>\n",
       "      <th>profit</th>\n",
       "      <th>referrer</th>\n",
       "    </tr>\n",
       "  </thead>\n",
       "  <tbody>\n",
       "    <tr>\n",
       "      <th>733</th>\n",
       "      <td>734</td>\n",
       "      <td>2022-05-09 12:04:48</td>\n",
       "      <td>105</td>\n",
       "      <td>4</td>\n",
       "      <td>[19, 24]</td>\n",
       "      <td>USD</td>\n",
       "      <td>102</td>\n",
       "      <td>22.44</td>\n",
       "      <td>facebook</td>\n",
       "    </tr>\n",
       "    <tr>\n",
       "      <th>391</th>\n",
       "      <td>392</td>\n",
       "      <td>2022-04-30 07:14:41</td>\n",
       "      <td>432</td>\n",
       "      <td>3</td>\n",
       "      <td>[22]</td>\n",
       "      <td>USD</td>\n",
       "      <td>75</td>\n",
       "      <td>4.50</td>\n",
       "      <td>organic</td>\n",
       "    </tr>\n",
       "    <tr>\n",
       "      <th>659</th>\n",
       "      <td>660</td>\n",
       "      <td>2022-05-07 10:04:59</td>\n",
       "      <td>63</td>\n",
       "      <td>2</td>\n",
       "      <td>[16]</td>\n",
       "      <td>USD</td>\n",
       "      <td>120</td>\n",
       "      <td>16.80</td>\n",
       "      <td>instagram</td>\n",
       "    </tr>\n",
       "    <tr>\n",
       "      <th>542</th>\n",
       "      <td>543</td>\n",
       "      <td>2022-05-04 11:23:55</td>\n",
       "      <td>347</td>\n",
       "      <td>4</td>\n",
       "      <td>[12]</td>\n",
       "      <td>USD</td>\n",
       "      <td>4</td>\n",
       "      <td>0.88</td>\n",
       "      <td>instagram</td>\n",
       "    </tr>\n",
       "    <tr>\n",
       "      <th>515</th>\n",
       "      <td>516</td>\n",
       "      <td>2022-05-04 00:15:03</td>\n",
       "      <td>526</td>\n",
       "      <td>5</td>\n",
       "      <td>[29, 19, 24, 15]</td>\n",
       "      <td>USD</td>\n",
       "      <td>212</td>\n",
       "      <td>16.96</td>\n",
       "      <td>instagram</td>\n",
       "    </tr>\n",
       "  </tbody>\n",
       "</table>\n",
       "</div>"
      ],
      "text/plain": [
       "     order_id           order_date  user_id  partner_id ordered_product_skus  \\\n",
       "733       734  2022-05-09 12:04:48      105           4             [19, 24]   \n",
       "391       392  2022-04-30 07:14:41      432           3                 [22]   \n",
       "659       660  2022-05-07 10:04:59       63           2                 [16]   \n",
       "542       543  2022-05-04 11:23:55      347           4                 [12]   \n",
       "515       516  2022-05-04 00:15:03      526           5     [29, 19, 24, 15]   \n",
       "\n",
       "    currency  basket_total  profit   referrer  \n",
       "733      USD           102   22.44   facebook  \n",
       "391      USD            75    4.50    organic  \n",
       "659      USD           120   16.80  instagram  \n",
       "542      USD             4    0.88  instagram  \n",
       "515      USD           212   16.96  instagram  "
      ]
     },
     "execution_count": 8,
     "metadata": {},
     "output_type": "execute_result"
    }
   ],
   "source": [
    "df_orders.sample(5)"
   ]
  },
  {
   "cell_type": "code",
   "execution_count": 9,
   "id": "72875cab",
   "metadata": {
    "ExecuteTime": {
     "end_time": "2022-05-31T14:11:17.121686Z",
     "start_time": "2022-05-31T14:11:16.750929Z"
    },
    "scrolled": true
   },
   "outputs": [
    {
     "data": {
      "text/plain": [
       "<AxesSubplot:>"
      ]
     },
     "execution_count": 9,
     "metadata": {},
     "output_type": "execute_result"
    },
    {
     "data": {
      "image/png": "[encoded data removed]",
      "text/plain": [
       "<Figure size 432x288 with 1 Axes>"
      ]
     },
     "metadata": {
      "needs_background": "light"
     },
     "output_type": "display_data"
    }
   ],
   "source": [
    "df_orders['user_id'].value_counts().hist(bins=6)"
   ]
  },
  {
   "cell_type": "code",
   "execution_count": 10,
   "id": "757704df",
   "metadata": {
    "ExecuteTime": {
     "end_time": "2022-05-31T14:11:17.175546Z",
     "start_time": "2022-05-31T14:11:17.123165Z"
    }
   },
   "outputs": [
    {
     "data": {
      "text/plain": [
       "<AxesSubplot:>"
      ]
     },
     "execution_count": 10,
     "metadata": {},
     "output_type": "execute_result"
    },
    {
     "data": {
      "image/png": "[encoded data removed]",
      "text/plain": [
       "<Figure size 432x288 with 1 Axes>"
      ]
     },
     "metadata": {
      "needs_background": "light"
     },
     "output_type": "display_data"
    }
   ],
   "source": [
    "df_orders['partner_id'].hist(bins=6)"
   ]
  },
  {
   "cell_type": "code",
   "execution_count": 11,
   "id": "617069e2",
   "metadata": {
    "ExecuteTime": {
     "end_time": "2022-05-31T14:11:17.185464Z",
     "start_time": "2022-05-31T14:11:17.181479Z"
    }
   },
   "outputs": [
    {
     "data": {
      "text/plain": [
       "instagram    317\n",
       "ppc          234\n",
       "facebook     188\n",
       "organic      125\n",
       "direct        81\n",
       "twitter       44\n",
       "Name: referrer, dtype: int64"
      ]
     },
     "execution_count": 11,
     "metadata": {},
     "output_type": "execute_result"
    }
   ],
   "source": [
    "df_orders['referrer'].value_counts()"
   ]
  },
  {
   "cell_type": "code",
   "execution_count": 12,
   "id": "c5d54f22",
   "metadata": {
    "ExecuteTime": {
     "end_time": "2022-05-31T14:11:17.190195Z",
     "start_time": "2022-05-31T14:11:17.186467Z"
    }
   },
   "outputs": [
    {
     "data": {
      "text/plain": [
       "0                 [36]\n",
       "1             [33, 11]\n",
       "2                 [16]\n",
       "3             [15, 19]\n",
       "4                 [20]\n",
       "            ...       \n",
       "984               [39]\n",
       "985               [12]\n",
       "986    [15, 1, 29, 21]\n",
       "987               [18]\n",
       "988       [38, 21, 35]\n",
       "Name: ordered_product_skus, Length: 989, dtype: object"
      ]
     },
     "execution_count": 12,
     "metadata": {},
     "output_type": "execute_result"
    }
   ],
   "source": [
    "df_orders['ordered_product_skus']"
   ]
  },
  {
   "cell_type": "code",
   "execution_count": 13,
   "id": "578b373e",
   "metadata": {
    "ExecuteTime": {
     "end_time": "2022-05-31T14:11:17.199230Z",
     "start_time": "2022-05-31T14:11:17.191507Z"
    }
   },
   "outputs": [
    {
     "data": {
      "text/plain": [
       "[16]                23\n",
       "[36]                19\n",
       "[27]                19\n",
       "[8]                 18\n",
       "[39]                17\n",
       "                    ..\n",
       "[36, 31, 15]         1\n",
       "[16, 19, 28, 17]     1\n",
       "[16, 33]             1\n",
       "[30, 19]             1\n",
       "[38, 21, 35]         1\n",
       "Name: ordered_product_skus, Length: 524, dtype: int64"
      ]
     },
     "execution_count": 13,
     "metadata": {},
     "output_type": "execute_result"
    }
   ],
   "source": [
    "df_orders['ordered_product_skus'].value_counts()"
   ]
  },
  {
   "cell_type": "code",
   "execution_count": 14,
   "id": "1b93287b",
   "metadata": {
    "ExecuteTime": {
     "end_time": "2022-05-31T14:11:17.254795Z",
     "start_time": "2022-05-31T14:11:17.201330Z"
    }
   },
   "outputs": [
    {
     "data": {
      "text/plain": [
       "<AxesSubplot:>"
      ]
     },
     "execution_count": 14,
     "metadata": {},
     "output_type": "execute_result"
    },
    {
     "data": {
      "image/png": "[encoded data removed]",
      "text/plain": [
       "<Figure size 432x288 with 1 Axes>"
      ]
     },
     "metadata": {
      "needs_background": "light"
     },
     "output_type": "display_data"
    }
   ],
   "source": [
    "df_baskets['ordered_product_skus'].hist()"
   ]
  },
  {
   "cell_type": "code",
   "execution_count": 15,
   "id": "3fc1db7f",
   "metadata": {
    "ExecuteTime": {
     "end_time": "2022-05-31T14:11:17.261882Z",
     "start_time": "2022-05-31T14:11:17.256073Z"
    }
   },
   "outputs": [
    {
     "data": {
      "text/html": [
       "<div>\n",
       "<style scoped>\n",
       "    .dataframe tbody tr th:only-of-type {\n",
       "        vertical-align: middle;\n",
       "    }\n",
       "\n",
       "    .dataframe tbody tr th {\n",
       "        vertical-align: top;\n",
       "    }\n",
       "\n",
       "    .dataframe thead th {\n",
       "        text-align: right;\n",
       "    }\n",
       "</style>\n",
       "<table border=\"1\" class=\"dataframe\">\n",
       "  <thead>\n",
       "    <tr style=\"text-align: right;\">\n",
       "      <th></th>\n",
       "      <th>ordered_product_skus</th>\n",
       "    </tr>\n",
       "    <tr>\n",
       "      <th>order_id</th>\n",
       "      <th></th>\n",
       "    </tr>\n",
       "  </thead>\n",
       "  <tbody>\n",
       "    <tr>\n",
       "      <th>1</th>\n",
       "      <td>1</td>\n",
       "    </tr>\n",
       "    <tr>\n",
       "      <th>2</th>\n",
       "      <td>2</td>\n",
       "    </tr>\n",
       "    <tr>\n",
       "      <th>3</th>\n",
       "      <td>1</td>\n",
       "    </tr>\n",
       "    <tr>\n",
       "      <th>4</th>\n",
       "      <td>2</td>\n",
       "    </tr>\n",
       "    <tr>\n",
       "      <th>5</th>\n",
       "      <td>1</td>\n",
       "    </tr>\n",
       "    <tr>\n",
       "      <th>...</th>\n",
       "      <td>...</td>\n",
       "    </tr>\n",
       "    <tr>\n",
       "      <th>985</th>\n",
       "      <td>1</td>\n",
       "    </tr>\n",
       "    <tr>\n",
       "      <th>986</th>\n",
       "      <td>1</td>\n",
       "    </tr>\n",
       "    <tr>\n",
       "      <th>987</th>\n",
       "      <td>4</td>\n",
       "    </tr>\n",
       "    <tr>\n",
       "      <th>988</th>\n",
       "      <td>1</td>\n",
       "    </tr>\n",
       "    <tr>\n",
       "      <th>989</th>\n",
       "      <td>3</td>\n",
       "    </tr>\n",
       "  </tbody>\n",
       "</table>\n",
       "<p>989 rows × 1 columns</p>\n",
       "</div>"
      ],
      "text/plain": [
       "          ordered_product_skus\n",
       "order_id                      \n",
       "1                            1\n",
       "2                            2\n",
       "3                            1\n",
       "4                            2\n",
       "5                            1\n",
       "...                        ...\n",
       "985                          1\n",
       "986                          1\n",
       "987                          4\n",
       "988                          1\n",
       "989                          3\n",
       "\n",
       "[989 rows x 1 columns]"
      ]
     },
     "execution_count": 15,
     "metadata": {},
     "output_type": "execute_result"
    }
   ],
   "source": [
    "df_baskets[['order_id', 'ordered_product_skus']].groupby('order_id').agg('count')"
   ]
  },
  {
   "cell_type": "code",
   "execution_count": 16,
   "id": "c4bbaadb",
   "metadata": {
    "ExecuteTime": {
     "end_time": "2022-05-31T14:11:17.270256Z",
     "start_time": "2022-05-31T14:11:17.264172Z"
    }
   },
   "outputs": [
    {
     "data": {
      "text/html": [
       "<div>\n",
       "<style scoped>\n",
       "    .dataframe tbody tr th:only-of-type {\n",
       "        vertical-align: middle;\n",
       "    }\n",
       "\n",
       "    .dataframe tbody tr th {\n",
       "        vertical-align: top;\n",
       "    }\n",
       "\n",
       "    .dataframe thead th {\n",
       "        text-align: right;\n",
       "    }\n",
       "</style>\n",
       "<table border=\"1\" class=\"dataframe\">\n",
       "  <thead>\n",
       "    <tr style=\"text-align: right;\">\n",
       "      <th></th>\n",
       "      <th>sku</th>\n",
       "      <th>product_name</th>\n",
       "      <th>price_amount</th>\n",
       "      <th>price_currency</th>\n",
       "    </tr>\n",
       "  </thead>\n",
       "  <tbody>\n",
       "    <tr>\n",
       "      <th>35</th>\n",
       "      <td>36</td>\n",
       "      <td>Peace lily</td>\n",
       "      <td>30</td>\n",
       "      <td>USD</td>\n",
       "    </tr>\n",
       "    <tr>\n",
       "      <th>3</th>\n",
       "      <td>4</td>\n",
       "      <td>Monstera deliciosa medium</td>\n",
       "      <td>30</td>\n",
       "      <td>USD</td>\n",
       "    </tr>\n",
       "    <tr>\n",
       "      <th>20</th>\n",
       "      <td>21</td>\n",
       "      <td>Eucalyptus tree</td>\n",
       "      <td>54</td>\n",
       "      <td>USD</td>\n",
       "    </tr>\n",
       "    <tr>\n",
       "      <th>0</th>\n",
       "      <td>1</td>\n",
       "      <td>Steel outdoor dining table set</td>\n",
       "      <td>225</td>\n",
       "      <td>USD</td>\n",
       "    </tr>\n",
       "    <tr>\n",
       "      <th>28</th>\n",
       "      <td>29</td>\n",
       "      <td>Alocasia</td>\n",
       "      <td>30</td>\n",
       "      <td>USD</td>\n",
       "    </tr>\n",
       "    <tr>\n",
       "      <th>2</th>\n",
       "      <td>3</td>\n",
       "      <td>Funky gnome themed parasol</td>\n",
       "      <td>130</td>\n",
       "      <td>USD</td>\n",
       "    </tr>\n",
       "    <tr>\n",
       "      <th>16</th>\n",
       "      <td>17</td>\n",
       "      <td>Basil seeds</td>\n",
       "      <td>3</td>\n",
       "      <td>USD</td>\n",
       "    </tr>\n",
       "    <tr>\n",
       "      <th>24</th>\n",
       "      <td>25</td>\n",
       "      <td>Azalea</td>\n",
       "      <td>79</td>\n",
       "      <td>USD</td>\n",
       "    </tr>\n",
       "    <tr>\n",
       "      <th>11</th>\n",
       "      <td>12</td>\n",
       "      <td>White Roses seeds</td>\n",
       "      <td>4</td>\n",
       "      <td>USD</td>\n",
       "    </tr>\n",
       "    <tr>\n",
       "      <th>29</th>\n",
       "      <td>30</td>\n",
       "      <td>Poppy seeds</td>\n",
       "      <td>6</td>\n",
       "      <td>USD</td>\n",
       "    </tr>\n",
       "  </tbody>\n",
       "</table>\n",
       "</div>"
      ],
      "text/plain": [
       "    sku                    product_name  price_amount price_currency\n",
       "35   36                      Peace lily            30            USD\n",
       "3     4       Monstera deliciosa medium            30            USD\n",
       "20   21                 Eucalyptus tree            54            USD\n",
       "0     1  Steel outdoor dining table set           225            USD\n",
       "28   29                        Alocasia            30            USD\n",
       "2     3      Funky gnome themed parasol           130            USD\n",
       "16   17                     Basil seeds             3            USD\n",
       "24   25                          Azalea            79            USD\n",
       "11   12               White Roses seeds             4            USD\n",
       "29   30                     Poppy seeds             6            USD"
      ]
     },
     "execution_count": 16,
     "metadata": {},
     "output_type": "execute_result"
    }
   ],
   "source": [
    "df_products.sample(10)"
   ]
  },
  {
   "cell_type": "code",
   "execution_count": 17,
   "id": "0998d261",
   "metadata": {
    "ExecuteTime": {
     "end_time": "2022-05-31T14:11:17.277476Z",
     "start_time": "2022-05-31T14:11:17.271673Z"
    }
   },
   "outputs": [
    {
     "data": {
      "text/html": [
       "<div>\n",
       "<style scoped>\n",
       "    .dataframe tbody tr th:only-of-type {\n",
       "        vertical-align: middle;\n",
       "    }\n",
       "\n",
       "    .dataframe tbody tr th {\n",
       "        vertical-align: top;\n",
       "    }\n",
       "\n",
       "    .dataframe thead th {\n",
       "        text-align: right;\n",
       "    }\n",
       "</style>\n",
       "<table border=\"1\" class=\"dataframe\">\n",
       "  <thead>\n",
       "    <tr style=\"text-align: right;\">\n",
       "      <th></th>\n",
       "      <th>partner_id</th>\n",
       "      <th>partner_name</th>\n",
       "      <th>partner_commission</th>\n",
       "    </tr>\n",
       "  </thead>\n",
       "  <tbody>\n",
       "    <tr>\n",
       "      <th>0</th>\n",
       "      <td>1</td>\n",
       "      <td>Plant Paradise</td>\n",
       "      <td>0.18</td>\n",
       "    </tr>\n",
       "    <tr>\n",
       "      <th>1</th>\n",
       "      <td>2</td>\n",
       "      <td>Garden of Sweden</td>\n",
       "      <td>0.14</td>\n",
       "    </tr>\n",
       "    <tr>\n",
       "      <th>2</th>\n",
       "      <td>3</td>\n",
       "      <td>Peat, Fruits and Leaves</td>\n",
       "      <td>0.06</td>\n",
       "    </tr>\n",
       "    <tr>\n",
       "      <th>3</th>\n",
       "      <td>4</td>\n",
       "      <td>Redwood Ranch</td>\n",
       "      <td>0.22</td>\n",
       "    </tr>\n",
       "    <tr>\n",
       "      <th>4</th>\n",
       "      <td>5</td>\n",
       "      <td>Trowels R Us</td>\n",
       "      <td>0.08</td>\n",
       "    </tr>\n",
       "    <tr>\n",
       "      <th>5</th>\n",
       "      <td>6</td>\n",
       "      <td>Glorious Gardens</td>\n",
       "      <td>0.14</td>\n",
       "    </tr>\n",
       "  </tbody>\n",
       "</table>\n",
       "</div>"
      ],
      "text/plain": [
       "   partner_id             partner_name  partner_commission\n",
       "0           1           Plant Paradise                0.18\n",
       "1           2         Garden of Sweden                0.14\n",
       "2           3  Peat, Fruits and Leaves                0.06\n",
       "3           4            Redwood Ranch                0.22\n",
       "4           5             Trowels R Us                0.08\n",
       "5           6         Glorious Gardens                0.14"
      ]
     },
     "execution_count": 17,
     "metadata": {},
     "output_type": "execute_result"
    }
   ],
   "source": [
    "df_partners"
   ]
  },
  {
   "cell_type": "code",
   "execution_count": 18,
   "id": "81befd9c",
   "metadata": {
    "ExecuteTime": {
     "end_time": "2022-05-31T14:11:17.286384Z",
     "start_time": "2022-05-31T14:11:17.279310Z"
    }
   },
   "outputs": [
    {
     "data": {
      "text/html": [
       "<div>\n",
       "<style scoped>\n",
       "    .dataframe tbody tr th:only-of-type {\n",
       "        vertical-align: middle;\n",
       "    }\n",
       "\n",
       "    .dataframe tbody tr th {\n",
       "        vertical-align: top;\n",
       "    }\n",
       "\n",
       "    .dataframe thead th {\n",
       "        text-align: right;\n",
       "    }\n",
       "</style>\n",
       "<table border=\"1\" class=\"dataframe\">\n",
       "  <thead>\n",
       "    <tr style=\"text-align: right;\">\n",
       "      <th></th>\n",
       "      <th>user_id</th>\n",
       "      <th>email</th>\n",
       "      <th>created_date</th>\n",
       "      <th>browser</th>\n",
       "      <th>shipping_address</th>\n",
       "    </tr>\n",
       "  </thead>\n",
       "  <tbody>\n",
       "    <tr>\n",
       "      <th>525</th>\n",
       "      <td>526</td>\n",
       "      <td>sonya_veniam@yahoo.com</td>\n",
       "      <td>2022-03-19 22:50:47</td>\n",
       "      <td>chrome</td>\n",
       "      <td>{'city': 'Kerluke town', 'country': 'FO', 'str...</td>\n",
       "    </tr>\n",
       "    <tr>\n",
       "      <th>29</th>\n",
       "      <td>30</td>\n",
       "      <td>dolores_cumque@gmail.com</td>\n",
       "      <td>2022-01-05 15:49:37</td>\n",
       "      <td>safari</td>\n",
       "      <td>{'city': 'Shania chester', 'country': 'NE', 's...</td>\n",
       "    </tr>\n",
       "    <tr>\n",
       "      <th>330</th>\n",
       "      <td>331</td>\n",
       "      <td>afton_ad@hotmail.com</td>\n",
       "      <td>2022-02-20 19:41:44</td>\n",
       "      <td>chrome</td>\n",
       "      <td>{'city': 'Klein side', 'country': 'TN', 'stree...</td>\n",
       "    </tr>\n",
       "    <tr>\n",
       "      <th>371</th>\n",
       "      <td>372</td>\n",
       "      <td>boris_voluptatibus@gmail.com</td>\n",
       "      <td>2022-02-26 11:28:44</td>\n",
       "      <td>safari</td>\n",
       "      <td>{'city': 'Labadie chester', 'country': 'SD', '...</td>\n",
       "    </tr>\n",
       "    <tr>\n",
       "      <th>57</th>\n",
       "      <td>58</td>\n",
       "      <td>justen_voluptas@gmail.com</td>\n",
       "      <td>2022-01-09 10:10:37</td>\n",
       "      <td>safari</td>\n",
       "      <td>{'city': 'Dooley town', 'country': 'GQ', 'stre...</td>\n",
       "    </tr>\n",
       "    <tr>\n",
       "      <th>870</th>\n",
       "      <td>871</td>\n",
       "      <td>harmony_corporis@gmail.com</td>\n",
       "      <td>2022-05-11 10:04:40</td>\n",
       "      <td>edge</td>\n",
       "      <td>{'city': 'Sipes bury', 'country': 'CI', 'stree...</td>\n",
       "    </tr>\n",
       "    <tr>\n",
       "      <th>752</th>\n",
       "      <td>753</td>\n",
       "      <td>abraham_quasi@gmail.com</td>\n",
       "      <td>2022-04-22 20:02:28</td>\n",
       "      <td>edge</td>\n",
       "      <td>{'city': 'Oberbrunner view', 'country': 'KZ', ...</td>\n",
       "    </tr>\n",
       "    <tr>\n",
       "      <th>128</th>\n",
       "      <td>129</td>\n",
       "      <td>salvatore_voluptate@hotmail.com</td>\n",
       "      <td>2022-01-20 13:17:13</td>\n",
       "      <td>chrome</td>\n",
       "      <td>{'city': 'Okuneva fort', 'country': 'VC', 'str...</td>\n",
       "    </tr>\n",
       "    <tr>\n",
       "      <th>960</th>\n",
       "      <td>961</td>\n",
       "      <td>mallory_exercitationem@yahoo.com</td>\n",
       "      <td>2022-05-25 04:07:28</td>\n",
       "      <td>chrome</td>\n",
       "      <td>{'city': 'East Joshua Wilderman view', 'countr...</td>\n",
       "    </tr>\n",
       "    <tr>\n",
       "      <th>508</th>\n",
       "      <td>509</td>\n",
       "      <td>lizzie_nemo@hotmail.com</td>\n",
       "      <td>2022-03-18 07:28:47</td>\n",
       "      <td>chrome</td>\n",
       "      <td>{'city': 'North Brenna Conn fort', 'country': ...</td>\n",
       "    </tr>\n",
       "  </tbody>\n",
       "</table>\n",
       "</div>"
      ],
      "text/plain": [
       "     user_id                             email         created_date browser  \\\n",
       "525      526            sonya_veniam@yahoo.com  2022-03-19 22:50:47  chrome   \n",
       "29        30          dolores_cumque@gmail.com  2022-01-05 15:49:37  safari   \n",
       "330      331              afton_ad@hotmail.com  2022-02-20 19:41:44  chrome   \n",
       "371      372      boris_voluptatibus@gmail.com  2022-02-26 11:28:44  safari   \n",
       "57        58         justen_voluptas@gmail.com  2022-01-09 10:10:37  safari   \n",
       "870      871        harmony_corporis@gmail.com  2022-05-11 10:04:40    edge   \n",
       "752      753           abraham_quasi@gmail.com  2022-04-22 20:02:28    edge   \n",
       "128      129   salvatore_voluptate@hotmail.com  2022-01-20 13:17:13  chrome   \n",
       "960      961  mallory_exercitationem@yahoo.com  2022-05-25 04:07:28  chrome   \n",
       "508      509           lizzie_nemo@hotmail.com  2022-03-18 07:28:47  chrome   \n",
       "\n",
       "                                      shipping_address  \n",
       "525  {'city': 'Kerluke town', 'country': 'FO', 'str...  \n",
       "29   {'city': 'Shania chester', 'country': 'NE', 's...  \n",
       "330  {'city': 'Klein side', 'country': 'TN', 'stree...  \n",
       "371  {'city': 'Labadie chester', 'country': 'SD', '...  \n",
       "57   {'city': 'Dooley town', 'country': 'GQ', 'stre...  \n",
       "870  {'city': 'Sipes bury', 'country': 'CI', 'stree...  \n",
       "752  {'city': 'Oberbrunner view', 'country': 'KZ', ...  \n",
       "128  {'city': 'Okuneva fort', 'country': 'VC', 'str...  \n",
       "960  {'city': 'East Joshua Wilderman view', 'countr...  \n",
       "508  {'city': 'North Brenna Conn fort', 'country': ...  "
      ]
     },
     "execution_count": 18,
     "metadata": {},
     "output_type": "execute_result"
    }
   ],
   "source": [
    "df_users.sample(10)"
   ]
  },
  {
   "cell_type": "code",
   "execution_count": 19,
   "id": "a629786a",
   "metadata": {
    "ExecuteTime": {
     "end_time": "2022-05-31T14:11:17.292682Z",
     "start_time": "2022-05-31T14:11:17.287956Z"
    }
   },
   "outputs": [
    {
     "data": {
      "text/plain": [
       "chrome               500\n",
       "safari               243\n",
       "edge                 181\n",
       "firefox               40\n",
       "internet_explorer     20\n",
       "netscape              14\n",
       "lynx                   2\n",
       "Name: browser, dtype: int64"
      ]
     },
     "execution_count": 19,
     "metadata": {},
     "output_type": "execute_result"
    }
   ],
   "source": [
    "df_users['browser'].value_counts()"
   ]
  },
  {
   "cell_type": "code",
   "execution_count": 20,
   "id": "edcb49df",
   "metadata": {
    "ExecuteTime": {
     "end_time": "2022-05-31T14:11:17.352135Z",
     "start_time": "2022-05-31T14:11:17.294160Z"
    }
   },
   "outputs": [
    {
     "data": {
      "text/plain": [
       "<AxesSubplot:>"
      ]
     },
     "execution_count": 20,
     "metadata": {},
     "output_type": "execute_result"
    },
    {
     "data": {
      "image/png": "[encoded data removed]",
      "text/plain": [
       "<Figure size 432x288 with 1 Axes>"
      ]
     },
     "metadata": {
      "needs_background": "light"
     },
     "output_type": "display_data"
    }
   ],
   "source": [
    "df_support_requests['feedback_rating'].hist()"
   ]
  },
  {
   "cell_type": "code",
   "execution_count": 21,
   "id": "2f3c050c",
   "metadata": {
    "ExecuteTime": {
     "end_time": "2022-05-31T14:11:17.357732Z",
     "start_time": "2022-05-31T14:11:17.354259Z"
    }
   },
   "outputs": [
    {
     "data": {
      "text/plain": [
       "Delivery issue           36\n",
       "Product related query    20\n",
       "Wrong item received      11\n",
       "Payment issue             9\n",
       "Name: reason, dtype: int64"
      ]
     },
     "execution_count": 21,
     "metadata": {},
     "output_type": "execute_result"
    }
   ],
   "source": [
    "df_support_requests['reason'].value_counts()"
   ]
  },
  {
   "cell_type": "code",
   "execution_count": 22,
   "id": "b0c545d2",
   "metadata": {
    "ExecuteTime": {
     "end_time": "2022-05-31T14:11:17.365345Z",
     "start_time": "2022-05-31T14:11:17.359241Z"
    }
   },
   "outputs": [
    {
     "data": {
      "text/plain": [
       "18     2\n",
       "116    2\n",
       "599    2\n",
       "200    2\n",
       "346    2\n",
       "      ..\n",
       "316    1\n",
       "349    1\n",
       "139    1\n",
       "67     1\n",
       "391    1\n",
       "Name: order_id, Length: 71, dtype: int64"
      ]
     },
     "execution_count": 22,
     "metadata": {},
     "output_type": "execute_result"
    }
   ],
   "source": [
    "df_support_requests['order_id'].value_counts()"
   ]
  },
  {
   "cell_type": "code",
   "execution_count": 23,
   "id": "39fa0f29",
   "metadata": {
    "ExecuteTime": {
     "end_time": "2022-05-31T14:11:17.370785Z",
     "start_time": "2022-05-31T14:11:17.367632Z"
    }
   },
   "outputs": [
    {
     "data": {
      "text/plain": [
       "['order_id',\n",
       " 'basket_item_id',\n",
       " 'ordered_product_skus',\n",
       " 'price_amount',\n",
       " 'basket_total']"
      ]
     },
     "execution_count": 23,
     "metadata": {},
     "output_type": "execute_result"
    }
   ],
   "source": [
    "list(df_baskets)"
   ]
  },
  {
   "cell_type": "code",
   "execution_count": 24,
   "id": "b4d977ac",
   "metadata": {
    "ExecuteTime": {
     "end_time": "2022-05-31T14:11:17.374798Z",
     "start_time": "2022-05-31T14:11:17.371736Z"
    }
   },
   "outputs": [
    {
     "data": {
      "text/plain": [
       "['order_id',\n",
       " 'order_date',\n",
       " 'user_id',\n",
       " 'partner_id',\n",
       " 'ordered_product_skus',\n",
       " 'currency',\n",
       " 'basket_total',\n",
       " 'profit',\n",
       " 'referrer']"
      ]
     },
     "execution_count": 24,
     "metadata": {},
     "output_type": "execute_result"
    }
   ],
   "source": [
    "list(df_orders)"
   ]
  },
  {
   "cell_type": "code",
   "execution_count": 25,
   "id": "9ade8623",
   "metadata": {
    "ExecuteTime": {
     "end_time": "2022-05-31T14:11:17.378873Z",
     "start_time": "2022-05-31T14:11:17.375559Z"
    }
   },
   "outputs": [
    {
     "data": {
      "text/plain": [
       "['sku', 'product_name', 'price_amount', 'price_currency']"
      ]
     },
     "execution_count": 25,
     "metadata": {},
     "output_type": "execute_result"
    }
   ],
   "source": [
    "list(df_products)"
   ]
  },
  {
   "cell_type": "code",
   "execution_count": 26,
   "id": "3fd10ba5",
   "metadata": {
    "ExecuteTime": {
     "end_time": "2022-05-31T14:11:17.386803Z",
     "start_time": "2022-05-31T14:11:17.384018Z"
    }
   },
   "outputs": [
    {
     "data": {
      "text/plain": [
       "['partner_id', 'partner_name', 'partner_commission']"
      ]
     },
     "execution_count": 26,
     "metadata": {},
     "output_type": "execute_result"
    }
   ],
   "source": [
    "list(df_partners)"
   ]
  },
  {
   "cell_type": "code",
   "execution_count": 27,
   "id": "b9ae7e15",
   "metadata": {
    "ExecuteTime": {
     "end_time": "2022-05-31T14:11:17.390973Z",
     "start_time": "2022-05-31T14:11:17.387973Z"
    }
   },
   "outputs": [
    {
     "data": {
      "text/plain": [
       "['request_id', 'order_id', 'request_date', 'reason', 'feedback_rating']"
      ]
     },
     "execution_count": 27,
     "metadata": {},
     "output_type": "execute_result"
    }
   ],
   "source": [
    "list(df_support_requests)"
   ]
  },
  {
   "cell_type": "code",
   "execution_count": 28,
   "id": "1d650ad6",
   "metadata": {
    "ExecuteTime": {
     "end_time": "2022-05-31T14:11:17.394838Z",
     "start_time": "2022-05-31T14:11:17.391965Z"
    }
   },
   "outputs": [
    {
     "data": {
      "text/plain": [
       "['user_id', 'email', 'created_date', 'browser', 'shipping_address']"
      ]
     },
     "execution_count": 28,
     "metadata": {},
     "output_type": "execute_result"
    }
   ],
   "source": [
    "list(df_users)"
   ]
  }
 ],
 "metadata": {
  "kernelspec": {
   "display_name": "Python 3 (ipykernel)",
   "language": "python",
   "name": "python3"
  },
  "language_info": {
   "codemirror_mode": {
    "name": "ipython",
    "version": 3
   },
   "file_extension": ".py",
   "mimetype": "text/x-python",
   "name": "python",
   "nbconvert_exporter": "python",
   "pygments_lexer": "ipython3",
   "version": "3.9.13"
  }
 },
 "nbformat": 4,
 "nbformat_minor": 5
}
