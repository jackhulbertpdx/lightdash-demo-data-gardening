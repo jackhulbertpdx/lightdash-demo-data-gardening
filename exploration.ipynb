{
 "cells": [
  {
   "cell_type": "markdown",
   "id": "ada33023",
   "metadata": {},
   "source": [
    "this is very brief. this is not a proper exploratory data anlysis."
   ]
  },
  {
   "cell_type": "code",
   "execution_count": 1,
   "id": "20c5f2a4",
   "metadata": {
    "ExecuteTime": {
     "end_time": "2022-06-17T10:15:19.731221Z",
     "start_time": "2022-06-17T10:15:19.372805Z"
    }
   },
   "outputs": [],
   "source": [
    "import pandas as pd\n",
    "\n",
    "df_orders = pd.read_csv('dbt/seeds/orders.csv')\n",
    "df_baskets = pd.read_csv('dbt/seeds/baskets.csv')\n",
    "df_products = pd.read_csv('dbt/seeds/products.csv')\n",
    "df_partners = pd.read_csv('dbt/seeds/partners.csv')\n",
    "df_users = pd.read_csv('dbt/seeds/users.csv')\n",
    "df_support_requests = pd.read_csv('dbt/seeds/support_requests.csv')"
   ]
  },
  {
   "cell_type": "code",
   "execution_count": 2,
   "id": "dd32ee30",
   "metadata": {
    "ExecuteTime": {
     "end_time": "2022-06-17T10:15:20.193341Z",
     "start_time": "2022-06-17T10:15:20.173671Z"
    }
   },
   "outputs": [
    {
     "name": "stdout",
     "output_type": "stream",
     "text": [
      "<class 'pandas.core.frame.DataFrame'>\n",
      "RangeIndex: 1011 entries, 0 to 1010\n",
      "Data columns (total 9 columns):\n",
      " #   Column                Non-Null Count  Dtype  \n",
      "---  ------                --------------  -----  \n",
      " 0   order_id              1011 non-null   int64  \n",
      " 1   order_date            1011 non-null   object \n",
      " 2   user_id               1011 non-null   int64  \n",
      " 3   partner_id            1011 non-null   int64  \n",
      " 4   ordered_product_skus  1011 non-null   object \n",
      " 5   currency              1011 non-null   object \n",
      " 6   basket_total          1011 non-null   int64  \n",
      " 7   profit                1011 non-null   float64\n",
      " 8   referrer              1011 non-null   object \n",
      "dtypes: float64(1), int64(4), object(4)\n",
      "memory usage: 71.2+ KB\n"
     ]
    }
   ],
   "source": [
    "df_orders.info()"
   ]
  },
  {
   "cell_type": "code",
   "execution_count": 3,
   "id": "636420f1",
   "metadata": {
    "ExecuteTime": {
     "end_time": "2022-06-17T10:15:21.672057Z",
     "start_time": "2022-06-17T10:15:21.660523Z"
    }
   },
   "outputs": [
    {
     "name": "stdout",
     "output_type": "stream",
     "text": [
      "<class 'pandas.core.frame.DataFrame'>\n",
      "RangeIndex: 2084 entries, 0 to 2083\n",
      "Data columns (total 5 columns):\n",
      " #   Column                Non-Null Count  Dtype\n",
      "---  ------                --------------  -----\n",
      " 0   order_id              2084 non-null   int64\n",
      " 1   basket_item_id        2084 non-null   int64\n",
      " 2   ordered_product_skus  2084 non-null   int64\n",
      " 3   price_amount          2084 non-null   int64\n",
      " 4   basket_total          2084 non-null   int64\n",
      "dtypes: int64(5)\n",
      "memory usage: 81.5 KB\n"
     ]
    }
   ],
   "source": [
    "df_baskets.info()"
   ]
  },
  {
   "cell_type": "code",
   "execution_count": 4,
   "id": "2a71ca24",
   "metadata": {
    "ExecuteTime": {
     "end_time": "2022-06-17T10:15:23.210668Z",
     "start_time": "2022-06-17T10:15:23.201169Z"
    }
   },
   "outputs": [
    {
     "name": "stdout",
     "output_type": "stream",
     "text": [
      "<class 'pandas.core.frame.DataFrame'>\n",
      "RangeIndex: 41 entries, 0 to 40\n",
      "Data columns (total 4 columns):\n",
      " #   Column          Non-Null Count  Dtype \n",
      "---  ------          --------------  ----- \n",
      " 0   sku             41 non-null     int64 \n",
      " 1   product_name    41 non-null     object\n",
      " 2   price_amount    41 non-null     int64 \n",
      " 3   price_currency  41 non-null     object\n",
      "dtypes: int64(2), object(2)\n",
      "memory usage: 1.4+ KB\n"
     ]
    }
   ],
   "source": [
    "df_products.info()"
   ]
  },
  {
   "cell_type": "code",
   "execution_count": 5,
   "id": "b68a3c7f",
   "metadata": {
    "ExecuteTime": {
     "end_time": "2022-06-17T10:15:24.139274Z",
     "start_time": "2022-06-17T10:15:24.128606Z"
    }
   },
   "outputs": [
    {
     "name": "stdout",
     "output_type": "stream",
     "text": [
      "<class 'pandas.core.frame.DataFrame'>\n",
      "RangeIndex: 5 entries, 0 to 4\n",
      "Data columns (total 3 columns):\n",
      " #   Column              Non-Null Count  Dtype  \n",
      "---  ------              --------------  -----  \n",
      " 0   partner_id          5 non-null      int64  \n",
      " 1   partner_name        5 non-null      object \n",
      " 2   partner_commission  5 non-null      float64\n",
      "dtypes: float64(1), int64(1), object(1)\n",
      "memory usage: 248.0+ bytes\n"
     ]
    }
   ],
   "source": [
    "df_partners.info()"
   ]
  },
  {
   "cell_type": "code",
   "execution_count": 6,
   "id": "d6f7aaa5",
   "metadata": {
    "ExecuteTime": {
     "end_time": "2022-06-17T10:15:25.466583Z",
     "start_time": "2022-06-17T10:15:25.455522Z"
    }
   },
   "outputs": [
    {
     "name": "stdout",
     "output_type": "stream",
     "text": [
      "<class 'pandas.core.frame.DataFrame'>\n",
      "RangeIndex: 1000 entries, 0 to 999\n",
      "Data columns (total 5 columns):\n",
      " #   Column            Non-Null Count  Dtype \n",
      "---  ------            --------------  ----- \n",
      " 0   user_id           1000 non-null   int64 \n",
      " 1   email             1000 non-null   object\n",
      " 2   created_date      1000 non-null   object\n",
      " 3   browser           1000 non-null   object\n",
      " 4   shipping_address  1000 non-null   object\n",
      "dtypes: int64(1), object(4)\n",
      "memory usage: 39.2+ KB\n"
     ]
    }
   ],
   "source": [
    "df_users.info()"
   ]
  },
  {
   "cell_type": "code",
   "execution_count": 7,
   "id": "b42dceef",
   "metadata": {
    "ExecuteTime": {
     "end_time": "2022-06-17T10:15:26.405890Z",
     "start_time": "2022-06-17T10:15:26.396191Z"
    }
   },
   "outputs": [
    {
     "name": "stdout",
     "output_type": "stream",
     "text": [
      "<class 'pandas.core.frame.DataFrame'>\n",
      "RangeIndex: 52 entries, 0 to 51\n",
      "Data columns (total 5 columns):\n",
      " #   Column           Non-Null Count  Dtype \n",
      "---  ------           --------------  ----- \n",
      " 0   request_id       52 non-null     int64 \n",
      " 1   order_id         52 non-null     int64 \n",
      " 2   request_date     52 non-null     object\n",
      " 3   reason           52 non-null     object\n",
      " 4   feedback_rating  52 non-null     int64 \n",
      "dtypes: int64(3), object(2)\n",
      "memory usage: 2.2+ KB\n"
     ]
    }
   ],
   "source": [
    "df_support_requests.info()"
   ]
  },
  {
   "cell_type": "code",
   "execution_count": 9,
   "id": "7d1a2e26",
   "metadata": {
    "ExecuteTime": {
     "end_time": "2022-06-17T10:16:03.540614Z",
     "start_time": "2022-06-17T10:16:03.525193Z"
    }
   },
   "outputs": [
    {
     "data": {
      "text/html": [
       "<div>\n",
       "<style scoped>\n",
       "    .dataframe tbody tr th:only-of-type {\n",
       "        vertical-align: middle;\n",
       "    }\n",
       "\n",
       "    .dataframe tbody tr th {\n",
       "        vertical-align: top;\n",
       "    }\n",
       "\n",
       "    .dataframe thead th {\n",
       "        text-align: right;\n",
       "    }\n",
       "</style>\n",
       "<table border=\"1\" class=\"dataframe\">\n",
       "  <thead>\n",
       "    <tr style=\"text-align: right;\">\n",
       "      <th></th>\n",
       "      <th>order_id</th>\n",
       "      <th>order_date</th>\n",
       "      <th>user_id</th>\n",
       "      <th>partner_id</th>\n",
       "      <th>ordered_product_skus</th>\n",
       "      <th>currency</th>\n",
       "      <th>basket_total</th>\n",
       "      <th>profit</th>\n",
       "      <th>referrer</th>\n",
       "    </tr>\n",
       "  </thead>\n",
       "  <tbody>\n",
       "    <tr>\n",
       "      <th>751</th>\n",
       "      <td>752</td>\n",
       "      <td>2022-05-10 21:09:35</td>\n",
       "      <td>552</td>\n",
       "      <td>4</td>\n",
       "      <td>[31, 16]</td>\n",
       "      <td>USD</td>\n",
       "      <td>145</td>\n",
       "      <td>31.90</td>\n",
       "      <td>ppc</td>\n",
       "    </tr>\n",
       "    <tr>\n",
       "      <th>43</th>\n",
       "      <td>44</td>\n",
       "      <td>2022-01-25 12:54:41</td>\n",
       "      <td>122</td>\n",
       "      <td>2</td>\n",
       "      <td>[4, 34]</td>\n",
       "      <td>USD</td>\n",
       "      <td>50</td>\n",
       "      <td>7.00</td>\n",
       "      <td>facebook</td>\n",
       "    </tr>\n",
       "    <tr>\n",
       "      <th>978</th>\n",
       "      <td>979</td>\n",
       "      <td>2022-05-26 01:07:06</td>\n",
       "      <td>116</td>\n",
       "      <td>4</td>\n",
       "      <td>[1]</td>\n",
       "      <td>USD</td>\n",
       "      <td>225</td>\n",
       "      <td>49.50</td>\n",
       "      <td>instagram</td>\n",
       "    </tr>\n",
       "    <tr>\n",
       "      <th>51</th>\n",
       "      <td>52</td>\n",
       "      <td>2022-01-26 03:51:02</td>\n",
       "      <td>140</td>\n",
       "      <td>5</td>\n",
       "      <td>[29]</td>\n",
       "      <td>USD</td>\n",
       "      <td>30</td>\n",
       "      <td>2.40</td>\n",
       "      <td>ppc</td>\n",
       "    </tr>\n",
       "    <tr>\n",
       "      <th>442</th>\n",
       "      <td>443</td>\n",
       "      <td>2022-05-02 11:38:23</td>\n",
       "      <td>272</td>\n",
       "      <td>5</td>\n",
       "      <td>[16, 31, 16, 27, 17]</td>\n",
       "      <td>USD</td>\n",
       "      <td>333</td>\n",
       "      <td>26.64</td>\n",
       "      <td>direct</td>\n",
       "    </tr>\n",
       "  </tbody>\n",
       "</table>\n",
       "</div>"
      ],
      "text/plain": [
       "     order_id           order_date  user_id  partner_id  ordered_product_skus  \\\n",
       "751       752  2022-05-10 21:09:35      552           4              [31, 16]   \n",
       "43         44  2022-01-25 12:54:41      122           2               [4, 34]   \n",
       "978       979  2022-05-26 01:07:06      116           4                   [1]   \n",
       "51         52  2022-01-26 03:51:02      140           5                  [29]   \n",
       "442       443  2022-05-02 11:38:23      272           5  [16, 31, 16, 27, 17]   \n",
       "\n",
       "    currency  basket_total  profit   referrer  \n",
       "751      USD           145   31.90        ppc  \n",
       "43       USD            50    7.00   facebook  \n",
       "978      USD           225   49.50  instagram  \n",
       "51       USD            30    2.40        ppc  \n",
       "442      USD           333   26.64     direct  "
      ]
     },
     "execution_count": 9,
     "metadata": {},
     "output_type": "execute_result"
    }
   ],
   "source": [
    "df_orders.sample(5)"
   ]
  },
  {
   "cell_type": "code",
   "execution_count": 10,
   "id": "72875cab",
   "metadata": {
    "ExecuteTime": {
     "end_time": "2022-06-17T10:16:05.604672Z",
     "start_time": "2022-06-17T10:16:04.895740Z"
    },
    "scrolled": true
   },
   "outputs": [
    {
     "data": {
      "text/plain": [
       "<AxesSubplot:>"
      ]
     },
     "execution_count": 10,
     "metadata": {},
     "output_type": "execute_result"
    },
    {
     "data": {
      "image/png": "[encoded data removed]",
      "text/plain": [
       "<Figure size 432x288 with 1 Axes>"
      ]
     },
     "metadata": {
      "needs_background": "light"
     },
     "output_type": "display_data"
    }
   ],
   "source": [
    "df_orders['user_id'].value_counts().hist(bins=6)"
   ]
  },
  {
   "cell_type": "code",
   "execution_count": 12,
   "id": "757704df",
   "metadata": {
    "ExecuteTime": {
     "end_time": "2022-06-17T10:16:11.759642Z",
     "start_time": "2022-06-17T10:16:11.670595Z"
    }
   },
   "outputs": [
    {
     "data": {
      "text/plain": [
       "<AxesSubplot:>"
      ]
     },
     "execution_count": 12,
     "metadata": {},
     "output_type": "execute_result"
    },
    {
     "data": {
      "image/png": "[encoded data removed]",
      "text/plain": [
       "<Figure size 432x288 with 1 Axes>"
      ]
     },
     "metadata": {
      "needs_background": "light"
     },
     "output_type": "display_data"
    }
   ],
   "source": [
    "df_orders['partner_id'].hist(bins=5)"
   ]
  },
  {
   "cell_type": "code",
   "execution_count": 13,
   "id": "617069e2",
   "metadata": {
    "ExecuteTime": {
     "end_time": "2022-06-17T10:16:13.823656Z",
     "start_time": "2022-06-17T10:16:13.816700Z"
    }
   },
   "outputs": [
    {
     "data": {
      "text/plain": [
       "instagram    327\n",
       "ppc          232\n",
       "facebook     186\n",
       "organic      134\n",
       "direct        77\n",
       "twitter       55\n",
       "Name: referrer, dtype: int64"
      ]
     },
     "execution_count": 13,
     "metadata": {},
     "output_type": "execute_result"
    }
   ],
   "source": [
    "df_orders['referrer'].value_counts()"
   ]
  },
  {
   "cell_type": "code",
   "execution_count": 14,
   "id": "c5d54f22",
   "metadata": {
    "ExecuteTime": {
     "end_time": "2022-06-17T10:16:15.476192Z",
     "start_time": "2022-06-17T10:16:15.469090Z"
    }
   },
   "outputs": [
    {
     "data": {
      "text/plain": [
       "0              [36, 28]\n",
       "1          [26, 16, 30]\n",
       "2              [15, 19]\n",
       "3                  [10]\n",
       "4                  [18]\n",
       "             ...       \n",
       "1006               [30]\n",
       "1007    [15, 1, 28, 17]\n",
       "1008               [18]\n",
       "1009           [38, 35]\n",
       "1010               [20]\n",
       "Name: ordered_product_skus, Length: 1011, dtype: object"
      ]
     },
     "execution_count": 14,
     "metadata": {},
     "output_type": "execute_result"
    }
   ],
   "source": [
    "df_orders['ordered_product_skus']"
   ]
  },
  {
   "cell_type": "code",
   "execution_count": 15,
   "id": "578b373e",
   "metadata": {
    "ExecuteTime": {
     "end_time": "2022-06-17T10:16:16.917201Z",
     "start_time": "2022-06-17T10:16:16.909959Z"
    }
   },
   "outputs": [
    {
     "data": {
      "text/plain": [
       "[7]                20\n",
       "[17]               16\n",
       "[5]                16\n",
       "[16]               16\n",
       "[9]                15\n",
       "                   ..\n",
       "[11, 32]            1\n",
       "[6, 10, 24, 35]     1\n",
       "[34, 1]             1\n",
       "[17, 12, 24]        1\n",
       "[38, 35]            1\n",
       "Name: ordered_product_skus, Length: 576, dtype: int64"
      ]
     },
     "execution_count": 15,
     "metadata": {},
     "output_type": "execute_result"
    }
   ],
   "source": [
    "df_orders['ordered_product_skus'].value_counts()"
   ]
  },
  {
   "cell_type": "code",
   "execution_count": 16,
   "id": "1b93287b",
   "metadata": {
    "ExecuteTime": {
     "end_time": "2022-06-17T10:16:18.192465Z",
     "start_time": "2022-06-17T10:16:18.108940Z"
    }
   },
   "outputs": [
    {
     "data": {
      "text/plain": [
       "<AxesSubplot:>"
      ]
     },
     "execution_count": 16,
     "metadata": {},
     "output_type": "execute_result"
    },
    {
     "data": {
      "image/png": "[encoded data removed]",
      "text/plain": [
       "<Figure size 432x288 with 1 Axes>"
      ]
     },
     "metadata": {
      "needs_background": "light"
     },
     "output_type": "display_data"
    }
   ],
   "source": [
    "df_baskets['ordered_product_skus'].hist()"
   ]
  },
  {
   "cell_type": "code",
   "execution_count": 17,
   "id": "3fc1db7f",
   "metadata": {
    "ExecuteTime": {
     "end_time": "2022-06-17T10:16:21.882449Z",
     "start_time": "2022-06-17T10:16:21.867149Z"
    }
   },
   "outputs": [
    {
     "data": {
      "text/html": [
       "<div>\n",
       "<style scoped>\n",
       "    .dataframe tbody tr th:only-of-type {\n",
       "        vertical-align: middle;\n",
       "    }\n",
       "\n",
       "    .dataframe tbody tr th {\n",
       "        vertical-align: top;\n",
       "    }\n",
       "\n",
       "    .dataframe thead th {\n",
       "        text-align: right;\n",
       "    }\n",
       "</style>\n",
       "<table border=\"1\" class=\"dataframe\">\n",
       "  <thead>\n",
       "    <tr style=\"text-align: right;\">\n",
       "      <th></th>\n",
       "      <th>ordered_product_skus</th>\n",
       "    </tr>\n",
       "    <tr>\n",
       "      <th>order_id</th>\n",
       "      <th></th>\n",
       "    </tr>\n",
       "  </thead>\n",
       "  <tbody>\n",
       "    <tr>\n",
       "      <th>1</th>\n",
       "      <td>2</td>\n",
       "    </tr>\n",
       "    <tr>\n",
       "      <th>2</th>\n",
       "      <td>3</td>\n",
       "    </tr>\n",
       "    <tr>\n",
       "      <th>3</th>\n",
       "      <td>2</td>\n",
       "    </tr>\n",
       "    <tr>\n",
       "      <th>4</th>\n",
       "      <td>1</td>\n",
       "    </tr>\n",
       "    <tr>\n",
       "      <th>5</th>\n",
       "      <td>1</td>\n",
       "    </tr>\n",
       "    <tr>\n",
       "      <th>...</th>\n",
       "      <td>...</td>\n",
       "    </tr>\n",
       "    <tr>\n",
       "      <th>1007</th>\n",
       "      <td>1</td>\n",
       "    </tr>\n",
       "    <tr>\n",
       "      <th>1008</th>\n",
       "      <td>4</td>\n",
       "    </tr>\n",
       "    <tr>\n",
       "      <th>1009</th>\n",
       "      <td>1</td>\n",
       "    </tr>\n",
       "    <tr>\n",
       "      <th>1010</th>\n",
       "      <td>2</td>\n",
       "    </tr>\n",
       "    <tr>\n",
       "      <th>1011</th>\n",
       "      <td>1</td>\n",
       "    </tr>\n",
       "  </tbody>\n",
       "</table>\n",
       "<p>1011 rows × 1 columns</p>\n",
       "</div>"
      ],
      "text/plain": [
       "          ordered_product_skus\n",
       "order_id                      \n",
       "1                            2\n",
       "2                            3\n",
       "3                            2\n",
       "4                            1\n",
       "5                            1\n",
       "...                        ...\n",
       "1007                         1\n",
       "1008                         4\n",
       "1009                         1\n",
       "1010                         2\n",
       "1011                         1\n",
       "\n",
       "[1011 rows x 1 columns]"
      ]
     },
     "execution_count": 17,
     "metadata": {},
     "output_type": "execute_result"
    }
   ],
   "source": [
    "df_baskets[['order_id', 'ordered_product_skus']].groupby('order_id').agg('count')"
   ]
  },
  {
   "cell_type": "code",
   "execution_count": 18,
   "id": "c4bbaadb",
   "metadata": {
    "ExecuteTime": {
     "end_time": "2022-06-17T10:16:26.820680Z",
     "start_time": "2022-06-17T10:16:26.812308Z"
    }
   },
   "outputs": [
    {
     "data": {
      "text/html": [
       "<div>\n",
       "<style scoped>\n",
       "    .dataframe tbody tr th:only-of-type {\n",
       "        vertical-align: middle;\n",
       "    }\n",
       "\n",
       "    .dataframe tbody tr th {\n",
       "        vertical-align: top;\n",
       "    }\n",
       "\n",
       "    .dataframe thead th {\n",
       "        text-align: right;\n",
       "    }\n",
       "</style>\n",
       "<table border=\"1\" class=\"dataframe\">\n",
       "  <thead>\n",
       "    <tr style=\"text-align: right;\">\n",
       "      <th></th>\n",
       "      <th>sku</th>\n",
       "      <th>product_name</th>\n",
       "      <th>price_amount</th>\n",
       "      <th>price_currency</th>\n",
       "    </tr>\n",
       "  </thead>\n",
       "  <tbody>\n",
       "    <tr>\n",
       "      <th>38</th>\n",
       "      <td>39</td>\n",
       "      <td>Pothos</td>\n",
       "      <td>15</td>\n",
       "      <td>USD</td>\n",
       "    </tr>\n",
       "    <tr>\n",
       "      <th>10</th>\n",
       "      <td>11</td>\n",
       "      <td>Blue heritage pot large</td>\n",
       "      <td>70</td>\n",
       "      <td>USD</td>\n",
       "    </tr>\n",
       "    <tr>\n",
       "      <th>23</th>\n",
       "      <td>24</td>\n",
       "      <td>Magnolia</td>\n",
       "      <td>99</td>\n",
       "      <td>USD</td>\n",
       "    </tr>\n",
       "    <tr>\n",
       "      <th>4</th>\n",
       "      <td>5</td>\n",
       "      <td>Monstera deliciosa large</td>\n",
       "      <td>50</td>\n",
       "      <td>USD</td>\n",
       "    </tr>\n",
       "    <tr>\n",
       "      <th>17</th>\n",
       "      <td>18</td>\n",
       "      <td>Oregano seeds</td>\n",
       "      <td>3</td>\n",
       "      <td>USD</td>\n",
       "    </tr>\n",
       "    <tr>\n",
       "      <th>5</th>\n",
       "      <td>6</td>\n",
       "      <td>Sage seeds</td>\n",
       "      <td>5</td>\n",
       "      <td>USD</td>\n",
       "    </tr>\n",
       "    <tr>\n",
       "      <th>29</th>\n",
       "      <td>30</td>\n",
       "      <td>Poppy seeds</td>\n",
       "      <td>6</td>\n",
       "      <td>USD</td>\n",
       "    </tr>\n",
       "    <tr>\n",
       "      <th>40</th>\n",
       "      <td>41</td>\n",
       "      <td>Calathea</td>\n",
       "      <td>34</td>\n",
       "      <td>USD</td>\n",
       "    </tr>\n",
       "    <tr>\n",
       "      <th>20</th>\n",
       "      <td>21</td>\n",
       "      <td>Eucalyptus tree</td>\n",
       "      <td>54</td>\n",
       "      <td>USD</td>\n",
       "    </tr>\n",
       "    <tr>\n",
       "      <th>7</th>\n",
       "      <td>8</td>\n",
       "      <td>Rubber tree</td>\n",
       "      <td>25</td>\n",
       "      <td>USD</td>\n",
       "    </tr>\n",
       "  </tbody>\n",
       "</table>\n",
       "</div>"
      ],
      "text/plain": [
       "    sku              product_name  price_amount price_currency\n",
       "38   39                    Pothos            15            USD\n",
       "10   11   Blue heritage pot large            70            USD\n",
       "23   24                  Magnolia            99            USD\n",
       "4     5  Monstera deliciosa large            50            USD\n",
       "17   18             Oregano seeds             3            USD\n",
       "5     6                Sage seeds             5            USD\n",
       "29   30               Poppy seeds             6            USD\n",
       "40   41                  Calathea            34            USD\n",
       "20   21           Eucalyptus tree            54            USD\n",
       "7     8               Rubber tree            25            USD"
      ]
     },
     "execution_count": 18,
     "metadata": {},
     "output_type": "execute_result"
    }
   ],
   "source": [
    "df_products.sample(10)"
   ]
  },
  {
   "cell_type": "code",
   "execution_count": 19,
   "id": "0998d261",
   "metadata": {
    "ExecuteTime": {
     "end_time": "2022-06-17T10:16:29.055607Z",
     "start_time": "2022-06-17T10:16:29.045966Z"
    }
   },
   "outputs": [
    {
     "data": {
      "text/html": [
       "<div>\n",
       "<style scoped>\n",
       "    .dataframe tbody tr th:only-of-type {\n",
       "        vertical-align: middle;\n",
       "    }\n",
       "\n",
       "    .dataframe tbody tr th {\n",
       "        vertical-align: top;\n",
       "    }\n",
       "\n",
       "    .dataframe thead th {\n",
       "        text-align: right;\n",
       "    }\n",
       "</style>\n",
       "<table border=\"1\" class=\"dataframe\">\n",
       "  <thead>\n",
       "    <tr style=\"text-align: right;\">\n",
       "      <th></th>\n",
       "      <th>partner_id</th>\n",
       "      <th>partner_name</th>\n",
       "      <th>partner_commission</th>\n",
       "    </tr>\n",
       "  </thead>\n",
       "  <tbody>\n",
       "    <tr>\n",
       "      <th>0</th>\n",
       "      <td>1</td>\n",
       "      <td>Plant Paradise</td>\n",
       "      <td>0.18</td>\n",
       "    </tr>\n",
       "    <tr>\n",
       "      <th>1</th>\n",
       "      <td>2</td>\n",
       "      <td>Garden of Sweden</td>\n",
       "      <td>0.14</td>\n",
       "    </tr>\n",
       "    <tr>\n",
       "      <th>2</th>\n",
       "      <td>3</td>\n",
       "      <td>Peat, Fruits and Leaves</td>\n",
       "      <td>0.06</td>\n",
       "    </tr>\n",
       "    <tr>\n",
       "      <th>3</th>\n",
       "      <td>4</td>\n",
       "      <td>Redwood Ranch</td>\n",
       "      <td>0.22</td>\n",
       "    </tr>\n",
       "    <tr>\n",
       "      <th>4</th>\n",
       "      <td>5</td>\n",
       "      <td>Trowels R Us</td>\n",
       "      <td>0.08</td>\n",
       "    </tr>\n",
       "  </tbody>\n",
       "</table>\n",
       "</div>"
      ],
      "text/plain": [
       "   partner_id             partner_name  partner_commission\n",
       "0           1           Plant Paradise                0.18\n",
       "1           2         Garden of Sweden                0.14\n",
       "2           3  Peat, Fruits and Leaves                0.06\n",
       "3           4            Redwood Ranch                0.22\n",
       "4           5             Trowels R Us                0.08"
      ]
     },
     "execution_count": 19,
     "metadata": {},
     "output_type": "execute_result"
    }
   ],
   "source": [
    "df_partners"
   ]
  },
  {
   "cell_type": "code",
   "execution_count": 20,
   "id": "81befd9c",
   "metadata": {
    "ExecuteTime": {
     "end_time": "2022-06-17T10:16:31.022067Z",
     "start_time": "2022-06-17T10:16:31.013003Z"
    }
   },
   "outputs": [
    {
     "data": {
      "text/html": [
       "<div>\n",
       "<style scoped>\n",
       "    .dataframe tbody tr th:only-of-type {\n",
       "        vertical-align: middle;\n",
       "    }\n",
       "\n",
       "    .dataframe tbody tr th {\n",
       "        vertical-align: top;\n",
       "    }\n",
       "\n",
       "    .dataframe thead th {\n",
       "        text-align: right;\n",
       "    }\n",
       "</style>\n",
       "<table border=\"1\" class=\"dataframe\">\n",
       "  <thead>\n",
       "    <tr style=\"text-align: right;\">\n",
       "      <th></th>\n",
       "      <th>user_id</th>\n",
       "      <th>email</th>\n",
       "      <th>created_date</th>\n",
       "      <th>browser</th>\n",
       "      <th>shipping_address</th>\n",
       "    </tr>\n",
       "  </thead>\n",
       "  <tbody>\n",
       "    <tr>\n",
       "      <th>729</th>\n",
       "      <td>730</td>\n",
       "      <td>davin_deleniti@hotmail.com</td>\n",
       "      <td>2022-04-19 06:40:02</td>\n",
       "      <td>edge</td>\n",
       "      <td>{\"city\": \"Carmella furt\", \"country\": \"AQ\", \"st...</td>\n",
       "    </tr>\n",
       "    <tr>\n",
       "      <th>963</th>\n",
       "      <td>964</td>\n",
       "      <td>mozell_ut@gmail.com</td>\n",
       "      <td>2022-05-25 15:35:58</td>\n",
       "      <td>chrome</td>\n",
       "      <td>{\"city\": \"Lake Jude Von mouth\", \"country\": \"BO...</td>\n",
       "    </tr>\n",
       "    <tr>\n",
       "      <th>233</th>\n",
       "      <td>234</td>\n",
       "      <td>freida_minus@hotmail.com</td>\n",
       "      <td>2022-02-06 10:10:48</td>\n",
       "      <td>chrome</td>\n",
       "      <td>{\"city\": \"New Emmanuel Lesch burgh\", \"country\"...</td>\n",
       "    </tr>\n",
       "    <tr>\n",
       "      <th>217</th>\n",
       "      <td>218</td>\n",
       "      <td>morgan_et@yahoo.com</td>\n",
       "      <td>2022-02-04 07:51:58</td>\n",
       "      <td>edge</td>\n",
       "      <td>{\"city\": \"Gusikowski land\", \"country\": \"BW\", \"...</td>\n",
       "    </tr>\n",
       "    <tr>\n",
       "      <th>984</th>\n",
       "      <td>985</td>\n",
       "      <td>isidro_quia@gmail.com</td>\n",
       "      <td>2022-05-28 17:29:55</td>\n",
       "      <td>chrome</td>\n",
       "      <td>{\"city\": \"East Darby Vandervort borough\", \"cou...</td>\n",
       "    </tr>\n",
       "    <tr>\n",
       "      <th>880</th>\n",
       "      <td>881</td>\n",
       "      <td>oren_est@yahoo.com</td>\n",
       "      <td>2022-05-13 08:27:18</td>\n",
       "      <td>chrome</td>\n",
       "      <td>{\"city\": \"Roob burgh\", \"country\": \"PK\", \"stree...</td>\n",
       "    </tr>\n",
       "    <tr>\n",
       "      <th>282</th>\n",
       "      <td>283</td>\n",
       "      <td>bernie_voluptatem@yahoo.com</td>\n",
       "      <td>2022-02-14 05:13:42</td>\n",
       "      <td>netscape</td>\n",
       "      <td>{\"city\": \"Rico ton\", \"country\": \"NI\", \"street_...</td>\n",
       "    </tr>\n",
       "    <tr>\n",
       "      <th>362</th>\n",
       "      <td>363</td>\n",
       "      <td>murray_nemo@yahoo.com</td>\n",
       "      <td>2022-02-26 00:41:19</td>\n",
       "      <td>edge</td>\n",
       "      <td>{\"city\": \"Port Kaley Schaden view\", \"country\":...</td>\n",
       "    </tr>\n",
       "    <tr>\n",
       "      <th>901</th>\n",
       "      <td>902</td>\n",
       "      <td>jeremy_corporis@hotmail.com</td>\n",
       "      <td>2022-05-16 14:14:43</td>\n",
       "      <td>chrome</td>\n",
       "      <td>{\"city\": \"Von mouth\", \"country\": \"MC\", \"street...</td>\n",
       "    </tr>\n",
       "    <tr>\n",
       "      <th>484</th>\n",
       "      <td>485</td>\n",
       "      <td>payton_accusamus@hotmail.com</td>\n",
       "      <td>2022-03-14 23:04:35</td>\n",
       "      <td>chrome</td>\n",
       "      <td>{\"city\": \"Gislason mouth\", \"country\": \"BQ\", \"s...</td>\n",
       "    </tr>\n",
       "  </tbody>\n",
       "</table>\n",
       "</div>"
      ],
      "text/plain": [
       "     user_id                         email         created_date   browser  \\\n",
       "729      730    davin_deleniti@hotmail.com  2022-04-19 06:40:02      edge   \n",
       "963      964           mozell_ut@gmail.com  2022-05-25 15:35:58    chrome   \n",
       "233      234      freida_minus@hotmail.com  2022-02-06 10:10:48    chrome   \n",
       "217      218           morgan_et@yahoo.com  2022-02-04 07:51:58      edge   \n",
       "984      985         isidro_quia@gmail.com  2022-05-28 17:29:55    chrome   \n",
       "880      881            oren_est@yahoo.com  2022-05-13 08:27:18    chrome   \n",
       "282      283   bernie_voluptatem@yahoo.com  2022-02-14 05:13:42  netscape   \n",
       "362      363         murray_nemo@yahoo.com  2022-02-26 00:41:19      edge   \n",
       "901      902   jeremy_corporis@hotmail.com  2022-05-16 14:14:43    chrome   \n",
       "484      485  payton_accusamus@hotmail.com  2022-03-14 23:04:35    chrome   \n",
       "\n",
       "                                      shipping_address  \n",
       "729  {\"city\": \"Carmella furt\", \"country\": \"AQ\", \"st...  \n",
       "963  {\"city\": \"Lake Jude Von mouth\", \"country\": \"BO...  \n",
       "233  {\"city\": \"New Emmanuel Lesch burgh\", \"country\"...  \n",
       "217  {\"city\": \"Gusikowski land\", \"country\": \"BW\", \"...  \n",
       "984  {\"city\": \"East Darby Vandervort borough\", \"cou...  \n",
       "880  {\"city\": \"Roob burgh\", \"country\": \"PK\", \"stree...  \n",
       "282  {\"city\": \"Rico ton\", \"country\": \"NI\", \"street_...  \n",
       "362  {\"city\": \"Port Kaley Schaden view\", \"country\":...  \n",
       "901  {\"city\": \"Von mouth\", \"country\": \"MC\", \"street...  \n",
       "484  {\"city\": \"Gislason mouth\", \"country\": \"BQ\", \"s...  "
      ]
     },
     "execution_count": 20,
     "metadata": {},
     "output_type": "execute_result"
    }
   ],
   "source": [
    "df_users.sample(10)"
   ]
  },
  {
   "cell_type": "code",
   "execution_count": 21,
   "id": "a629786a",
   "metadata": {
    "ExecuteTime": {
     "end_time": "2022-06-17T10:16:32.878942Z",
     "start_time": "2022-06-17T10:16:32.872551Z"
    }
   },
   "outputs": [
    {
     "data": {
      "text/plain": [
       "chrome               502\n",
       "safari               243\n",
       "edge                 179\n",
       "firefox               40\n",
       "internet_explorer     20\n",
       "netscape              14\n",
       "lynx                   2\n",
       "Name: browser, dtype: int64"
      ]
     },
     "execution_count": 21,
     "metadata": {},
     "output_type": "execute_result"
    }
   ],
   "source": [
    "df_users['browser'].value_counts()"
   ]
  },
  {
   "cell_type": "code",
   "execution_count": 22,
   "id": "edcb49df",
   "metadata": {
    "ExecuteTime": {
     "end_time": "2022-06-17T10:16:34.658417Z",
     "start_time": "2022-06-17T10:16:34.572882Z"
    }
   },
   "outputs": [
    {
     "data": {
      "text/plain": [
       "<AxesSubplot:>"
      ]
     },
     "execution_count": 22,
     "metadata": {},
     "output_type": "execute_result"
    },
    {
     "data": {
      "image/png": "[encoded data removed]",
      "text/plain": [
       "<Figure size 432x288 with 1 Axes>"
      ]
     },
     "metadata": {
      "needs_background": "light"
     },
     "output_type": "display_data"
    }
   ],
   "source": [
    "df_support_requests['feedback_rating'].hist()"
   ]
  },
  {
   "cell_type": "code",
   "execution_count": 23,
   "id": "2f3c050c",
   "metadata": {
    "ExecuteTime": {
     "end_time": "2022-06-17T10:16:36.295359Z",
     "start_time": "2022-06-17T10:16:36.287394Z"
    }
   },
   "outputs": [
    {
     "data": {
      "text/plain": [
       "Product related query    22\n",
       "Delivery issue           16\n",
       "Payment issue             9\n",
       "Wrong item received       5\n",
       "Name: reason, dtype: int64"
      ]
     },
     "execution_count": 23,
     "metadata": {},
     "output_type": "execute_result"
    }
   ],
   "source": [
    "df_support_requests['reason'].value_counts()"
   ]
  },
  {
   "cell_type": "code",
   "execution_count": 24,
   "id": "b0c545d2",
   "metadata": {
    "ExecuteTime": {
     "end_time": "2022-06-17T10:16:38.766458Z",
     "start_time": "2022-06-17T10:16:38.759537Z"
    },
    "scrolled": true
   },
   "outputs": [
    {
     "data": {
      "text/plain": [
       "7      2\n",
       "383    2\n",
       "79     2\n",
       "72     1\n",
       "153    1\n",
       "110    1\n",
       "123    1\n",
       "301    1\n",
       "403    1\n",
       "311    1\n",
       "472    1\n",
       "405    1\n",
       "583    1\n",
       "326    1\n",
       "138    1\n",
       "367    1\n",
       "341    1\n",
       "192    1\n",
       "330    1\n",
       "412    1\n",
       "84     1\n",
       "10     1\n",
       "445    1\n",
       "614    1\n",
       "24     1\n",
       "204    1\n",
       "53     1\n",
       "73     1\n",
       "51     1\n",
       "11     1\n",
       "69     1\n",
       "28     1\n",
       "102    1\n",
       "3      1\n",
       "125    1\n",
       "129    1\n",
       "132    1\n",
       "48     1\n",
       "98     1\n",
       "113    1\n",
       "106    1\n",
       "49     1\n",
       "163    1\n",
       "16     1\n",
       "31     1\n",
       "183    1\n",
       "181    1\n",
       "14     1\n",
       "446    1\n",
       "Name: order_id, dtype: int64"
      ]
     },
     "execution_count": 24,
     "metadata": {},
     "output_type": "execute_result"
    }
   ],
   "source": [
    "df_support_requests['order_id'].value_counts()"
   ]
  },
  {
   "cell_type": "code",
   "execution_count": 25,
   "id": "39fa0f29",
   "metadata": {
    "ExecuteTime": {
     "end_time": "2022-06-17T10:16:43.484623Z",
     "start_time": "2022-06-17T10:16:43.480063Z"
    }
   },
   "outputs": [
    {
     "data": {
      "text/plain": [
       "['order_id',\n",
       " 'basket_item_id',\n",
       " 'ordered_product_skus',\n",
       " 'price_amount',\n",
       " 'basket_total']"
      ]
     },
     "execution_count": 25,
     "metadata": {},
     "output_type": "execute_result"
    }
   ],
   "source": [
    "list(df_baskets)"
   ]
  },
  {
   "cell_type": "code",
   "execution_count": 26,
   "id": "b4d977ac",
   "metadata": {
    "ExecuteTime": {
     "end_time": "2022-06-17T10:16:44.467484Z",
     "start_time": "2022-06-17T10:16:44.462685Z"
    }
   },
   "outputs": [
    {
     "data": {
      "text/plain": [
       "['order_id',\n",
       " 'order_date',\n",
       " 'user_id',\n",
       " 'partner_id',\n",
       " 'ordered_product_skus',\n",
       " 'currency',\n",
       " 'basket_total',\n",
       " 'profit',\n",
       " 'referrer']"
      ]
     },
     "execution_count": 26,
     "metadata": {},
     "output_type": "execute_result"
    }
   ],
   "source": [
    "list(df_orders)"
   ]
  },
  {
   "cell_type": "code",
   "execution_count": 27,
   "id": "9ade8623",
   "metadata": {
    "ExecuteTime": {
     "end_time": "2022-06-17T10:16:46.808480Z",
     "start_time": "2022-06-17T10:16:46.802841Z"
    }
   },
   "outputs": [
    {
     "data": {
      "text/plain": [
       "['sku', 'product_name', 'price_amount', 'price_currency']"
      ]
     },
     "execution_count": 27,
     "metadata": {},
     "output_type": "execute_result"
    }
   ],
   "source": [
    "list(df_products)"
   ]
  },
  {
   "cell_type": "code",
   "execution_count": 28,
   "id": "3fd10ba5",
   "metadata": {
    "ExecuteTime": {
     "end_time": "2022-06-17T10:16:47.927522Z",
     "start_time": "2022-06-17T10:16:47.923091Z"
    }
   },
   "outputs": [
    {
     "data": {
      "text/plain": [
       "['partner_id', 'partner_name', 'partner_commission']"
      ]
     },
     "execution_count": 28,
     "metadata": {},
     "output_type": "execute_result"
    }
   ],
   "source": [
    "list(df_partners)"
   ]
  },
  {
   "cell_type": "code",
   "execution_count": 29,
   "id": "b9ae7e15",
   "metadata": {
    "ExecuteTime": {
     "end_time": "2022-06-17T10:16:48.636366Z",
     "start_time": "2022-06-17T10:16:48.631057Z"
    }
   },
   "outputs": [
    {
     "data": {
      "text/plain": [
       "['request_id', 'order_id', 'request_date', 'reason', 'feedback_rating']"
      ]
     },
     "execution_count": 29,
     "metadata": {},
     "output_type": "execute_result"
    }
   ],
   "source": [
    "list(df_support_requests)"
   ]
  },
  {
   "cell_type": "code",
   "execution_count": 30,
   "id": "1d650ad6",
   "metadata": {
    "ExecuteTime": {
     "end_time": "2022-06-17T10:16:50.734281Z",
     "start_time": "2022-06-17T10:16:50.730037Z"
    }
   },
   "outputs": [
    {
     "data": {
      "text/plain": [
       "['user_id', 'email', 'created_date', 'browser', 'shipping_address']"
      ]
     },
     "execution_count": 30,
     "metadata": {},
     "output_type": "execute_result"
    }
   ],
   "source": [
    "list(df_users)"
   ]
  }
 ],
 "metadata": {
  "kernelspec": {
   "display_name": "Python 3 (ipykernel)",
   "language": "python",
   "name": "python3"
  },
  "language_info": {
   "codemirror_mode": {
    "name": "ipython",
    "version": 3
   },
   "file_extension": ".py",
   "mimetype": "text/x-python",
   "name": "python",
   "nbconvert_exporter": "python",
   "pygments_lexer": "ipython3",
   "version": "3.9.13"
  }
 },
 "nbformat": 4,
 "nbformat_minor": 5
}
